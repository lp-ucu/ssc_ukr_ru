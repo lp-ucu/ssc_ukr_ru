{
  "cells": [
    {
      "cell_type": "code",
      "execution_count": null,
      "metadata": {
        "id": "IPZAQim1eLpR"
      },
      "outputs": [],
      "source": [
        "%%capture\n",
        "!pip install opensmile\n",
        "!pip install wandb\n",
        "!pip install datasets\n",
        "!pip install tqdm"
      ]
    },
    {
      "cell_type": "code",
      "execution_count": null,
      "metadata": {
        "id": "8pPI0DOzfiZ2"
      },
      "outputs": [],
      "source": [
        "import pandas as pd\n",
        "# import opensmile"
      ]
    },
    {
      "cell_type": "code",
      "execution_count": null,
      "metadata": {
        "colab": {
          "base_uri": "https://localhost:8080/"
        },
        "id": "Yvb02l6pfNS4",
        "outputId": "a9806145-f315-4562-ece8-7a3a6b84f6ba"
      },
      "outputs": [
        {
          "output_type": "stream",
          "name": "stdout",
          "text": [
            "Mounted at /content/gdrive/\n"
          ]
        }
      ],
      "source": [
        "from google.colab import drive\n",
        "drive.mount('/content/gdrive/')"
      ]
    },
    {
      "cell_type": "code",
      "execution_count": null,
      "metadata": {
        "id": "kM0NC2wyfNPg"
      },
      "outputs": [],
      "source": [
        "root_folder = \"gdrive/MyDrive/emotion_recognition/\"\n",
        "data_path = root_folder + \"data_init/\"\n",
        "data_seg_path = root_folder + \"data_init_segments/\"\n",
        "res_folder = root_folder + 'experiments/'\n",
        "audio_features_folder = res_folder + \"audio_features/\""
      ]
    },
    {
      "cell_type": "markdown",
      "metadata": {
        "id": "rhH8E0tJ__4m"
      },
      "source": [
        "# Evaluation functions"
      ]
    },
    {
      "cell_type": "code",
      "execution_count": null,
      "metadata": {
        "id": "wwbAs8qGP9KV"
      },
      "outputs": [],
      "source": [
        "import wandb\n",
        "from sklearn.metrics import f1_score, accuracy_score, confusion_matrix, ConfusionMatrixDisplay, classification_report\n",
        "from matplotlib import pyplot as plt\n",
        "\n",
        "def evaluate(y_true, y_pred, run, display_cm=True, display_cr=True):\n",
        "    # print(f\"f1-score: {round(f1_score(y_true, y_pred, average='binary'),2)}, accuracy: {round(accuracy_score(y_true, y_pred),2)}\")\n",
        "    cm = confusion_matrix(y_true, y_pred)\n",
        "    print(cm)\n",
        "    if display_cm:\n",
        "      disp = ConfusionMatrixDisplay(confusion_matrix=cm)\n",
        "      disp.plot()\n",
        "      plt.show()\n",
        "\n",
        "    if display_cr:\n",
        "      cr = classification_report(y_true, y_pred)\n",
        "      print(cr)\n",
        "\n",
        "    if run:\n",
        "      wandb.sklearn.plot_confusion_matrix(y_true, y_pred)\n",
        "\n",
        "      cr = classification_report(y_true, y_pred, output_dict=True)\n",
        "      run.log({\"accuracy\" : cr['accuracy'],\n",
        "              \"no_conflict_precision\" : cr['no-conflict']['precision'],\n",
        "              \"no_conflict_recall\" : cr['no-conflict']['recall'],\n",
        "              \"no_conflict_f1-score\" : cr['no-conflict']['f1-score'],\n",
        "              \"conflict_precision\" : cr['conflict']['precision'],\n",
        "              \"conflict_recall\" : cr['conflict']['recall'],\n",
        "              \"conflict_f1-score\" : cr['conflict']['f1-score']})"
      ]
    },
    {
      "cell_type": "code",
      "execution_count": null,
      "metadata": {
        "id": "OrSw_0JZB_-O"
      },
      "outputs": [],
      "source": [
        "from sklearn.model_selection import cross_val_predict, cross_val_score\n",
        "from sklearn.pipeline import make_pipeline\n",
        "from sklearn.preprocessing import StandardScaler\n",
        "import time\n",
        "\n",
        "\n",
        "def cross_validation_n_fold(clf, values, true_labels, wandb_config=None, cv=5):\n",
        "  run = None\n",
        "  if wandb_config:\n",
        "    timestr = time.strftime(\"%m%d-%H%M\")\n",
        "    run = wandb.init(project=\"emotion_recognition\",\n",
        "              name=f\"e_{timestr}_audio_eval\",\n",
        "              config=wandb_config)\n",
        "\n",
        "  # score = cross_val_score(clf, values, true_labels, cv=5)\n",
        "\n",
        "  pred = cross_val_predict(clf, values, true_labels, cv=5)\n",
        "\n",
        "  evaluate(true_labels, pred, run)\n",
        "\n",
        "  if wandb_config:\n",
        "    wandb.finish()\n",
        "  # print(score)\n",
        "  # print(confusion_matrix(true_labels, pred))\n",
        "  # print(classification_report(true_labels, pred))"
      ]
    },
    {
      "cell_type": "code",
      "execution_count": null,
      "metadata": {
        "id": "XN5dCOg_Dhj_"
      },
      "outputs": [],
      "source": [
        "def fold_i_of_k(meta_df, seg_features, i, k):\n",
        "    n = len(meta_df)\n",
        "\n",
        "    return meta_df[n*(i-1)//k:n*i//k]\n",
        "\n",
        "\n",
        "def manual_k_fold(clf, df_seg, df_seg_features, name='pred_compare_func', wandb_config=None, cv=5):\n",
        "  run=None\n",
        "  if wandb_config:\n",
        "    timestr = time.strftime(\"%m%d-%H%M\")\n",
        "    run = wandb.init(project=\"emotion_recognition\",\n",
        "              name=f\"e_{timestr}_audio_eval\",\n",
        "              config=wandb_config)\n",
        "\n",
        "  for i in range(1, cv+1):\n",
        "    fold_i_of_k(df_file, df_seg, i, cv)\n",
        "    k_fold = df_seg[df_seg['conversation_folder_name'].isin(fold_i_of_k(df_file, df_seg, i, cv).folder_name)]\n",
        "    features_test = df_seg_features[df_seg_features['path'].isin(k_fold.path)].copy()\n",
        "    features_train = df_seg_features[~df_seg_features['path'].isin(k_fold.path)].copy()\n",
        "\n",
        "    clf.fit(features_train.drop(columns=['path', 'label']),\n",
        "                  features_train['label'])\n",
        "    try:\n",
        "      pred = clf.predict(features_test.drop(columns=['path', 'label']))\n",
        "    except:\n",
        "      display(features_test)\n",
        "\n",
        "    df_seg.loc[k_fold.index, name] = pred\n",
        "  print(df_seg[name].value_counts())\n",
        "  df_res = df_seg[['conversation_folder_name', 'context_label', 'label', name]] \\\n",
        "            .groupby(['conversation_folder_name', 'context_label'])[name] \\\n",
        "            .apply(lambda x: 'conflict' if 'conflict' in list(x.values) else 'no-conflict').reset_index()\n",
        "\n",
        "  evaluate(df_res['context_label'], df_res[name], run=run)\n",
        "\n",
        "\n",
        "  if wandb_config:\n",
        "    run.finish()"
      ]
    },
    {
      "cell_type": "code",
      "execution_count": null,
      "metadata": {
        "id": "xuPrnJZrDkXq"
      },
      "outputs": [],
      "source": []
    },
    {
      "cell_type": "code",
      "execution_count": null,
      "metadata": {
        "id": "EcK7GV9Z__P2"
      },
      "outputs": [],
      "source": [
        "wandb.login()\n",
        "\n",
        "wandb_config = {\n",
        "    \"model_name\" : \"\",\n",
        "    \"fine-tuned\" : False,\n",
        "    \"framework\" : \"sklearn\",\n",
        "    \"data\" : \"init_full_1h\",\n",
        "    \"feature_set\" : \"ComParE_2016\",\n",
        "    \"feature_level\" : \"func\",\n",
        "    \"task\" : \"audio_classification\",\n",
        "    \"split\" : \"no\",\n",
        "    \"CV\" : \"n-fold\"\n",
        "  }"
      ]
    },
    {
      "cell_type": "markdown",
      "metadata": {
        "id": "N-kXVgX0h1tM"
      },
      "source": [
        "# Data preparation"
      ]
    },
    {
      "cell_type": "code",
      "execution_count": null,
      "metadata": {
        "id": "eD0QW-cxfhO8"
      },
      "outputs": [],
      "source": [
        "df_file = pd.read_csv(res_folder+'init.csv', ).reset_index(drop=True)\n",
        "\n",
        "\n",
        "df_file['emotion_merged'] = df_file['emotion']\n",
        "df_file.loc[df_file['emotion_merged'] == 'pleasant_surprise', 'emotion_merged'] = 'happy'\n",
        "df_file.loc[df_file['emotion_merged'] == 'disgust', 'emotion_merged'] = 'angry'\n",
        "df_file['label'] = df_file['emotion_merged'].apply(lambda x: 'no-conflict' if x in ['neutral', 'happy'] else 'conflict')\n",
        "df_file['path'] = data_path + df_file['folder_name'] + '/' + \"rs_16_\" + df_file['audio_file_name']\n",
        "df_file['folder'] = df_file.path.str.split('/').str[4]\n",
        "\n",
        "df_file = df_file.drop(columns=['Unnamed: 0', 'emotion'])\n"
      ]
    },
    {
      "cell_type": "code",
      "execution_count": null,
      "metadata": {
        "id": "z4Gg_iqNf6m_"
      },
      "outputs": [],
      "source": [
        "def change_lang(lang, langid_lang):\n",
        "  if lang == 's':\n",
        "    if langid_lang == 'ru':\n",
        "      return 'r'\n",
        "    return 'u'\n",
        "  return lang\n",
        "\n",
        "\n",
        "df_seg = pd.read_csv(data_seg_path+'seg_info.csv').drop([48]).reset_index(drop=True)\n",
        "df_seg['emotion_merged'] = df_seg['emotion']\n",
        "df_seg.loc[df_seg['emotion_merged'] == 'pleasant_surprise', 'emotion_merged'] = 'happy'\n",
        "df_seg.loc[df_seg['emotion_merged'] == 'disgust', 'emotion_merged'] = 'angry'\n",
        "df_seg['label'] = df_seg['emotion_merged'].apply(lambda x: 'no-conflict' if x in ['neutral', 'happy'] else 'conflict')\n",
        "df_seg['context_label'] = df_seg['emotion_context'].apply(lambda x: 'no-conflict' if x in ['neutral', 'happy', 'pleasant_surprise'] else 'conflict')\n",
        "\n",
        "df_seg['language'] = df_seg.apply(lambda row: change_lang(row['language'], row['langid_language']),\n",
        "                                  axis=1)\n",
        "df_seg['path'] = df_seg['folder_name'] + df_seg['res_file_name']\n",
        "\n",
        "df_seg = df_seg.drop(columns=['Unnamed: 0', 'folder_name', 'file_name',\n",
        "                              'info', 'emotion', 'langid_language'])"
      ]
    },
    {
      "cell_type": "markdown",
      "metadata": {
        "id": "gmYKsNjD7aCC"
      },
      "source": [
        "# opensmile features"
      ]
    },
    {
      "cell_type": "markdown",
      "metadata": {
        "id": "ssci3hm1hyNk"
      },
      "source": [
        "## Feature extraction"
      ]
    },
    {
      "cell_type": "markdown",
      "metadata": {
        "id": "ENyLFVUPh6uX"
      },
      "source": [
        "### opensmile (audio ComParE_2016)"
      ]
    },
    {
      "cell_type": "code",
      "execution_count": null,
      "metadata": {
        "id": "tGRKB4L6iKgM"
      },
      "outputs": [],
      "source": [
        "import opensmile"
      ]
    },
    {
      "cell_type": "code",
      "execution_count": null,
      "metadata": {
        "id": "Qd79j6ZXeW4a"
      },
      "outputs": [],
      "source": [
        "smile = opensmile.Smile(\n",
        "    opensmile.FeatureSet.ComParE_2016,\n",
        "    opensmile.FeatureLevel.Functionals,\n",
        "    sampling_rate=16000,\n",
        "    resample=False, # audio already was resampled\n",
        "    num_workers=5,\n",
        "    verbose=True,\n",
        ")\n"
      ]
    },
    {
      "cell_type": "code",
      "execution_count": null,
      "metadata": {
        "colab": {
          "base_uri": "https://localhost:8080/"
        },
        "id": "B29ju_u2h6B_",
        "outputId": "fc2c830e-adc3-4494-9cbe-a67b369fe9cd"
      },
      "outputs": [
        {
          "name": "stderr",
          "output_type": "stream",
          "text": []
        }
      ],
      "source": [
        "df_file_smile_func_compare = smile.process_files(list(df_file['path'].values))\n",
        "df_file_smile_func_compare.to_csv(audio_features_folder+'file_smile_func_compare.csv')"
      ]
    },
    {
      "cell_type": "code",
      "execution_count": null,
      "metadata": {
        "colab": {
          "base_uri": "https://localhost:8080/"
        },
        "id": "zPOo4sDSiyi6",
        "outputId": "2f72d213-858e-4ea6-977b-0018f2eb922c"
      },
      "outputs": [
        {
          "name": "stderr",
          "output_type": "stream",
          "text": []
        }
      ],
      "source": [
        "df_seg_smile_func_compare = smile.process_files(list(df_seg['path'].values))\n",
        "df_seg_smile_func_compare.to_csv(audio_features_folder+'seg_smile_func_compare.csv')"
      ]
    },
    {
      "cell_type": "code",
      "execution_count": null,
      "metadata": {
        "colab": {
          "base_uri": "https://localhost:8080/"
        },
        "id": "jwNz6WaQkvAr",
        "outputId": "c3a995b4-34ab-4741-e281-e4c8f74cfda5"
      },
      "outputs": [
        {
          "name": "stderr",
          "output_type": "stream",
          "text": []
        }
      ],
      "source": [
        "df_file_smile_lld_compare = smile.process_files(list(df_file['path'].values))\n",
        "df_file_smile_lld_compare.to_csv(audio_features_folder+'file_smile_lld_compare.csv')"
      ]
    },
    {
      "cell_type": "code",
      "execution_count": null,
      "metadata": {
        "colab": {
          "base_uri": "https://localhost:8080/"
        },
        "id": "qRjAfdOfkuvi",
        "outputId": "28740306-f544-4a48-95d5-e6ff387f0d18"
      },
      "outputs": [
        {
          "name": "stderr",
          "output_type": "stream",
          "text": []
        }
      ],
      "source": [
        "df_seg_smile_lld_compare = smile.process_files(list(df_seg['path'].values))\n",
        "df_seg_smile_lld_compare.to_csv(audio_features_folder+'seg_smile_lld_compare.csv')"
      ]
    },
    {
      "cell_type": "markdown",
      "metadata": {
        "id": "rR46PFoVk_uz"
      },
      "source": [
        "## helper funtions"
      ]
    },
    {
      "cell_type": "code",
      "source": [
        "def merge_labels(df_meta, df_features, drop_index=False, merge_on=\"path\"):\n",
        "  return df_features.reset_index(drop=drop_index) \\\n",
        "                    .rename(columns={\"file\":\"path\"}) \\\n",
        "                    .merge(df_meta[[merge_on, 'label']], on=merge_on, how='inner', suffixes=('_1', '_2'))"
      ],
      "metadata": {
        "id": "KXpbCflyP-Mc"
      },
      "execution_count": null,
      "outputs": []
    },
    {
      "cell_type": "code",
      "execution_count": null,
      "metadata": {
        "id": "h5kRKtzkFfMh"
      },
      "outputs": [],
      "source": [
        "df_file_smile_func_compare = pd.read_csv(audio_features_folder+'file_smile_func_compare.csv')\n",
        "df_seg_smile_func_compare = pd.read_csv(audio_features_folder+'seg_smile_func_compare.csv')\n",
        "df_file_smile_lld_compare = pd.read_csv(audio_features_folder+'file_smile_lld_compare.csv')\n",
        "df_seg_smile_lld_compare = pd.read_csv(audio_features_folder+'seg_smile_lld_compare.csv')"
      ]
    },
    {
      "cell_type": "code",
      "execution_count": null,
      "metadata": {
        "id": "8TzOoyYH7o_q"
      },
      "outputs": [],
      "source": [
        "df_file_smile_func_compare = merge_labels(df_file, df_file_smile_func_compare, drop_index=True)\n",
        "df_seg_smile_func_compare = merge_labels(df_seg, df_seg_smile_func_compare, drop_index=True)"
      ]
    },
    {
      "cell_type": "markdown",
      "metadata": {
        "id": "tsUu-WM-lXJB"
      },
      "source": [
        "## SVC"
      ]
    },
    {
      "cell_type": "code",
      "execution_count": null,
      "metadata": {
        "colab": {
          "base_uri": "https://localhost:8080/",
          "height": 1000,
          "referenced_widgets": [
            "32c143d3b437402b91086fafa5dcfbc8",
            "4d9dec65f1154e6ab7eb4b3fd545a67a",
            "55682b54fb1a4460953c13022b4a9b4d",
            "e4efd54a5e2b4ac49920f541551828f8",
            "a72eb3dd1a8e41969ef1d6102524e5fc",
            "2355e428950742f7a84200262ab78207",
            "d588e3125c0a4dcf956db5a7b03a22a8",
            "7dd21af1cb394ecd9540f326303a734b"
          ]
        },
        "id": "apzO83IrlYlF",
        "outputId": "2edadb40-4255-472c-f65f-1dfa07470fa9"
      },
      "outputs": [
        {
          "data": {
            "text/html": [
              "Tracking run with wandb version 0.17.0"
            ],
            "text/plain": [
              "<IPython.core.display.HTML object>"
            ]
          },
          "metadata": {},
          "output_type": "display_data"
        },
        {
          "data": {
            "text/html": [
              "Run data is saved locally in <code>/content/wandb/run-20240509_021649-oygyimin</code>"
            ],
            "text/plain": [
              "<IPython.core.display.HTML object>"
            ]
          },
          "metadata": {},
          "output_type": "display_data"
        },
        {
          "data": {
            "text/html": [
              "Syncing run <strong><a href='https://wandb.ai/lp-ucu/emotion_recognition/runs/oygyimin' target=\"_blank\">e_0509-0216_audio_eval</a></strong> to <a href='https://wandb.ai/lp-ucu/emotion_recognition' target=\"_blank\">Weights & Biases</a> (<a href='https://wandb.me/run' target=\"_blank\">docs</a>)<br/>"
            ],
            "text/plain": [
              "<IPython.core.display.HTML object>"
            ]
          },
          "metadata": {},
          "output_type": "display_data"
        },
        {
          "data": {
            "text/html": [
              " View project at <a href='https://wandb.ai/lp-ucu/emotion_recognition' target=\"_blank\">https://wandb.ai/lp-ucu/emotion_recognition</a>"
            ],
            "text/plain": [
              "<IPython.core.display.HTML object>"
            ]
          },
          "metadata": {},
          "output_type": "display_data"
        },
        {
          "data": {
            "text/html": [
              " View run at <a href='https://wandb.ai/lp-ucu/emotion_recognition/runs/oygyimin' target=\"_blank\">https://wandb.ai/lp-ucu/emotion_recognition/runs/oygyimin</a>"
            ],
            "text/plain": [
              "<IPython.core.display.HTML object>"
            ]
          },
          "metadata": {},
          "output_type": "display_data"
        },
        {
          "name": "stdout",
          "output_type": "stream",
          "text": [
            "[[30 14]\n",
            " [11 35]]\n"
          ]
        },
        {
          "data": {
            "image/png": "[encoded data removed]",
            "text/plain": [
              "<Figure size 640x480 with 2 Axes>"
            ]
          },
          "metadata": {},
          "output_type": "display_data"
        },
        {
          "name": "stdout",
          "output_type": "stream",
          "text": [
            "              precision    recall  f1-score   support\n",
            "\n",
            "    conflict       0.73      0.68      0.71        44\n",
            " no-conflict       0.71      0.76      0.74        46\n",
            "\n",
            "    accuracy                           0.72        90\n",
            "   macro avg       0.72      0.72      0.72        90\n",
            "weighted avg       0.72      0.72      0.72        90\n",
            "\n"
          ]
        },
        {
          "data": {
            "application/vnd.jupyter.widget-view+json": {
              "model_id": "32c143d3b437402b91086fafa5dcfbc8",
              "version_major": 2,
              "version_minor": 0
            },
            "text/plain": [
              "VBox(children=(Label(value='0.002 MB of 0.002 MB uploaded\\r'), FloatProgress(value=1.0, max=1.0)))"
            ]
          },
          "metadata": {},
          "output_type": "display_data"
        },
        {
          "data": {
            "text/html": [
              "<style>\n",
              "    table.wandb td:nth-child(1) { padding: 0 10px; text-align: left ; width: auto;} td:nth-child(2) {text-align: left ; width: 100%}\n",
              "    .wandb-row { display: flex; flex-direction: row; flex-wrap: wrap; justify-content: flex-start; width: 100% }\n",
              "    .wandb-col { display: flex; flex-direction: column; flex-basis: 100%; flex: 1; padding: 10px; }\n",
              "    </style>\n",
              "<div class=\"wandb-row\"><div class=\"wandb-col\"><h3>Run history:</h3><br/><table class=\"wandb\"><tr><td>accuracy</td><td>▁</td></tr><tr><td>conflict_f1-score</td><td>▁</td></tr><tr><td>conflict_precision</td><td>▁</td></tr><tr><td>conflict_recall</td><td>▁</td></tr><tr><td>no_conflict_f1-score</td><td>▁</td></tr><tr><td>no_conflict_precision</td><td>▁</td></tr><tr><td>no_conflict_recall</td><td>▁</td></tr></table><br/></div><div class=\"wandb-col\"><h3>Run summary:</h3><br/><table class=\"wandb\"><tr><td>accuracy</td><td>0.72222</td></tr><tr><td>conflict_f1-score</td><td>0.70588</td></tr><tr><td>conflict_precision</td><td>0.73171</td></tr><tr><td>conflict_recall</td><td>0.68182</td></tr><tr><td>no_conflict_f1-score</td><td>0.73684</td></tr><tr><td>no_conflict_precision</td><td>0.71429</td></tr><tr><td>no_conflict_recall</td><td>0.76087</td></tr></table><br/></div></div>"
            ],
            "text/plain": [
              "<IPython.core.display.HTML object>"
            ]
          },
          "metadata": {},
          "output_type": "display_data"
        },
        {
          "data": {
            "text/html": [
              " View run <strong style=\"color:#cdcd00\">e_0509-0216_audio_eval</strong> at: <a href='https://wandb.ai/lp-ucu/emotion_recognition/runs/oygyimin' target=\"_blank\">https://wandb.ai/lp-ucu/emotion_recognition/runs/oygyimin</a><br/> View project at: <a href='https://wandb.ai/lp-ucu/emotion_recognition' target=\"_blank\">https://wandb.ai/lp-ucu/emotion_recognition</a><br/>Synced 5 W&B file(s), 1 media file(s), 1 artifact file(s) and 0 other file(s)"
            ],
            "text/plain": [
              "<IPython.core.display.HTML object>"
            ]
          },
          "metadata": {},
          "output_type": "display_data"
        },
        {
          "data": {
            "text/html": [
              "Find logs at: <code>./wandb/run-20240509_021649-oygyimin/logs</code>"
            ],
            "text/plain": [
              "<IPython.core.display.HTML object>"
            ]
          },
          "metadata": {},
          "output_type": "display_data"
        }
      ],
      "source": [
        "from sklearn.svm import SVC\n",
        "\n",
        "wandb_config['model_name'] = \"SVC\"\n",
        "wandb_config['feature_level'] = \"func\"\n",
        "\n",
        "clf = make_pipeline(\n",
        "    StandardScaler(),\n",
        "    SVC(gamma='auto'),\n",
        ")\n",
        "\n",
        "cross_validation_n_fold(clf, df_file_smile_func_compare.drop(columns=['path', 'start', 'end', 'label']),\n",
        "               df_file_smile_func_compare['label'], wandb_config)"
      ]
    },
    {
      "cell_type": "code",
      "execution_count": null,
      "metadata": {
        "colab": {
          "base_uri": "https://localhost:8080/",
          "height": 1000,
          "referenced_widgets": [
            "d553d44d62ed41a4a9b346c98a8a92f7",
            "32dbe5299a2347c1b049fcb7105de362",
            "59ebf4cb93d24ae49038ad1666914bdb",
            "c2cb06a21cfb40a98e146fb15e5d7b55",
            "8b320d98c7e14dbab5d48d55c3b30aa1",
            "531605dccc294e128b13aee8cbb90421",
            "6957fdbd6343479b8679d85a84e22fa9",
            "80ae456f56854c76bb3883e393eea344"
          ]
        },
        "id": "2ePNLl6SqBX1",
        "outputId": "924171da-cd74-414f-cf57-26106b399fe2"
      },
      "outputs": [
        {
          "data": {
            "text/html": [
              "Tracking run with wandb version 0.17.0"
            ],
            "text/plain": [
              "<IPython.core.display.HTML object>"
            ]
          },
          "metadata": {},
          "output_type": "display_data"
        },
        {
          "data": {
            "text/html": [
              "Run data is saved locally in <code>/content/wandb/run-20240509_021705-xloetkkw</code>"
            ],
            "text/plain": [
              "<IPython.core.display.HTML object>"
            ]
          },
          "metadata": {},
          "output_type": "display_data"
        },
        {
          "data": {
            "text/html": [
              "Syncing run <strong><a href='https://wandb.ai/lp-ucu/emotion_recognition/runs/xloetkkw' target=\"_blank\">e_0509-0217_audio_eval</a></strong> to <a href='https://wandb.ai/lp-ucu/emotion_recognition' target=\"_blank\">Weights & Biases</a> (<a href='https://wandb.me/run' target=\"_blank\">docs</a>)<br/>"
            ],
            "text/plain": [
              "<IPython.core.display.HTML object>"
            ]
          },
          "metadata": {},
          "output_type": "display_data"
        },
        {
          "data": {
            "text/html": [
              " View project at <a href='https://wandb.ai/lp-ucu/emotion_recognition' target=\"_blank\">https://wandb.ai/lp-ucu/emotion_recognition</a>"
            ],
            "text/plain": [
              "<IPython.core.display.HTML object>"
            ]
          },
          "metadata": {},
          "output_type": "display_data"
        },
        {
          "data": {
            "text/html": [
              " View run at <a href='https://wandb.ai/lp-ucu/emotion_recognition/runs/xloetkkw' target=\"_blank\">https://wandb.ai/lp-ucu/emotion_recognition/runs/xloetkkw</a>"
            ],
            "text/plain": [
              "<IPython.core.display.HTML object>"
            ]
          },
          "metadata": {},
          "output_type": "display_data"
        },
        {
          "name": "stdout",
          "output_type": "stream",
          "text": [
            "[[30 14]\n",
            " [11 35]]\n"
          ]
        },
        {
          "data": {
            "image/png": "[encoded data removed]",
            "text/plain": [
              "<Figure size 640x480 with 2 Axes>"
            ]
          },
          "metadata": {},
          "output_type": "display_data"
        },
        {
          "name": "stdout",
          "output_type": "stream",
          "text": [
            "              precision    recall  f1-score   support\n",
            "\n",
            "    conflict       0.73      0.68      0.71        44\n",
            " no-conflict       0.71      0.76      0.74        46\n",
            "\n",
            "    accuracy                           0.72        90\n",
            "   macro avg       0.72      0.72      0.72        90\n",
            "weighted avg       0.72      0.72      0.72        90\n",
            "\n"
          ]
        },
        {
          "data": {
            "application/vnd.jupyter.widget-view+json": {
              "model_id": "d553d44d62ed41a4a9b346c98a8a92f7",
              "version_major": 2,
              "version_minor": 0
            },
            "text/plain": [
              "VBox(children=(Label(value='0.002 MB of 0.002 MB uploaded\\r'), FloatProgress(value=0.9044455799693408, max=1.0…"
            ]
          },
          "metadata": {},
          "output_type": "display_data"
        },
        {
          "data": {
            "text/html": [
              "<style>\n",
              "    table.wandb td:nth-child(1) { padding: 0 10px; text-align: left ; width: auto;} td:nth-child(2) {text-align: left ; width: 100%}\n",
              "    .wandb-row { display: flex; flex-direction: row; flex-wrap: wrap; justify-content: flex-start; width: 100% }\n",
              "    .wandb-col { display: flex; flex-direction: column; flex-basis: 100%; flex: 1; padding: 10px; }\n",
              "    </style>\n",
              "<div class=\"wandb-row\"><div class=\"wandb-col\"><h3>Run history:</h3><br/><table class=\"wandb\"><tr><td>accuracy</td><td>▁</td></tr><tr><td>conflict_f1-score</td><td>▁</td></tr><tr><td>conflict_precision</td><td>▁</td></tr><tr><td>conflict_recall</td><td>▁</td></tr><tr><td>no_conflict_f1-score</td><td>▁</td></tr><tr><td>no_conflict_precision</td><td>▁</td></tr><tr><td>no_conflict_recall</td><td>▁</td></tr></table><br/></div><div class=\"wandb-col\"><h3>Run summary:</h3><br/><table class=\"wandb\"><tr><td>accuracy</td><td>0.72222</td></tr><tr><td>conflict_f1-score</td><td>0.70588</td></tr><tr><td>conflict_precision</td><td>0.73171</td></tr><tr><td>conflict_recall</td><td>0.68182</td></tr><tr><td>no_conflict_f1-score</td><td>0.73684</td></tr><tr><td>no_conflict_precision</td><td>0.71429</td></tr><tr><td>no_conflict_recall</td><td>0.76087</td></tr></table><br/></div></div>"
            ],
            "text/plain": [
              "<IPython.core.display.HTML object>"
            ]
          },
          "metadata": {},
          "output_type": "display_data"
        },
        {
          "data": {
            "text/html": [
              " View run <strong style=\"color:#cdcd00\">e_0509-0217_audio_eval</strong> at: <a href='https://wandb.ai/lp-ucu/emotion_recognition/runs/xloetkkw' target=\"_blank\">https://wandb.ai/lp-ucu/emotion_recognition/runs/xloetkkw</a><br/> View project at: <a href='https://wandb.ai/lp-ucu/emotion_recognition' target=\"_blank\">https://wandb.ai/lp-ucu/emotion_recognition</a><br/>Synced 5 W&B file(s), 1 media file(s), 1 artifact file(s) and 0 other file(s)"
            ],
            "text/plain": [
              "<IPython.core.display.HTML object>"
            ]
          },
          "metadata": {},
          "output_type": "display_data"
        },
        {
          "data": {
            "text/html": [
              "Find logs at: <code>./wandb/run-20240509_021705-xloetkkw/logs</code>"
            ],
            "text/plain": [
              "<IPython.core.display.HTML object>"
            ]
          },
          "metadata": {},
          "output_type": "display_data"
        }
      ],
      "source": [
        "wandb_config['model_name'] = \"SVC\"\n",
        "wandb_config['feature_level'] = \"lld\"\n",
        "\n",
        "df_file_smile_lld_compare = merge_labels(df_file, df_file_smile_lld_compare, drop_index=False)\n",
        "\n",
        "\n",
        "clf = make_pipeline(\n",
        "    StandardScaler(),\n",
        "    SVC(gamma='auto'),\n",
        ")\n",
        "\n",
        "cross_validation_n_fold(clf, df_file_smile_lld_compare.drop(columns=['path', 'start', 'end', 'label']),\n",
        "               df_file_smile_lld_compare['label'], wandb_config)"
      ]
    },
    {
      "cell_type": "markdown",
      "metadata": {
        "id": "Usx3JSzOr7Di"
      },
      "source": [
        "#### Segments"
      ]
    },
    {
      "cell_type": "code",
      "execution_count": null,
      "metadata": {
        "colab": {
          "base_uri": "https://localhost:8080/",
          "height": 645
        },
        "id": "wLRRLsDpsIZy",
        "outputId": "b240932e-d2de-414f-a6e3-97a0aa9d98cd"
      },
      "outputs": [
        {
          "name": "stdout",
          "output_type": "stream",
          "text": [
            "[[ 25 103]\n",
            " [  5 412]]\n"
          ]
        },
        {
          "data": {
            "image/png": "[encoded data removed]",
            "text/plain": [
              "<Figure size 640x480 with 2 Axes>"
            ]
          },
          "metadata": {},
          "output_type": "display_data"
        },
        {
          "name": "stdout",
          "output_type": "stream",
          "text": [
            "              precision    recall  f1-score   support\n",
            "\n",
            "    conflict       0.83      0.20      0.32       128\n",
            " no-conflict       0.80      0.99      0.88       417\n",
            "\n",
            "    accuracy                           0.80       545\n",
            "   macro avg       0.82      0.59      0.60       545\n",
            "weighted avg       0.81      0.80      0.75       545\n",
            "\n"
          ]
        }
      ],
      "source": [
        "from sklearn.svm import SVC\n",
        "\n",
        "wandb_config['model_name'] = \"SVC\"\n",
        "wandb_config['feature_level'] = \"func\"\n",
        "wandb_config['data'] = \"init_1h_seg\"\n",
        "\n",
        "clf = make_pipeline(\n",
        "    StandardScaler(),\n",
        "    SVC(gamma='auto'),\n",
        ")\n",
        "\n",
        "cross_validation_n_fold(clf, df_seg_smile_func_compare.drop(columns=['path', 'start', 'end', 'label']),\n",
        "               df_seg_smile_func_compare['label'], None)"
      ]
    },
    {
      "cell_type": "code",
      "execution_count": null,
      "metadata": {
        "colab": {
          "base_uri": "https://localhost:8080/",
          "height": 717
        },
        "id": "1d-xartL6A6L",
        "outputId": "26f7cbee-98dc-4652-b280-e7f2fbef424b"
      },
      "outputs": [
        {
          "name": "stdout",
          "output_type": "stream",
          "text": [
            "pred_compare_func\n",
            "no-conflict    517\n",
            "conflict        28\n",
            "Name: count, dtype: int64\n",
            "[[18 21]\n",
            " [ 2 44]]\n"
          ]
        },
        {
          "data": {
            "image/png": "[encoded data removed]",
            "text/plain": [
              "<Figure size 640x480 with 2 Axes>"
            ]
          },
          "metadata": {},
          "output_type": "display_data"
        },
        {
          "name": "stdout",
          "output_type": "stream",
          "text": [
            "              precision    recall  f1-score   support\n",
            "\n",
            "    conflict       0.90      0.46      0.61        39\n",
            " no-conflict       0.68      0.96      0.79        46\n",
            "\n",
            "    accuracy                           0.73        85\n",
            "   macro avg       0.79      0.71      0.70        85\n",
            "weighted avg       0.78      0.73      0.71        85\n",
            "\n"
          ]
        }
      ],
      "source": [
        "wandb_config['model_name'] = \"SVC\"\n",
        "wandb_config['feature_level'] = \"func\"\n",
        "wandb_config['data'] = \"init_1h_seg\"\n",
        "wandb_config['split'] = \"per-file-all\"\n",
        "\n",
        "\n",
        "clf = make_pipeline(\n",
        "    StandardScaler(),\n",
        "    SVC(gamma='auto'),\n",
        ")\n",
        "\n",
        "manual_k_fold(clf, df_seg, df_seg_smile_func_compare.drop(columns=['start', 'end']), name='pred_compare_func', wandb_config=None, cv=5)\n"
      ]
    },
    {
      "cell_type": "code",
      "execution_count": null,
      "metadata": {
        "colab": {
          "base_uri": "https://localhost:8080/",
          "height": 717
        },
        "id": "OAHNtEfm-0Hq",
        "outputId": "ff6c8e9b-501c-4045-b58d-b4ee7efde8db"
      },
      "outputs": [
        {
          "name": "stdout",
          "output_type": "stream",
          "text": [
            "pred_compare_func\n",
            "no-conflict    287\n",
            "conflict        22\n",
            "Name: count, dtype: int64\n",
            "[[15 24]\n",
            " [ 1 44]]\n"
          ]
        },
        {
          "data": {
            "image/png": "[encoded data removed]",
            "text/plain": [
              "<Figure size 640x480 with 2 Axes>"
            ]
          },
          "metadata": {},
          "output_type": "display_data"
        },
        {
          "name": "stdout",
          "output_type": "stream",
          "text": [
            "              precision    recall  f1-score   support\n",
            "\n",
            "    conflict       0.94      0.38      0.55        39\n",
            " no-conflict       0.65      0.98      0.78        45\n",
            "\n",
            "    accuracy                           0.70        84\n",
            "   macro avg       0.79      0.68      0.66        84\n",
            "weighted avg       0.78      0.70      0.67        84\n",
            "\n"
          ]
        }
      ],
      "source": [
        "wandb_config['model_name'] = \"SVC\"\n",
        "wandb_config['feature_level'] = \"func\"\n",
        "wandb_config['data'] = \"init_1h_seg\"\n",
        "wandb_config['split'] = \"per-file-clients-only\"\n",
        "\n",
        "\n",
        "clf = make_pipeline(\n",
        "    StandardScaler(),\n",
        "    SVC(gamma='auto'),\n",
        ")\n",
        "\n",
        "manual_k_fold(clf, df_seg[df_seg['speaker'] != 's'], df_seg_smile_func_compare.drop(columns=['start', 'end']), name='pred_compare_func', wandb_config=None, cv=5)\n"
      ]
    },
    {
      "cell_type": "markdown",
      "metadata": {
        "id": "HL7OaN5l0ZGH"
      },
      "source": [
        "## LR"
      ]
    },
    {
      "cell_type": "code",
      "execution_count": null,
      "metadata": {
        "id": "F1Jr-M_SWyye"
      },
      "outputs": [],
      "source": [
        "from sklearn.linear_model import LogisticRegression\n"
      ]
    },
    {
      "cell_type": "code",
      "execution_count": null,
      "metadata": {
        "colab": {
          "base_uri": "https://localhost:8080/",
          "height": 1000,
          "referenced_widgets": [
            "6a492e28c7eb4f918827a2a46cc40364",
            "9ddd7be292ca42cca40e105afb68fe10",
            "4ed73860001a4ec98382e7c9010492e8",
            "66298c93a9a648798d005e83de30e3c5",
            "bff30d5a40474a22b731881779c8a6ee",
            "143fc0da1bca42138587128eb52160bb",
            "451cf3b1b7364e3685ba6fe78fe01436",
            "9f85d9fb3b5f4e60a9a507434c54b028"
          ]
        },
        "id": "2WDatHSZ0bUU",
        "outputId": "ecb279c6-91ea-4a42-f305-5bd8098dcfd3"
      },
      "outputs": [
        {
          "name": "stderr",
          "output_type": "stream",
          "text": [
            "\u001b[34m\u001b[1mwandb\u001b[0m: Currently logged in as: \u001b[33mpatenko-pn\u001b[0m (\u001b[33mlp-ucu\u001b[0m). Use \u001b[1m`wandb login --relogin`\u001b[0m to force relogin\n"
          ]
        },
        {
          "data": {
            "text/html": [
              "Tracking run with wandb version 0.17.0"
            ],
            "text/plain": [
              "<IPython.core.display.HTML object>"
            ]
          },
          "metadata": {},
          "output_type": "display_data"
        },
        {
          "data": {
            "text/html": [
              "Run data is saved locally in <code>/content/wandb/run-20240509_193039-j11bh11j</code>"
            ],
            "text/plain": [
              "<IPython.core.display.HTML object>"
            ]
          },
          "metadata": {},
          "output_type": "display_data"
        },
        {
          "data": {
            "text/html": [
              "Syncing run <strong><a href='https://wandb.ai/lp-ucu/emotion_recognition/runs/j11bh11j' target=\"_blank\">e_0509-1930_audio_eval</a></strong> to <a href='https://wandb.ai/lp-ucu/emotion_recognition' target=\"_blank\">Weights & Biases</a> (<a href='https://wandb.me/run' target=\"_blank\">docs</a>)<br/>"
            ],
            "text/plain": [
              "<IPython.core.display.HTML object>"
            ]
          },
          "metadata": {},
          "output_type": "display_data"
        },
        {
          "data": {
            "text/html": [
              " View project at <a href='https://wandb.ai/lp-ucu/emotion_recognition' target=\"_blank\">https://wandb.ai/lp-ucu/emotion_recognition</a>"
            ],
            "text/plain": [
              "<IPython.core.display.HTML object>"
            ]
          },
          "metadata": {},
          "output_type": "display_data"
        },
        {
          "data": {
            "text/html": [
              " View run at <a href='https://wandb.ai/lp-ucu/emotion_recognition/runs/j11bh11j' target=\"_blank\">https://wandb.ai/lp-ucu/emotion_recognition/runs/j11bh11j</a>"
            ],
            "text/plain": [
              "<IPython.core.display.HTML object>"
            ]
          },
          "metadata": {},
          "output_type": "display_data"
        },
        {
          "name": "stdout",
          "output_type": "stream",
          "text": [
            "[[33 11]\n",
            " [11 35]]\n"
          ]
        },
        {
          "data": {
            "image/png": "[encoded data removed]",
            "text/plain": [
              "<Figure size 640x480 with 2 Axes>"
            ]
          },
          "metadata": {},
          "output_type": "display_data"
        },
        {
          "name": "stdout",
          "output_type": "stream",
          "text": [
            "              precision    recall  f1-score   support\n",
            "\n",
            "    conflict       0.75      0.75      0.75        44\n",
            " no-conflict       0.76      0.76      0.76        46\n",
            "\n",
            "    accuracy                           0.76        90\n",
            "   macro avg       0.76      0.76      0.76        90\n",
            "weighted avg       0.76      0.76      0.76        90\n",
            "\n"
          ]
        },
        {
          "data": {
            "application/vnd.jupyter.widget-view+json": {
              "model_id": "6a492e28c7eb4f918827a2a46cc40364",
              "version_major": 2,
              "version_minor": 0
            },
            "text/plain": [
              "VBox(children=(Label(value='0.002 MB of 0.002 MB uploaded\\r'), FloatProgress(value=0.9044455799693408, max=1.0…"
            ]
          },
          "metadata": {},
          "output_type": "display_data"
        },
        {
          "data": {
            "text/html": [
              "<style>\n",
              "    table.wandb td:nth-child(1) { padding: 0 10px; text-align: left ; width: auto;} td:nth-child(2) {text-align: left ; width: 100%}\n",
              "    .wandb-row { display: flex; flex-direction: row; flex-wrap: wrap; justify-content: flex-start; width: 100% }\n",
              "    .wandb-col { display: flex; flex-direction: column; flex-basis: 100%; flex: 1; padding: 10px; }\n",
              "    </style>\n",
              "<div class=\"wandb-row\"><div class=\"wandb-col\"><h3>Run history:</h3><br/><table class=\"wandb\"><tr><td>accuracy</td><td>▁</td></tr><tr><td>conflict_f1-score</td><td>▁</td></tr><tr><td>conflict_precision</td><td>▁</td></tr><tr><td>conflict_recall</td><td>▁</td></tr><tr><td>no_conflict_f1-score</td><td>▁</td></tr><tr><td>no_conflict_precision</td><td>▁</td></tr><tr><td>no_conflict_recall</td><td>▁</td></tr></table><br/></div><div class=\"wandb-col\"><h3>Run summary:</h3><br/><table class=\"wandb\"><tr><td>accuracy</td><td>0.75556</td></tr><tr><td>conflict_f1-score</td><td>0.75</td></tr><tr><td>conflict_precision</td><td>0.75</td></tr><tr><td>conflict_recall</td><td>0.75</td></tr><tr><td>no_conflict_f1-score</td><td>0.76087</td></tr><tr><td>no_conflict_precision</td><td>0.76087</td></tr><tr><td>no_conflict_recall</td><td>0.76087</td></tr></table><br/></div></div>"
            ],
            "text/plain": [
              "<IPython.core.display.HTML object>"
            ]
          },
          "metadata": {},
          "output_type": "display_data"
        },
        {
          "data": {
            "text/html": [
              " View run <strong style=\"color:#cdcd00\">e_0509-1930_audio_eval</strong> at: <a href='https://wandb.ai/lp-ucu/emotion_recognition/runs/j11bh11j' target=\"_blank\">https://wandb.ai/lp-ucu/emotion_recognition/runs/j11bh11j</a><br/> View project at: <a href='https://wandb.ai/lp-ucu/emotion_recognition' target=\"_blank\">https://wandb.ai/lp-ucu/emotion_recognition</a><br/>Synced 5 W&B file(s), 1 media file(s), 1 artifact file(s) and 0 other file(s)"
            ],
            "text/plain": [
              "<IPython.core.display.HTML object>"
            ]
          },
          "metadata": {},
          "output_type": "display_data"
        },
        {
          "data": {
            "text/html": [
              "Find logs at: <code>./wandb/run-20240509_193039-j11bh11j/logs</code>"
            ],
            "text/plain": [
              "<IPython.core.display.HTML object>"
            ]
          },
          "metadata": {},
          "output_type": "display_data"
        }
      ],
      "source": [
        "wandb_config['model_name'] = \"LR\"\n",
        "wandb_config['feature_level'] = \"func\"\n",
        "wandb_config['data'] = \"init_full_1h\"\n",
        "wandb_config['split'] = \"no\"\n",
        "\n",
        "\n",
        "clf = make_pipeline(\n",
        "    StandardScaler(),\n",
        "    LogisticRegression(random_state=0),\n",
        ")\n",
        "\n",
        "cross_validation_n_fold(clf, df_file_smile_func_compare.drop(columns=['path', 'start', 'end', 'label']),\n",
        "               df_file_smile_func_compare['label'], wandb_config)"
      ]
    },
    {
      "cell_type": "markdown",
      "metadata": {
        "id": "LrKLecYp71U_"
      },
      "source": [
        "#### Segments"
      ]
    },
    {
      "cell_type": "code",
      "execution_count": null,
      "metadata": {
        "colab": {
          "base_uri": "https://localhost:8080/",
          "height": 1000,
          "referenced_widgets": [
            "fa881e20064c40af8536a26a00f620d7",
            "29fa05c7a9b34155a449c18186a91474",
            "3f4e12ce5cac47f1b09b0395bae4e1d2",
            "7309c202d0614e79985c0ac4d897d98a",
            "6c31735e5a1b422482d178f19b3a621e",
            "90240a0e7cd44fcb89039591bd2d8ae6",
            "5cf1c2aaabdb4972ad3fa86eb5c6aa3d",
            "8d7004d49e0147b8a4d43420b02f4d2e"
          ]
        },
        "id": "7oqwofGfWuhZ",
        "outputId": "307dc0a1-bf4b-4946-e821-6bdad0464835"
      },
      "outputs": [
        {
          "name": "stderr",
          "output_type": "stream",
          "text": [
            "\u001b[34m\u001b[1mwandb\u001b[0m: Currently logged in as: \u001b[33mpatenko-pn\u001b[0m (\u001b[33mlp-ucu\u001b[0m). Use \u001b[1m`wandb login --relogin`\u001b[0m to force relogin\n"
          ]
        },
        {
          "data": {
            "text/html": [
              "Tracking run with wandb version 0.17.0"
            ],
            "text/plain": [
              "<IPython.core.display.HTML object>"
            ]
          },
          "metadata": {},
          "output_type": "display_data"
        },
        {
          "data": {
            "text/html": [
              "Run data is saved locally in <code>/content/wandb/run-20240514_182728-aw7fsvbs</code>"
            ],
            "text/plain": [
              "<IPython.core.display.HTML object>"
            ]
          },
          "metadata": {},
          "output_type": "display_data"
        },
        {
          "data": {
            "text/html": [
              "Syncing run <strong><a href='https://wandb.ai/lp-ucu/emotion_recognition/runs/aw7fsvbs' target=\"_blank\">e_0514-1827_audio_eval</a></strong> to <a href='https://wandb.ai/lp-ucu/emotion_recognition' target=\"_blank\">Weights & Biases</a> (<a href='https://wandb.me/run' target=\"_blank\">docs</a>)<br/>"
            ],
            "text/plain": [
              "<IPython.core.display.HTML object>"
            ]
          },
          "metadata": {},
          "output_type": "display_data"
        },
        {
          "data": {
            "text/html": [
              " View project at <a href='https://wandb.ai/lp-ucu/emotion_recognition' target=\"_blank\">https://wandb.ai/lp-ucu/emotion_recognition</a>"
            ],
            "text/plain": [
              "<IPython.core.display.HTML object>"
            ]
          },
          "metadata": {},
          "output_type": "display_data"
        },
        {
          "data": {
            "text/html": [
              " View run at <a href='https://wandb.ai/lp-ucu/emotion_recognition/runs/aw7fsvbs' target=\"_blank\">https://wandb.ai/lp-ucu/emotion_recognition/runs/aw7fsvbs</a>"
            ],
            "text/plain": [
              "<IPython.core.display.HTML object>"
            ]
          },
          "metadata": {},
          "output_type": "display_data"
        },
        {
          "name": "stdout",
          "output_type": "stream",
          "text": [
            "[[ 69  59]\n",
            " [ 34 383]]\n"
          ]
        },
        {
          "data": {
            "image/png": "[encoded data removed]",
            "text/plain": [
              "<Figure size 640x480 with 2 Axes>"
            ]
          },
          "metadata": {},
          "output_type": "display_data"
        },
        {
          "name": "stdout",
          "output_type": "stream",
          "text": [
            "              precision    recall  f1-score   support\n",
            "\n",
            "    conflict       0.67      0.54      0.60       128\n",
            " no-conflict       0.87      0.92      0.89       417\n",
            "\n",
            "    accuracy                           0.83       545\n",
            "   macro avg       0.77      0.73      0.74       545\n",
            "weighted avg       0.82      0.83      0.82       545\n",
            "\n"
          ]
        },
        {
          "data": {
            "application/vnd.jupyter.widget-view+json": {
              "model_id": "fa881e20064c40af8536a26a00f620d7",
              "version_major": 2,
              "version_minor": 0
            },
            "text/plain": [
              "VBox(children=(Label(value='0.002 MB of 0.002 MB uploaded\\r'), FloatProgress(value=0.9266484588373001, max=1.0…"
            ]
          },
          "metadata": {},
          "output_type": "display_data"
        },
        {
          "data": {
            "text/html": [
              "<style>\n",
              "    table.wandb td:nth-child(1) { padding: 0 10px; text-align: left ; width: auto;} td:nth-child(2) {text-align: left ; width: 100%}\n",
              "    .wandb-row { display: flex; flex-direction: row; flex-wrap: wrap; justify-content: flex-start; width: 100% }\n",
              "    .wandb-col { display: flex; flex-direction: column; flex-basis: 100%; flex: 1; padding: 10px; }\n",
              "    </style>\n",
              "<div class=\"wandb-row\"><div class=\"wandb-col\"><h3>Run history:</h3><br/><table class=\"wandb\"><tr><td>accuracy</td><td>▁</td></tr><tr><td>conflict_f1-score</td><td>▁</td></tr><tr><td>conflict_precision</td><td>▁</td></tr><tr><td>conflict_recall</td><td>▁</td></tr><tr><td>no_conflict_f1-score</td><td>▁</td></tr><tr><td>no_conflict_precision</td><td>▁</td></tr><tr><td>no_conflict_recall</td><td>▁</td></tr></table><br/></div><div class=\"wandb-col\"><h3>Run summary:</h3><br/><table class=\"wandb\"><tr><td>accuracy</td><td>0.82936</td></tr><tr><td>conflict_f1-score</td><td>0.5974</td></tr><tr><td>conflict_precision</td><td>0.6699</td></tr><tr><td>conflict_recall</td><td>0.53906</td></tr><tr><td>no_conflict_f1-score</td><td>0.89173</td></tr><tr><td>no_conflict_precision</td><td>0.86652</td></tr><tr><td>no_conflict_recall</td><td>0.91847</td></tr></table><br/></div></div>"
            ],
            "text/plain": [
              "<IPython.core.display.HTML object>"
            ]
          },
          "metadata": {},
          "output_type": "display_data"
        },
        {
          "data": {
            "text/html": [
              " View run <strong style=\"color:#cdcd00\">e_0514-1827_audio_eval</strong> at: <a href='https://wandb.ai/lp-ucu/emotion_recognition/runs/aw7fsvbs' target=\"_blank\">https://wandb.ai/lp-ucu/emotion_recognition/runs/aw7fsvbs</a><br/> View project at: <a href='https://wandb.ai/lp-ucu/emotion_recognition' target=\"_blank\">https://wandb.ai/lp-ucu/emotion_recognition</a><br/>Synced 5 W&B file(s), 1 media file(s), 1 artifact file(s) and 0 other file(s)"
            ],
            "text/plain": [
              "<IPython.core.display.HTML object>"
            ]
          },
          "metadata": {},
          "output_type": "display_data"
        },
        {
          "data": {
            "text/html": [
              "Find logs at: <code>./wandb/run-20240514_182728-aw7fsvbs/logs</code>"
            ],
            "text/plain": [
              "<IPython.core.display.HTML object>"
            ]
          },
          "metadata": {},
          "output_type": "display_data"
        }
      ],
      "source": [
        "wandb_config['model_name'] = \"LR\"\n",
        "wandb_config['feature_level'] = \"func\"\n",
        "wandb_config['data'] = \"init_1h_seg\"\n",
        "\n",
        "clf = make_pipeline(\n",
        "    StandardScaler(),\n",
        "    LogisticRegression(random_state=0, max_iter=1000),\n",
        ")\n",
        "\n",
        "cross_validation_n_fold(clf, df_seg_smile_func_compare.drop(columns=['path', 'start', 'end', 'label']),\n",
        "               df_seg_smile_func_compare['label'], wandb_config)"
      ]
    },
    {
      "cell_type": "code",
      "execution_count": null,
      "metadata": {
        "colab": {
          "base_uri": "https://localhost:8080/",
          "height": 717
        },
        "id": "vyuxYaJ01qxH",
        "outputId": "0b4b224e-58d7-4344-ed43-f41a9ca8270d"
      },
      "outputs": [
        {
          "name": "stdout",
          "output_type": "stream",
          "text": [
            "pred_compare_func\n",
            "no-conflict    440\n",
            "conflict       105\n",
            "Name: count, dtype: int64\n",
            "[[34  5]\n",
            " [17 29]]\n"
          ]
        },
        {
          "data": {
            "image/png": "[encoded data removed]",
            "text/plain": [
              "<Figure size 640x480 with 2 Axes>"
            ]
          },
          "metadata": {},
          "output_type": "display_data"
        },
        {
          "name": "stdout",
          "output_type": "stream",
          "text": [
            "              precision    recall  f1-score   support\n",
            "\n",
            "    conflict       0.67      0.87      0.76        39\n",
            " no-conflict       0.85      0.63      0.72        46\n",
            "\n",
            "    accuracy                           0.74        85\n",
            "   macro avg       0.76      0.75      0.74        85\n",
            "weighted avg       0.77      0.74      0.74        85\n",
            "\n"
          ]
        }
      ],
      "source": [
        "wandb_config['model_name'] = \"LR\"\n",
        "wandb_config['feature_level'] = \"func\"\n",
        "wandb_config['data'] = \"init_1h_seg\"\n",
        "wandb_config['split'] = \"per-file-all\"\n",
        "wandb_config['max_iter'] = 1000\n",
        "\n",
        "\n",
        "clf = make_pipeline(\n",
        "    StandardScaler(),\n",
        "    LogisticRegression(random_state=0, max_iter=1000),\n",
        ")\n",
        "\n",
        "manual_k_fold(clf, df_seg, df_seg_smile_func_compare.drop(columns=['start', 'end']), name='pred_compare_func', wandb_config=None, cv=5)\n"
      ]
    },
    {
      "cell_type": "code",
      "execution_count": null,
      "metadata": {
        "colab": {
          "base_uri": "https://localhost:8080/",
          "height": 1000,
          "referenced_widgets": [
            "d7bae69758f34b5bbf1cdb5ae6870db2",
            "1ecc558615fd43a398f595b6d03a2f0a",
            "f41bb317842b4010bc55c23d9ed22b9d",
            "388a58e82f6540629e3b06b9a5181d91",
            "b8cfd58a269f4047a4ad95da50c32e62",
            "b006a97ab181482d975d1d14bc761ccd",
            "cb083063c44a421e80abe407014ce41d",
            "5620b4b6919a4782b646fccad898dfe8"
          ]
        },
        "id": "7Fm1EpKP2Lgy",
        "outputId": "1e364e46-b03b-4050-ebb4-d964d1929435"
      },
      "outputs": [
        {
          "data": {
            "text/html": [
              "Tracking run with wandb version 0.17.0"
            ],
            "text/plain": [
              "<IPython.core.display.HTML object>"
            ]
          },
          "metadata": {},
          "output_type": "display_data"
        },
        {
          "data": {
            "text/html": [
              "Run data is saved locally in <code>/content/wandb/run-20240509_193453-md3w2hu3</code>"
            ],
            "text/plain": [
              "<IPython.core.display.HTML object>"
            ]
          },
          "metadata": {},
          "output_type": "display_data"
        },
        {
          "data": {
            "text/html": [
              "Syncing run <strong><a href='https://wandb.ai/lp-ucu/emotion_recognition/runs/md3w2hu3' target=\"_blank\">e_0509-1934_audio_eval</a></strong> to <a href='https://wandb.ai/lp-ucu/emotion_recognition' target=\"_blank\">Weights & Biases</a> (<a href='https://wandb.me/run' target=\"_blank\">docs</a>)<br/>"
            ],
            "text/plain": [
              "<IPython.core.display.HTML object>"
            ]
          },
          "metadata": {},
          "output_type": "display_data"
        },
        {
          "data": {
            "text/html": [
              " View project at <a href='https://wandb.ai/lp-ucu/emotion_recognition' target=\"_blank\">https://wandb.ai/lp-ucu/emotion_recognition</a>"
            ],
            "text/plain": [
              "<IPython.core.display.HTML object>"
            ]
          },
          "metadata": {},
          "output_type": "display_data"
        },
        {
          "data": {
            "text/html": [
              " View run at <a href='https://wandb.ai/lp-ucu/emotion_recognition/runs/md3w2hu3' target=\"_blank\">https://wandb.ai/lp-ucu/emotion_recognition/runs/md3w2hu3</a>"
            ],
            "text/plain": [
              "<IPython.core.display.HTML object>"
            ]
          },
          "metadata": {},
          "output_type": "display_data"
        },
        {
          "name": "stdout",
          "output_type": "stream",
          "text": [
            "pred_compare_func\n",
            "no-conflict    219\n",
            "conflict        90\n",
            "Name: count, dtype: int64\n",
            "[[34  5]\n",
            " [15 30]]\n"
          ]
        },
        {
          "data": {
            "image/png": "[encoded data removed]",
            "text/plain": [
              "<Figure size 640x480 with 2 Axes>"
            ]
          },
          "metadata": {},
          "output_type": "display_data"
        },
        {
          "name": "stdout",
          "output_type": "stream",
          "text": [
            "              precision    recall  f1-score   support\n",
            "\n",
            "    conflict       0.69      0.87      0.77        39\n",
            " no-conflict       0.86      0.67      0.75        45\n",
            "\n",
            "    accuracy                           0.76        84\n",
            "   macro avg       0.78      0.77      0.76        84\n",
            "weighted avg       0.78      0.76      0.76        84\n",
            "\n"
          ]
        },
        {
          "data": {
            "application/vnd.jupyter.widget-view+json": {
              "model_id": "d7bae69758f34b5bbf1cdb5ae6870db2",
              "version_major": 2,
              "version_minor": 0
            },
            "text/plain": [
              "VBox(children=(Label(value='0.002 MB of 0.002 MB uploaded\\r'), FloatProgress(value=0.9048593350383631, max=1.0…"
            ]
          },
          "metadata": {},
          "output_type": "display_data"
        },
        {
          "data": {
            "text/html": [
              "<style>\n",
              "    table.wandb td:nth-child(1) { padding: 0 10px; text-align: left ; width: auto;} td:nth-child(2) {text-align: left ; width: 100%}\n",
              "    .wandb-row { display: flex; flex-direction: row; flex-wrap: wrap; justify-content: flex-start; width: 100% }\n",
              "    .wandb-col { display: flex; flex-direction: column; flex-basis: 100%; flex: 1; padding: 10px; }\n",
              "    </style>\n",
              "<div class=\"wandb-row\"><div class=\"wandb-col\"><h3>Run history:</h3><br/><table class=\"wandb\"><tr><td>accuracy</td><td>▁</td></tr><tr><td>conflict_f1-score</td><td>▁</td></tr><tr><td>conflict_precision</td><td>▁</td></tr><tr><td>conflict_recall</td><td>▁</td></tr><tr><td>no_conflict_f1-score</td><td>▁</td></tr><tr><td>no_conflict_precision</td><td>▁</td></tr><tr><td>no_conflict_recall</td><td>▁</td></tr></table><br/></div><div class=\"wandb-col\"><h3>Run summary:</h3><br/><table class=\"wandb\"><tr><td>accuracy</td><td>0.7619</td></tr><tr><td>conflict_f1-score</td><td>0.77273</td></tr><tr><td>conflict_precision</td><td>0.69388</td></tr><tr><td>conflict_recall</td><td>0.87179</td></tr><tr><td>no_conflict_f1-score</td><td>0.75</td></tr><tr><td>no_conflict_precision</td><td>0.85714</td></tr><tr><td>no_conflict_recall</td><td>0.66667</td></tr></table><br/></div></div>"
            ],
            "text/plain": [
              "<IPython.core.display.HTML object>"
            ]
          },
          "metadata": {},
          "output_type": "display_data"
        },
        {
          "data": {
            "text/html": [
              " View run <strong style=\"color:#cdcd00\">e_0509-1934_audio_eval</strong> at: <a href='https://wandb.ai/lp-ucu/emotion_recognition/runs/md3w2hu3' target=\"_blank\">https://wandb.ai/lp-ucu/emotion_recognition/runs/md3w2hu3</a><br/> View project at: <a href='https://wandb.ai/lp-ucu/emotion_recognition' target=\"_blank\">https://wandb.ai/lp-ucu/emotion_recognition</a><br/>Synced 5 W&B file(s), 1 media file(s), 1 artifact file(s) and 0 other file(s)"
            ],
            "text/plain": [
              "<IPython.core.display.HTML object>"
            ]
          },
          "metadata": {},
          "output_type": "display_data"
        },
        {
          "data": {
            "text/html": [
              "Find logs at: <code>./wandb/run-20240509_193453-md3w2hu3/logs</code>"
            ],
            "text/plain": [
              "<IPython.core.display.HTML object>"
            ]
          },
          "metadata": {},
          "output_type": "display_data"
        }
      ],
      "source": [
        "wandb_config['model_name'] = \"LR\"\n",
        "wandb_config['feature_level'] = \"func\"\n",
        "wandb_config['data'] = \"init_1h_seg\"\n",
        "wandb_config['split'] = \"per-file-clients-only\"\n",
        "wandb_config['max_iter'] = 1000\n",
        "\n",
        "\n",
        "clf = make_pipeline(\n",
        "    StandardScaler(),\n",
        "    LogisticRegression(random_state=0, max_iter=1000),\n",
        ")\n",
        "\n",
        "manual_k_fold(clf, df_seg[df_seg['speaker'] != 's'], df_seg_smile_func_compare.drop(columns=['start', 'end']), name='pred_compare_func', wandb_config=wandb_config, cv=5)\n"
      ]
    },
    {
      "cell_type": "markdown",
      "metadata": {
        "id": "v2jguLhH2tiB"
      },
      "source": [
        "##### Pooling"
      ]
    },
    {
      "cell_type": "markdown",
      "metadata": {
        "id": "ORRplHZR2rKH"
      },
      "source": []
    },
    {
      "cell_type": "code",
      "execution_count": null,
      "metadata": {
        "id": "zfIRObdJ24jm"
      },
      "outputs": [],
      "source": [
        "df_seg_smile_func_compare['folder_name'] = (df_seg_smile_func_compare['path']\n",
        "                                       .str.split('/').str[-1]\n",
        "                                       .str.split('_').str[2])"
      ]
    },
    {
      "cell_type": "code",
      "execution_count": null,
      "metadata": {
        "id": "CZuObzM03tiq"
      },
      "outputs": [],
      "source": [
        "df_seg_smile_func_compare_aggr = (df_seg_smile_func_compare\n",
        "                                  .drop(columns=['label', 'path', 'start', 'end'])\n",
        "                                  .groupby('folder_name').mean()).reset_index()"
      ]
    },
    {
      "cell_type": "code",
      "execution_count": null,
      "metadata": {
        "id": "OW6hq_9i5Dh-"
      },
      "outputs": [],
      "source": [
        "df_seg_smile_func_compare_aggr = merge_labels(df_file, df_seg_smile_func_compare_aggr,\n",
        "                                              drop_index=True, merge_on=\"folder_name\")"
      ]
    },
    {
      "cell_type": "code",
      "execution_count": null,
      "metadata": {
        "colab": {
          "base_uri": "https://localhost:8080/",
          "height": 1000,
          "referenced_widgets": [
            "8cd8d7f96e2e459cac48e7ed21507b26",
            "a3af00da19fe4ab4bd8e3c0e9a589af0",
            "ad73a44f099e431fbb657b0ce6ac2462",
            "8a756c39c8be465a81c58a3828336534",
            "827cd3f68d854cedb85cccea30f4a740",
            "d545cf755bd24980bcbf09f2dcd75a00",
            "2a86bdbd806b4675a8c5bcf3ed7acdfe",
            "47dc384c2e7e47dea659ff65aa5827a4"
          ]
        },
        "id": "FOAtZfPW4dkz",
        "outputId": "910af76c-7008-4715-fc74-de8d24f15c7b"
      },
      "outputs": [
        {
          "data": {
            "text/html": [
              "Tracking run with wandb version 0.17.0"
            ],
            "text/plain": [
              "<IPython.core.display.HTML object>"
            ]
          },
          "metadata": {},
          "output_type": "display_data"
        },
        {
          "data": {
            "text/html": [
              "Run data is saved locally in <code>/content/wandb/run-20240509_195430-0ck7jbab</code>"
            ],
            "text/plain": [
              "<IPython.core.display.HTML object>"
            ]
          },
          "metadata": {},
          "output_type": "display_data"
        },
        {
          "data": {
            "text/html": [
              "Syncing run <strong><a href='https://wandb.ai/lp-ucu/emotion_recognition/runs/0ck7jbab' target=\"_blank\">e_0509-1954_audio_eval</a></strong> to <a href='https://wandb.ai/lp-ucu/emotion_recognition' target=\"_blank\">Weights & Biases</a> (<a href='https://wandb.me/run' target=\"_blank\">docs</a>)<br/>"
            ],
            "text/plain": [
              "<IPython.core.display.HTML object>"
            ]
          },
          "metadata": {},
          "output_type": "display_data"
        },
        {
          "data": {
            "text/html": [
              " View project at <a href='https://wandb.ai/lp-ucu/emotion_recognition' target=\"_blank\">https://wandb.ai/lp-ucu/emotion_recognition</a>"
            ],
            "text/plain": [
              "<IPython.core.display.HTML object>"
            ]
          },
          "metadata": {},
          "output_type": "display_data"
        },
        {
          "data": {
            "text/html": [
              " View run at <a href='https://wandb.ai/lp-ucu/emotion_recognition/runs/0ck7jbab' target=\"_blank\">https://wandb.ai/lp-ucu/emotion_recognition/runs/0ck7jbab</a>"
            ],
            "text/plain": [
              "<IPython.core.display.HTML object>"
            ]
          },
          "metadata": {},
          "output_type": "display_data"
        },
        {
          "name": "stdout",
          "output_type": "stream",
          "text": [
            "[[18 21]\n",
            " [15 31]]\n"
          ]
        },
        {
          "data": {
            "image/png": "[encoded data removed]",
            "text/plain": [
              "<Figure size 640x480 with 2 Axes>"
            ]
          },
          "metadata": {},
          "output_type": "display_data"
        },
        {
          "name": "stdout",
          "output_type": "stream",
          "text": [
            "              precision    recall  f1-score   support\n",
            "\n",
            "    conflict       0.55      0.46      0.50        39\n",
            " no-conflict       0.60      0.67      0.63        46\n",
            "\n",
            "    accuracy                           0.58        85\n",
            "   macro avg       0.57      0.57      0.57        85\n",
            "weighted avg       0.57      0.58      0.57        85\n",
            "\n"
          ]
        },
        {
          "data": {
            "application/vnd.jupyter.widget-view+json": {
              "model_id": "8cd8d7f96e2e459cac48e7ed21507b26",
              "version_major": 2,
              "version_minor": 0
            },
            "text/plain": [
              "VBox(children=(Label(value='0.002 MB of 0.002 MB uploaded\\r'), FloatProgress(value=0.9044455799693408, max=1.0…"
            ]
          },
          "metadata": {},
          "output_type": "display_data"
        },
        {
          "data": {
            "text/html": [
              "<style>\n",
              "    table.wandb td:nth-child(1) { padding: 0 10px; text-align: left ; width: auto;} td:nth-child(2) {text-align: left ; width: 100%}\n",
              "    .wandb-row { display: flex; flex-direction: row; flex-wrap: wrap; justify-content: flex-start; width: 100% }\n",
              "    .wandb-col { display: flex; flex-direction: column; flex-basis: 100%; flex: 1; padding: 10px; }\n",
              "    </style>\n",
              "<div class=\"wandb-row\"><div class=\"wandb-col\"><h3>Run history:</h3><br/><table class=\"wandb\"><tr><td>accuracy</td><td>▁</td></tr><tr><td>conflict_f1-score</td><td>▁</td></tr><tr><td>conflict_precision</td><td>▁</td></tr><tr><td>conflict_recall</td><td>▁</td></tr><tr><td>no_conflict_f1-score</td><td>▁</td></tr><tr><td>no_conflict_precision</td><td>▁</td></tr><tr><td>no_conflict_recall</td><td>▁</td></tr></table><br/></div><div class=\"wandb-col\"><h3>Run summary:</h3><br/><table class=\"wandb\"><tr><td>accuracy</td><td>0.57647</td></tr><tr><td>conflict_f1-score</td><td>0.5</td></tr><tr><td>conflict_precision</td><td>0.54545</td></tr><tr><td>conflict_recall</td><td>0.46154</td></tr><tr><td>no_conflict_f1-score</td><td>0.63265</td></tr><tr><td>no_conflict_precision</td><td>0.59615</td></tr><tr><td>no_conflict_recall</td><td>0.67391</td></tr></table><br/></div></div>"
            ],
            "text/plain": [
              "<IPython.core.display.HTML object>"
            ]
          },
          "metadata": {},
          "output_type": "display_data"
        },
        {
          "data": {
            "text/html": [
              " View run <strong style=\"color:#cdcd00\">e_0509-1954_audio_eval</strong> at: <a href='https://wandb.ai/lp-ucu/emotion_recognition/runs/0ck7jbab' target=\"_blank\">https://wandb.ai/lp-ucu/emotion_recognition/runs/0ck7jbab</a><br/> View project at: <a href='https://wandb.ai/lp-ucu/emotion_recognition' target=\"_blank\">https://wandb.ai/lp-ucu/emotion_recognition</a><br/>Synced 5 W&B file(s), 1 media file(s), 1 artifact file(s) and 0 other file(s)"
            ],
            "text/plain": [
              "<IPython.core.display.HTML object>"
            ]
          },
          "metadata": {},
          "output_type": "display_data"
        },
        {
          "data": {
            "text/html": [
              "Find logs at: <code>./wandb/run-20240509_195430-0ck7jbab/logs</code>"
            ],
            "text/plain": [
              "<IPython.core.display.HTML object>"
            ]
          },
          "metadata": {},
          "output_type": "display_data"
        }
      ],
      "source": [
        "wandb_config['model_name'] = \"LR\"\n",
        "wandb_config['feature_level'] = \"func\"\n",
        "wandb_config['data'] = \"init_1h_seg\"\n",
        "wandb_config['split'] = \"avg-pooling\"\n",
        "wandb_config['max_iter'] = 1000\n",
        "\n",
        "\n",
        "clf = make_pipeline(\n",
        "    StandardScaler(),\n",
        "    LogisticRegression(random_state=0, max_iter=1000),\n",
        ")\n",
        "\n",
        "cross_validation_n_fold(clf, df_seg_smile_func_compare_aggr.drop(columns=['folder_name','label']),\n",
        "               df_seg_smile_func_compare_aggr['label'], wandb_config)"
      ]
    },
    {
      "cell_type": "code",
      "execution_count": null,
      "metadata": {
        "id": "NRmEWrm_Jh60"
      },
      "outputs": [],
      "source": [
        "#TODO:\n",
        "#aggreagte features by folder (mean or max pooling) and try sklearn cros validation"
      ]
    },
    {
      "cell_type": "markdown",
      "metadata": {
        "id": "n3sCeBNgD9hQ"
      },
      "source": [
        "# Wav2Vec2 features"
      ]
    },
    {
      "cell_type": "code",
      "execution_count": null,
      "metadata": {
        "id": "WWqHEVEFIYsY"
      },
      "outputs": [],
      "source": [
        "from tqdm import tqdm\n",
        "import torch\n",
        "import torchaudio\n",
        "from transformers import Wav2Vec2Model, Wav2Vec2Processor, Wav2Vec2FeatureExtractor\n",
        "from datasets import load_dataset, load_metric"
      ]
    },
    {
      "cell_type": "markdown",
      "metadata": {
        "id": "52WSaUSHEAeB"
      },
      "source": [
        "## Pre-trained models, without fine-tuing"
      ]
    },
    {
      "cell_type": "markdown",
      "metadata": {
        "id": "kxditJbmAqTO"
      },
      "source": [
        "### Data preparation"
      ]
    },
    {
      "cell_type": "code",
      "execution_count": null,
      "metadata": {
        "colab": {
          "base_uri": "https://localhost:8080/"
        },
        "id": "U0xq8onpqvkS",
        "outputId": "a30a1709-7f4b-4112-cbcc-1adfa6bfdb58"
      },
      "outputs": [
        {
          "data": {
            "text/plain": [
              "Index(['folder_name', 'audio_file_name', 'speech_duration', 'language',\n",
              "       'origin_text', 'emotion_merged', 'label', 'path', 'folder'],\n",
              "      dtype='object')"
            ]
          },
          "execution_count": 36,
          "metadata": {},
          "output_type": "execute_result"
        }
      ],
      "source": [
        "df_file.columns"
      ]
    },
    {
      "cell_type": "code",
      "execution_count": null,
      "metadata": {
        "id": "M2PqEQQXIvu5"
      },
      "outputs": [],
      "source": [
        "df_file[['path', 'label']].to_csv('all_files.csv', sep=\"\\t\", encoding=\"utf-8\", index=False)\n",
        "\n",
        "df_seg[['path', 'label']].to_csv('seg.csv', sep=\"\\t\", encoding=\"utf-8\", index=False)"
      ]
    },
    {
      "cell_type": "code",
      "execution_count": null,
      "metadata": {
        "colab": {
          "base_uri": "https://localhost:8080/",
          "height": 224,
          "referenced_widgets": [
            "6c934fb4c93a45d7a6cd567f12aa80a8",
            "bfedc28e53d24a9fbbf6529b5870598c",
            "6934cc120a034a04b9b0c52bdfcb2e27",
            "29c30d8a6e20477ba2d7e770b80c5afe",
            "3aac97da336541a58e24004ce89b8b44",
            "a9e79476f550429db3b00069603b371b",
            "5861dadd050b44f6b54fe2cdf1bee71d",
            "148e8a4118fc4b12a00017b3ba2b46e5",
            "35a71432a8b544b2be0d80bca81628b0",
            "4175d528b64d4bb6b072072a2644808c",
            "1bdeaff358754130ad0706fb436ebb02",
            "11cca9590a464c3a8885b717ce9772f4",
            "a26da9d36234476e9bca0d4c1d231a22",
            "823d77f63c5d4c8da322e66ea9a1341c",
            "bbbd384b0e75413180ea72a5fad4cdad",
            "9c27f3a254614d9c8172bfca51d19d03",
            "123d8ab44fb74b729751b1d3a5e8c385",
            "3b063b00c9bc41639857e70668283a30",
            "0bbff55c24f54fb7b53ea0f02baf2ea3",
            "264b73c905c9481e90cd3dd51ccfeb5e",
            "34e3f23d29fc41d29526f773c9d8e80f",
            "7e5c415379e64548b2ffa7b6623bd6d8"
          ]
        },
        "id": "pH0-lT1zISIT",
        "outputId": "dbac32f0-50b1-4b79-eab1-9865837e32f1"
      },
      "outputs": [
        {
          "output_type": "display_data",
          "data": {
            "text/plain": [
              "Generating validation split: 0 examples [00:00, ? examples/s]"
            ],
            "application/vnd.jupyter.widget-view+json": {
              "version_major": 2,
              "version_minor": 0,
              "model_id": "6c934fb4c93a45d7a6cd567f12aa80a8"
            }
          },
          "metadata": {}
        },
        {
          "output_type": "display_data",
          "data": {
            "text/plain": [
              "Generating validation_seg split: 0 examples [00:00, ? examples/s]"
            ],
            "application/vnd.jupyter.widget-view+json": {
              "version_major": 2,
              "version_minor": 0,
              "model_id": "11cca9590a464c3a8885b717ce9772f4"
            }
          },
          "metadata": {}
        },
        {
          "output_type": "stream",
          "name": "stdout",
          "text": [
            "Dataset({\n",
            "    features: ['path', 'label'],\n",
            "    num_rows: 90\n",
            "})\n",
            "Dataset({\n",
            "    features: ['path', 'label'],\n",
            "    num_rows: 545\n",
            "})\n"
          ]
        }
      ],
      "source": [
        "data_files = {\n",
        "    \"validation\": 'all_files.csv',\n",
        "    \"validation_seg\": 'seg.csv',\n",
        "}\n",
        "\n",
        "dataset = load_dataset(\"csv\", data_files=data_files, delimiter=\"\\t\", )\n",
        "eval_dataset = dataset[\"validation\"]\n",
        "eval_seg_dataset = dataset[\"validation_seg\"]\n",
        "\n",
        "\n",
        "print(eval_dataset)\n",
        "print(eval_seg_dataset)"
      ]
    },
    {
      "cell_type": "code",
      "execution_count": null,
      "metadata": {
        "id": "SJ2OlZHnIuqp"
      },
      "outputs": [],
      "source": [
        "input_column = \"path\"\n",
        "output_column = \"label\""
      ]
    },
    {
      "cell_type": "code",
      "execution_count": null,
      "metadata": {
        "colab": {
          "base_uri": "https://localhost:8080/",
          "height": 169,
          "referenced_widgets": [
            "dafb19b68b354146a7c7a730ebcf6755",
            "e9f42a0f715b461caf806e1cb6b24aed",
            "8e6bd14d265b4f0db138b7682b8bfd4e",
            "3712d62ee9b04cad9f36492841e661e8",
            "b066a4d475a340efab47d717ac173179",
            "885950bb78c74e9fb875674d94b889a7",
            "9460d13858684e20a43bf43e6e77ef06",
            "109d79a4c0ba4689b03f82a085f9f30f",
            "882ea781036d4709ba37ecd719cc3f85",
            "d22b17c66b364c9bbd1a3869b7f99d4d",
            "4ce91e98b934405d92e12d338e93bd1c",
            "4a936ec0d5644f8e848ac49bea3fa39e",
            "c986e35b2e26483eb36761b64334b69a",
            "bac7f4207c3344f8854c4f9112f2fe60",
            "f3caaf09b48e4341aa183137cf6c2978",
            "bb853f3b8ecb4b219452da3d5238fa9a",
            "cdaf69cec41243559e2d807811add37e",
            "2633ca91aa5648c69896a29623af5cfd",
            "eebef2aa6bf44c089c62e010a0e243a9",
            "f9749494011f46838c73e3a756406e07",
            "e468477148c742d1ac18227b60df9e82",
            "ba6884428f1c457ca2f621d512baec74",
            "d367e648ed604b93aa9e0d929692f18d",
            "90dbb08a601f43a49908e391f3433292",
            "dea650ebe2e4428793280f886c5ebd1b",
            "a4c388a6beba4c628d9cb880ecae3b18",
            "178d13a8a43d48bb8f0441612cb02349",
            "1017087aa33543988b8a8b2ada70d172",
            "a19c84ca54b34d8ab73bd2bfab1a672e",
            "ba55f1a3e07e47bab72ed13ed18acd44",
            "97fea438be4f431fbb903309c5db3aa0",
            "ca68326728314d879864172985916f26",
            "4d11bcb991b348babc7a311ba4c05e71"
          ]
        },
        "id": "VYSRPW5CEAEq",
        "outputId": "dc640a78-6de0-48c1-c7d0-4217028b8f97"
      },
      "outputs": [
        {
          "output_type": "display_data",
          "data": {
            "text/plain": [
              "preprocessor_config.json:   0%|          | 0.00/212 [00:00<?, ?B/s]"
            ],
            "application/vnd.jupyter.widget-view+json": {
              "version_major": 2,
              "version_minor": 0,
              "model_id": "dafb19b68b354146a7c7a730ebcf6755"
            }
          },
          "metadata": {}
        },
        {
          "output_type": "display_data",
          "data": {
            "text/plain": [
              "config.json:   0%|          | 0.00/1.57k [00:00<?, ?B/s]"
            ],
            "application/vnd.jupyter.widget-view+json": {
              "version_major": 2,
              "version_minor": 0,
              "model_id": "4a936ec0d5644f8e848ac49bea3fa39e"
            }
          },
          "metadata": {}
        },
        {
          "output_type": "display_data",
          "data": {
            "text/plain": [
              "pytorch_model.bin:   0%|          | 0.00/1.27G [00:00<?, ?B/s]"
            ],
            "application/vnd.jupyter.widget-view+json": {
              "version_major": 2,
              "version_minor": 0,
              "model_id": "d367e648ed604b93aa9e0d929692f18d"
            }
          },
          "metadata": {}
        },
        {
          "output_type": "stream",
          "name": "stderr",
          "text": [
            "Some weights of Wav2Vec2Model were not initialized from the model checkpoint at facebook/wav2vec2-xls-r-300m and are newly initialized: ['wav2vec2.encoder.pos_conv_embed.conv.parametrizations.weight.original0', 'wav2vec2.encoder.pos_conv_embed.conv.parametrizations.weight.original1']\n",
            "You should probably TRAIN this model on a down-stream task to be able to use it for predictions and inference.\n"
          ]
        }
      ],
      "source": [
        "model_name = \"facebook/wav2vec2-xls-r-300m\"\n",
        "# model_name = \"facebook/wav2vec2-xls-r-1b\"\n",
        "# model_name = \"facebook/wav2vec2-xls-r-2b\"\n",
        "# feature_extractor = Wav2Vec2Processor.from_pretrained(model_name)\n",
        "feature_extractor = Wav2Vec2FeatureExtractor.from_pretrained(model_name)\n",
        "model = Wav2Vec2Model.from_pretrained(model_name)"
      ]
    },
    {
      "cell_type": "code",
      "source": [
        "# random weight initialization\n",
        "for param in model.parameters():\n",
        "    param.data.normal_(mean=0.0, std=model.config.initializer_range)"
      ],
      "metadata": {
        "id": "-XHyZpYmOudH"
      },
      "execution_count": null,
      "outputs": []
    },
    {
      "cell_type": "code",
      "execution_count": null,
      "metadata": {
        "colab": {
          "base_uri": "https://localhost:8080/"
        },
        "id": "aIb9tI5_KKyL",
        "outputId": "7a915870-5c8b-4f1e-ee98-ecf684f2ed84"
      },
      "outputs": [
        {
          "output_type": "execute_result",
          "data": {
            "text/plain": [
              "16000"
            ]
          },
          "metadata": {},
          "execution_count": 58
        }
      ],
      "source": [
        "target_sampling_rate = feature_extractor.sampling_rate\n",
        "target_sampling_rate"
      ]
    },
    {
      "cell_type": "code",
      "execution_count": null,
      "metadata": {
        "id": "KqqYt5GwIeM4"
      },
      "outputs": [],
      "source": [
        "def speech_file_to_array_fn(path):\n",
        "    speech_array, sampling_rate = torchaudio.load(path)\n",
        "    resampler = torchaudio.transforms.Resample(sampling_rate, target_sampling_rate)\n",
        "    speech = resampler(speech_array).squeeze().numpy()\n",
        "    return speech\n",
        "\n",
        "def label_to_id(label, label_list):\n",
        "\n",
        "    if len(label_list) > 0:\n",
        "        return label_list.index(label) if label in label_list else -1\n",
        "\n",
        "    return label\n",
        "\n",
        "def preprocess_function(examples):\n",
        "    speech_list = [speech_file_to_array_fn(path) for path in examples[input_column]]\n",
        "    # target_list = [label_to_id(label, label_list) for label in examples[output_column]]\n",
        "\n",
        "    result = feature_extractor(speech_list,\n",
        "                        sampling_rate=target_sampling_rate,\n",
        "                        #max_length=max_length,\n",
        "                        #truncation=True,\n",
        "                        #padding=True\n",
        "                       )\n",
        "    # result[\"labels\"] = list(target_list)\n",
        "\n",
        "    return result"
      ]
    },
    {
      "cell_type": "code",
      "execution_count": null,
      "metadata": {
        "colab": {
          "base_uri": "https://localhost:8080/",
          "height": 81,
          "referenced_widgets": [
            "b94f2d3259044150b5f46cd443f56972",
            "52fa526ec11c45808762b7413ac6a80c",
            "830e226ea0d44ae6acd798eb60b4cb1a",
            "70e7bcc0b4bd4922b08768e57ad2f043",
            "a10d44ffcb5841ceb04527159e5439da",
            "8acd4062d67042668e75c03745b642b2",
            "b40c7edc9e324393a367cb94095017e6",
            "8af6c1858775482c833cec002a4926e9",
            "a21a7443e04843039fda52016976b16c",
            "24e4e535e7204a65a685a7dce34688f1",
            "c4e4de48157f44fe9372d5bb6faabb34",
            "8d0978b870214cd8af66206b2685b74d",
            "f0c725a28bdc4c4eb5e3fe7a6e7564cd",
            "065aa4934c1345a0aa6601471d9288ef",
            "ca184740674f4286aa70366425142888",
            "4f306cb28d264783872c5ba13317e132",
            "a455fc4f581746e19a1f4100c1cf02b7",
            "809ffb612595492c9cc025f2325c3a0d",
            "c30cdfa9afc14237a7e3fdfa375bbf6a",
            "1ea6233a7ddd4352a2bf8afdaf6a8e96",
            "e33a5e7f900a405da39f88c73745fa6d",
            "04c47f3808064408acb7f890645416f1"
          ]
        },
        "id": "FzdPP1D-LBrn",
        "outputId": "adcc847a-b6b8-4021-ec0c-10ac9195f793"
      },
      "outputs": [
        {
          "output_type": "display_data",
          "data": {
            "text/plain": [
              "Map:   0%|          | 0/90 [00:00<?, ? examples/s]"
            ],
            "application/vnd.jupyter.widget-view+json": {
              "version_major": 2,
              "version_minor": 0,
              "model_id": "b94f2d3259044150b5f46cd443f56972"
            }
          },
          "metadata": {}
        },
        {
          "output_type": "display_data",
          "data": {
            "text/plain": [
              "Map:   0%|          | 0/545 [00:00<?, ? examples/s]"
            ],
            "application/vnd.jupyter.widget-view+json": {
              "version_major": 2,
              "version_minor": 0,
              "model_id": "8d0978b870214cd8af66206b2685b74d"
            }
          },
          "metadata": {}
        }
      ],
      "source": [
        "# num_proc > 1 colab might just stuck forever. Smth about lost .join()\n",
        "eval_dataset = eval_dataset.map(\n",
        "    preprocess_function,\n",
        "    batch_size=4,\n",
        "    batched=True,\n",
        "    num_proc=1\n",
        ")\n",
        "\n",
        "eval_seg_dataset = eval_seg_dataset.map(\n",
        "    preprocess_function,\n",
        "    batch_size=4,\n",
        "    batched=True,\n",
        "    num_proc=1\n",
        ")"
      ]
    },
    {
      "cell_type": "code",
      "execution_count": null,
      "metadata": {
        "id": "vJmXpvmEigpT"
      },
      "outputs": [],
      "source": [
        "def extract_embeddings(model, dataset, df, prefix=\"file_\", model_prefix=\"w2v_no-tune_fb_xls-r-300m\"):\n",
        "  # it is longer, but it is not clear how to properly use padding together with mean pooling\n",
        "  hidden_states_list = []\n",
        "  extract_features_list = []\n",
        "\n",
        "  # for i in tqdm(range(2)):\n",
        "  for i in tqdm(range(len(dataset))):\n",
        "    input = feature_extractor(dataset[i][\"input_values\"],\n",
        "                        return_tensors=\"pt\", sampling_rate=16000)\n",
        "    with torch.no_grad():\n",
        "      output = model(**input)\n",
        "\n",
        "    hidden_states_list.append(torch.mean(output['last_hidden_state'], dim=1)[0])\n",
        "    extract_features_list.append(torch.mean(output['extract_features'], dim=1)[0])\n",
        "\n",
        "\n",
        "  df_hs = (pd.concat([df,pd.DataFrame(columns=['hs_'+str(i)\n",
        "                for i in range(len(hidden_states_list[0]))])],axis=1,sort=False))\n",
        "  df_hs.loc[:,'hs_0':] = hidden_states_list\n",
        "  csv_file_name = prefix + \"hs_\" + model_prefix + \".csv\"\n",
        "  print(f\"saving hidden states to {csv_file_name} file\")\n",
        "  df_hs.to_csv(audio_features_folder+csv_file_name)\n",
        "\n",
        "  df_ef = (pd.concat([df,pd.DataFrame(columns=['ef_'+str(i)\n",
        "                for i in range(len(extract_features_list[0]))])],axis=1,sort=False))\n",
        "  df_ef.loc[:,'ef_0':] = extract_features_list\n",
        "  csv_file_name = prefix + \"ef_\" + model_prefix + \".csv\"\n",
        "  print(f\"saving extracted features to {csv_file_name} file\")\n",
        "  df_ef.to_csv(audio_features_folder+csv_file_name)\n",
        "\n",
        "  return df_hs, df_ef"
      ]
    },
    {
      "cell_type": "markdown",
      "metadata": {
        "id": "pZqaPXL0isS6"
      },
      "source": []
    },
    {
      "cell_type": "code",
      "execution_count": null,
      "metadata": {
        "colab": {
          "base_uri": "https://localhost:8080/"
        },
        "id": "DfxF5JqJQh2J",
        "outputId": "7afb4ec2-d20a-431c-ba28-74959ad65c96"
      },
      "outputs": [
        {
          "output_type": "stream",
          "name": "stderr",
          "text": [
            "100%|██████████| 90/90 [28:46<00:00, 19.19s/it]"
          ]
        },
        {
          "output_type": "stream",
          "name": "stdout",
          "text": [
            "saving hidden states to file_hs_wav2vec2-xls-r-300m.csv file\n",
            "saving extracted features to file_ef_wav2vec2-xls-r-300m.csv file\n"
          ]
        },
        {
          "output_type": "stream",
          "name": "stderr",
          "text": [
            "\n"
          ]
        }
      ],
      "source": [
        "df_file_hs, df_file_ef = extract_embeddings(model,\n",
        "                                          eval_dataset,\n",
        "                                          df_file, prefix=\"file_\",\n",
        "                                          model_prefix=model_name.split('/')[1])"
      ]
    },
    {
      "cell_type": "code",
      "execution_count": null,
      "metadata": {
        "colab": {
          "base_uri": "https://localhost:8080/"
        },
        "id": "T8hFqsWcqCIX",
        "outputId": "d6a536d3-4291-4397-aa4f-dac1eb87dbc9"
      },
      "outputs": [
        {
          "output_type": "stream",
          "name": "stderr",
          "text": [
            "100%|██████████| 545/545 [13:37<00:00,  1.50s/it]\n"
          ]
        },
        {
          "output_type": "stream",
          "name": "stdout",
          "text": [
            "saving hidden states to seg_hs_wav2vec2-xls-r-300m.csv file\n",
            "saving extracted features to seg_ef_wav2vec2-xls-r-300m.csv file\n"
          ]
        }
      ],
      "source": [
        "df_seg_hs, df_seg_ef = extract_embeddings(model,\n",
        "                                          eval_seg_dataset,\n",
        "                                          df_seg, prefix=\"seg_\",\n",
        "                                          model_prefix=model_name.split('/')[1])"
      ]
    },
    {
      "cell_type": "code",
      "execution_count": null,
      "metadata": {
        "id": "U6SHin3ui-CW"
      },
      "outputs": [],
      "source": [
        "hs_seg_list, ef_seg_list = extract_embeddings(model, eval_seg_dataset)\n"
      ]
    },
    {
      "cell_type": "code",
      "execution_count": null,
      "metadata": {
        "id": "9MiF6Bjpi99b"
      },
      "outputs": [],
      "source": [
        "df_seg_hs = (pd.concat([df_seg,pd.DataFrame(columns=['hs_'+str(i)\n",
        "               for i in range(1024)])],axis=1,sort=False))\n",
        "df_seg_hs.loc[:,'hs_0':] = hs_seg_list\n",
        "\n",
        "df_seg_hs.to_csv(audio_features_folder+'seg_hs_w2v_no-tune_fb_xls-r-300m.csv')"
      ]
    },
    {
      "cell_type": "code",
      "execution_count": null,
      "metadata": {
        "id": "oGxqTVzijRlG"
      },
      "outputs": [],
      "source": [
        "df_seg_ef = (pd.concat([df_file,pd.DataFrame(columns=['ef_'+str(i)\n",
        "               for i in range(512)])],axis=1,sort=False))\n",
        "df_seg_ef.loc[:,'ef_0':] = ef_seg_list\n",
        "\n",
        "df_file_ef.to_csv(audio_features_folder+'seg_ef_w2v_no-tune_fb_xls-r-300m.csv')"
      ]
    },
    {
      "cell_type": "markdown",
      "source": [
        "### Data loading"
      ],
      "metadata": {
        "id": "mlE4ieotUu0s"
      }
    },
    {
      "cell_type": "code",
      "source": [
        "df_file_hs_300m = pd.read_csv(audio_features_folder+\"file_hs_w2v_no-tune_fb_xls-r-300m.csv\")\n",
        "df_file_ef_300m = pd.read_csv(audio_features_folder+\"file_ef_w2v_no-tune_fb_xls-r-300m.csv\")\n",
        "df_seg_hs_300m = pd.read_csv(audio_features_folder+\"seg_hs_w2v_no-tune_fb_xls-r-300m.csv\")\n",
        "df_seg_ef_300m = pd.read_csv(audio_features_folder+\"seg_ef_w2v_no-tune_fb_xls-r-300m.csv\")\n",
        "\n",
        "\n",
        "df_file_hs_1b = pd.read_csv(audio_features_folder+\"file_hs_df_file_hs_1bdf_file_hs_1b.csv\")\n",
        "df_file_ef_1b = pd.read_csv(audio_features_folder+\"file_ef_wav2vec2-xls-r-1b.csv\")\n",
        "df_seg_hs_1b = pd.read_csv(audio_features_folder+\"seg_hs_wav2vec2-xls-r-1b.csv\")\n",
        "df_seg_ef_1b = pd.read_csv(audio_features_folder+\"seg_ef_wav2vec2-xls-r-1b.csv\")\n",
        "\n",
        "\n",
        "df_file_hs_2b = pd.read_csv(audio_features_folder+\"file_hs_wav2vec2-xls-r-2b.csv\")\n",
        "df_file_ef_2b = pd.read_csv(audio_features_folder+\"file_ef_wav2vec2-xls-r-2b.csv\")\n",
        "df_seg_hs_2b = pd.read_csv(audio_features_folder+\"seg_hs_wav2vec2-xls-r-2b.csv\")\n",
        "df_seg_ef_2b = pd.read_csv(audio_features_folder+\"seg_ef_wav2vec2-xls-r-2b.csv\")"
      ],
      "metadata": {
        "id": "7RkmwdhxUvN_"
      },
      "execution_count": null,
      "outputs": []
    },
    {
      "cell_type": "markdown",
      "metadata": {
        "id": "dZq3FjVIA1_g"
      },
      "source": [
        "### Evaluation"
      ]
    },
    {
      "cell_type": "code",
      "execution_count": null,
      "metadata": {
        "colab": {
          "base_uri": "https://localhost:8080/",
          "height": 1000,
          "referenced_widgets": [
            "2f55208a74e445cfb057fd8e7523d0f7",
            "74e9463c5b194af2aa256da3dcf18c5a",
            "971198eae1a545b0823295af45723f18",
            "4530b4d1844f43e5b740a6fb96850403",
            "d889799d9f424327ae2c39893577cda3",
            "865912e5007548e1bc4e9efba2bed0b6",
            "3cf72561ccce41798db8ee2f5d5be2f5",
            "1c24617d631245fe90890a507ce3400b"
          ]
        },
        "id": "eXXyULKF0_SH",
        "outputId": "aa1b6910-232b-487d-94ec-cfb5b651cc28"
      },
      "outputs": [
        {
          "output_type": "display_data",
          "data": {
            "text/plain": [
              "<IPython.core.display.HTML object>"
            ],
            "text/html": [
              "Tracking run with wandb version 0.17.0"
            ]
          },
          "metadata": {}
        },
        {
          "output_type": "display_data",
          "data": {
            "text/plain": [
              "<IPython.core.display.HTML object>"
            ],
            "text/html": [
              "Run data is saved locally in <code>/content/wandb/run-20240516_215457-ic2bc84r</code>"
            ]
          },
          "metadata": {}
        },
        {
          "output_type": "display_data",
          "data": {
            "text/plain": [
              "<IPython.core.display.HTML object>"
            ],
            "text/html": [
              "Syncing run <strong><a href='https://wandb.ai/lp-ucu/emotion_recognition/runs/ic2bc84r' target=\"_blank\">e_0516-2154_audio_eval</a></strong> to <a href='https://wandb.ai/lp-ucu/emotion_recognition' target=\"_blank\">Weights & Biases</a> (<a href='https://wandb.me/run' target=\"_blank\">docs</a>)<br/>"
            ]
          },
          "metadata": {}
        },
        {
          "output_type": "display_data",
          "data": {
            "text/plain": [
              "<IPython.core.display.HTML object>"
            ],
            "text/html": [
              " View project at <a href='https://wandb.ai/lp-ucu/emotion_recognition' target=\"_blank\">https://wandb.ai/lp-ucu/emotion_recognition</a>"
            ]
          },
          "metadata": {}
        },
        {
          "output_type": "display_data",
          "data": {
            "text/plain": [
              "<IPython.core.display.HTML object>"
            ],
            "text/html": [
              " View run at <a href='https://wandb.ai/lp-ucu/emotion_recognition/runs/ic2bc84r' target=\"_blank\">https://wandb.ai/lp-ucu/emotion_recognition/runs/ic2bc84r</a>"
            ]
          },
          "metadata": {}
        },
        {
          "output_type": "stream",
          "name": "stderr",
          "text": [
            "/usr/local/lib/python3.10/dist-packages/sklearn/linear_model/_logistic.py:458: ConvergenceWarning: lbfgs failed to converge (status=1):\n",
            "STOP: TOTAL NO. of ITERATIONS REACHED LIMIT.\n",
            "\n",
            "Increase the number of iterations (max_iter) or scale the data as shown in:\n",
            "    https://scikit-learn.org/stable/modules/preprocessing.html\n",
            "Please also refer to the documentation for alternative solver options:\n",
            "    https://scikit-learn.org/stable/modules/linear_model.html#logistic-regression\n",
            "  n_iter_i = _check_optimize_result(\n",
            "/usr/local/lib/python3.10/dist-packages/sklearn/linear_model/_logistic.py:458: ConvergenceWarning: lbfgs failed to converge (status=1):\n",
            "STOP: TOTAL NO. of ITERATIONS REACHED LIMIT.\n",
            "\n",
            "Increase the number of iterations (max_iter) or scale the data as shown in:\n",
            "    https://scikit-learn.org/stable/modules/preprocessing.html\n",
            "Please also refer to the documentation for alternative solver options:\n",
            "    https://scikit-learn.org/stable/modules/linear_model.html#logistic-regression\n",
            "  n_iter_i = _check_optimize_result(\n",
            "/usr/local/lib/python3.10/dist-packages/sklearn/linear_model/_logistic.py:458: ConvergenceWarning: lbfgs failed to converge (status=1):\n",
            "STOP: TOTAL NO. of ITERATIONS REACHED LIMIT.\n",
            "\n",
            "Increase the number of iterations (max_iter) or scale the data as shown in:\n",
            "    https://scikit-learn.org/stable/modules/preprocessing.html\n",
            "Please also refer to the documentation for alternative solver options:\n",
            "    https://scikit-learn.org/stable/modules/linear_model.html#logistic-regression\n",
            "  n_iter_i = _check_optimize_result(\n",
            "/usr/local/lib/python3.10/dist-packages/sklearn/linear_model/_logistic.py:458: ConvergenceWarning: lbfgs failed to converge (status=1):\n",
            "STOP: TOTAL NO. of ITERATIONS REACHED LIMIT.\n",
            "\n",
            "Increase the number of iterations (max_iter) or scale the data as shown in:\n",
            "    https://scikit-learn.org/stable/modules/preprocessing.html\n",
            "Please also refer to the documentation for alternative solver options:\n",
            "    https://scikit-learn.org/stable/modules/linear_model.html#logistic-regression\n",
            "  n_iter_i = _check_optimize_result(\n"
          ]
        },
        {
          "output_type": "stream",
          "name": "stdout",
          "text": [
            "[[20 24]\n",
            " [23 23]]\n"
          ]
        },
        {
          "output_type": "stream",
          "name": "stderr",
          "text": [
            "/usr/local/lib/python3.10/dist-packages/sklearn/linear_model/_logistic.py:458: ConvergenceWarning: lbfgs failed to converge (status=1):\n",
            "STOP: TOTAL NO. of ITERATIONS REACHED LIMIT.\n",
            "\n",
            "Increase the number of iterations (max_iter) or scale the data as shown in:\n",
            "    https://scikit-learn.org/stable/modules/preprocessing.html\n",
            "Please also refer to the documentation for alternative solver options:\n",
            "    https://scikit-learn.org/stable/modules/linear_model.html#logistic-regression\n",
            "  n_iter_i = _check_optimize_result(\n"
          ]
        },
        {
          "output_type": "display_data",
          "data": {
            "text/plain": [
              "<Figure size 640x480 with 2 Axes>"
            ],
            "image/png": "[encoded data removed]"
          },
          "metadata": {}
        },
        {
          "output_type": "stream",
          "name": "stdout",
          "text": [
            "              precision    recall  f1-score   support\n",
            "\n",
            "    conflict       0.47      0.45      0.46        44\n",
            " no-conflict       0.49      0.50      0.49        46\n",
            "\n",
            "    accuracy                           0.48        90\n",
            "   macro avg       0.48      0.48      0.48        90\n",
            "weighted avg       0.48      0.48      0.48        90\n",
            "\n"
          ]
        },
        {
          "output_type": "display_data",
          "data": {
            "text/plain": [
              "VBox(children=(Label(value='0.002 MB of 0.002 MB uploaded\\r'), FloatProgress(value=0.927038626609442, max=1.0)…"
            ],
            "application/vnd.jupyter.widget-view+json": {
              "version_major": 2,
              "version_minor": 0,
              "model_id": "2f55208a74e445cfb057fd8e7523d0f7"
            }
          },
          "metadata": {}
        },
        {
          "output_type": "display_data",
          "data": {
            "text/plain": [
              "<IPython.core.display.HTML object>"
            ],
            "text/html": [
              "<style>\n",
              "    table.wandb td:nth-child(1) { padding: 0 10px; text-align: left ; width: auto;} td:nth-child(2) {text-align: left ; width: 100%}\n",
              "    .wandb-row { display: flex; flex-direction: row; flex-wrap: wrap; justify-content: flex-start; width: 100% }\n",
              "    .wandb-col { display: flex; flex-direction: column; flex-basis: 100%; flex: 1; padding: 10px; }\n",
              "    </style>\n",
              "<div class=\"wandb-row\"><div class=\"wandb-col\"><h3>Run history:</h3><br/><table class=\"wandb\"><tr><td>accuracy</td><td>▁</td></tr><tr><td>conflict_f1-score</td><td>▁</td></tr><tr><td>conflict_precision</td><td>▁</td></tr><tr><td>conflict_recall</td><td>▁</td></tr><tr><td>no_conflict_f1-score</td><td>▁</td></tr><tr><td>no_conflict_precision</td><td>▁</td></tr><tr><td>no_conflict_recall</td><td>▁</td></tr></table><br/></div><div class=\"wandb-col\"><h3>Run summary:</h3><br/><table class=\"wandb\"><tr><td>accuracy</td><td>0.47778</td></tr><tr><td>conflict_f1-score</td><td>0.45977</td></tr><tr><td>conflict_precision</td><td>0.46512</td></tr><tr><td>conflict_recall</td><td>0.45455</td></tr><tr><td>no_conflict_f1-score</td><td>0.49462</td></tr><tr><td>no_conflict_precision</td><td>0.48936</td></tr><tr><td>no_conflict_recall</td><td>0.5</td></tr></table><br/></div></div>"
            ]
          },
          "metadata": {}
        },
        {
          "output_type": "display_data",
          "data": {
            "text/plain": [
              "<IPython.core.display.HTML object>"
            ],
            "text/html": [
              " View run <strong style=\"color:#cdcd00\">e_0516-2154_audio_eval</strong> at: <a href='https://wandb.ai/lp-ucu/emotion_recognition/runs/ic2bc84r' target=\"_blank\">https://wandb.ai/lp-ucu/emotion_recognition/runs/ic2bc84r</a><br/> View project at: <a href='https://wandb.ai/lp-ucu/emotion_recognition' target=\"_blank\">https://wandb.ai/lp-ucu/emotion_recognition</a><br/>Synced 5 W&B file(s), 1 media file(s), 1 artifact file(s) and 0 other file(s)"
            ]
          },
          "metadata": {}
        },
        {
          "output_type": "display_data",
          "data": {
            "text/plain": [
              "<IPython.core.display.HTML object>"
            ],
            "text/html": [
              "Find logs at: <code>./wandb/run-20240516_215457-ic2bc84r/logs</code>"
            ]
          },
          "metadata": {}
        }
      ],
      "source": [
        "from sklearn.linear_model import LogisticRegression\n",
        "\n",
        "\n",
        "wandb_config['model_name'] = \"LR\"\n",
        "wandb_config['feature_level'] = \"hidden_states\"\n",
        "wandb_config['data'] = \"init_full_1h\"\n",
        "wandb_config['split'] = \"no\"\n",
        "wandb_config['feature_set'] = 'wav2vec2-xls-r-300m_random'\n",
        "\n",
        "clf = make_pipeline(\n",
        "    StandardScaler(),\n",
        "    LogisticRegression(random_state=0),\n",
        ")\n",
        "\n",
        "cross_validation_n_fold(clf, df_file_hs.loc[:,'hs_0':],\n",
        "               df_file_hs['label'], wandb_config)"
      ]
    },
    {
      "cell_type": "code",
      "execution_count": null,
      "metadata": {
        "colab": {
          "base_uri": "https://localhost:8080/",
          "height": 1000,
          "referenced_widgets": [
            "c1a8559c49f746dfac2669bbf7d05a71",
            "95b278371a9c41fca02769e2ade33a77",
            "eb917743439f4f0dbfc816beeced7845",
            "931daeb51d71463083a30c29418d3b65",
            "6f542e7faea8492c95b988738c44df83",
            "afd37805fe02422cb13f7d8e5bcf2912",
            "4cabbb584ff54d8bab9d366ecd1fb247",
            "dbb00c4c0c504fe1bfca16cbbe90148e"
          ]
        },
        "id": "i99AJOOqedJn",
        "outputId": "c8d34481-5e0e-4b1b-c5fa-875981b53b74"
      },
      "outputs": [
        {
          "output_type": "display_data",
          "data": {
            "text/plain": [
              "<IPython.core.display.HTML object>"
            ],
            "text/html": [
              "Tracking run with wandb version 0.17.0"
            ]
          },
          "metadata": {}
        },
        {
          "output_type": "display_data",
          "data": {
            "text/plain": [
              "<IPython.core.display.HTML object>"
            ],
            "text/html": [
              "Run data is saved locally in <code>/content/wandb/run-20240516_215521-rngu3t17</code>"
            ]
          },
          "metadata": {}
        },
        {
          "output_type": "display_data",
          "data": {
            "text/plain": [
              "<IPython.core.display.HTML object>"
            ],
            "text/html": [
              "Syncing run <strong><a href='https://wandb.ai/lp-ucu/emotion_recognition/runs/rngu3t17' target=\"_blank\">e_0516-2155_audio_eval</a></strong> to <a href='https://wandb.ai/lp-ucu/emotion_recognition' target=\"_blank\">Weights & Biases</a> (<a href='https://wandb.me/run' target=\"_blank\">docs</a>)<br/>"
            ]
          },
          "metadata": {}
        },
        {
          "output_type": "display_data",
          "data": {
            "text/plain": [
              "<IPython.core.display.HTML object>"
            ],
            "text/html": [
              " View project at <a href='https://wandb.ai/lp-ucu/emotion_recognition' target=\"_blank\">https://wandb.ai/lp-ucu/emotion_recognition</a>"
            ]
          },
          "metadata": {}
        },
        {
          "output_type": "display_data",
          "data": {
            "text/plain": [
              "<IPython.core.display.HTML object>"
            ],
            "text/html": [
              " View run at <a href='https://wandb.ai/lp-ucu/emotion_recognition/runs/rngu3t17' target=\"_blank\">https://wandb.ai/lp-ucu/emotion_recognition/runs/rngu3t17</a>"
            ]
          },
          "metadata": {}
        },
        {
          "output_type": "stream",
          "name": "stderr",
          "text": [
            "/usr/local/lib/python3.10/dist-packages/sklearn/linear_model/_logistic.py:458: ConvergenceWarning: lbfgs failed to converge (status=1):\n",
            "STOP: TOTAL NO. of ITERATIONS REACHED LIMIT.\n",
            "\n",
            "Increase the number of iterations (max_iter) or scale the data as shown in:\n",
            "    https://scikit-learn.org/stable/modules/preprocessing.html\n",
            "Please also refer to the documentation for alternative solver options:\n",
            "    https://scikit-learn.org/stable/modules/linear_model.html#logistic-regression\n",
            "  n_iter_i = _check_optimize_result(\n",
            "/usr/local/lib/python3.10/dist-packages/sklearn/linear_model/_logistic.py:458: ConvergenceWarning: lbfgs failed to converge (status=1):\n",
            "STOP: TOTAL NO. of ITERATIONS REACHED LIMIT.\n",
            "\n",
            "Increase the number of iterations (max_iter) or scale the data as shown in:\n",
            "    https://scikit-learn.org/stable/modules/preprocessing.html\n",
            "Please also refer to the documentation for alternative solver options:\n",
            "    https://scikit-learn.org/stable/modules/linear_model.html#logistic-regression\n",
            "  n_iter_i = _check_optimize_result(\n",
            "/usr/local/lib/python3.10/dist-packages/sklearn/linear_model/_logistic.py:458: ConvergenceWarning: lbfgs failed to converge (status=1):\n",
            "STOP: TOTAL NO. of ITERATIONS REACHED LIMIT.\n",
            "\n",
            "Increase the number of iterations (max_iter) or scale the data as shown in:\n",
            "    https://scikit-learn.org/stable/modules/preprocessing.html\n",
            "Please also refer to the documentation for alternative solver options:\n",
            "    https://scikit-learn.org/stable/modules/linear_model.html#logistic-regression\n",
            "  n_iter_i = _check_optimize_result(\n"
          ]
        },
        {
          "output_type": "stream",
          "name": "stdout",
          "text": [
            "[[18 26]\n",
            " [27 19]]\n"
          ]
        },
        {
          "output_type": "display_data",
          "data": {
            "text/plain": [
              "<Figure size 640x480 with 2 Axes>"
            ],
            "image/png": "[encoded data removed]"
          },
          "metadata": {}
        },
        {
          "output_type": "stream",
          "name": "stdout",
          "text": [
            "              precision    recall  f1-score   support\n",
            "\n",
            "    conflict       0.40      0.41      0.40        44\n",
            " no-conflict       0.42      0.41      0.42        46\n",
            "\n",
            "    accuracy                           0.41        90\n",
            "   macro avg       0.41      0.41      0.41        90\n",
            "weighted avg       0.41      0.41      0.41        90\n",
            "\n"
          ]
        },
        {
          "output_type": "display_data",
          "data": {
            "text/plain": [
              "VBox(children=(Label(value='0.002 MB of 0.002 MB uploaded\\r'), FloatProgress(value=0.9270101483216238, max=1.0…"
            ],
            "application/vnd.jupyter.widget-view+json": {
              "version_major": 2,
              "version_minor": 0,
              "model_id": "c1a8559c49f746dfac2669bbf7d05a71"
            }
          },
          "metadata": {}
        },
        {
          "output_type": "display_data",
          "data": {
            "text/plain": [
              "<IPython.core.display.HTML object>"
            ],
            "text/html": [
              "<style>\n",
              "    table.wandb td:nth-child(1) { padding: 0 10px; text-align: left ; width: auto;} td:nth-child(2) {text-align: left ; width: 100%}\n",
              "    .wandb-row { display: flex; flex-direction: row; flex-wrap: wrap; justify-content: flex-start; width: 100% }\n",
              "    .wandb-col { display: flex; flex-direction: column; flex-basis: 100%; flex: 1; padding: 10px; }\n",
              "    </style>\n",
              "<div class=\"wandb-row\"><div class=\"wandb-col\"><h3>Run history:</h3><br/><table class=\"wandb\"><tr><td>accuracy</td><td>▁</td></tr><tr><td>conflict_f1-score</td><td>▁</td></tr><tr><td>conflict_precision</td><td>▁</td></tr><tr><td>conflict_recall</td><td>▁</td></tr><tr><td>no_conflict_f1-score</td><td>▁</td></tr><tr><td>no_conflict_precision</td><td>▁</td></tr><tr><td>no_conflict_recall</td><td>▁</td></tr></table><br/></div><div class=\"wandb-col\"><h3>Run summary:</h3><br/><table class=\"wandb\"><tr><td>accuracy</td><td>0.41111</td></tr><tr><td>conflict_f1-score</td><td>0.40449</td></tr><tr><td>conflict_precision</td><td>0.4</td></tr><tr><td>conflict_recall</td><td>0.40909</td></tr><tr><td>no_conflict_f1-score</td><td>0.41758</td></tr><tr><td>no_conflict_precision</td><td>0.42222</td></tr><tr><td>no_conflict_recall</td><td>0.41304</td></tr></table><br/></div></div>"
            ]
          },
          "metadata": {}
        },
        {
          "output_type": "display_data",
          "data": {
            "text/plain": [
              "<IPython.core.display.HTML object>"
            ],
            "text/html": [
              " View run <strong style=\"color:#cdcd00\">e_0516-2155_audio_eval</strong> at: <a href='https://wandb.ai/lp-ucu/emotion_recognition/runs/rngu3t17' target=\"_blank\">https://wandb.ai/lp-ucu/emotion_recognition/runs/rngu3t17</a><br/> View project at: <a href='https://wandb.ai/lp-ucu/emotion_recognition' target=\"_blank\">https://wandb.ai/lp-ucu/emotion_recognition</a><br/>Synced 5 W&B file(s), 1 media file(s), 1 artifact file(s) and 0 other file(s)"
            ]
          },
          "metadata": {}
        },
        {
          "output_type": "display_data",
          "data": {
            "text/plain": [
              "<IPython.core.display.HTML object>"
            ],
            "text/html": [
              "Find logs at: <code>./wandb/run-20240516_215521-rngu3t17/logs</code>"
            ]
          },
          "metadata": {}
        }
      ],
      "source": [
        "from sklearn.linear_model import LogisticRegression\n",
        "\n",
        "\n",
        "wandb_config['model_name'] = \"LR\"\n",
        "wandb_config['feature_level'] = \"extract_features\"\n",
        "wandb_config['data'] = \"init_full_1h\"\n",
        "wandb_config['split'] = \"no\"\n",
        "wandb_config['feature_set'] = 'wav2vec2-xls-r-300m_random'\n",
        "\n",
        "clf = make_pipeline(\n",
        "    StandardScaler(),\n",
        "    LogisticRegression(random_state=0),\n",
        ")\n",
        "\n",
        "cross_validation_n_fold(clf, df_file_ef.loc[:,'ef_0':],\n",
        "               df_file_ef['label'], wandb_config)"
      ]
    },
    {
      "cell_type": "code",
      "execution_count": null,
      "metadata": {
        "colab": {
          "base_uri": "https://localhost:8080/",
          "height": 1000,
          "referenced_widgets": [
            "87ae24f532d14345826975156e716719",
            "cdcf7ddd6ffc4d1887b93af58f72eb46",
            "93b7da6b46b840e3b4844f0319f853d9",
            "c5ed82f2689a4bcfb18bfe51c994c85c",
            "36d69a959f8444779d0ccc0c90c912ab",
            "9ca57d5b248e4319810a2d27b39ac699",
            "7aac23d5da7c4838a86c15800be96135",
            "5e417d99e46343e4bb73b446d99f52db"
          ]
        },
        "id": "H6bhW-jkIJ0y",
        "outputId": "bb19953b-1fd7-4326-9619-7bd46cd7a711"
      },
      "outputs": [
        {
          "output_type": "display_data",
          "data": {
            "text/plain": [
              "<IPython.core.display.HTML object>"
            ],
            "text/html": [
              "Tracking run with wandb version 0.17.0"
            ]
          },
          "metadata": {}
        },
        {
          "output_type": "display_data",
          "data": {
            "text/plain": [
              "<IPython.core.display.HTML object>"
            ],
            "text/html": [
              "Run data is saved locally in <code>/content/wandb/run-20240516_215549-fhpxsfgf</code>"
            ]
          },
          "metadata": {}
        },
        {
          "output_type": "display_data",
          "data": {
            "text/plain": [
              "<IPython.core.display.HTML object>"
            ],
            "text/html": [
              "Syncing run <strong><a href='https://wandb.ai/lp-ucu/emotion_recognition/runs/fhpxsfgf' target=\"_blank\">e_0516-2155_audio_eval</a></strong> to <a href='https://wandb.ai/lp-ucu/emotion_recognition' target=\"_blank\">Weights & Biases</a> (<a href='https://wandb.me/run' target=\"_blank\">docs</a>)<br/>"
            ]
          },
          "metadata": {}
        },
        {
          "output_type": "display_data",
          "data": {
            "text/plain": [
              "<IPython.core.display.HTML object>"
            ],
            "text/html": [
              " View project at <a href='https://wandb.ai/lp-ucu/emotion_recognition' target=\"_blank\">https://wandb.ai/lp-ucu/emotion_recognition</a>"
            ]
          },
          "metadata": {}
        },
        {
          "output_type": "display_data",
          "data": {
            "text/plain": [
              "<IPython.core.display.HTML object>"
            ],
            "text/html": [
              " View run at <a href='https://wandb.ai/lp-ucu/emotion_recognition/runs/fhpxsfgf' target=\"_blank\">https://wandb.ai/lp-ucu/emotion_recognition/runs/fhpxsfgf</a>"
            ]
          },
          "metadata": {}
        },
        {
          "output_type": "stream",
          "name": "stdout",
          "text": [
            "pred_wav2vec2-xls-r-2b_all\n",
            "no-conflict    516\n",
            "conflict        29\n",
            "Name: count, dtype: int64\n",
            "[[10 29]\n",
            " [13 33]]\n"
          ]
        },
        {
          "output_type": "display_data",
          "data": {
            "text/plain": [
              "<Figure size 640x480 with 2 Axes>"
            ],
            "image/png": "[encoded data removed]"
          },
          "metadata": {}
        },
        {
          "output_type": "stream",
          "name": "stdout",
          "text": [
            "              precision    recall  f1-score   support\n",
            "\n",
            "    conflict       0.43      0.26      0.32        39\n",
            " no-conflict       0.53      0.72      0.61        46\n",
            "\n",
            "    accuracy                           0.51        85\n",
            "   macro avg       0.48      0.49      0.47        85\n",
            "weighted avg       0.49      0.51      0.48        85\n",
            "\n"
          ]
        },
        {
          "output_type": "display_data",
          "data": {
            "text/plain": [
              "VBox(children=(Label(value='0.002 MB of 0.002 MB uploaded\\r'), FloatProgress(value=0.927038626609442, max=1.0)…"
            ],
            "application/vnd.jupyter.widget-view+json": {
              "version_major": 2,
              "version_minor": 0,
              "model_id": "87ae24f532d14345826975156e716719"
            }
          },
          "metadata": {}
        },
        {
          "output_type": "display_data",
          "data": {
            "text/plain": [
              "<IPython.core.display.HTML object>"
            ],
            "text/html": [
              "<style>\n",
              "    table.wandb td:nth-child(1) { padding: 0 10px; text-align: left ; width: auto;} td:nth-child(2) {text-align: left ; width: 100%}\n",
              "    .wandb-row { display: flex; flex-direction: row; flex-wrap: wrap; justify-content: flex-start; width: 100% }\n",
              "    .wandb-col { display: flex; flex-direction: column; flex-basis: 100%; flex: 1; padding: 10px; }\n",
              "    </style>\n",
              "<div class=\"wandb-row\"><div class=\"wandb-col\"><h3>Run history:</h3><br/><table class=\"wandb\"><tr><td>accuracy</td><td>▁</td></tr><tr><td>conflict_f1-score</td><td>▁</td></tr><tr><td>conflict_precision</td><td>▁</td></tr><tr><td>conflict_recall</td><td>▁</td></tr><tr><td>no_conflict_f1-score</td><td>▁</td></tr><tr><td>no_conflict_precision</td><td>▁</td></tr><tr><td>no_conflict_recall</td><td>▁</td></tr></table><br/></div><div class=\"wandb-col\"><h3>Run summary:</h3><br/><table class=\"wandb\"><tr><td>accuracy</td><td>0.50588</td></tr><tr><td>conflict_f1-score</td><td>0.32258</td></tr><tr><td>conflict_precision</td><td>0.43478</td></tr><tr><td>conflict_recall</td><td>0.25641</td></tr><tr><td>no_conflict_f1-score</td><td>0.61111</td></tr><tr><td>no_conflict_precision</td><td>0.53226</td></tr><tr><td>no_conflict_recall</td><td>0.71739</td></tr></table><br/></div></div>"
            ]
          },
          "metadata": {}
        },
        {
          "output_type": "display_data",
          "data": {
            "text/plain": [
              "<IPython.core.display.HTML object>"
            ],
            "text/html": [
              " View run <strong style=\"color:#cdcd00\">e_0516-2155_audio_eval</strong> at: <a href='https://wandb.ai/lp-ucu/emotion_recognition/runs/fhpxsfgf' target=\"_blank\">https://wandb.ai/lp-ucu/emotion_recognition/runs/fhpxsfgf</a><br/> View project at: <a href='https://wandb.ai/lp-ucu/emotion_recognition' target=\"_blank\">https://wandb.ai/lp-ucu/emotion_recognition</a><br/>Synced 5 W&B file(s), 1 media file(s), 1 artifact file(s) and 0 other file(s)"
            ]
          },
          "metadata": {}
        },
        {
          "output_type": "display_data",
          "data": {
            "text/plain": [
              "<IPython.core.display.HTML object>"
            ],
            "text/html": [
              "Find logs at: <code>./wandb/run-20240516_215549-fhpxsfgf/logs</code>"
            ]
          },
          "metadata": {}
        }
      ],
      "source": [
        "wandb_config['model_name'] = \"LR\"\n",
        "wandb_config['feature_level'] = \"hidden_states\"\n",
        "wandb_config['data'] = \"init_1h_seg\"\n",
        "wandb_config['split'] = \"per-file-all\"\n",
        "wandb_config['max_iter'] = 1000\n",
        "wandb_config['feature_set'] = 'wav2vec2-xls-r-300m_random'\n",
        "\n",
        "\n",
        "\n",
        "clf = make_pipeline(\n",
        "    StandardScaler(),\n",
        "    LogisticRegression(random_state=0, max_iter=1000),\n",
        ")\n",
        "columns = ['path', 'label'] + list(df_seg_hs.loc[:,'hs_0':].columns)\n",
        "\n",
        "manual_k_fold(clf, df_seg, df_seg_hs[columns], name='pred_wav2vec2-xls-r-2b_all', wandb_config=wandb_config, cv=5)\n"
      ]
    },
    {
      "cell_type": "code",
      "execution_count": null,
      "metadata": {
        "colab": {
          "base_uri": "https://localhost:8080/",
          "height": 1000,
          "referenced_widgets": [
            "3a9d7c3ec67d476592ee2e18109665e5",
            "e8d9d6430bb3450aae10a3985cfab9fa",
            "5a5b892098084c2598c0d733dc5a1366",
            "84c64683754a4655834eec09919fe4f3",
            "381687d4c2f34fa6b28ce1879c4e1371",
            "681eb8c6891c41adb9c2064f4c8b1551",
            "1670f77e35324f18a13d6aa30c13d917",
            "2a90d8a3cd9540a0baae0c9e4ccbbdc5"
          ]
        },
        "id": "zvskjSWjGEWb",
        "outputId": "5321c0f9-e665-4312-99f2-00ffebca5fd2"
      },
      "outputs": [
        {
          "output_type": "display_data",
          "data": {
            "text/plain": [
              "<IPython.core.display.HTML object>"
            ],
            "text/html": [
              "Tracking run with wandb version 0.17.0"
            ]
          },
          "metadata": {}
        },
        {
          "output_type": "display_data",
          "data": {
            "text/plain": [
              "<IPython.core.display.HTML object>"
            ],
            "text/html": [
              "Run data is saved locally in <code>/content/wandb/run-20240516_215623-4lnlc97n</code>"
            ]
          },
          "metadata": {}
        },
        {
          "output_type": "display_data",
          "data": {
            "text/plain": [
              "<IPython.core.display.HTML object>"
            ],
            "text/html": [
              "Syncing run <strong><a href='https://wandb.ai/lp-ucu/emotion_recognition/runs/4lnlc97n' target=\"_blank\">e_0516-2156_audio_eval</a></strong> to <a href='https://wandb.ai/lp-ucu/emotion_recognition' target=\"_blank\">Weights & Biases</a> (<a href='https://wandb.me/run' target=\"_blank\">docs</a>)<br/>"
            ]
          },
          "metadata": {}
        },
        {
          "output_type": "display_data",
          "data": {
            "text/plain": [
              "<IPython.core.display.HTML object>"
            ],
            "text/html": [
              " View project at <a href='https://wandb.ai/lp-ucu/emotion_recognition' target=\"_blank\">https://wandb.ai/lp-ucu/emotion_recognition</a>"
            ]
          },
          "metadata": {}
        },
        {
          "output_type": "display_data",
          "data": {
            "text/plain": [
              "<IPython.core.display.HTML object>"
            ],
            "text/html": [
              " View run at <a href='https://wandb.ai/lp-ucu/emotion_recognition/runs/4lnlc97n' target=\"_blank\">https://wandb.ai/lp-ucu/emotion_recognition/runs/4lnlc97n</a>"
            ]
          },
          "metadata": {}
        },
        {
          "output_type": "stream",
          "name": "stdout",
          "text": [
            "pred_wav2vec2-xls-r-300m_random\n",
            "no-conflict    445\n",
            "conflict       100\n",
            "Name: count, dtype: int64\n",
            "[[22 17]\n",
            " [32 14]]\n"
          ]
        },
        {
          "output_type": "display_data",
          "data": {
            "text/plain": [
              "<Figure size 640x480 with 2 Axes>"
            ],
            "image/png": "[encoded data removed]"
          },
          "metadata": {}
        },
        {
          "output_type": "stream",
          "name": "stdout",
          "text": [
            "              precision    recall  f1-score   support\n",
            "\n",
            "    conflict       0.41      0.56      0.47        39\n",
            " no-conflict       0.45      0.30      0.36        46\n",
            "\n",
            "    accuracy                           0.42        85\n",
            "   macro avg       0.43      0.43      0.42        85\n",
            "weighted avg       0.43      0.42      0.41        85\n",
            "\n"
          ]
        },
        {
          "output_type": "display_data",
          "data": {
            "text/plain": [
              "VBox(children=(Label(value='0.002 MB of 0.002 MB uploaded\\r'), FloatProgress(value=0.927038626609442, max=1.0)…"
            ],
            "application/vnd.jupyter.widget-view+json": {
              "version_major": 2,
              "version_minor": 0,
              "model_id": "3a9d7c3ec67d476592ee2e18109665e5"
            }
          },
          "metadata": {}
        },
        {
          "output_type": "display_data",
          "data": {
            "text/plain": [
              "<IPython.core.display.HTML object>"
            ],
            "text/html": [
              "<style>\n",
              "    table.wandb td:nth-child(1) { padding: 0 10px; text-align: left ; width: auto;} td:nth-child(2) {text-align: left ; width: 100%}\n",
              "    .wandb-row { display: flex; flex-direction: row; flex-wrap: wrap; justify-content: flex-start; width: 100% }\n",
              "    .wandb-col { display: flex; flex-direction: column; flex-basis: 100%; flex: 1; padding: 10px; }\n",
              "    </style>\n",
              "<div class=\"wandb-row\"><div class=\"wandb-col\"><h3>Run history:</h3><br/><table class=\"wandb\"><tr><td>accuracy</td><td>▁</td></tr><tr><td>conflict_f1-score</td><td>▁</td></tr><tr><td>conflict_precision</td><td>▁</td></tr><tr><td>conflict_recall</td><td>▁</td></tr><tr><td>no_conflict_f1-score</td><td>▁</td></tr><tr><td>no_conflict_precision</td><td>▁</td></tr><tr><td>no_conflict_recall</td><td>▁</td></tr></table><br/></div><div class=\"wandb-col\"><h3>Run summary:</h3><br/><table class=\"wandb\"><tr><td>accuracy</td><td>0.42353</td></tr><tr><td>conflict_f1-score</td><td>0.47312</td></tr><tr><td>conflict_precision</td><td>0.40741</td></tr><tr><td>conflict_recall</td><td>0.5641</td></tr><tr><td>no_conflict_f1-score</td><td>0.36364</td></tr><tr><td>no_conflict_precision</td><td>0.45161</td></tr><tr><td>no_conflict_recall</td><td>0.30435</td></tr></table><br/></div></div>"
            ]
          },
          "metadata": {}
        },
        {
          "output_type": "display_data",
          "data": {
            "text/plain": [
              "<IPython.core.display.HTML object>"
            ],
            "text/html": [
              " View run <strong style=\"color:#cdcd00\">e_0516-2156_audio_eval</strong> at: <a href='https://wandb.ai/lp-ucu/emotion_recognition/runs/4lnlc97n' target=\"_blank\">https://wandb.ai/lp-ucu/emotion_recognition/runs/4lnlc97n</a><br/> View project at: <a href='https://wandb.ai/lp-ucu/emotion_recognition' target=\"_blank\">https://wandb.ai/lp-ucu/emotion_recognition</a><br/>Synced 5 W&B file(s), 1 media file(s), 1 artifact file(s) and 0 other file(s)"
            ]
          },
          "metadata": {}
        },
        {
          "output_type": "display_data",
          "data": {
            "text/plain": [
              "<IPython.core.display.HTML object>"
            ],
            "text/html": [
              "Find logs at: <code>./wandb/run-20240516_215623-4lnlc97n/logs</code>"
            ]
          },
          "metadata": {}
        }
      ],
      "source": [
        "wandb_config['model_name'] = \"LR\"\n",
        "wandb_config['feature_level'] = \"extracted_features\"\n",
        "wandb_config['data'] = \"init_1h_seg\"\n",
        "wandb_config['split'] = \"per-file-all\"\n",
        "wandb_config['max_iter'] = 1000\n",
        "wandb_config['feature_set'] = 'wav2vec2-xls-r-300m_random'\n",
        "\n",
        "\n",
        "\n",
        "clf = make_pipeline(\n",
        "    StandardScaler(),\n",
        "    LogisticRegression(random_state=0, max_iter=1000),\n",
        ")\n",
        "columns = ['path', 'label'] + list(df_seg_ef.loc[:,'ef_0':].columns)\n",
        "\n",
        "manual_k_fold(clf, df_seg, df_seg_ef[columns], name='pred_wav2vec2-xls-r-300m_random', wandb_config=wandb_config, cv=5)\n"
      ]
    },
    {
      "cell_type": "code",
      "source": [
        "df_seg_hs_300m.columns"
      ],
      "metadata": {
        "colab": {
          "base_uri": "https://localhost:8080/"
        },
        "id": "0BE8xpVzcxiC",
        "outputId": "0bc11793-b653-45db-f5bf-f1ce2f0582f4"
      },
      "execution_count": null,
      "outputs": [
        {
          "output_type": "execute_result",
          "data": {
            "text/plain": [
              "Index(['Unnamed: 0', 'res_file_name', 'conversation_folder_name',\n",
              "       'emotion_context', 'speaker', 'speech_duration', 'language',\n",
              "       'origin_text', 'emotion_merged', 'label',\n",
              "       ...\n",
              "       'hs_1014', 'hs_1015', 'hs_1016', 'hs_1017', 'hs_1018', 'hs_1019',\n",
              "       'hs_1020', 'hs_1021', 'hs_1022', 'hs_1023'],\n",
              "      dtype='object', length=1036)"
            ]
          },
          "metadata": {},
          "execution_count": 35
        }
      ]
    },
    {
      "cell_type": "code",
      "execution_count": null,
      "metadata": {
        "id": "HjFTJfVMISuI",
        "colab": {
          "base_uri": "https://localhost:8080/",
          "height": 1000,
          "referenced_widgets": [
            "3b720f8d49b24b8092b06afa9c3251a8",
            "a6ce3c2795b94d32b261df056e693df3",
            "ed49eed73a934a61833090f8507ddbcb",
            "afcd82afeb8f4b7280a9b125f0dbed2b",
            "924d039e7cdc4f7484298eabe2d38bc8",
            "19e10b3152f941588244bb33a58cfec8",
            "0b667fb7ea294299868ba1ab7627a986",
            "db9b8d49478c42a6b6092d7f62ebc3ef"
          ]
        },
        "outputId": "bf9ffffb-f4fa-40e9-f0d7-1812a33305c1"
      },
      "outputs": [
        {
          "output_type": "display_data",
          "data": {
            "text/plain": [
              "<IPython.core.display.HTML object>"
            ],
            "text/html": [
              "Tracking run with wandb version 0.17.0"
            ]
          },
          "metadata": {}
        },
        {
          "output_type": "display_data",
          "data": {
            "text/plain": [
              "<IPython.core.display.HTML object>"
            ],
            "text/html": [
              "Run data is saved locally in <code>/content/wandb/run-20240516_215658-rt0haihn</code>"
            ]
          },
          "metadata": {}
        },
        {
          "output_type": "display_data",
          "data": {
            "text/plain": [
              "<IPython.core.display.HTML object>"
            ],
            "text/html": [
              "Syncing run <strong><a href='https://wandb.ai/lp-ucu/emotion_recognition/runs/rt0haihn' target=\"_blank\">e_0516-2156_audio_eval</a></strong> to <a href='https://wandb.ai/lp-ucu/emotion_recognition' target=\"_blank\">Weights & Biases</a> (<a href='https://wandb.me/run' target=\"_blank\">docs</a>)<br/>"
            ]
          },
          "metadata": {}
        },
        {
          "output_type": "display_data",
          "data": {
            "text/plain": [
              "<IPython.core.display.HTML object>"
            ],
            "text/html": [
              " View project at <a href='https://wandb.ai/lp-ucu/emotion_recognition' target=\"_blank\">https://wandb.ai/lp-ucu/emotion_recognition</a>"
            ]
          },
          "metadata": {}
        },
        {
          "output_type": "display_data",
          "data": {
            "text/plain": [
              "<IPython.core.display.HTML object>"
            ],
            "text/html": [
              " View run at <a href='https://wandb.ai/lp-ucu/emotion_recognition/runs/rt0haihn' target=\"_blank\">https://wandb.ai/lp-ucu/emotion_recognition/runs/rt0haihn</a>"
            ]
          },
          "metadata": {}
        },
        {
          "output_type": "stream",
          "name": "stderr",
          "text": [
            "<ipython-input-45-98bb61620475>:28: SettingWithCopyWarning: \n",
            "A value is trying to be set on a copy of a slice from a DataFrame.\n",
            "Try using .loc[row_indexer,col_indexer] = value instead\n",
            "\n",
            "See the caveats in the documentation: https://pandas.pydata.org/pandas-docs/stable/user_guide/indexing.html#returning-a-view-versus-a-copy\n",
            "  df_seg.loc[k_fold.index, name] = pred\n"
          ]
        },
        {
          "output_type": "stream",
          "name": "stdout",
          "text": [
            "pred_wav2vec2-xls-r-300m_random-no-tune_clients\n",
            "no-conflict    300\n",
            "conflict         9\n",
            "Name: count, dtype: int64\n",
            "[[ 6 33]\n",
            " [ 3 42]]\n"
          ]
        },
        {
          "output_type": "display_data",
          "data": {
            "text/plain": [
              "<Figure size 640x480 with 2 Axes>"
            ],
            "image/png": "[encoded data removed]"
          },
          "metadata": {}
        },
        {
          "output_type": "stream",
          "name": "stdout",
          "text": [
            "              precision    recall  f1-score   support\n",
            "\n",
            "    conflict       0.67      0.15      0.25        39\n",
            " no-conflict       0.56      0.93      0.70        45\n",
            "\n",
            "    accuracy                           0.57        84\n",
            "   macro avg       0.61      0.54      0.48        84\n",
            "weighted avg       0.61      0.57      0.49        84\n",
            "\n"
          ]
        },
        {
          "output_type": "display_data",
          "data": {
            "text/plain": [
              "VBox(children=(Label(value='0.002 MB of 0.002 MB uploaded\\r'), FloatProgress(value=0.9276778733385458, max=1.0…"
            ],
            "application/vnd.jupyter.widget-view+json": {
              "version_major": 2,
              "version_minor": 0,
              "model_id": "3b720f8d49b24b8092b06afa9c3251a8"
            }
          },
          "metadata": {}
        },
        {
          "output_type": "display_data",
          "data": {
            "text/plain": [
              "<IPython.core.display.HTML object>"
            ],
            "text/html": [
              "<style>\n",
              "    table.wandb td:nth-child(1) { padding: 0 10px; text-align: left ; width: auto;} td:nth-child(2) {text-align: left ; width: 100%}\n",
              "    .wandb-row { display: flex; flex-direction: row; flex-wrap: wrap; justify-content: flex-start; width: 100% }\n",
              "    .wandb-col { display: flex; flex-direction: column; flex-basis: 100%; flex: 1; padding: 10px; }\n",
              "    </style>\n",
              "<div class=\"wandb-row\"><div class=\"wandb-col\"><h3>Run history:</h3><br/><table class=\"wandb\"><tr><td>accuracy</td><td>▁</td></tr><tr><td>conflict_f1-score</td><td>▁</td></tr><tr><td>conflict_precision</td><td>▁</td></tr><tr><td>conflict_recall</td><td>▁</td></tr><tr><td>no_conflict_f1-score</td><td>▁</td></tr><tr><td>no_conflict_precision</td><td>▁</td></tr><tr><td>no_conflict_recall</td><td>▁</td></tr></table><br/></div><div class=\"wandb-col\"><h3>Run summary:</h3><br/><table class=\"wandb\"><tr><td>accuracy</td><td>0.57143</td></tr><tr><td>conflict_f1-score</td><td>0.25</td></tr><tr><td>conflict_precision</td><td>0.66667</td></tr><tr><td>conflict_recall</td><td>0.15385</td></tr><tr><td>no_conflict_f1-score</td><td>0.7</td></tr><tr><td>no_conflict_precision</td><td>0.56</td></tr><tr><td>no_conflict_recall</td><td>0.93333</td></tr></table><br/></div></div>"
            ]
          },
          "metadata": {}
        },
        {
          "output_type": "display_data",
          "data": {
            "text/plain": [
              "<IPython.core.display.HTML object>"
            ],
            "text/html": [
              " View run <strong style=\"color:#cdcd00\">e_0516-2156_audio_eval</strong> at: <a href='https://wandb.ai/lp-ucu/emotion_recognition/runs/rt0haihn' target=\"_blank\">https://wandb.ai/lp-ucu/emotion_recognition/runs/rt0haihn</a><br/> View project at: <a href='https://wandb.ai/lp-ucu/emotion_recognition' target=\"_blank\">https://wandb.ai/lp-ucu/emotion_recognition</a><br/>Synced 5 W&B file(s), 1 media file(s), 1 artifact file(s) and 0 other file(s)"
            ]
          },
          "metadata": {}
        },
        {
          "output_type": "display_data",
          "data": {
            "text/plain": [
              "<IPython.core.display.HTML object>"
            ],
            "text/html": [
              "Find logs at: <code>./wandb/run-20240516_215658-rt0haihn/logs</code>"
            ]
          },
          "metadata": {}
        }
      ],
      "source": [
        "wandb_config['model_name'] = \"LR\"\n",
        "wandb_config['feature_level'] = \"hidden_states\"\n",
        "wandb_config['data'] = \"init_1h_seg\"\n",
        "wandb_config['split'] = \"per-file-clients-only\"\n",
        "wandb_config['max_iter'] = 1000\n",
        "wandb_config['feature_set'] = 'wav2vec2-xls-r-300m_random'\n",
        "\n",
        "\n",
        "\n",
        "clf = make_pipeline(\n",
        "    StandardScaler(),\n",
        "    LogisticRegression(random_state=0, max_iter=1000),\n",
        ")\n",
        "columns = ['path', 'label'] + list(df_seg_hs.loc[:,'hs_0':].columns)\n",
        "\n",
        "manual_k_fold(clf, df_seg[df_seg['speaker'] != 's'], df_seg_hs[columns], name='pred_wav2vec2-xls-r-300m_random-no-tune_clients', wandb_config=wandb_config, cv=5)\n"
      ]
    },
    {
      "cell_type": "code",
      "source": [
        "wandb_config['model_name'] = \"LR\"\n",
        "wandb_config['feature_level'] = \"extracted_features\"\n",
        "wandb_config['data'] = \"init_1h_seg\"\n",
        "wandb_config['split'] = \"per-file-clients-only\"\n",
        "wandb_config['max_iter'] = 1000\n",
        "wandb_config['feature_set'] = 'wav2vec2-xls-r-300m_random'\n",
        "\n",
        "\n",
        "\n",
        "clf = make_pipeline(\n",
        "    StandardScaler(),\n",
        "    LogisticRegression(random_state=0, max_iter=1000),\n",
        ")\n",
        "columns = ['path', 'label'] + list(df_seg_ef.loc[:,'ef_0':].columns)\n",
        "\n",
        "manual_k_fold(clf, df_seg[df_seg['speaker'] != 's'], df_seg_ef[columns], name='pred_wav2vec2-xls-r-300m_random-no-tune_clients', wandb_config=wandb_config, cv=5)\n"
      ],
      "metadata": {
        "colab": {
          "base_uri": "https://localhost:8080/",
          "height": 1000,
          "referenced_widgets": [
            "6100ec2995e749af9b26886a3f64277e",
            "00b153a6d80148858b6ce3b2dab00795",
            "d61a5d9ea517468cba6d3231303c33dc",
            "c640060e1df1404d800ad49ee9d7ead9",
            "b24d62e3eda34797bf12e175a12f194f",
            "9811c13228bc4c51bbe4fc8329b6caf5",
            "634fd57e8ee1472d91d1bf2ac303a476",
            "1961f7ad55834e919bb18a815c67dc1e"
          ]
        },
        "id": "ybIyf_0hb_Yz",
        "outputId": "c49a723e-dd73-4bce-c0ed-5d79f0109cfc"
      },
      "execution_count": null,
      "outputs": [
        {
          "output_type": "display_data",
          "data": {
            "text/plain": [
              "<IPython.core.display.HTML object>"
            ],
            "text/html": [
              "Tracking run with wandb version 0.17.0"
            ]
          },
          "metadata": {}
        },
        {
          "output_type": "display_data",
          "data": {
            "text/plain": [
              "<IPython.core.display.HTML object>"
            ],
            "text/html": [
              "Run data is saved locally in <code>/content/wandb/run-20240516_215732-p4i6c1lh</code>"
            ]
          },
          "metadata": {}
        },
        {
          "output_type": "display_data",
          "data": {
            "text/plain": [
              "<IPython.core.display.HTML object>"
            ],
            "text/html": [
              "Syncing run <strong><a href='https://wandb.ai/lp-ucu/emotion_recognition/runs/p4i6c1lh' target=\"_blank\">e_0516-2157_audio_eval</a></strong> to <a href='https://wandb.ai/lp-ucu/emotion_recognition' target=\"_blank\">Weights & Biases</a> (<a href='https://wandb.me/run' target=\"_blank\">docs</a>)<br/>"
            ]
          },
          "metadata": {}
        },
        {
          "output_type": "display_data",
          "data": {
            "text/plain": [
              "<IPython.core.display.HTML object>"
            ],
            "text/html": [
              " View project at <a href='https://wandb.ai/lp-ucu/emotion_recognition' target=\"_blank\">https://wandb.ai/lp-ucu/emotion_recognition</a>"
            ]
          },
          "metadata": {}
        },
        {
          "output_type": "display_data",
          "data": {
            "text/plain": [
              "<IPython.core.display.HTML object>"
            ],
            "text/html": [
              " View run at <a href='https://wandb.ai/lp-ucu/emotion_recognition/runs/p4i6c1lh' target=\"_blank\">https://wandb.ai/lp-ucu/emotion_recognition/runs/p4i6c1lh</a>"
            ]
          },
          "metadata": {}
        },
        {
          "output_type": "stream",
          "name": "stderr",
          "text": [
            "<ipython-input-45-98bb61620475>:28: SettingWithCopyWarning: \n",
            "A value is trying to be set on a copy of a slice from a DataFrame.\n",
            "Try using .loc[row_indexer,col_indexer] = value instead\n",
            "\n",
            "See the caveats in the documentation: https://pandas.pydata.org/pandas-docs/stable/user_guide/indexing.html#returning-a-view-versus-a-copy\n",
            "  df_seg.loc[k_fold.index, name] = pred\n"
          ]
        },
        {
          "output_type": "stream",
          "name": "stdout",
          "text": [
            "pred_wav2vec2-xls-r-300m_random-no-tune_clients\n",
            "no-conflict    251\n",
            "conflict        58\n",
            "Name: count, dtype: int64\n",
            "[[17 22]\n",
            " [25 20]]\n"
          ]
        },
        {
          "output_type": "display_data",
          "data": {
            "text/plain": [
              "<Figure size 640x480 with 2 Axes>"
            ],
            "image/png": "[encoded data removed]"
          },
          "metadata": {}
        },
        {
          "output_type": "stream",
          "name": "stdout",
          "text": [
            "              precision    recall  f1-score   support\n",
            "\n",
            "    conflict       0.40      0.44      0.42        39\n",
            " no-conflict       0.48      0.44      0.46        45\n",
            "\n",
            "    accuracy                           0.44        84\n",
            "   macro avg       0.44      0.44      0.44        84\n",
            "weighted avg       0.44      0.44      0.44        84\n",
            "\n"
          ]
        },
        {
          "output_type": "display_data",
          "data": {
            "text/plain": [
              "VBox(children=(Label(value='0.002 MB of 0.002 MB uploaded\\r'), FloatProgress(value=0.9270101483216238, max=1.0…"
            ],
            "application/vnd.jupyter.widget-view+json": {
              "version_major": 2,
              "version_minor": 0,
              "model_id": "6100ec2995e749af9b26886a3f64277e"
            }
          },
          "metadata": {}
        },
        {
          "output_type": "display_data",
          "data": {
            "text/plain": [
              "<IPython.core.display.HTML object>"
            ],
            "text/html": [
              "<style>\n",
              "    table.wandb td:nth-child(1) { padding: 0 10px; text-align: left ; width: auto;} td:nth-child(2) {text-align: left ; width: 100%}\n",
              "    .wandb-row { display: flex; flex-direction: row; flex-wrap: wrap; justify-content: flex-start; width: 100% }\n",
              "    .wandb-col { display: flex; flex-direction: column; flex-basis: 100%; flex: 1; padding: 10px; }\n",
              "    </style>\n",
              "<div class=\"wandb-row\"><div class=\"wandb-col\"><h3>Run history:</h3><br/><table class=\"wandb\"><tr><td>accuracy</td><td>▁</td></tr><tr><td>conflict_f1-score</td><td>▁</td></tr><tr><td>conflict_precision</td><td>▁</td></tr><tr><td>conflict_recall</td><td>▁</td></tr><tr><td>no_conflict_f1-score</td><td>▁</td></tr><tr><td>no_conflict_precision</td><td>▁</td></tr><tr><td>no_conflict_recall</td><td>▁</td></tr></table><br/></div><div class=\"wandb-col\"><h3>Run summary:</h3><br/><table class=\"wandb\"><tr><td>accuracy</td><td>0.44048</td></tr><tr><td>conflict_f1-score</td><td>0.41975</td></tr><tr><td>conflict_precision</td><td>0.40476</td></tr><tr><td>conflict_recall</td><td>0.4359</td></tr><tr><td>no_conflict_f1-score</td><td>0.45977</td></tr><tr><td>no_conflict_precision</td><td>0.47619</td></tr><tr><td>no_conflict_recall</td><td>0.44444</td></tr></table><br/></div></div>"
            ]
          },
          "metadata": {}
        },
        {
          "output_type": "display_data",
          "data": {
            "text/plain": [
              "<IPython.core.display.HTML object>"
            ],
            "text/html": [
              " View run <strong style=\"color:#cdcd00\">e_0516-2157_audio_eval</strong> at: <a href='https://wandb.ai/lp-ucu/emotion_recognition/runs/p4i6c1lh' target=\"_blank\">https://wandb.ai/lp-ucu/emotion_recognition/runs/p4i6c1lh</a><br/> View project at: <a href='https://wandb.ai/lp-ucu/emotion_recognition' target=\"_blank\">https://wandb.ai/lp-ucu/emotion_recognition</a><br/>Synced 5 W&B file(s), 1 media file(s), 1 artifact file(s) and 0 other file(s)"
            ]
          },
          "metadata": {}
        },
        {
          "output_type": "display_data",
          "data": {
            "text/plain": [
              "<IPython.core.display.HTML object>"
            ],
            "text/html": [
              "Find logs at: <code>./wandb/run-20240516_215732-p4i6c1lh/logs</code>"
            ]
          },
          "metadata": {}
        }
      ]
    }
  ],
  "metadata": {
    "colab": {
      "machine_shape": "hm",
      "toc_visible": true,
      "provenance": []
    },
    "kernelspec": {
      "display_name": "Python 3",
      "name": "python3"
    },
    "language_info": {
      "name": "python"
    },
    "widgets": {
      "application/vnd.jupyter.widget-state+json": {
        "143fc0da1bca42138587128eb52160bb": {
          "model_module": "@jupyter-widgets/controls",
          "model_module_version": "1.5.0",
          "model_name": "DescriptionStyleModel",
          "state": {
            "_model_module": "@jupyter-widgets/controls",
            "_model_module_version": "1.5.0",
            "_model_name": "DescriptionStyleModel",
            "_view_count": null,
            "_view_module": "@jupyter-widgets/base",
            "_view_module_version": "1.2.0",
            "_view_name": "StyleView",
            "description_width": ""
          }
        },
        "1ecc558615fd43a398f595b6d03a2f0a": {
          "model_module": "@jupyter-widgets/controls",
          "model_module_version": "1.5.0",
          "model_name": "LabelModel",
          "state": {
            "_dom_classes": [],
            "_model_module": "@jupyter-widgets/controls",
            "_model_module_version": "1.5.0",
            "_model_name": "LabelModel",
            "_view_count": null,
            "_view_module": "@jupyter-widgets/controls",
            "_view_module_version": "1.5.0",
            "_view_name": "LabelView",
            "description": "",
            "description_tooltip": null,
            "layout": "IPY_MODEL_b8cfd58a269f4047a4ad95da50c32e62",
            "placeholder": "​",
            "style": "IPY_MODEL_b006a97ab181482d975d1d14bc761ccd",
            "value": "0.013 MB of 0.013 MB uploaded\r"
          }
        },
        "2355e428950742f7a84200262ab78207": {
          "model_module": "@jupyter-widgets/controls",
          "model_module_version": "1.5.0",
          "model_name": "DescriptionStyleModel",
          "state": {
            "_model_module": "@jupyter-widgets/controls",
            "_model_module_version": "1.5.0",
            "_model_name": "DescriptionStyleModel",
            "_view_count": null,
            "_view_module": "@jupyter-widgets/base",
            "_view_module_version": "1.2.0",
            "_view_name": "StyleView",
            "description_width": ""
          }
        },
        "29fa05c7a9b34155a449c18186a91474": {
          "model_module": "@jupyter-widgets/controls",
          "model_module_version": "1.5.0",
          "model_name": "LabelModel",
          "state": {
            "_dom_classes": [],
            "_model_module": "@jupyter-widgets/controls",
            "_model_module_version": "1.5.0",
            "_model_name": "LabelModel",
            "_view_count": null,
            "_view_module": "@jupyter-widgets/controls",
            "_view_module_version": "1.5.0",
            "_view_name": "LabelView",
            "description": "",
            "description_tooltip": null,
            "layout": "IPY_MODEL_6c31735e5a1b422482d178f19b3a621e",
            "placeholder": "​",
            "style": "IPY_MODEL_90240a0e7cd44fcb89039591bd2d8ae6",
            "value": "0.014 MB of 0.014 MB uploaded\r"
          }
        },
        "2a86bdbd806b4675a8c5bcf3ed7acdfe": {
          "model_module": "@jupyter-widgets/base",
          "model_module_version": "1.2.0",
          "model_name": "LayoutModel",
          "state": {
            "_model_module": "@jupyter-widgets/base",
            "_model_module_version": "1.2.0",
            "_model_name": "LayoutModel",
            "_view_count": null,
            "_view_module": "@jupyter-widgets/base",
            "_view_module_version": "1.2.0",
            "_view_name": "LayoutView",
            "align_content": null,
            "align_items": null,
            "align_self": null,
            "border": null,
            "bottom": null,
            "display": null,
            "flex": null,
            "flex_flow": null,
            "grid_area": null,
            "grid_auto_columns": null,
            "grid_auto_flow": null,
            "grid_auto_rows": null,
            "grid_column": null,
            "grid_gap": null,
            "grid_row": null,
            "grid_template_areas": null,
            "grid_template_columns": null,
            "grid_template_rows": null,
            "height": null,
            "justify_content": null,
            "justify_items": null,
            "left": null,
            "margin": null,
            "max_height": null,
            "max_width": null,
            "min_height": null,
            "min_width": null,
            "object_fit": null,
            "object_position": null,
            "order": null,
            "overflow": null,
            "overflow_x": null,
            "overflow_y": null,
            "padding": null,
            "right": null,
            "top": null,
            "visibility": null,
            "width": null
          }
        },
        "32c143d3b437402b91086fafa5dcfbc8": {
          "model_module": "@jupyter-widgets/controls",
          "model_module_version": "1.5.0",
          "model_name": "VBoxModel",
          "state": {
            "_dom_classes": [],
            "_model_module": "@jupyter-widgets/controls",
            "_model_module_version": "1.5.0",
            "_model_name": "VBoxModel",
            "_view_count": null,
            "_view_module": "@jupyter-widgets/controls",
            "_view_module_version": "1.5.0",
            "_view_name": "VBoxView",
            "box_style": "",
            "children": [
              "IPY_MODEL_4d9dec65f1154e6ab7eb4b3fd545a67a",
              "IPY_MODEL_55682b54fb1a4460953c13022b4a9b4d"
            ],
            "layout": "IPY_MODEL_e4efd54a5e2b4ac49920f541551828f8"
          }
        },
        "32dbe5299a2347c1b049fcb7105de362": {
          "model_module": "@jupyter-widgets/controls",
          "model_module_version": "1.5.0",
          "model_name": "LabelModel",
          "state": {
            "_dom_classes": [],
            "_model_module": "@jupyter-widgets/controls",
            "_model_module_version": "1.5.0",
            "_model_name": "LabelModel",
            "_view_count": null,
            "_view_module": "@jupyter-widgets/controls",
            "_view_module_version": "1.5.0",
            "_view_name": "LabelView",
            "description": "",
            "description_tooltip": null,
            "layout": "IPY_MODEL_8b320d98c7e14dbab5d48d55c3b30aa1",
            "placeholder": "​",
            "style": "IPY_MODEL_531605dccc294e128b13aee8cbb90421",
            "value": "0.013 MB of 0.013 MB uploaded\r"
          }
        },
        "388a58e82f6540629e3b06b9a5181d91": {
          "model_module": "@jupyter-widgets/base",
          "model_module_version": "1.2.0",
          "model_name": "LayoutModel",
          "state": {
            "_model_module": "@jupyter-widgets/base",
            "_model_module_version": "1.2.0",
            "_model_name": "LayoutModel",
            "_view_count": null,
            "_view_module": "@jupyter-widgets/base",
            "_view_module_version": "1.2.0",
            "_view_name": "LayoutView",
            "align_content": null,
            "align_items": null,
            "align_self": null,
            "border": null,
            "bottom": null,
            "display": null,
            "flex": null,
            "flex_flow": null,
            "grid_area": null,
            "grid_auto_columns": null,
            "grid_auto_flow": null,
            "grid_auto_rows": null,
            "grid_column": null,
            "grid_gap": null,
            "grid_row": null,
            "grid_template_areas": null,
            "grid_template_columns": null,
            "grid_template_rows": null,
            "height": null,
            "justify_content": null,
            "justify_items": null,
            "left": null,
            "margin": null,
            "max_height": null,
            "max_width": null,
            "min_height": null,
            "min_width": null,
            "object_fit": null,
            "object_position": null,
            "order": null,
            "overflow": null,
            "overflow_x": null,
            "overflow_y": null,
            "padding": null,
            "right": null,
            "top": null,
            "visibility": null,
            "width": null
          }
        },
        "3f4e12ce5cac47f1b09b0395bae4e1d2": {
          "model_module": "@jupyter-widgets/controls",
          "model_module_version": "1.5.0",
          "model_name": "FloatProgressModel",
          "state": {
            "_dom_classes": [],
            "_model_module": "@jupyter-widgets/controls",
            "_model_module_version": "1.5.0",
            "_model_name": "FloatProgressModel",
            "_view_count": null,
            "_view_module": "@jupyter-widgets/controls",
            "_view_module_version": "1.5.0",
            "_view_name": "ProgressView",
            "bar_style": "",
            "description": "",
            "description_tooltip": null,
            "layout": "IPY_MODEL_5cf1c2aaabdb4972ad3fa86eb5c6aa3d",
            "max": 1,
            "min": 0,
            "orientation": "horizontal",
            "style": "IPY_MODEL_8d7004d49e0147b8a4d43420b02f4d2e",
            "value": 1
          }
        },
        "451cf3b1b7364e3685ba6fe78fe01436": {
          "model_module": "@jupyter-widgets/base",
          "model_module_version": "1.2.0",
          "model_name": "LayoutModel",
          "state": {
            "_model_module": "@jupyter-widgets/base",
            "_model_module_version": "1.2.0",
            "_model_name": "LayoutModel",
            "_view_count": null,
            "_view_module": "@jupyter-widgets/base",
            "_view_module_version": "1.2.0",
            "_view_name": "LayoutView",
            "align_content": null,
            "align_items": null,
            "align_self": null,
            "border": null,
            "bottom": null,
            "display": null,
            "flex": null,
            "flex_flow": null,
            "grid_area": null,
            "grid_auto_columns": null,
            "grid_auto_flow": null,
            "grid_auto_rows": null,
            "grid_column": null,
            "grid_gap": null,
            "grid_row": null,
            "grid_template_areas": null,
            "grid_template_columns": null,
            "grid_template_rows": null,
            "height": null,
            "justify_content": null,
            "justify_items": null,
            "left": null,
            "margin": null,
            "max_height": null,
            "max_width": null,
            "min_height": null,
            "min_width": null,
            "object_fit": null,
            "object_position": null,
            "order": null,
            "overflow": null,
            "overflow_x": null,
            "overflow_y": null,
            "padding": null,
            "right": null,
            "top": null,
            "visibility": null,
            "width": null
          }
        },
        "47dc384c2e7e47dea659ff65aa5827a4": {
          "model_module": "@jupyter-widgets/controls",
          "model_module_version": "1.5.0",
          "model_name": "ProgressStyleModel",
          "state": {
            "_model_module": "@jupyter-widgets/controls",
            "_model_module_version": "1.5.0",
            "_model_name": "ProgressStyleModel",
            "_view_count": null,
            "_view_module": "@jupyter-widgets/base",
            "_view_module_version": "1.2.0",
            "_view_name": "StyleView",
            "bar_color": null,
            "description_width": ""
          }
        },
        "4d9dec65f1154e6ab7eb4b3fd545a67a": {
          "model_module": "@jupyter-widgets/controls",
          "model_module_version": "1.5.0",
          "model_name": "LabelModel",
          "state": {
            "_dom_classes": [],
            "_model_module": "@jupyter-widgets/controls",
            "_model_module_version": "1.5.0",
            "_model_name": "LabelModel",
            "_view_count": null,
            "_view_module": "@jupyter-widgets/controls",
            "_view_module_version": "1.5.0",
            "_view_name": "LabelView",
            "description": "",
            "description_tooltip": null,
            "layout": "IPY_MODEL_a72eb3dd1a8e41969ef1d6102524e5fc",
            "placeholder": "​",
            "style": "IPY_MODEL_2355e428950742f7a84200262ab78207",
            "value": "0.013 MB of 0.013 MB uploaded\r"
          }
        },
        "4ed73860001a4ec98382e7c9010492e8": {
          "model_module": "@jupyter-widgets/controls",
          "model_module_version": "1.5.0",
          "model_name": "FloatProgressModel",
          "state": {
            "_dom_classes": [],
            "_model_module": "@jupyter-widgets/controls",
            "_model_module_version": "1.5.0",
            "_model_name": "FloatProgressModel",
            "_view_count": null,
            "_view_module": "@jupyter-widgets/controls",
            "_view_module_version": "1.5.0",
            "_view_name": "ProgressView",
            "bar_style": "",
            "description": "",
            "description_tooltip": null,
            "layout": "IPY_MODEL_451cf3b1b7364e3685ba6fe78fe01436",
            "max": 1,
            "min": 0,
            "orientation": "horizontal",
            "style": "IPY_MODEL_9f85d9fb3b5f4e60a9a507434c54b028",
            "value": 1
          }
        },
        "531605dccc294e128b13aee8cbb90421": {
          "model_module": "@jupyter-widgets/controls",
          "model_module_version": "1.5.0",
          "model_name": "DescriptionStyleModel",
          "state": {
            "_model_module": "@jupyter-widgets/controls",
            "_model_module_version": "1.5.0",
            "_model_name": "DescriptionStyleModel",
            "_view_count": null,
            "_view_module": "@jupyter-widgets/base",
            "_view_module_version": "1.2.0",
            "_view_name": "StyleView",
            "description_width": ""
          }
        },
        "55682b54fb1a4460953c13022b4a9b4d": {
          "model_module": "@jupyter-widgets/controls",
          "model_module_version": "1.5.0",
          "model_name": "FloatProgressModel",
          "state": {
            "_dom_classes": [],
            "_model_module": "@jupyter-widgets/controls",
            "_model_module_version": "1.5.0",
            "_model_name": "FloatProgressModel",
            "_view_count": null,
            "_view_module": "@jupyter-widgets/controls",
            "_view_module_version": "1.5.0",
            "_view_name": "ProgressView",
            "bar_style": "",
            "description": "",
            "description_tooltip": null,
            "layout": "IPY_MODEL_d588e3125c0a4dcf956db5a7b03a22a8",
            "max": 1,
            "min": 0,
            "orientation": "horizontal",
            "style": "IPY_MODEL_7dd21af1cb394ecd9540f326303a734b",
            "value": 1
          }
        },
        "5620b4b6919a4782b646fccad898dfe8": {
          "model_module": "@jupyter-widgets/controls",
          "model_module_version": "1.5.0",
          "model_name": "ProgressStyleModel",
          "state": {
            "_model_module": "@jupyter-widgets/controls",
            "_model_module_version": "1.5.0",
            "_model_name": "ProgressStyleModel",
            "_view_count": null,
            "_view_module": "@jupyter-widgets/base",
            "_view_module_version": "1.2.0",
            "_view_name": "StyleView",
            "bar_color": null,
            "description_width": ""
          }
        },
        "59ebf4cb93d24ae49038ad1666914bdb": {
          "model_module": "@jupyter-widgets/controls",
          "model_module_version": "1.5.0",
          "model_name": "FloatProgressModel",
          "state": {
            "_dom_classes": [],
            "_model_module": "@jupyter-widgets/controls",
            "_model_module_version": "1.5.0",
            "_model_name": "FloatProgressModel",
            "_view_count": null,
            "_view_module": "@jupyter-widgets/controls",
            "_view_module_version": "1.5.0",
            "_view_name": "ProgressView",
            "bar_style": "",
            "description": "",
            "description_tooltip": null,
            "layout": "IPY_MODEL_6957fdbd6343479b8679d85a84e22fa9",
            "max": 1,
            "min": 0,
            "orientation": "horizontal",
            "style": "IPY_MODEL_80ae456f56854c76bb3883e393eea344",
            "value": 1
          }
        },
        "5cf1c2aaabdb4972ad3fa86eb5c6aa3d": {
          "model_module": "@jupyter-widgets/base",
          "model_module_version": "1.2.0",
          "model_name": "LayoutModel",
          "state": {
            "_model_module": "@jupyter-widgets/base",
            "_model_module_version": "1.2.0",
            "_model_name": "LayoutModel",
            "_view_count": null,
            "_view_module": "@jupyter-widgets/base",
            "_view_module_version": "1.2.0",
            "_view_name": "LayoutView",
            "align_content": null,
            "align_items": null,
            "align_self": null,
            "border": null,
            "bottom": null,
            "display": null,
            "flex": null,
            "flex_flow": null,
            "grid_area": null,
            "grid_auto_columns": null,
            "grid_auto_flow": null,
            "grid_auto_rows": null,
            "grid_column": null,
            "grid_gap": null,
            "grid_row": null,
            "grid_template_areas": null,
            "grid_template_columns": null,
            "grid_template_rows": null,
            "height": null,
            "justify_content": null,
            "justify_items": null,
            "left": null,
            "margin": null,
            "max_height": null,
            "max_width": null,
            "min_height": null,
            "min_width": null,
            "object_fit": null,
            "object_position": null,
            "order": null,
            "overflow": null,
            "overflow_x": null,
            "overflow_y": null,
            "padding": null,
            "right": null,
            "top": null,
            "visibility": null,
            "width": null
          }
        },
        "66298c93a9a648798d005e83de30e3c5": {
          "model_module": "@jupyter-widgets/base",
          "model_module_version": "1.2.0",
          "model_name": "LayoutModel",
          "state": {
            "_model_module": "@jupyter-widgets/base",
            "_model_module_version": "1.2.0",
            "_model_name": "LayoutModel",
            "_view_count": null,
            "_view_module": "@jupyter-widgets/base",
            "_view_module_version": "1.2.0",
            "_view_name": "LayoutView",
            "align_content": null,
            "align_items": null,
            "align_self": null,
            "border": null,
            "bottom": null,
            "display": null,
            "flex": null,
            "flex_flow": null,
            "grid_area": null,
            "grid_auto_columns": null,
            "grid_auto_flow": null,
            "grid_auto_rows": null,
            "grid_column": null,
            "grid_gap": null,
            "grid_row": null,
            "grid_template_areas": null,
            "grid_template_columns": null,
            "grid_template_rows": null,
            "height": null,
            "justify_content": null,
            "justify_items": null,
            "left": null,
            "margin": null,
            "max_height": null,
            "max_width": null,
            "min_height": null,
            "min_width": null,
            "object_fit": null,
            "object_position": null,
            "order": null,
            "overflow": null,
            "overflow_x": null,
            "overflow_y": null,
            "padding": null,
            "right": null,
            "top": null,
            "visibility": null,
            "width": null
          }
        },
        "6957fdbd6343479b8679d85a84e22fa9": {
          "model_module": "@jupyter-widgets/base",
          "model_module_version": "1.2.0",
          "model_name": "LayoutModel",
          "state": {
            "_model_module": "@jupyter-widgets/base",
            "_model_module_version": "1.2.0",
            "_model_name": "LayoutModel",
            "_view_count": null,
            "_view_module": "@jupyter-widgets/base",
            "_view_module_version": "1.2.0",
            "_view_name": "LayoutView",
            "align_content": null,
            "align_items": null,
            "align_self": null,
            "border": null,
            "bottom": null,
            "display": null,
            "flex": null,
            "flex_flow": null,
            "grid_area": null,
            "grid_auto_columns": null,
            "grid_auto_flow": null,
            "grid_auto_rows": null,
            "grid_column": null,
            "grid_gap": null,
            "grid_row": null,
            "grid_template_areas": null,
            "grid_template_columns": null,
            "grid_template_rows": null,
            "height": null,
            "justify_content": null,
            "justify_items": null,
            "left": null,
            "margin": null,
            "max_height": null,
            "max_width": null,
            "min_height": null,
            "min_width": null,
            "object_fit": null,
            "object_position": null,
            "order": null,
            "overflow": null,
            "overflow_x": null,
            "overflow_y": null,
            "padding": null,
            "right": null,
            "top": null,
            "visibility": null,
            "width": null
          }
        },
        "6a492e28c7eb4f918827a2a46cc40364": {
          "model_module": "@jupyter-widgets/controls",
          "model_module_version": "1.5.0",
          "model_name": "VBoxModel",
          "state": {
            "_dom_classes": [],
            "_model_module": "@jupyter-widgets/controls",
            "_model_module_version": "1.5.0",
            "_model_name": "VBoxModel",
            "_view_count": null,
            "_view_module": "@jupyter-widgets/controls",
            "_view_module_version": "1.5.0",
            "_view_name": "VBoxView",
            "box_style": "",
            "children": [
              "IPY_MODEL_9ddd7be292ca42cca40e105afb68fe10",
              "IPY_MODEL_4ed73860001a4ec98382e7c9010492e8"
            ],
            "layout": "IPY_MODEL_66298c93a9a648798d005e83de30e3c5"
          }
        },
        "6c31735e5a1b422482d178f19b3a621e": {
          "model_module": "@jupyter-widgets/base",
          "model_module_version": "1.2.0",
          "model_name": "LayoutModel",
          "state": {
            "_model_module": "@jupyter-widgets/base",
            "_model_module_version": "1.2.0",
            "_model_name": "LayoutModel",
            "_view_count": null,
            "_view_module": "@jupyter-widgets/base",
            "_view_module_version": "1.2.0",
            "_view_name": "LayoutView",
            "align_content": null,
            "align_items": null,
            "align_self": null,
            "border": null,
            "bottom": null,
            "display": null,
            "flex": null,
            "flex_flow": null,
            "grid_area": null,
            "grid_auto_columns": null,
            "grid_auto_flow": null,
            "grid_auto_rows": null,
            "grid_column": null,
            "grid_gap": null,
            "grid_row": null,
            "grid_template_areas": null,
            "grid_template_columns": null,
            "grid_template_rows": null,
            "height": null,
            "justify_content": null,
            "justify_items": null,
            "left": null,
            "margin": null,
            "max_height": null,
            "max_width": null,
            "min_height": null,
            "min_width": null,
            "object_fit": null,
            "object_position": null,
            "order": null,
            "overflow": null,
            "overflow_x": null,
            "overflow_y": null,
            "padding": null,
            "right": null,
            "top": null,
            "visibility": null,
            "width": null
          }
        },
        "7309c202d0614e79985c0ac4d897d98a": {
          "model_module": "@jupyter-widgets/base",
          "model_module_version": "1.2.0",
          "model_name": "LayoutModel",
          "state": {
            "_model_module": "@jupyter-widgets/base",
            "_model_module_version": "1.2.0",
            "_model_name": "LayoutModel",
            "_view_count": null,
            "_view_module": "@jupyter-widgets/base",
            "_view_module_version": "1.2.0",
            "_view_name": "LayoutView",
            "align_content": null,
            "align_items": null,
            "align_self": null,
            "border": null,
            "bottom": null,
            "display": null,
            "flex": null,
            "flex_flow": null,
            "grid_area": null,
            "grid_auto_columns": null,
            "grid_auto_flow": null,
            "grid_auto_rows": null,
            "grid_column": null,
            "grid_gap": null,
            "grid_row": null,
            "grid_template_areas": null,
            "grid_template_columns": null,
            "grid_template_rows": null,
            "height": null,
            "justify_content": null,
            "justify_items": null,
            "left": null,
            "margin": null,
            "max_height": null,
            "max_width": null,
            "min_height": null,
            "min_width": null,
            "object_fit": null,
            "object_position": null,
            "order": null,
            "overflow": null,
            "overflow_x": null,
            "overflow_y": null,
            "padding": null,
            "right": null,
            "top": null,
            "visibility": null,
            "width": null
          }
        },
        "7dd21af1cb394ecd9540f326303a734b": {
          "model_module": "@jupyter-widgets/controls",
          "model_module_version": "1.5.0",
          "model_name": "ProgressStyleModel",
          "state": {
            "_model_module": "@jupyter-widgets/controls",
            "_model_module_version": "1.5.0",
            "_model_name": "ProgressStyleModel",
            "_view_count": null,
            "_view_module": "@jupyter-widgets/base",
            "_view_module_version": "1.2.0",
            "_view_name": "StyleView",
            "bar_color": null,
            "description_width": ""
          }
        },
        "80ae456f56854c76bb3883e393eea344": {
          "model_module": "@jupyter-widgets/controls",
          "model_module_version": "1.5.0",
          "model_name": "ProgressStyleModel",
          "state": {
            "_model_module": "@jupyter-widgets/controls",
            "_model_module_version": "1.5.0",
            "_model_name": "ProgressStyleModel",
            "_view_count": null,
            "_view_module": "@jupyter-widgets/base",
            "_view_module_version": "1.2.0",
            "_view_name": "StyleView",
            "bar_color": null,
            "description_width": ""
          }
        },
        "827cd3f68d854cedb85cccea30f4a740": {
          "model_module": "@jupyter-widgets/base",
          "model_module_version": "1.2.0",
          "model_name": "LayoutModel",
          "state": {
            "_model_module": "@jupyter-widgets/base",
            "_model_module_version": "1.2.0",
            "_model_name": "LayoutModel",
            "_view_count": null,
            "_view_module": "@jupyter-widgets/base",
            "_view_module_version": "1.2.0",
            "_view_name": "LayoutView",
            "align_content": null,
            "align_items": null,
            "align_self": null,
            "border": null,
            "bottom": null,
            "display": null,
            "flex": null,
            "flex_flow": null,
            "grid_area": null,
            "grid_auto_columns": null,
            "grid_auto_flow": null,
            "grid_auto_rows": null,
            "grid_column": null,
            "grid_gap": null,
            "grid_row": null,
            "grid_template_areas": null,
            "grid_template_columns": null,
            "grid_template_rows": null,
            "height": null,
            "justify_content": null,
            "justify_items": null,
            "left": null,
            "margin": null,
            "max_height": null,
            "max_width": null,
            "min_height": null,
            "min_width": null,
            "object_fit": null,
            "object_position": null,
            "order": null,
            "overflow": null,
            "overflow_x": null,
            "overflow_y": null,
            "padding": null,
            "right": null,
            "top": null,
            "visibility": null,
            "width": null
          }
        },
        "8a756c39c8be465a81c58a3828336534": {
          "model_module": "@jupyter-widgets/base",
          "model_module_version": "1.2.0",
          "model_name": "LayoutModel",
          "state": {
            "_model_module": "@jupyter-widgets/base",
            "_model_module_version": "1.2.0",
            "_model_name": "LayoutModel",
            "_view_count": null,
            "_view_module": "@jupyter-widgets/base",
            "_view_module_version": "1.2.0",
            "_view_name": "LayoutView",
            "align_content": null,
            "align_items": null,
            "align_self": null,
            "border": null,
            "bottom": null,
            "display": null,
            "flex": null,
            "flex_flow": null,
            "grid_area": null,
            "grid_auto_columns": null,
            "grid_auto_flow": null,
            "grid_auto_rows": null,
            "grid_column": null,
            "grid_gap": null,
            "grid_row": null,
            "grid_template_areas": null,
            "grid_template_columns": null,
            "grid_template_rows": null,
            "height": null,
            "justify_content": null,
            "justify_items": null,
            "left": null,
            "margin": null,
            "max_height": null,
            "max_width": null,
            "min_height": null,
            "min_width": null,
            "object_fit": null,
            "object_position": null,
            "order": null,
            "overflow": null,
            "overflow_x": null,
            "overflow_y": null,
            "padding": null,
            "right": null,
            "top": null,
            "visibility": null,
            "width": null
          }
        },
        "8b320d98c7e14dbab5d48d55c3b30aa1": {
          "model_module": "@jupyter-widgets/base",
          "model_module_version": "1.2.0",
          "model_name": "LayoutModel",
          "state": {
            "_model_module": "@jupyter-widgets/base",
            "_model_module_version": "1.2.0",
            "_model_name": "LayoutModel",
            "_view_count": null,
            "_view_module": "@jupyter-widgets/base",
            "_view_module_version": "1.2.0",
            "_view_name": "LayoutView",
            "align_content": null,
            "align_items": null,
            "align_self": null,
            "border": null,
            "bottom": null,
            "display": null,
            "flex": null,
            "flex_flow": null,
            "grid_area": null,
            "grid_auto_columns": null,
            "grid_auto_flow": null,
            "grid_auto_rows": null,
            "grid_column": null,
            "grid_gap": null,
            "grid_row": null,
            "grid_template_areas": null,
            "grid_template_columns": null,
            "grid_template_rows": null,
            "height": null,
            "justify_content": null,
            "justify_items": null,
            "left": null,
            "margin": null,
            "max_height": null,
            "max_width": null,
            "min_height": null,
            "min_width": null,
            "object_fit": null,
            "object_position": null,
            "order": null,
            "overflow": null,
            "overflow_x": null,
            "overflow_y": null,
            "padding": null,
            "right": null,
            "top": null,
            "visibility": null,
            "width": null
          }
        },
        "8cd8d7f96e2e459cac48e7ed21507b26": {
          "model_module": "@jupyter-widgets/controls",
          "model_module_version": "1.5.0",
          "model_name": "VBoxModel",
          "state": {
            "_dom_classes": [],
            "_model_module": "@jupyter-widgets/controls",
            "_model_module_version": "1.5.0",
            "_model_name": "VBoxModel",
            "_view_count": null,
            "_view_module": "@jupyter-widgets/controls",
            "_view_module_version": "1.5.0",
            "_view_name": "VBoxView",
            "box_style": "",
            "children": [
              "IPY_MODEL_a3af00da19fe4ab4bd8e3c0e9a589af0",
              "IPY_MODEL_ad73a44f099e431fbb657b0ce6ac2462"
            ],
            "layout": "IPY_MODEL_8a756c39c8be465a81c58a3828336534"
          }
        },
        "8d7004d49e0147b8a4d43420b02f4d2e": {
          "model_module": "@jupyter-widgets/controls",
          "model_module_version": "1.5.0",
          "model_name": "ProgressStyleModel",
          "state": {
            "_model_module": "@jupyter-widgets/controls",
            "_model_module_version": "1.5.0",
            "_model_name": "ProgressStyleModel",
            "_view_count": null,
            "_view_module": "@jupyter-widgets/base",
            "_view_module_version": "1.2.0",
            "_view_name": "StyleView",
            "bar_color": null,
            "description_width": ""
          }
        },
        "90240a0e7cd44fcb89039591bd2d8ae6": {
          "model_module": "@jupyter-widgets/controls",
          "model_module_version": "1.5.0",
          "model_name": "DescriptionStyleModel",
          "state": {
            "_model_module": "@jupyter-widgets/controls",
            "_model_module_version": "1.5.0",
            "_model_name": "DescriptionStyleModel",
            "_view_count": null,
            "_view_module": "@jupyter-widgets/base",
            "_view_module_version": "1.2.0",
            "_view_name": "StyleView",
            "description_width": ""
          }
        },
        "9ddd7be292ca42cca40e105afb68fe10": {
          "model_module": "@jupyter-widgets/controls",
          "model_module_version": "1.5.0",
          "model_name": "LabelModel",
          "state": {
            "_dom_classes": [],
            "_model_module": "@jupyter-widgets/controls",
            "_model_module_version": "1.5.0",
            "_model_name": "LabelModel",
            "_view_count": null,
            "_view_module": "@jupyter-widgets/controls",
            "_view_module_version": "1.5.0",
            "_view_name": "LabelView",
            "description": "",
            "description_tooltip": null,
            "layout": "IPY_MODEL_bff30d5a40474a22b731881779c8a6ee",
            "placeholder": "​",
            "style": "IPY_MODEL_143fc0da1bca42138587128eb52160bb",
            "value": "0.013 MB of 0.013 MB uploaded\r"
          }
        },
        "9f85d9fb3b5f4e60a9a507434c54b028": {
          "model_module": "@jupyter-widgets/controls",
          "model_module_version": "1.5.0",
          "model_name": "ProgressStyleModel",
          "state": {
            "_model_module": "@jupyter-widgets/controls",
            "_model_module_version": "1.5.0",
            "_model_name": "ProgressStyleModel",
            "_view_count": null,
            "_view_module": "@jupyter-widgets/base",
            "_view_module_version": "1.2.0",
            "_view_name": "StyleView",
            "bar_color": null,
            "description_width": ""
          }
        },
        "a3af00da19fe4ab4bd8e3c0e9a589af0": {
          "model_module": "@jupyter-widgets/controls",
          "model_module_version": "1.5.0",
          "model_name": "LabelModel",
          "state": {
            "_dom_classes": [],
            "_model_module": "@jupyter-widgets/controls",
            "_model_module_version": "1.5.0",
            "_model_name": "LabelModel",
            "_view_count": null,
            "_view_module": "@jupyter-widgets/controls",
            "_view_module_version": "1.5.0",
            "_view_name": "LabelView",
            "description": "",
            "description_tooltip": null,
            "layout": "IPY_MODEL_827cd3f68d854cedb85cccea30f4a740",
            "placeholder": "​",
            "style": "IPY_MODEL_d545cf755bd24980bcbf09f2dcd75a00",
            "value": "0.013 MB of 0.013 MB uploaded\r"
          }
        },
        "a72eb3dd1a8e41969ef1d6102524e5fc": {
          "model_module": "@jupyter-widgets/base",
          "model_module_version": "1.2.0",
          "model_name": "LayoutModel",
          "state": {
            "_model_module": "@jupyter-widgets/base",
            "_model_module_version": "1.2.0",
            "_model_name": "LayoutModel",
            "_view_count": null,
            "_view_module": "@jupyter-widgets/base",
            "_view_module_version": "1.2.0",
            "_view_name": "LayoutView",
            "align_content": null,
            "align_items": null,
            "align_self": null,
            "border": null,
            "bottom": null,
            "display": null,
            "flex": null,
            "flex_flow": null,
            "grid_area": null,
            "grid_auto_columns": null,
            "grid_auto_flow": null,
            "grid_auto_rows": null,
            "grid_column": null,
            "grid_gap": null,
            "grid_row": null,
            "grid_template_areas": null,
            "grid_template_columns": null,
            "grid_template_rows": null,
            "height": null,
            "justify_content": null,
            "justify_items": null,
            "left": null,
            "margin": null,
            "max_height": null,
            "max_width": null,
            "min_height": null,
            "min_width": null,
            "object_fit": null,
            "object_position": null,
            "order": null,
            "overflow": null,
            "overflow_x": null,
            "overflow_y": null,
            "padding": null,
            "right": null,
            "top": null,
            "visibility": null,
            "width": null
          }
        },
        "ad73a44f099e431fbb657b0ce6ac2462": {
          "model_module": "@jupyter-widgets/controls",
          "model_module_version": "1.5.0",
          "model_name": "FloatProgressModel",
          "state": {
            "_dom_classes": [],
            "_model_module": "@jupyter-widgets/controls",
            "_model_module_version": "1.5.0",
            "_model_name": "FloatProgressModel",
            "_view_count": null,
            "_view_module": "@jupyter-widgets/controls",
            "_view_module_version": "1.5.0",
            "_view_name": "ProgressView",
            "bar_style": "",
            "description": "",
            "description_tooltip": null,
            "layout": "IPY_MODEL_2a86bdbd806b4675a8c5bcf3ed7acdfe",
            "max": 1,
            "min": 0,
            "orientation": "horizontal",
            "style": "IPY_MODEL_47dc384c2e7e47dea659ff65aa5827a4",
            "value": 1
          }
        },
        "b006a97ab181482d975d1d14bc761ccd": {
          "model_module": "@jupyter-widgets/controls",
          "model_module_version": "1.5.0",
          "model_name": "DescriptionStyleModel",
          "state": {
            "_model_module": "@jupyter-widgets/controls",
            "_model_module_version": "1.5.0",
            "_model_name": "DescriptionStyleModel",
            "_view_count": null,
            "_view_module": "@jupyter-widgets/base",
            "_view_module_version": "1.2.0",
            "_view_name": "StyleView",
            "description_width": ""
          }
        },
        "b8cfd58a269f4047a4ad95da50c32e62": {
          "model_module": "@jupyter-widgets/base",
          "model_module_version": "1.2.0",
          "model_name": "LayoutModel",
          "state": {
            "_model_module": "@jupyter-widgets/base",
            "_model_module_version": "1.2.0",
            "_model_name": "LayoutModel",
            "_view_count": null,
            "_view_module": "@jupyter-widgets/base",
            "_view_module_version": "1.2.0",
            "_view_name": "LayoutView",
            "align_content": null,
            "align_items": null,
            "align_self": null,
            "border": null,
            "bottom": null,
            "display": null,
            "flex": null,
            "flex_flow": null,
            "grid_area": null,
            "grid_auto_columns": null,
            "grid_auto_flow": null,
            "grid_auto_rows": null,
            "grid_column": null,
            "grid_gap": null,
            "grid_row": null,
            "grid_template_areas": null,
            "grid_template_columns": null,
            "grid_template_rows": null,
            "height": null,
            "justify_content": null,
            "justify_items": null,
            "left": null,
            "margin": null,
            "max_height": null,
            "max_width": null,
            "min_height": null,
            "min_width": null,
            "object_fit": null,
            "object_position": null,
            "order": null,
            "overflow": null,
            "overflow_x": null,
            "overflow_y": null,
            "padding": null,
            "right": null,
            "top": null,
            "visibility": null,
            "width": null
          }
        },
        "bff30d5a40474a22b731881779c8a6ee": {
          "model_module": "@jupyter-widgets/base",
          "model_module_version": "1.2.0",
          "model_name": "LayoutModel",
          "state": {
            "_model_module": "@jupyter-widgets/base",
            "_model_module_version": "1.2.0",
            "_model_name": "LayoutModel",
            "_view_count": null,
            "_view_module": "@jupyter-widgets/base",
            "_view_module_version": "1.2.0",
            "_view_name": "LayoutView",
            "align_content": null,
            "align_items": null,
            "align_self": null,
            "border": null,
            "bottom": null,
            "display": null,
            "flex": null,
            "flex_flow": null,
            "grid_area": null,
            "grid_auto_columns": null,
            "grid_auto_flow": null,
            "grid_auto_rows": null,
            "grid_column": null,
            "grid_gap": null,
            "grid_row": null,
            "grid_template_areas": null,
            "grid_template_columns": null,
            "grid_template_rows": null,
            "height": null,
            "justify_content": null,
            "justify_items": null,
            "left": null,
            "margin": null,
            "max_height": null,
            "max_width": null,
            "min_height": null,
            "min_width": null,
            "object_fit": null,
            "object_position": null,
            "order": null,
            "overflow": null,
            "overflow_x": null,
            "overflow_y": null,
            "padding": null,
            "right": null,
            "top": null,
            "visibility": null,
            "width": null
          }
        },
        "c2cb06a21cfb40a98e146fb15e5d7b55": {
          "model_module": "@jupyter-widgets/base",
          "model_module_version": "1.2.0",
          "model_name": "LayoutModel",
          "state": {
            "_model_module": "@jupyter-widgets/base",
            "_model_module_version": "1.2.0",
            "_model_name": "LayoutModel",
            "_view_count": null,
            "_view_module": "@jupyter-widgets/base",
            "_view_module_version": "1.2.0",
            "_view_name": "LayoutView",
            "align_content": null,
            "align_items": null,
            "align_self": null,
            "border": null,
            "bottom": null,
            "display": null,
            "flex": null,
            "flex_flow": null,
            "grid_area": null,
            "grid_auto_columns": null,
            "grid_auto_flow": null,
            "grid_auto_rows": null,
            "grid_column": null,
            "grid_gap": null,
            "grid_row": null,
            "grid_template_areas": null,
            "grid_template_columns": null,
            "grid_template_rows": null,
            "height": null,
            "justify_content": null,
            "justify_items": null,
            "left": null,
            "margin": null,
            "max_height": null,
            "max_width": null,
            "min_height": null,
            "min_width": null,
            "object_fit": null,
            "object_position": null,
            "order": null,
            "overflow": null,
            "overflow_x": null,
            "overflow_y": null,
            "padding": null,
            "right": null,
            "top": null,
            "visibility": null,
            "width": null
          }
        },
        "cb083063c44a421e80abe407014ce41d": {
          "model_module": "@jupyter-widgets/base",
          "model_module_version": "1.2.0",
          "model_name": "LayoutModel",
          "state": {
            "_model_module": "@jupyter-widgets/base",
            "_model_module_version": "1.2.0",
            "_model_name": "LayoutModel",
            "_view_count": null,
            "_view_module": "@jupyter-widgets/base",
            "_view_module_version": "1.2.0",
            "_view_name": "LayoutView",
            "align_content": null,
            "align_items": null,
            "align_self": null,
            "border": null,
            "bottom": null,
            "display": null,
            "flex": null,
            "flex_flow": null,
            "grid_area": null,
            "grid_auto_columns": null,
            "grid_auto_flow": null,
            "grid_auto_rows": null,
            "grid_column": null,
            "grid_gap": null,
            "grid_row": null,
            "grid_template_areas": null,
            "grid_template_columns": null,
            "grid_template_rows": null,
            "height": null,
            "justify_content": null,
            "justify_items": null,
            "left": null,
            "margin": null,
            "max_height": null,
            "max_width": null,
            "min_height": null,
            "min_width": null,
            "object_fit": null,
            "object_position": null,
            "order": null,
            "overflow": null,
            "overflow_x": null,
            "overflow_y": null,
            "padding": null,
            "right": null,
            "top": null,
            "visibility": null,
            "width": null
          }
        },
        "d545cf755bd24980bcbf09f2dcd75a00": {
          "model_module": "@jupyter-widgets/controls",
          "model_module_version": "1.5.0",
          "model_name": "DescriptionStyleModel",
          "state": {
            "_model_module": "@jupyter-widgets/controls",
            "_model_module_version": "1.5.0",
            "_model_name": "DescriptionStyleModel",
            "_view_count": null,
            "_view_module": "@jupyter-widgets/base",
            "_view_module_version": "1.2.0",
            "_view_name": "StyleView",
            "description_width": ""
          }
        },
        "d553d44d62ed41a4a9b346c98a8a92f7": {
          "model_module": "@jupyter-widgets/controls",
          "model_module_version": "1.5.0",
          "model_name": "VBoxModel",
          "state": {
            "_dom_classes": [],
            "_model_module": "@jupyter-widgets/controls",
            "_model_module_version": "1.5.0",
            "_model_name": "VBoxModel",
            "_view_count": null,
            "_view_module": "@jupyter-widgets/controls",
            "_view_module_version": "1.5.0",
            "_view_name": "VBoxView",
            "box_style": "",
            "children": [
              "IPY_MODEL_32dbe5299a2347c1b049fcb7105de362",
              "IPY_MODEL_59ebf4cb93d24ae49038ad1666914bdb"
            ],
            "layout": "IPY_MODEL_c2cb06a21cfb40a98e146fb15e5d7b55"
          }
        },
        "d588e3125c0a4dcf956db5a7b03a22a8": {
          "model_module": "@jupyter-widgets/base",
          "model_module_version": "1.2.0",
          "model_name": "LayoutModel",
          "state": {
            "_model_module": "@jupyter-widgets/base",
            "_model_module_version": "1.2.0",
            "_model_name": "LayoutModel",
            "_view_count": null,
            "_view_module": "@jupyter-widgets/base",
            "_view_module_version": "1.2.0",
            "_view_name": "LayoutView",
            "align_content": null,
            "align_items": null,
            "align_self": null,
            "border": null,
            "bottom": null,
            "display": null,
            "flex": null,
            "flex_flow": null,
            "grid_area": null,
            "grid_auto_columns": null,
            "grid_auto_flow": null,
            "grid_auto_rows": null,
            "grid_column": null,
            "grid_gap": null,
            "grid_row": null,
            "grid_template_areas": null,
            "grid_template_columns": null,
            "grid_template_rows": null,
            "height": null,
            "justify_content": null,
            "justify_items": null,
            "left": null,
            "margin": null,
            "max_height": null,
            "max_width": null,
            "min_height": null,
            "min_width": null,
            "object_fit": null,
            "object_position": null,
            "order": null,
            "overflow": null,
            "overflow_x": null,
            "overflow_y": null,
            "padding": null,
            "right": null,
            "top": null,
            "visibility": null,
            "width": null
          }
        },
        "d7bae69758f34b5bbf1cdb5ae6870db2": {
          "model_module": "@jupyter-widgets/controls",
          "model_module_version": "1.5.0",
          "model_name": "VBoxModel",
          "state": {
            "_dom_classes": [],
            "_model_module": "@jupyter-widgets/controls",
            "_model_module_version": "1.5.0",
            "_model_name": "VBoxModel",
            "_view_count": null,
            "_view_module": "@jupyter-widgets/controls",
            "_view_module_version": "1.5.0",
            "_view_name": "VBoxView",
            "box_style": "",
            "children": [
              "IPY_MODEL_1ecc558615fd43a398f595b6d03a2f0a",
              "IPY_MODEL_f41bb317842b4010bc55c23d9ed22b9d"
            ],
            "layout": "IPY_MODEL_388a58e82f6540629e3b06b9a5181d91"
          }
        },
        "e4efd54a5e2b4ac49920f541551828f8": {
          "model_module": "@jupyter-widgets/base",
          "model_module_version": "1.2.0",
          "model_name": "LayoutModel",
          "state": {
            "_model_module": "@jupyter-widgets/base",
            "_model_module_version": "1.2.0",
            "_model_name": "LayoutModel",
            "_view_count": null,
            "_view_module": "@jupyter-widgets/base",
            "_view_module_version": "1.2.0",
            "_view_name": "LayoutView",
            "align_content": null,
            "align_items": null,
            "align_self": null,
            "border": null,
            "bottom": null,
            "display": null,
            "flex": null,
            "flex_flow": null,
            "grid_area": null,
            "grid_auto_columns": null,
            "grid_auto_flow": null,
            "grid_auto_rows": null,
            "grid_column": null,
            "grid_gap": null,
            "grid_row": null,
            "grid_template_areas": null,
            "grid_template_columns": null,
            "grid_template_rows": null,
            "height": null,
            "justify_content": null,
            "justify_items": null,
            "left": null,
            "margin": null,
            "max_height": null,
            "max_width": null,
            "min_height": null,
            "min_width": null,
            "object_fit": null,
            "object_position": null,
            "order": null,
            "overflow": null,
            "overflow_x": null,
            "overflow_y": null,
            "padding": null,
            "right": null,
            "top": null,
            "visibility": null,
            "width": null
          }
        },
        "f41bb317842b4010bc55c23d9ed22b9d": {
          "model_module": "@jupyter-widgets/controls",
          "model_module_version": "1.5.0",
          "model_name": "FloatProgressModel",
          "state": {
            "_dom_classes": [],
            "_model_module": "@jupyter-widgets/controls",
            "_model_module_version": "1.5.0",
            "_model_name": "FloatProgressModel",
            "_view_count": null,
            "_view_module": "@jupyter-widgets/controls",
            "_view_module_version": "1.5.0",
            "_view_name": "ProgressView",
            "bar_style": "",
            "description": "",
            "description_tooltip": null,
            "layout": "IPY_MODEL_cb083063c44a421e80abe407014ce41d",
            "max": 1,
            "min": 0,
            "orientation": "horizontal",
            "style": "IPY_MODEL_5620b4b6919a4782b646fccad898dfe8",
            "value": 1
          }
        },
        "fa881e20064c40af8536a26a00f620d7": {
          "model_module": "@jupyter-widgets/controls",
          "model_module_version": "1.5.0",
          "model_name": "VBoxModel",
          "state": {
            "_dom_classes": [],
            "_model_module": "@jupyter-widgets/controls",
            "_model_module_version": "1.5.0",
            "_model_name": "VBoxModel",
            "_view_count": null,
            "_view_module": "@jupyter-widgets/controls",
            "_view_module_version": "1.5.0",
            "_view_name": "VBoxView",
            "box_style": "",
            "children": [
              "IPY_MODEL_29fa05c7a9b34155a449c18186a91474",
              "IPY_MODEL_3f4e12ce5cac47f1b09b0395bae4e1d2"
            ],
            "layout": "IPY_MODEL_7309c202d0614e79985c0ac4d897d98a"
          }
        },
        "6c934fb4c93a45d7a6cd567f12aa80a8": {
          "model_module": "@jupyter-widgets/controls",
          "model_name": "HBoxModel",
          "model_module_version": "1.5.0",
          "state": {
            "_dom_classes": [],
            "_model_module": "@jupyter-widgets/controls",
            "_model_module_version": "1.5.0",
            "_model_name": "HBoxModel",
            "_view_count": null,
            "_view_module": "@jupyter-widgets/controls",
            "_view_module_version": "1.5.0",
            "_view_name": "HBoxView",
            "box_style": "",
            "children": [
              "IPY_MODEL_bfedc28e53d24a9fbbf6529b5870598c",
              "IPY_MODEL_6934cc120a034a04b9b0c52bdfcb2e27",
              "IPY_MODEL_29c30d8a6e20477ba2d7e770b80c5afe"
            ],
            "layout": "IPY_MODEL_3aac97da336541a58e24004ce89b8b44"
          }
        },
        "bfedc28e53d24a9fbbf6529b5870598c": {
          "model_module": "@jupyter-widgets/controls",
          "model_name": "HTMLModel",
          "model_module_version": "1.5.0",
          "state": {
            "_dom_classes": [],
            "_model_module": "@jupyter-widgets/controls",
            "_model_module_version": "1.5.0",
            "_model_name": "HTMLModel",
            "_view_count": null,
            "_view_module": "@jupyter-widgets/controls",
            "_view_module_version": "1.5.0",
            "_view_name": "HTMLView",
            "description": "",
            "description_tooltip": null,
            "layout": "IPY_MODEL_a9e79476f550429db3b00069603b371b",
            "placeholder": "​",
            "style": "IPY_MODEL_5861dadd050b44f6b54fe2cdf1bee71d",
            "value": "Generating validation split: "
          }
        },
        "6934cc120a034a04b9b0c52bdfcb2e27": {
          "model_module": "@jupyter-widgets/controls",
          "model_name": "FloatProgressModel",
          "model_module_version": "1.5.0",
          "state": {
            "_dom_classes": [],
            "_model_module": "@jupyter-widgets/controls",
            "_model_module_version": "1.5.0",
            "_model_name": "FloatProgressModel",
            "_view_count": null,
            "_view_module": "@jupyter-widgets/controls",
            "_view_module_version": "1.5.0",
            "_view_name": "ProgressView",
            "bar_style": "success",
            "description": "",
            "description_tooltip": null,
            "layout": "IPY_MODEL_148e8a4118fc4b12a00017b3ba2b46e5",
            "max": 1,
            "min": 0,
            "orientation": "horizontal",
            "style": "IPY_MODEL_35a71432a8b544b2be0d80bca81628b0",
            "value": 1
          }
        },
        "29c30d8a6e20477ba2d7e770b80c5afe": {
          "model_module": "@jupyter-widgets/controls",
          "model_name": "HTMLModel",
          "model_module_version": "1.5.0",
          "state": {
            "_dom_classes": [],
            "_model_module": "@jupyter-widgets/controls",
            "_model_module_version": "1.5.0",
            "_model_name": "HTMLModel",
            "_view_count": null,
            "_view_module": "@jupyter-widgets/controls",
            "_view_module_version": "1.5.0",
            "_view_name": "HTMLView",
            "description": "",
            "description_tooltip": null,
            "layout": "IPY_MODEL_4175d528b64d4bb6b072072a2644808c",
            "placeholder": "​",
            "style": "IPY_MODEL_1bdeaff358754130ad0706fb436ebb02",
            "value": " 90/0 [00:00&lt;00:00, 2176.06 examples/s]"
          }
        },
        "3aac97da336541a58e24004ce89b8b44": {
          "model_module": "@jupyter-widgets/base",
          "model_name": "LayoutModel",
          "model_module_version": "1.2.0",
          "state": {
            "_model_module": "@jupyter-widgets/base",
            "_model_module_version": "1.2.0",
            "_model_name": "LayoutModel",
            "_view_count": null,
            "_view_module": "@jupyter-widgets/base",
            "_view_module_version": "1.2.0",
            "_view_name": "LayoutView",
            "align_content": null,
            "align_items": null,
            "align_self": null,
            "border": null,
            "bottom": null,
            "display": null,
            "flex": null,
            "flex_flow": null,
            "grid_area": null,
            "grid_auto_columns": null,
            "grid_auto_flow": null,
            "grid_auto_rows": null,
            "grid_column": null,
            "grid_gap": null,
            "grid_row": null,
            "grid_template_areas": null,
            "grid_template_columns": null,
            "grid_template_rows": null,
            "height": null,
            "justify_content": null,
            "justify_items": null,
            "left": null,
            "margin": null,
            "max_height": null,
            "max_width": null,
            "min_height": null,
            "min_width": null,
            "object_fit": null,
            "object_position": null,
            "order": null,
            "overflow": null,
            "overflow_x": null,
            "overflow_y": null,
            "padding": null,
            "right": null,
            "top": null,
            "visibility": null,
            "width": null
          }
        },
        "a9e79476f550429db3b00069603b371b": {
          "model_module": "@jupyter-widgets/base",
          "model_name": "LayoutModel",
          "model_module_version": "1.2.0",
          "state": {
            "_model_module": "@jupyter-widgets/base",
            "_model_module_version": "1.2.0",
            "_model_name": "LayoutModel",
            "_view_count": null,
            "_view_module": "@jupyter-widgets/base",
            "_view_module_version": "1.2.0",
            "_view_name": "LayoutView",
            "align_content": null,
            "align_items": null,
            "align_self": null,
            "border": null,
            "bottom": null,
            "display": null,
            "flex": null,
            "flex_flow": null,
            "grid_area": null,
            "grid_auto_columns": null,
            "grid_auto_flow": null,
            "grid_auto_rows": null,
            "grid_column": null,
            "grid_gap": null,
            "grid_row": null,
            "grid_template_areas": null,
            "grid_template_columns": null,
            "grid_template_rows": null,
            "height": null,
            "justify_content": null,
            "justify_items": null,
            "left": null,
            "margin": null,
            "max_height": null,
            "max_width": null,
            "min_height": null,
            "min_width": null,
            "object_fit": null,
            "object_position": null,
            "order": null,
            "overflow": null,
            "overflow_x": null,
            "overflow_y": null,
            "padding": null,
            "right": null,
            "top": null,
            "visibility": null,
            "width": null
          }
        },
        "5861dadd050b44f6b54fe2cdf1bee71d": {
          "model_module": "@jupyter-widgets/controls",
          "model_name": "DescriptionStyleModel",
          "model_module_version": "1.5.0",
          "state": {
            "_model_module": "@jupyter-widgets/controls",
            "_model_module_version": "1.5.0",
            "_model_name": "DescriptionStyleModel",
            "_view_count": null,
            "_view_module": "@jupyter-widgets/base",
            "_view_module_version": "1.2.0",
            "_view_name": "StyleView",
            "description_width": ""
          }
        },
        "148e8a4118fc4b12a00017b3ba2b46e5": {
          "model_module": "@jupyter-widgets/base",
          "model_name": "LayoutModel",
          "model_module_version": "1.2.0",
          "state": {
            "_model_module": "@jupyter-widgets/base",
            "_model_module_version": "1.2.0",
            "_model_name": "LayoutModel",
            "_view_count": null,
            "_view_module": "@jupyter-widgets/base",
            "_view_module_version": "1.2.0",
            "_view_name": "LayoutView",
            "align_content": null,
            "align_items": null,
            "align_self": null,
            "border": null,
            "bottom": null,
            "display": null,
            "flex": null,
            "flex_flow": null,
            "grid_area": null,
            "grid_auto_columns": null,
            "grid_auto_flow": null,
            "grid_auto_rows": null,
            "grid_column": null,
            "grid_gap": null,
            "grid_row": null,
            "grid_template_areas": null,
            "grid_template_columns": null,
            "grid_template_rows": null,
            "height": null,
            "justify_content": null,
            "justify_items": null,
            "left": null,
            "margin": null,
            "max_height": null,
            "max_width": null,
            "min_height": null,
            "min_width": null,
            "object_fit": null,
            "object_position": null,
            "order": null,
            "overflow": null,
            "overflow_x": null,
            "overflow_y": null,
            "padding": null,
            "right": null,
            "top": null,
            "visibility": null,
            "width": "20px"
          }
        },
        "35a71432a8b544b2be0d80bca81628b0": {
          "model_module": "@jupyter-widgets/controls",
          "model_name": "ProgressStyleModel",
          "model_module_version": "1.5.0",
          "state": {
            "_model_module": "@jupyter-widgets/controls",
            "_model_module_version": "1.5.0",
            "_model_name": "ProgressStyleModel",
            "_view_count": null,
            "_view_module": "@jupyter-widgets/base",
            "_view_module_version": "1.2.0",
            "_view_name": "StyleView",
            "bar_color": null,
            "description_width": ""
          }
        },
        "4175d528b64d4bb6b072072a2644808c": {
          "model_module": "@jupyter-widgets/base",
          "model_name": "LayoutModel",
          "model_module_version": "1.2.0",
          "state": {
            "_model_module": "@jupyter-widgets/base",
            "_model_module_version": "1.2.0",
            "_model_name": "LayoutModel",
            "_view_count": null,
            "_view_module": "@jupyter-widgets/base",
            "_view_module_version": "1.2.0",
            "_view_name": "LayoutView",
            "align_content": null,
            "align_items": null,
            "align_self": null,
            "border": null,
            "bottom": null,
            "display": null,
            "flex": null,
            "flex_flow": null,
            "grid_area": null,
            "grid_auto_columns": null,
            "grid_auto_flow": null,
            "grid_auto_rows": null,
            "grid_column": null,
            "grid_gap": null,
            "grid_row": null,
            "grid_template_areas": null,
            "grid_template_columns": null,
            "grid_template_rows": null,
            "height": null,
            "justify_content": null,
            "justify_items": null,
            "left": null,
            "margin": null,
            "max_height": null,
            "max_width": null,
            "min_height": null,
            "min_width": null,
            "object_fit": null,
            "object_position": null,
            "order": null,
            "overflow": null,
            "overflow_x": null,
            "overflow_y": null,
            "padding": null,
            "right": null,
            "top": null,
            "visibility": null,
            "width": null
          }
        },
        "1bdeaff358754130ad0706fb436ebb02": {
          "model_module": "@jupyter-widgets/controls",
          "model_name": "DescriptionStyleModel",
          "model_module_version": "1.5.0",
          "state": {
            "_model_module": "@jupyter-widgets/controls",
            "_model_module_version": "1.5.0",
            "_model_name": "DescriptionStyleModel",
            "_view_count": null,
            "_view_module": "@jupyter-widgets/base",
            "_view_module_version": "1.2.0",
            "_view_name": "StyleView",
            "description_width": ""
          }
        },
        "11cca9590a464c3a8885b717ce9772f4": {
          "model_module": "@jupyter-widgets/controls",
          "model_name": "HBoxModel",
          "model_module_version": "1.5.0",
          "state": {
            "_dom_classes": [],
            "_model_module": "@jupyter-widgets/controls",
            "_model_module_version": "1.5.0",
            "_model_name": "HBoxModel",
            "_view_count": null,
            "_view_module": "@jupyter-widgets/controls",
            "_view_module_version": "1.5.0",
            "_view_name": "HBoxView",
            "box_style": "",
            "children": [
              "IPY_MODEL_a26da9d36234476e9bca0d4c1d231a22",
              "IPY_MODEL_823d77f63c5d4c8da322e66ea9a1341c",
              "IPY_MODEL_bbbd384b0e75413180ea72a5fad4cdad"
            ],
            "layout": "IPY_MODEL_9c27f3a254614d9c8172bfca51d19d03"
          }
        },
        "a26da9d36234476e9bca0d4c1d231a22": {
          "model_module": "@jupyter-widgets/controls",
          "model_name": "HTMLModel",
          "model_module_version": "1.5.0",
          "state": {
            "_dom_classes": [],
            "_model_module": "@jupyter-widgets/controls",
            "_model_module_version": "1.5.0",
            "_model_name": "HTMLModel",
            "_view_count": null,
            "_view_module": "@jupyter-widgets/controls",
            "_view_module_version": "1.5.0",
            "_view_name": "HTMLView",
            "description": "",
            "description_tooltip": null,
            "layout": "IPY_MODEL_123d8ab44fb74b729751b1d3a5e8c385",
            "placeholder": "​",
            "style": "IPY_MODEL_3b063b00c9bc41639857e70668283a30",
            "value": "Generating validation_seg split: "
          }
        },
        "823d77f63c5d4c8da322e66ea9a1341c": {
          "model_module": "@jupyter-widgets/controls",
          "model_name": "FloatProgressModel",
          "model_module_version": "1.5.0",
          "state": {
            "_dom_classes": [],
            "_model_module": "@jupyter-widgets/controls",
            "_model_module_version": "1.5.0",
            "_model_name": "FloatProgressModel",
            "_view_count": null,
            "_view_module": "@jupyter-widgets/controls",
            "_view_module_version": "1.5.0",
            "_view_name": "ProgressView",
            "bar_style": "success",
            "description": "",
            "description_tooltip": null,
            "layout": "IPY_MODEL_0bbff55c24f54fb7b53ea0f02baf2ea3",
            "max": 1,
            "min": 0,
            "orientation": "horizontal",
            "style": "IPY_MODEL_264b73c905c9481e90cd3dd51ccfeb5e",
            "value": 1
          }
        },
        "bbbd384b0e75413180ea72a5fad4cdad": {
          "model_module": "@jupyter-widgets/controls",
          "model_name": "HTMLModel",
          "model_module_version": "1.5.0",
          "state": {
            "_dom_classes": [],
            "_model_module": "@jupyter-widgets/controls",
            "_model_module_version": "1.5.0",
            "_model_name": "HTMLModel",
            "_view_count": null,
            "_view_module": "@jupyter-widgets/controls",
            "_view_module_version": "1.5.0",
            "_view_name": "HTMLView",
            "description": "",
            "description_tooltip": null,
            "layout": "IPY_MODEL_34e3f23d29fc41d29526f773c9d8e80f",
            "placeholder": "​",
            "style": "IPY_MODEL_7e5c415379e64548b2ffa7b6623bd6d8",
            "value": " 545/0 [00:00&lt;00:00, 24230.14 examples/s]"
          }
        },
        "9c27f3a254614d9c8172bfca51d19d03": {
          "model_module": "@jupyter-widgets/base",
          "model_name": "LayoutModel",
          "model_module_version": "1.2.0",
          "state": {
            "_model_module": "@jupyter-widgets/base",
            "_model_module_version": "1.2.0",
            "_model_name": "LayoutModel",
            "_view_count": null,
            "_view_module": "@jupyter-widgets/base",
            "_view_module_version": "1.2.0",
            "_view_name": "LayoutView",
            "align_content": null,
            "align_items": null,
            "align_self": null,
            "border": null,
            "bottom": null,
            "display": null,
            "flex": null,
            "flex_flow": null,
            "grid_area": null,
            "grid_auto_columns": null,
            "grid_auto_flow": null,
            "grid_auto_rows": null,
            "grid_column": null,
            "grid_gap": null,
            "grid_row": null,
            "grid_template_areas": null,
            "grid_template_columns": null,
            "grid_template_rows": null,
            "height": null,
            "justify_content": null,
            "justify_items": null,
            "left": null,
            "margin": null,
            "max_height": null,
            "max_width": null,
            "min_height": null,
            "min_width": null,
            "object_fit": null,
            "object_position": null,
            "order": null,
            "overflow": null,
            "overflow_x": null,
            "overflow_y": null,
            "padding": null,
            "right": null,
            "top": null,
            "visibility": null,
            "width": null
          }
        },
        "123d8ab44fb74b729751b1d3a5e8c385": {
          "model_module": "@jupyter-widgets/base",
          "model_name": "LayoutModel",
          "model_module_version": "1.2.0",
          "state": {
            "_model_module": "@jupyter-widgets/base",
            "_model_module_version": "1.2.0",
            "_model_name": "LayoutModel",
            "_view_count": null,
            "_view_module": "@jupyter-widgets/base",
            "_view_module_version": "1.2.0",
            "_view_name": "LayoutView",
            "align_content": null,
            "align_items": null,
            "align_self": null,
            "border": null,
            "bottom": null,
            "display": null,
            "flex": null,
            "flex_flow": null,
            "grid_area": null,
            "grid_auto_columns": null,
            "grid_auto_flow": null,
            "grid_auto_rows": null,
            "grid_column": null,
            "grid_gap": null,
            "grid_row": null,
            "grid_template_areas": null,
            "grid_template_columns": null,
            "grid_template_rows": null,
            "height": null,
            "justify_content": null,
            "justify_items": null,
            "left": null,
            "margin": null,
            "max_height": null,
            "max_width": null,
            "min_height": null,
            "min_width": null,
            "object_fit": null,
            "object_position": null,
            "order": null,
            "overflow": null,
            "overflow_x": null,
            "overflow_y": null,
            "padding": null,
            "right": null,
            "top": null,
            "visibility": null,
            "width": null
          }
        },
        "3b063b00c9bc41639857e70668283a30": {
          "model_module": "@jupyter-widgets/controls",
          "model_name": "DescriptionStyleModel",
          "model_module_version": "1.5.0",
          "state": {
            "_model_module": "@jupyter-widgets/controls",
            "_model_module_version": "1.5.0",
            "_model_name": "DescriptionStyleModel",
            "_view_count": null,
            "_view_module": "@jupyter-widgets/base",
            "_view_module_version": "1.2.0",
            "_view_name": "StyleView",
            "description_width": ""
          }
        },
        "0bbff55c24f54fb7b53ea0f02baf2ea3": {
          "model_module": "@jupyter-widgets/base",
          "model_name": "LayoutModel",
          "model_module_version": "1.2.0",
          "state": {
            "_model_module": "@jupyter-widgets/base",
            "_model_module_version": "1.2.0",
            "_model_name": "LayoutModel",
            "_view_count": null,
            "_view_module": "@jupyter-widgets/base",
            "_view_module_version": "1.2.0",
            "_view_name": "LayoutView",
            "align_content": null,
            "align_items": null,
            "align_self": null,
            "border": null,
            "bottom": null,
            "display": null,
            "flex": null,
            "flex_flow": null,
            "grid_area": null,
            "grid_auto_columns": null,
            "grid_auto_flow": null,
            "grid_auto_rows": null,
            "grid_column": null,
            "grid_gap": null,
            "grid_row": null,
            "grid_template_areas": null,
            "grid_template_columns": null,
            "grid_template_rows": null,
            "height": null,
            "justify_content": null,
            "justify_items": null,
            "left": null,
            "margin": null,
            "max_height": null,
            "max_width": null,
            "min_height": null,
            "min_width": null,
            "object_fit": null,
            "object_position": null,
            "order": null,
            "overflow": null,
            "overflow_x": null,
            "overflow_y": null,
            "padding": null,
            "right": null,
            "top": null,
            "visibility": null,
            "width": "20px"
          }
        },
        "264b73c905c9481e90cd3dd51ccfeb5e": {
          "model_module": "@jupyter-widgets/controls",
          "model_name": "ProgressStyleModel",
          "model_module_version": "1.5.0",
          "state": {
            "_model_module": "@jupyter-widgets/controls",
            "_model_module_version": "1.5.0",
            "_model_name": "ProgressStyleModel",
            "_view_count": null,
            "_view_module": "@jupyter-widgets/base",
            "_view_module_version": "1.2.0",
            "_view_name": "StyleView",
            "bar_color": null,
            "description_width": ""
          }
        },
        "34e3f23d29fc41d29526f773c9d8e80f": {
          "model_module": "@jupyter-widgets/base",
          "model_name": "LayoutModel",
          "model_module_version": "1.2.0",
          "state": {
            "_model_module": "@jupyter-widgets/base",
            "_model_module_version": "1.2.0",
            "_model_name": "LayoutModel",
            "_view_count": null,
            "_view_module": "@jupyter-widgets/base",
            "_view_module_version": "1.2.0",
            "_view_name": "LayoutView",
            "align_content": null,
            "align_items": null,
            "align_self": null,
            "border": null,
            "bottom": null,
            "display": null,
            "flex": null,
            "flex_flow": null,
            "grid_area": null,
            "grid_auto_columns": null,
            "grid_auto_flow": null,
            "grid_auto_rows": null,
            "grid_column": null,
            "grid_gap": null,
            "grid_row": null,
            "grid_template_areas": null,
            "grid_template_columns": null,
            "grid_template_rows": null,
            "height": null,
            "justify_content": null,
            "justify_items": null,
            "left": null,
            "margin": null,
            "max_height": null,
            "max_width": null,
            "min_height": null,
            "min_width": null,
            "object_fit": null,
            "object_position": null,
            "order": null,
            "overflow": null,
            "overflow_x": null,
            "overflow_y": null,
            "padding": null,
            "right": null,
            "top": null,
            "visibility": null,
            "width": null
          }
        },
        "7e5c415379e64548b2ffa7b6623bd6d8": {
          "model_module": "@jupyter-widgets/controls",
          "model_name": "DescriptionStyleModel",
          "model_module_version": "1.5.0",
          "state": {
            "_model_module": "@jupyter-widgets/controls",
            "_model_module_version": "1.5.0",
            "_model_name": "DescriptionStyleModel",
            "_view_count": null,
            "_view_module": "@jupyter-widgets/base",
            "_view_module_version": "1.2.0",
            "_view_name": "StyleView",
            "description_width": ""
          }
        },
        "dafb19b68b354146a7c7a730ebcf6755": {
          "model_module": "@jupyter-widgets/controls",
          "model_name": "HBoxModel",
          "model_module_version": "1.5.0",
          "state": {
            "_dom_classes": [],
            "_model_module": "@jupyter-widgets/controls",
            "_model_module_version": "1.5.0",
            "_model_name": "HBoxModel",
            "_view_count": null,
            "_view_module": "@jupyter-widgets/controls",
            "_view_module_version": "1.5.0",
            "_view_name": "HBoxView",
            "box_style": "",
            "children": [
              "IPY_MODEL_e9f42a0f715b461caf806e1cb6b24aed",
              "IPY_MODEL_8e6bd14d265b4f0db138b7682b8bfd4e",
              "IPY_MODEL_3712d62ee9b04cad9f36492841e661e8"
            ],
            "layout": "IPY_MODEL_b066a4d475a340efab47d717ac173179"
          }
        },
        "e9f42a0f715b461caf806e1cb6b24aed": {
          "model_module": "@jupyter-widgets/controls",
          "model_name": "HTMLModel",
          "model_module_version": "1.5.0",
          "state": {
            "_dom_classes": [],
            "_model_module": "@jupyter-widgets/controls",
            "_model_module_version": "1.5.0",
            "_model_name": "HTMLModel",
            "_view_count": null,
            "_view_module": "@jupyter-widgets/controls",
            "_view_module_version": "1.5.0",
            "_view_name": "HTMLView",
            "description": "",
            "description_tooltip": null,
            "layout": "IPY_MODEL_885950bb78c74e9fb875674d94b889a7",
            "placeholder": "​",
            "style": "IPY_MODEL_9460d13858684e20a43bf43e6e77ef06",
            "value": "preprocessor_config.json: 100%"
          }
        },
        "8e6bd14d265b4f0db138b7682b8bfd4e": {
          "model_module": "@jupyter-widgets/controls",
          "model_name": "FloatProgressModel",
          "model_module_version": "1.5.0",
          "state": {
            "_dom_classes": [],
            "_model_module": "@jupyter-widgets/controls",
            "_model_module_version": "1.5.0",
            "_model_name": "FloatProgressModel",
            "_view_count": null,
            "_view_module": "@jupyter-widgets/controls",
            "_view_module_version": "1.5.0",
            "_view_name": "ProgressView",
            "bar_style": "success",
            "description": "",
            "description_tooltip": null,
            "layout": "IPY_MODEL_109d79a4c0ba4689b03f82a085f9f30f",
            "max": 212,
            "min": 0,
            "orientation": "horizontal",
            "style": "IPY_MODEL_882ea781036d4709ba37ecd719cc3f85",
            "value": 212
          }
        },
        "3712d62ee9b04cad9f36492841e661e8": {
          "model_module": "@jupyter-widgets/controls",
          "model_name": "HTMLModel",
          "model_module_version": "1.5.0",
          "state": {
            "_dom_classes": [],
            "_model_module": "@jupyter-widgets/controls",
            "_model_module_version": "1.5.0",
            "_model_name": "HTMLModel",
            "_view_count": null,
            "_view_module": "@jupyter-widgets/controls",
            "_view_module_version": "1.5.0",
            "_view_name": "HTMLView",
            "description": "",
            "description_tooltip": null,
            "layout": "IPY_MODEL_d22b17c66b364c9bbd1a3869b7f99d4d",
            "placeholder": "​",
            "style": "IPY_MODEL_4ce91e98b934405d92e12d338e93bd1c",
            "value": " 212/212 [00:00&lt;00:00, 11.9kB/s]"
          }
        },
        "b066a4d475a340efab47d717ac173179": {
          "model_module": "@jupyter-widgets/base",
          "model_name": "LayoutModel",
          "model_module_version": "1.2.0",
          "state": {
            "_model_module": "@jupyter-widgets/base",
            "_model_module_version": "1.2.0",
            "_model_name": "LayoutModel",
            "_view_count": null,
            "_view_module": "@jupyter-widgets/base",
            "_view_module_version": "1.2.0",
            "_view_name": "LayoutView",
            "align_content": null,
            "align_items": null,
            "align_self": null,
            "border": null,
            "bottom": null,
            "display": null,
            "flex": null,
            "flex_flow": null,
            "grid_area": null,
            "grid_auto_columns": null,
            "grid_auto_flow": null,
            "grid_auto_rows": null,
            "grid_column": null,
            "grid_gap": null,
            "grid_row": null,
            "grid_template_areas": null,
            "grid_template_columns": null,
            "grid_template_rows": null,
            "height": null,
            "justify_content": null,
            "justify_items": null,
            "left": null,
            "margin": null,
            "max_height": null,
            "max_width": null,
            "min_height": null,
            "min_width": null,
            "object_fit": null,
            "object_position": null,
            "order": null,
            "overflow": null,
            "overflow_x": null,
            "overflow_y": null,
            "padding": null,
            "right": null,
            "top": null,
            "visibility": null,
            "width": null
          }
        },
        "885950bb78c74e9fb875674d94b889a7": {
          "model_module": "@jupyter-widgets/base",
          "model_name": "LayoutModel",
          "model_module_version": "1.2.0",
          "state": {
            "_model_module": "@jupyter-widgets/base",
            "_model_module_version": "1.2.0",
            "_model_name": "LayoutModel",
            "_view_count": null,
            "_view_module": "@jupyter-widgets/base",
            "_view_module_version": "1.2.0",
            "_view_name": "LayoutView",
            "align_content": null,
            "align_items": null,
            "align_self": null,
            "border": null,
            "bottom": null,
            "display": null,
            "flex": null,
            "flex_flow": null,
            "grid_area": null,
            "grid_auto_columns": null,
            "grid_auto_flow": null,
            "grid_auto_rows": null,
            "grid_column": null,
            "grid_gap": null,
            "grid_row": null,
            "grid_template_areas": null,
            "grid_template_columns": null,
            "grid_template_rows": null,
            "height": null,
            "justify_content": null,
            "justify_items": null,
            "left": null,
            "margin": null,
            "max_height": null,
            "max_width": null,
            "min_height": null,
            "min_width": null,
            "object_fit": null,
            "object_position": null,
            "order": null,
            "overflow": null,
            "overflow_x": null,
            "overflow_y": null,
            "padding": null,
            "right": null,
            "top": null,
            "visibility": null,
            "width": null
          }
        },
        "9460d13858684e20a43bf43e6e77ef06": {
          "model_module": "@jupyter-widgets/controls",
          "model_name": "DescriptionStyleModel",
          "model_module_version": "1.5.0",
          "state": {
            "_model_module": "@jupyter-widgets/controls",
            "_model_module_version": "1.5.0",
            "_model_name": "DescriptionStyleModel",
            "_view_count": null,
            "_view_module": "@jupyter-widgets/base",
            "_view_module_version": "1.2.0",
            "_view_name": "StyleView",
            "description_width": ""
          }
        },
        "109d79a4c0ba4689b03f82a085f9f30f": {
          "model_module": "@jupyter-widgets/base",
          "model_name": "LayoutModel",
          "model_module_version": "1.2.0",
          "state": {
            "_model_module": "@jupyter-widgets/base",
            "_model_module_version": "1.2.0",
            "_model_name": "LayoutModel",
            "_view_count": null,
            "_view_module": "@jupyter-widgets/base",
            "_view_module_version": "1.2.0",
            "_view_name": "LayoutView",
            "align_content": null,
            "align_items": null,
            "align_self": null,
            "border": null,
            "bottom": null,
            "display": null,
            "flex": null,
            "flex_flow": null,
            "grid_area": null,
            "grid_auto_columns": null,
            "grid_auto_flow": null,
            "grid_auto_rows": null,
            "grid_column": null,
            "grid_gap": null,
            "grid_row": null,
            "grid_template_areas": null,
            "grid_template_columns": null,
            "grid_template_rows": null,
            "height": null,
            "justify_content": null,
            "justify_items": null,
            "left": null,
            "margin": null,
            "max_height": null,
            "max_width": null,
            "min_height": null,
            "min_width": null,
            "object_fit": null,
            "object_position": null,
            "order": null,
            "overflow": null,
            "overflow_x": null,
            "overflow_y": null,
            "padding": null,
            "right": null,
            "top": null,
            "visibility": null,
            "width": null
          }
        },
        "882ea781036d4709ba37ecd719cc3f85": {
          "model_module": "@jupyter-widgets/controls",
          "model_name": "ProgressStyleModel",
          "model_module_version": "1.5.0",
          "state": {
            "_model_module": "@jupyter-widgets/controls",
            "_model_module_version": "1.5.0",
            "_model_name": "ProgressStyleModel",
            "_view_count": null,
            "_view_module": "@jupyter-widgets/base",
            "_view_module_version": "1.2.0",
            "_view_name": "StyleView",
            "bar_color": null,
            "description_width": ""
          }
        },
        "d22b17c66b364c9bbd1a3869b7f99d4d": {
          "model_module": "@jupyter-widgets/base",
          "model_name": "LayoutModel",
          "model_module_version": "1.2.0",
          "state": {
            "_model_module": "@jupyter-widgets/base",
            "_model_module_version": "1.2.0",
            "_model_name": "LayoutModel",
            "_view_count": null,
            "_view_module": "@jupyter-widgets/base",
            "_view_module_version": "1.2.0",
            "_view_name": "LayoutView",
            "align_content": null,
            "align_items": null,
            "align_self": null,
            "border": null,
            "bottom": null,
            "display": null,
            "flex": null,
            "flex_flow": null,
            "grid_area": null,
            "grid_auto_columns": null,
            "grid_auto_flow": null,
            "grid_auto_rows": null,
            "grid_column": null,
            "grid_gap": null,
            "grid_row": null,
            "grid_template_areas": null,
            "grid_template_columns": null,
            "grid_template_rows": null,
            "height": null,
            "justify_content": null,
            "justify_items": null,
            "left": null,
            "margin": null,
            "max_height": null,
            "max_width": null,
            "min_height": null,
            "min_width": null,
            "object_fit": null,
            "object_position": null,
            "order": null,
            "overflow": null,
            "overflow_x": null,
            "overflow_y": null,
            "padding": null,
            "right": null,
            "top": null,
            "visibility": null,
            "width": null
          }
        },
        "4ce91e98b934405d92e12d338e93bd1c": {
          "model_module": "@jupyter-widgets/controls",
          "model_name": "DescriptionStyleModel",
          "model_module_version": "1.5.0",
          "state": {
            "_model_module": "@jupyter-widgets/controls",
            "_model_module_version": "1.5.0",
            "_model_name": "DescriptionStyleModel",
            "_view_count": null,
            "_view_module": "@jupyter-widgets/base",
            "_view_module_version": "1.2.0",
            "_view_name": "StyleView",
            "description_width": ""
          }
        },
        "4a936ec0d5644f8e848ac49bea3fa39e": {
          "model_module": "@jupyter-widgets/controls",
          "model_name": "HBoxModel",
          "model_module_version": "1.5.0",
          "state": {
            "_dom_classes": [],
            "_model_module": "@jupyter-widgets/controls",
            "_model_module_version": "1.5.0",
            "_model_name": "HBoxModel",
            "_view_count": null,
            "_view_module": "@jupyter-widgets/controls",
            "_view_module_version": "1.5.0",
            "_view_name": "HBoxView",
            "box_style": "",
            "children": [
              "IPY_MODEL_c986e35b2e26483eb36761b64334b69a",
              "IPY_MODEL_bac7f4207c3344f8854c4f9112f2fe60",
              "IPY_MODEL_f3caaf09b48e4341aa183137cf6c2978"
            ],
            "layout": "IPY_MODEL_bb853f3b8ecb4b219452da3d5238fa9a"
          }
        },
        "c986e35b2e26483eb36761b64334b69a": {
          "model_module": "@jupyter-widgets/controls",
          "model_name": "HTMLModel",
          "model_module_version": "1.5.0",
          "state": {
            "_dom_classes": [],
            "_model_module": "@jupyter-widgets/controls",
            "_model_module_version": "1.5.0",
            "_model_name": "HTMLModel",
            "_view_count": null,
            "_view_module": "@jupyter-widgets/controls",
            "_view_module_version": "1.5.0",
            "_view_name": "HTMLView",
            "description": "",
            "description_tooltip": null,
            "layout": "IPY_MODEL_cdaf69cec41243559e2d807811add37e",
            "placeholder": "​",
            "style": "IPY_MODEL_2633ca91aa5648c69896a29623af5cfd",
            "value": "config.json: 100%"
          }
        },
        "bac7f4207c3344f8854c4f9112f2fe60": {
          "model_module": "@jupyter-widgets/controls",
          "model_name": "FloatProgressModel",
          "model_module_version": "1.5.0",
          "state": {
            "_dom_classes": [],
            "_model_module": "@jupyter-widgets/controls",
            "_model_module_version": "1.5.0",
            "_model_name": "FloatProgressModel",
            "_view_count": null,
            "_view_module": "@jupyter-widgets/controls",
            "_view_module_version": "1.5.0",
            "_view_name": "ProgressView",
            "bar_style": "success",
            "description": "",
            "description_tooltip": null,
            "layout": "IPY_MODEL_eebef2aa6bf44c089c62e010a0e243a9",
            "max": 1568,
            "min": 0,
            "orientation": "horizontal",
            "style": "IPY_MODEL_f9749494011f46838c73e3a756406e07",
            "value": 1568
          }
        },
        "f3caaf09b48e4341aa183137cf6c2978": {
          "model_module": "@jupyter-widgets/controls",
          "model_name": "HTMLModel",
          "model_module_version": "1.5.0",
          "state": {
            "_dom_classes": [],
            "_model_module": "@jupyter-widgets/controls",
            "_model_module_version": "1.5.0",
            "_model_name": "HTMLModel",
            "_view_count": null,
            "_view_module": "@jupyter-widgets/controls",
            "_view_module_version": "1.5.0",
            "_view_name": "HTMLView",
            "description": "",
            "description_tooltip": null,
            "layout": "IPY_MODEL_e468477148c742d1ac18227b60df9e82",
            "placeholder": "​",
            "style": "IPY_MODEL_ba6884428f1c457ca2f621d512baec74",
            "value": " 1.57k/1.57k [00:00&lt;00:00, 134kB/s]"
          }
        },
        "bb853f3b8ecb4b219452da3d5238fa9a": {
          "model_module": "@jupyter-widgets/base",
          "model_name": "LayoutModel",
          "model_module_version": "1.2.0",
          "state": {
            "_model_module": "@jupyter-widgets/base",
            "_model_module_version": "1.2.0",
            "_model_name": "LayoutModel",
            "_view_count": null,
            "_view_module": "@jupyter-widgets/base",
            "_view_module_version": "1.2.0",
            "_view_name": "LayoutView",
            "align_content": null,
            "align_items": null,
            "align_self": null,
            "border": null,
            "bottom": null,
            "display": null,
            "flex": null,
            "flex_flow": null,
            "grid_area": null,
            "grid_auto_columns": null,
            "grid_auto_flow": null,
            "grid_auto_rows": null,
            "grid_column": null,
            "grid_gap": null,
            "grid_row": null,
            "grid_template_areas": null,
            "grid_template_columns": null,
            "grid_template_rows": null,
            "height": null,
            "justify_content": null,
            "justify_items": null,
            "left": null,
            "margin": null,
            "max_height": null,
            "max_width": null,
            "min_height": null,
            "min_width": null,
            "object_fit": null,
            "object_position": null,
            "order": null,
            "overflow": null,
            "overflow_x": null,
            "overflow_y": null,
            "padding": null,
            "right": null,
            "top": null,
            "visibility": null,
            "width": null
          }
        },
        "cdaf69cec41243559e2d807811add37e": {
          "model_module": "@jupyter-widgets/base",
          "model_name": "LayoutModel",
          "model_module_version": "1.2.0",
          "state": {
            "_model_module": "@jupyter-widgets/base",
            "_model_module_version": "1.2.0",
            "_model_name": "LayoutModel",
            "_view_count": null,
            "_view_module": "@jupyter-widgets/base",
            "_view_module_version": "1.2.0",
            "_view_name": "LayoutView",
            "align_content": null,
            "align_items": null,
            "align_self": null,
            "border": null,
            "bottom": null,
            "display": null,
            "flex": null,
            "flex_flow": null,
            "grid_area": null,
            "grid_auto_columns": null,
            "grid_auto_flow": null,
            "grid_auto_rows": null,
            "grid_column": null,
            "grid_gap": null,
            "grid_row": null,
            "grid_template_areas": null,
            "grid_template_columns": null,
            "grid_template_rows": null,
            "height": null,
            "justify_content": null,
            "justify_items": null,
            "left": null,
            "margin": null,
            "max_height": null,
            "max_width": null,
            "min_height": null,
            "min_width": null,
            "object_fit": null,
            "object_position": null,
            "order": null,
            "overflow": null,
            "overflow_x": null,
            "overflow_y": null,
            "padding": null,
            "right": null,
            "top": null,
            "visibility": null,
            "width": null
          }
        },
        "2633ca91aa5648c69896a29623af5cfd": {
          "model_module": "@jupyter-widgets/controls",
          "model_name": "DescriptionStyleModel",
          "model_module_version": "1.5.0",
          "state": {
            "_model_module": "@jupyter-widgets/controls",
            "_model_module_version": "1.5.0",
            "_model_name": "DescriptionStyleModel",
            "_view_count": null,
            "_view_module": "@jupyter-widgets/base",
            "_view_module_version": "1.2.0",
            "_view_name": "StyleView",
            "description_width": ""
          }
        },
        "eebef2aa6bf44c089c62e010a0e243a9": {
          "model_module": "@jupyter-widgets/base",
          "model_name": "LayoutModel",
          "model_module_version": "1.2.0",
          "state": {
            "_model_module": "@jupyter-widgets/base",
            "_model_module_version": "1.2.0",
            "_model_name": "LayoutModel",
            "_view_count": null,
            "_view_module": "@jupyter-widgets/base",
            "_view_module_version": "1.2.0",
            "_view_name": "LayoutView",
            "align_content": null,
            "align_items": null,
            "align_self": null,
            "border": null,
            "bottom": null,
            "display": null,
            "flex": null,
            "flex_flow": null,
            "grid_area": null,
            "grid_auto_columns": null,
            "grid_auto_flow": null,
            "grid_auto_rows": null,
            "grid_column": null,
            "grid_gap": null,
            "grid_row": null,
            "grid_template_areas": null,
            "grid_template_columns": null,
            "grid_template_rows": null,
            "height": null,
            "justify_content": null,
            "justify_items": null,
            "left": null,
            "margin": null,
            "max_height": null,
            "max_width": null,
            "min_height": null,
            "min_width": null,
            "object_fit": null,
            "object_position": null,
            "order": null,
            "overflow": null,
            "overflow_x": null,
            "overflow_y": null,
            "padding": null,
            "right": null,
            "top": null,
            "visibility": null,
            "width": null
          }
        },
        "f9749494011f46838c73e3a756406e07": {
          "model_module": "@jupyter-widgets/controls",
          "model_name": "ProgressStyleModel",
          "model_module_version": "1.5.0",
          "state": {
            "_model_module": "@jupyter-widgets/controls",
            "_model_module_version": "1.5.0",
            "_model_name": "ProgressStyleModel",
            "_view_count": null,
            "_view_module": "@jupyter-widgets/base",
            "_view_module_version": "1.2.0",
            "_view_name": "StyleView",
            "bar_color": null,
            "description_width": ""
          }
        },
        "e468477148c742d1ac18227b60df9e82": {
          "model_module": "@jupyter-widgets/base",
          "model_name": "LayoutModel",
          "model_module_version": "1.2.0",
          "state": {
            "_model_module": "@jupyter-widgets/base",
            "_model_module_version": "1.2.0",
            "_model_name": "LayoutModel",
            "_view_count": null,
            "_view_module": "@jupyter-widgets/base",
            "_view_module_version": "1.2.0",
            "_view_name": "LayoutView",
            "align_content": null,
            "align_items": null,
            "align_self": null,
            "border": null,
            "bottom": null,
            "display": null,
            "flex": null,
            "flex_flow": null,
            "grid_area": null,
            "grid_auto_columns": null,
            "grid_auto_flow": null,
            "grid_auto_rows": null,
            "grid_column": null,
            "grid_gap": null,
            "grid_row": null,
            "grid_template_areas": null,
            "grid_template_columns": null,
            "grid_template_rows": null,
            "height": null,
            "justify_content": null,
            "justify_items": null,
            "left": null,
            "margin": null,
            "max_height": null,
            "max_width": null,
            "min_height": null,
            "min_width": null,
            "object_fit": null,
            "object_position": null,
            "order": null,
            "overflow": null,
            "overflow_x": null,
            "overflow_y": null,
            "padding": null,
            "right": null,
            "top": null,
            "visibility": null,
            "width": null
          }
        },
        "ba6884428f1c457ca2f621d512baec74": {
          "model_module": "@jupyter-widgets/controls",
          "model_name": "DescriptionStyleModel",
          "model_module_version": "1.5.0",
          "state": {
            "_model_module": "@jupyter-widgets/controls",
            "_model_module_version": "1.5.0",
            "_model_name": "DescriptionStyleModel",
            "_view_count": null,
            "_view_module": "@jupyter-widgets/base",
            "_view_module_version": "1.2.0",
            "_view_name": "StyleView",
            "description_width": ""
          }
        },
        "d367e648ed604b93aa9e0d929692f18d": {
          "model_module": "@jupyter-widgets/controls",
          "model_name": "HBoxModel",
          "model_module_version": "1.5.0",
          "state": {
            "_dom_classes": [],
            "_model_module": "@jupyter-widgets/controls",
            "_model_module_version": "1.5.0",
            "_model_name": "HBoxModel",
            "_view_count": null,
            "_view_module": "@jupyter-widgets/controls",
            "_view_module_version": "1.5.0",
            "_view_name": "HBoxView",
            "box_style": "",
            "children": [
              "IPY_MODEL_90dbb08a601f43a49908e391f3433292",
              "IPY_MODEL_dea650ebe2e4428793280f886c5ebd1b",
              "IPY_MODEL_a4c388a6beba4c628d9cb880ecae3b18"
            ],
            "layout": "IPY_MODEL_178d13a8a43d48bb8f0441612cb02349"
          }
        },
        "90dbb08a601f43a49908e391f3433292": {
          "model_module": "@jupyter-widgets/controls",
          "model_name": "HTMLModel",
          "model_module_version": "1.5.0",
          "state": {
            "_dom_classes": [],
            "_model_module": "@jupyter-widgets/controls",
            "_model_module_version": "1.5.0",
            "_model_name": "HTMLModel",
            "_view_count": null,
            "_view_module": "@jupyter-widgets/controls",
            "_view_module_version": "1.5.0",
            "_view_name": "HTMLView",
            "description": "",
            "description_tooltip": null,
            "layout": "IPY_MODEL_1017087aa33543988b8a8b2ada70d172",
            "placeholder": "​",
            "style": "IPY_MODEL_a19c84ca54b34d8ab73bd2bfab1a672e",
            "value": "pytorch_model.bin: 100%"
          }
        },
        "dea650ebe2e4428793280f886c5ebd1b": {
          "model_module": "@jupyter-widgets/controls",
          "model_name": "FloatProgressModel",
          "model_module_version": "1.5.0",
          "state": {
            "_dom_classes": [],
            "_model_module": "@jupyter-widgets/controls",
            "_model_module_version": "1.5.0",
            "_model_name": "FloatProgressModel",
            "_view_count": null,
            "_view_module": "@jupyter-widgets/controls",
            "_view_module_version": "1.5.0",
            "_view_name": "ProgressView",
            "bar_style": "success",
            "description": "",
            "description_tooltip": null,
            "layout": "IPY_MODEL_ba55f1a3e07e47bab72ed13ed18acd44",
            "max": 1269737156,
            "min": 0,
            "orientation": "horizontal",
            "style": "IPY_MODEL_97fea438be4f431fbb903309c5db3aa0",
            "value": 1269737156
          }
        },
        "a4c388a6beba4c628d9cb880ecae3b18": {
          "model_module": "@jupyter-widgets/controls",
          "model_name": "HTMLModel",
          "model_module_version": "1.5.0",
          "state": {
            "_dom_classes": [],
            "_model_module": "@jupyter-widgets/controls",
            "_model_module_version": "1.5.0",
            "_model_name": "HTMLModel",
            "_view_count": null,
            "_view_module": "@jupyter-widgets/controls",
            "_view_module_version": "1.5.0",
            "_view_name": "HTMLView",
            "description": "",
            "description_tooltip": null,
            "layout": "IPY_MODEL_ca68326728314d879864172985916f26",
            "placeholder": "​",
            "style": "IPY_MODEL_4d11bcb991b348babc7a311ba4c05e71",
            "value": " 1.27G/1.27G [00:20&lt;00:00, 36.2MB/s]"
          }
        },
        "178d13a8a43d48bb8f0441612cb02349": {
          "model_module": "@jupyter-widgets/base",
          "model_name": "LayoutModel",
          "model_module_version": "1.2.0",
          "state": {
            "_model_module": "@jupyter-widgets/base",
            "_model_module_version": "1.2.0",
            "_model_name": "LayoutModel",
            "_view_count": null,
            "_view_module": "@jupyter-widgets/base",
            "_view_module_version": "1.2.0",
            "_view_name": "LayoutView",
            "align_content": null,
            "align_items": null,
            "align_self": null,
            "border": null,
            "bottom": null,
            "display": null,
            "flex": null,
            "flex_flow": null,
            "grid_area": null,
            "grid_auto_columns": null,
            "grid_auto_flow": null,
            "grid_auto_rows": null,
            "grid_column": null,
            "grid_gap": null,
            "grid_row": null,
            "grid_template_areas": null,
            "grid_template_columns": null,
            "grid_template_rows": null,
            "height": null,
            "justify_content": null,
            "justify_items": null,
            "left": null,
            "margin": null,
            "max_height": null,
            "max_width": null,
            "min_height": null,
            "min_width": null,
            "object_fit": null,
            "object_position": null,
            "order": null,
            "overflow": null,
            "overflow_x": null,
            "overflow_y": null,
            "padding": null,
            "right": null,
            "top": null,
            "visibility": null,
            "width": null
          }
        },
        "1017087aa33543988b8a8b2ada70d172": {
          "model_module": "@jupyter-widgets/base",
          "model_name": "LayoutModel",
          "model_module_version": "1.2.0",
          "state": {
            "_model_module": "@jupyter-widgets/base",
            "_model_module_version": "1.2.0",
            "_model_name": "LayoutModel",
            "_view_count": null,
            "_view_module": "@jupyter-widgets/base",
            "_view_module_version": "1.2.0",
            "_view_name": "LayoutView",
            "align_content": null,
            "align_items": null,
            "align_self": null,
            "border": null,
            "bottom": null,
            "display": null,
            "flex": null,
            "flex_flow": null,
            "grid_area": null,
            "grid_auto_columns": null,
            "grid_auto_flow": null,
            "grid_auto_rows": null,
            "grid_column": null,
            "grid_gap": null,
            "grid_row": null,
            "grid_template_areas": null,
            "grid_template_columns": null,
            "grid_template_rows": null,
            "height": null,
            "justify_content": null,
            "justify_items": null,
            "left": null,
            "margin": null,
            "max_height": null,
            "max_width": null,
            "min_height": null,
            "min_width": null,
            "object_fit": null,
            "object_position": null,
            "order": null,
            "overflow": null,
            "overflow_x": null,
            "overflow_y": null,
            "padding": null,
            "right": null,
            "top": null,
            "visibility": null,
            "width": null
          }
        },
        "a19c84ca54b34d8ab73bd2bfab1a672e": {
          "model_module": "@jupyter-widgets/controls",
          "model_name": "DescriptionStyleModel",
          "model_module_version": "1.5.0",
          "state": {
            "_model_module": "@jupyter-widgets/controls",
            "_model_module_version": "1.5.0",
            "_model_name": "DescriptionStyleModel",
            "_view_count": null,
            "_view_module": "@jupyter-widgets/base",
            "_view_module_version": "1.2.0",
            "_view_name": "StyleView",
            "description_width": ""
          }
        },
        "ba55f1a3e07e47bab72ed13ed18acd44": {
          "model_module": "@jupyter-widgets/base",
          "model_name": "LayoutModel",
          "model_module_version": "1.2.0",
          "state": {
            "_model_module": "@jupyter-widgets/base",
            "_model_module_version": "1.2.0",
            "_model_name": "LayoutModel",
            "_view_count": null,
            "_view_module": "@jupyter-widgets/base",
            "_view_module_version": "1.2.0",
            "_view_name": "LayoutView",
            "align_content": null,
            "align_items": null,
            "align_self": null,
            "border": null,
            "bottom": null,
            "display": null,
            "flex": null,
            "flex_flow": null,
            "grid_area": null,
            "grid_auto_columns": null,
            "grid_auto_flow": null,
            "grid_auto_rows": null,
            "grid_column": null,
            "grid_gap": null,
            "grid_row": null,
            "grid_template_areas": null,
            "grid_template_columns": null,
            "grid_template_rows": null,
            "height": null,
            "justify_content": null,
            "justify_items": null,
            "left": null,
            "margin": null,
            "max_height": null,
            "max_width": null,
            "min_height": null,
            "min_width": null,
            "object_fit": null,
            "object_position": null,
            "order": null,
            "overflow": null,
            "overflow_x": null,
            "overflow_y": null,
            "padding": null,
            "right": null,
            "top": null,
            "visibility": null,
            "width": null
          }
        },
        "97fea438be4f431fbb903309c5db3aa0": {
          "model_module": "@jupyter-widgets/controls",
          "model_name": "ProgressStyleModel",
          "model_module_version": "1.5.0",
          "state": {
            "_model_module": "@jupyter-widgets/controls",
            "_model_module_version": "1.5.0",
            "_model_name": "ProgressStyleModel",
            "_view_count": null,
            "_view_module": "@jupyter-widgets/base",
            "_view_module_version": "1.2.0",
            "_view_name": "StyleView",
            "bar_color": null,
            "description_width": ""
          }
        },
        "ca68326728314d879864172985916f26": {
          "model_module": "@jupyter-widgets/base",
          "model_name": "LayoutModel",
          "model_module_version": "1.2.0",
          "state": {
            "_model_module": "@jupyter-widgets/base",
            "_model_module_version": "1.2.0",
            "_model_name": "LayoutModel",
            "_view_count": null,
            "_view_module": "@jupyter-widgets/base",
            "_view_module_version": "1.2.0",
            "_view_name": "LayoutView",
            "align_content": null,
            "align_items": null,
            "align_self": null,
            "border": null,
            "bottom": null,
            "display": null,
            "flex": null,
            "flex_flow": null,
            "grid_area": null,
            "grid_auto_columns": null,
            "grid_auto_flow": null,
            "grid_auto_rows": null,
            "grid_column": null,
            "grid_gap": null,
            "grid_row": null,
            "grid_template_areas": null,
            "grid_template_columns": null,
            "grid_template_rows": null,
            "height": null,
            "justify_content": null,
            "justify_items": null,
            "left": null,
            "margin": null,
            "max_height": null,
            "max_width": null,
            "min_height": null,
            "min_width": null,
            "object_fit": null,
            "object_position": null,
            "order": null,
            "overflow": null,
            "overflow_x": null,
            "overflow_y": null,
            "padding": null,
            "right": null,
            "top": null,
            "visibility": null,
            "width": null
          }
        },
        "4d11bcb991b348babc7a311ba4c05e71": {
          "model_module": "@jupyter-widgets/controls",
          "model_name": "DescriptionStyleModel",
          "model_module_version": "1.5.0",
          "state": {
            "_model_module": "@jupyter-widgets/controls",
            "_model_module_version": "1.5.0",
            "_model_name": "DescriptionStyleModel",
            "_view_count": null,
            "_view_module": "@jupyter-widgets/base",
            "_view_module_version": "1.2.0",
            "_view_name": "StyleView",
            "description_width": ""
          }
        },
        "b94f2d3259044150b5f46cd443f56972": {
          "model_module": "@jupyter-widgets/controls",
          "model_name": "HBoxModel",
          "model_module_version": "1.5.0",
          "state": {
            "_dom_classes": [],
            "_model_module": "@jupyter-widgets/controls",
            "_model_module_version": "1.5.0",
            "_model_name": "HBoxModel",
            "_view_count": null,
            "_view_module": "@jupyter-widgets/controls",
            "_view_module_version": "1.5.0",
            "_view_name": "HBoxView",
            "box_style": "",
            "children": [
              "IPY_MODEL_52fa526ec11c45808762b7413ac6a80c",
              "IPY_MODEL_830e226ea0d44ae6acd798eb60b4cb1a",
              "IPY_MODEL_70e7bcc0b4bd4922b08768e57ad2f043"
            ],
            "layout": "IPY_MODEL_a10d44ffcb5841ceb04527159e5439da"
          }
        },
        "52fa526ec11c45808762b7413ac6a80c": {
          "model_module": "@jupyter-widgets/controls",
          "model_name": "HTMLModel",
          "model_module_version": "1.5.0",
          "state": {
            "_dom_classes": [],
            "_model_module": "@jupyter-widgets/controls",
            "_model_module_version": "1.5.0",
            "_model_name": "HTMLModel",
            "_view_count": null,
            "_view_module": "@jupyter-widgets/controls",
            "_view_module_version": "1.5.0",
            "_view_name": "HTMLView",
            "description": "",
            "description_tooltip": null,
            "layout": "IPY_MODEL_8acd4062d67042668e75c03745b642b2",
            "placeholder": "​",
            "style": "IPY_MODEL_b40c7edc9e324393a367cb94095017e6",
            "value": "Map: 100%"
          }
        },
        "830e226ea0d44ae6acd798eb60b4cb1a": {
          "model_module": "@jupyter-widgets/controls",
          "model_name": "FloatProgressModel",
          "model_module_version": "1.5.0",
          "state": {
            "_dom_classes": [],
            "_model_module": "@jupyter-widgets/controls",
            "_model_module_version": "1.5.0",
            "_model_name": "FloatProgressModel",
            "_view_count": null,
            "_view_module": "@jupyter-widgets/controls",
            "_view_module_version": "1.5.0",
            "_view_name": "ProgressView",
            "bar_style": "success",
            "description": "",
            "description_tooltip": null,
            "layout": "IPY_MODEL_8af6c1858775482c833cec002a4926e9",
            "max": 90,
            "min": 0,
            "orientation": "horizontal",
            "style": "IPY_MODEL_a21a7443e04843039fda52016976b16c",
            "value": 90
          }
        },
        "70e7bcc0b4bd4922b08768e57ad2f043": {
          "model_module": "@jupyter-widgets/controls",
          "model_name": "HTMLModel",
          "model_module_version": "1.5.0",
          "state": {
            "_dom_classes": [],
            "_model_module": "@jupyter-widgets/controls",
            "_model_module_version": "1.5.0",
            "_model_name": "HTMLModel",
            "_view_count": null,
            "_view_module": "@jupyter-widgets/controls",
            "_view_module_version": "1.5.0",
            "_view_name": "HTMLView",
            "description": "",
            "description_tooltip": null,
            "layout": "IPY_MODEL_24e4e535e7204a65a685a7dce34688f1",
            "placeholder": "​",
            "style": "IPY_MODEL_c4e4de48157f44fe9372d5bb6faabb34",
            "value": " 90/90 [00:51&lt;00:00,  1.71 examples/s]"
          }
        },
        "a10d44ffcb5841ceb04527159e5439da": {
          "model_module": "@jupyter-widgets/base",
          "model_name": "LayoutModel",
          "model_module_version": "1.2.0",
          "state": {
            "_model_module": "@jupyter-widgets/base",
            "_model_module_version": "1.2.0",
            "_model_name": "LayoutModel",
            "_view_count": null,
            "_view_module": "@jupyter-widgets/base",
            "_view_module_version": "1.2.0",
            "_view_name": "LayoutView",
            "align_content": null,
            "align_items": null,
            "align_self": null,
            "border": null,
            "bottom": null,
            "display": null,
            "flex": null,
            "flex_flow": null,
            "grid_area": null,
            "grid_auto_columns": null,
            "grid_auto_flow": null,
            "grid_auto_rows": null,
            "grid_column": null,
            "grid_gap": null,
            "grid_row": null,
            "grid_template_areas": null,
            "grid_template_columns": null,
            "grid_template_rows": null,
            "height": null,
            "justify_content": null,
            "justify_items": null,
            "left": null,
            "margin": null,
            "max_height": null,
            "max_width": null,
            "min_height": null,
            "min_width": null,
            "object_fit": null,
            "object_position": null,
            "order": null,
            "overflow": null,
            "overflow_x": null,
            "overflow_y": null,
            "padding": null,
            "right": null,
            "top": null,
            "visibility": null,
            "width": null
          }
        },
        "8acd4062d67042668e75c03745b642b2": {
          "model_module": "@jupyter-widgets/base",
          "model_name": "LayoutModel",
          "model_module_version": "1.2.0",
          "state": {
            "_model_module": "@jupyter-widgets/base",
            "_model_module_version": "1.2.0",
            "_model_name": "LayoutModel",
            "_view_count": null,
            "_view_module": "@jupyter-widgets/base",
            "_view_module_version": "1.2.0",
            "_view_name": "LayoutView",
            "align_content": null,
            "align_items": null,
            "align_self": null,
            "border": null,
            "bottom": null,
            "display": null,
            "flex": null,
            "flex_flow": null,
            "grid_area": null,
            "grid_auto_columns": null,
            "grid_auto_flow": null,
            "grid_auto_rows": null,
            "grid_column": null,
            "grid_gap": null,
            "grid_row": null,
            "grid_template_areas": null,
            "grid_template_columns": null,
            "grid_template_rows": null,
            "height": null,
            "justify_content": null,
            "justify_items": null,
            "left": null,
            "margin": null,
            "max_height": null,
            "max_width": null,
            "min_height": null,
            "min_width": null,
            "object_fit": null,
            "object_position": null,
            "order": null,
            "overflow": null,
            "overflow_x": null,
            "overflow_y": null,
            "padding": null,
            "right": null,
            "top": null,
            "visibility": null,
            "width": null
          }
        },
        "b40c7edc9e324393a367cb94095017e6": {
          "model_module": "@jupyter-widgets/controls",
          "model_name": "DescriptionStyleModel",
          "model_module_version": "1.5.0",
          "state": {
            "_model_module": "@jupyter-widgets/controls",
            "_model_module_version": "1.5.0",
            "_model_name": "DescriptionStyleModel",
            "_view_count": null,
            "_view_module": "@jupyter-widgets/base",
            "_view_module_version": "1.2.0",
            "_view_name": "StyleView",
            "description_width": ""
          }
        },
        "8af6c1858775482c833cec002a4926e9": {
          "model_module": "@jupyter-widgets/base",
          "model_name": "LayoutModel",
          "model_module_version": "1.2.0",
          "state": {
            "_model_module": "@jupyter-widgets/base",
            "_model_module_version": "1.2.0",
            "_model_name": "LayoutModel",
            "_view_count": null,
            "_view_module": "@jupyter-widgets/base",
            "_view_module_version": "1.2.0",
            "_view_name": "LayoutView",
            "align_content": null,
            "align_items": null,
            "align_self": null,
            "border": null,
            "bottom": null,
            "display": null,
            "flex": null,
            "flex_flow": null,
            "grid_area": null,
            "grid_auto_columns": null,
            "grid_auto_flow": null,
            "grid_auto_rows": null,
            "grid_column": null,
            "grid_gap": null,
            "grid_row": null,
            "grid_template_areas": null,
            "grid_template_columns": null,
            "grid_template_rows": null,
            "height": null,
            "justify_content": null,
            "justify_items": null,
            "left": null,
            "margin": null,
            "max_height": null,
            "max_width": null,
            "min_height": null,
            "min_width": null,
            "object_fit": null,
            "object_position": null,
            "order": null,
            "overflow": null,
            "overflow_x": null,
            "overflow_y": null,
            "padding": null,
            "right": null,
            "top": null,
            "visibility": null,
            "width": null
          }
        },
        "a21a7443e04843039fda52016976b16c": {
          "model_module": "@jupyter-widgets/controls",
          "model_name": "ProgressStyleModel",
          "model_module_version": "1.5.0",
          "state": {
            "_model_module": "@jupyter-widgets/controls",
            "_model_module_version": "1.5.0",
            "_model_name": "ProgressStyleModel",
            "_view_count": null,
            "_view_module": "@jupyter-widgets/base",
            "_view_module_version": "1.2.0",
            "_view_name": "StyleView",
            "bar_color": null,
            "description_width": ""
          }
        },
        "24e4e535e7204a65a685a7dce34688f1": {
          "model_module": "@jupyter-widgets/base",
          "model_name": "LayoutModel",
          "model_module_version": "1.2.0",
          "state": {
            "_model_module": "@jupyter-widgets/base",
            "_model_module_version": "1.2.0",
            "_model_name": "LayoutModel",
            "_view_count": null,
            "_view_module": "@jupyter-widgets/base",
            "_view_module_version": "1.2.0",
            "_view_name": "LayoutView",
            "align_content": null,
            "align_items": null,
            "align_self": null,
            "border": null,
            "bottom": null,
            "display": null,
            "flex": null,
            "flex_flow": null,
            "grid_area": null,
            "grid_auto_columns": null,
            "grid_auto_flow": null,
            "grid_auto_rows": null,
            "grid_column": null,
            "grid_gap": null,
            "grid_row": null,
            "grid_template_areas": null,
            "grid_template_columns": null,
            "grid_template_rows": null,
            "height": null,
            "justify_content": null,
            "justify_items": null,
            "left": null,
            "margin": null,
            "max_height": null,
            "max_width": null,
            "min_height": null,
            "min_width": null,
            "object_fit": null,
            "object_position": null,
            "order": null,
            "overflow": null,
            "overflow_x": null,
            "overflow_y": null,
            "padding": null,
            "right": null,
            "top": null,
            "visibility": null,
            "width": null
          }
        },
        "c4e4de48157f44fe9372d5bb6faabb34": {
          "model_module": "@jupyter-widgets/controls",
          "model_name": "DescriptionStyleModel",
          "model_module_version": "1.5.0",
          "state": {
            "_model_module": "@jupyter-widgets/controls",
            "_model_module_version": "1.5.0",
            "_model_name": "DescriptionStyleModel",
            "_view_count": null,
            "_view_module": "@jupyter-widgets/base",
            "_view_module_version": "1.2.0",
            "_view_name": "StyleView",
            "description_width": ""
          }
        },
        "8d0978b870214cd8af66206b2685b74d": {
          "model_module": "@jupyter-widgets/controls",
          "model_name": "HBoxModel",
          "model_module_version": "1.5.0",
          "state": {
            "_dom_classes": [],
            "_model_module": "@jupyter-widgets/controls",
            "_model_module_version": "1.5.0",
            "_model_name": "HBoxModel",
            "_view_count": null,
            "_view_module": "@jupyter-widgets/controls",
            "_view_module_version": "1.5.0",
            "_view_name": "HBoxView",
            "box_style": "",
            "children": [
              "IPY_MODEL_f0c725a28bdc4c4eb5e3fe7a6e7564cd",
              "IPY_MODEL_065aa4934c1345a0aa6601471d9288ef",
              "IPY_MODEL_ca184740674f4286aa70366425142888"
            ],
            "layout": "IPY_MODEL_4f306cb28d264783872c5ba13317e132"
          }
        },
        "f0c725a28bdc4c4eb5e3fe7a6e7564cd": {
          "model_module": "@jupyter-widgets/controls",
          "model_name": "HTMLModel",
          "model_module_version": "1.5.0",
          "state": {
            "_dom_classes": [],
            "_model_module": "@jupyter-widgets/controls",
            "_model_module_version": "1.5.0",
            "_model_name": "HTMLModel",
            "_view_count": null,
            "_view_module": "@jupyter-widgets/controls",
            "_view_module_version": "1.5.0",
            "_view_name": "HTMLView",
            "description": "",
            "description_tooltip": null,
            "layout": "IPY_MODEL_a455fc4f581746e19a1f4100c1cf02b7",
            "placeholder": "​",
            "style": "IPY_MODEL_809ffb612595492c9cc025f2325c3a0d",
            "value": "Map: 100%"
          }
        },
        "065aa4934c1345a0aa6601471d9288ef": {
          "model_module": "@jupyter-widgets/controls",
          "model_name": "FloatProgressModel",
          "model_module_version": "1.5.0",
          "state": {
            "_dom_classes": [],
            "_model_module": "@jupyter-widgets/controls",
            "_model_module_version": "1.5.0",
            "_model_name": "FloatProgressModel",
            "_view_count": null,
            "_view_module": "@jupyter-widgets/controls",
            "_view_module_version": "1.5.0",
            "_view_name": "ProgressView",
            "bar_style": "success",
            "description": "",
            "description_tooltip": null,
            "layout": "IPY_MODEL_c30cdfa9afc14237a7e3fdfa375bbf6a",
            "max": 545,
            "min": 0,
            "orientation": "horizontal",
            "style": "IPY_MODEL_1ea6233a7ddd4352a2bf8afdaf6a8e96",
            "value": 545
          }
        },
        "ca184740674f4286aa70366425142888": {
          "model_module": "@jupyter-widgets/controls",
          "model_name": "HTMLModel",
          "model_module_version": "1.5.0",
          "state": {
            "_dom_classes": [],
            "_model_module": "@jupyter-widgets/controls",
            "_model_module_version": "1.5.0",
            "_model_name": "HTMLModel",
            "_view_count": null,
            "_view_module": "@jupyter-widgets/controls",
            "_view_module_version": "1.5.0",
            "_view_name": "HTMLView",
            "description": "",
            "description_tooltip": null,
            "layout": "IPY_MODEL_e33a5e7f900a405da39f88c73745fa6d",
            "placeholder": "​",
            "style": "IPY_MODEL_04c47f3808064408acb7f890645416f1",
            "value": " 545/545 [02:41&lt;00:00,  3.50 examples/s]"
          }
        },
        "4f306cb28d264783872c5ba13317e132": {
          "model_module": "@jupyter-widgets/base",
          "model_name": "LayoutModel",
          "model_module_version": "1.2.0",
          "state": {
            "_model_module": "@jupyter-widgets/base",
            "_model_module_version": "1.2.0",
            "_model_name": "LayoutModel",
            "_view_count": null,
            "_view_module": "@jupyter-widgets/base",
            "_view_module_version": "1.2.0",
            "_view_name": "LayoutView",
            "align_content": null,
            "align_items": null,
            "align_self": null,
            "border": null,
            "bottom": null,
            "display": null,
            "flex": null,
            "flex_flow": null,
            "grid_area": null,
            "grid_auto_columns": null,
            "grid_auto_flow": null,
            "grid_auto_rows": null,
            "grid_column": null,
            "grid_gap": null,
            "grid_row": null,
            "grid_template_areas": null,
            "grid_template_columns": null,
            "grid_template_rows": null,
            "height": null,
            "justify_content": null,
            "justify_items": null,
            "left": null,
            "margin": null,
            "max_height": null,
            "max_width": null,
            "min_height": null,
            "min_width": null,
            "object_fit": null,
            "object_position": null,
            "order": null,
            "overflow": null,
            "overflow_x": null,
            "overflow_y": null,
            "padding": null,
            "right": null,
            "top": null,
            "visibility": null,
            "width": null
          }
        },
        "a455fc4f581746e19a1f4100c1cf02b7": {
          "model_module": "@jupyter-widgets/base",
          "model_name": "LayoutModel",
          "model_module_version": "1.2.0",
          "state": {
            "_model_module": "@jupyter-widgets/base",
            "_model_module_version": "1.2.0",
            "_model_name": "LayoutModel",
            "_view_count": null,
            "_view_module": "@jupyter-widgets/base",
            "_view_module_version": "1.2.0",
            "_view_name": "LayoutView",
            "align_content": null,
            "align_items": null,
            "align_self": null,
            "border": null,
            "bottom": null,
            "display": null,
            "flex": null,
            "flex_flow": null,
            "grid_area": null,
            "grid_auto_columns": null,
            "grid_auto_flow": null,
            "grid_auto_rows": null,
            "grid_column": null,
            "grid_gap": null,
            "grid_row": null,
            "grid_template_areas": null,
            "grid_template_columns": null,
            "grid_template_rows": null,
            "height": null,
            "justify_content": null,
            "justify_items": null,
            "left": null,
            "margin": null,
            "max_height": null,
            "max_width": null,
            "min_height": null,
            "min_width": null,
            "object_fit": null,
            "object_position": null,
            "order": null,
            "overflow": null,
            "overflow_x": null,
            "overflow_y": null,
            "padding": null,
            "right": null,
            "top": null,
            "visibility": null,
            "width": null
          }
        },
        "809ffb612595492c9cc025f2325c3a0d": {
          "model_module": "@jupyter-widgets/controls",
          "model_name": "DescriptionStyleModel",
          "model_module_version": "1.5.0",
          "state": {
            "_model_module": "@jupyter-widgets/controls",
            "_model_module_version": "1.5.0",
            "_model_name": "DescriptionStyleModel",
            "_view_count": null,
            "_view_module": "@jupyter-widgets/base",
            "_view_module_version": "1.2.0",
            "_view_name": "StyleView",
            "description_width": ""
          }
        },
        "c30cdfa9afc14237a7e3fdfa375bbf6a": {
          "model_module": "@jupyter-widgets/base",
          "model_name": "LayoutModel",
          "model_module_version": "1.2.0",
          "state": {
            "_model_module": "@jupyter-widgets/base",
            "_model_module_version": "1.2.0",
            "_model_name": "LayoutModel",
            "_view_count": null,
            "_view_module": "@jupyter-widgets/base",
            "_view_module_version": "1.2.0",
            "_view_name": "LayoutView",
            "align_content": null,
            "align_items": null,
            "align_self": null,
            "border": null,
            "bottom": null,
            "display": null,
            "flex": null,
            "flex_flow": null,
            "grid_area": null,
            "grid_auto_columns": null,
            "grid_auto_flow": null,
            "grid_auto_rows": null,
            "grid_column": null,
            "grid_gap": null,
            "grid_row": null,
            "grid_template_areas": null,
            "grid_template_columns": null,
            "grid_template_rows": null,
            "height": null,
            "justify_content": null,
            "justify_items": null,
            "left": null,
            "margin": null,
            "max_height": null,
            "max_width": null,
            "min_height": null,
            "min_width": null,
            "object_fit": null,
            "object_position": null,
            "order": null,
            "overflow": null,
            "overflow_x": null,
            "overflow_y": null,
            "padding": null,
            "right": null,
            "top": null,
            "visibility": null,
            "width": null
          }
        },
        "1ea6233a7ddd4352a2bf8afdaf6a8e96": {
          "model_module": "@jupyter-widgets/controls",
          "model_name": "ProgressStyleModel",
          "model_module_version": "1.5.0",
          "state": {
            "_model_module": "@jupyter-widgets/controls",
            "_model_module_version": "1.5.0",
            "_model_name": "ProgressStyleModel",
            "_view_count": null,
            "_view_module": "@jupyter-widgets/base",
            "_view_module_version": "1.2.0",
            "_view_name": "StyleView",
            "bar_color": null,
            "description_width": ""
          }
        },
        "e33a5e7f900a405da39f88c73745fa6d": {
          "model_module": "@jupyter-widgets/base",
          "model_name": "LayoutModel",
          "model_module_version": "1.2.0",
          "state": {
            "_model_module": "@jupyter-widgets/base",
            "_model_module_version": "1.2.0",
            "_model_name": "LayoutModel",
            "_view_count": null,
            "_view_module": "@jupyter-widgets/base",
            "_view_module_version": "1.2.0",
            "_view_name": "LayoutView",
            "align_content": null,
            "align_items": null,
            "align_self": null,
            "border": null,
            "bottom": null,
            "display": null,
            "flex": null,
            "flex_flow": null,
            "grid_area": null,
            "grid_auto_columns": null,
            "grid_auto_flow": null,
            "grid_auto_rows": null,
            "grid_column": null,
            "grid_gap": null,
            "grid_row": null,
            "grid_template_areas": null,
            "grid_template_columns": null,
            "grid_template_rows": null,
            "height": null,
            "justify_content": null,
            "justify_items": null,
            "left": null,
            "margin": null,
            "max_height": null,
            "max_width": null,
            "min_height": null,
            "min_width": null,
            "object_fit": null,
            "object_position": null,
            "order": null,
            "overflow": null,
            "overflow_x": null,
            "overflow_y": null,
            "padding": null,
            "right": null,
            "top": null,
            "visibility": null,
            "width": null
          }
        },
        "04c47f3808064408acb7f890645416f1": {
          "model_module": "@jupyter-widgets/controls",
          "model_name": "DescriptionStyleModel",
          "model_module_version": "1.5.0",
          "state": {
            "_model_module": "@jupyter-widgets/controls",
            "_model_module_version": "1.5.0",
            "_model_name": "DescriptionStyleModel",
            "_view_count": null,
            "_view_module": "@jupyter-widgets/base",
            "_view_module_version": "1.2.0",
            "_view_name": "StyleView",
            "description_width": ""
          }
        },
        "2f55208a74e445cfb057fd8e7523d0f7": {
          "model_module": "@jupyter-widgets/controls",
          "model_name": "VBoxModel",
          "model_module_version": "1.5.0",
          "state": {
            "_dom_classes": [],
            "_model_module": "@jupyter-widgets/controls",
            "_model_module_version": "1.5.0",
            "_model_name": "VBoxModel",
            "_view_count": null,
            "_view_module": "@jupyter-widgets/controls",
            "_view_module_version": "1.5.0",
            "_view_name": "VBoxView",
            "box_style": "",
            "children": [
              "IPY_MODEL_74e9463c5b194af2aa256da3dcf18c5a",
              "IPY_MODEL_971198eae1a545b0823295af45723f18"
            ],
            "layout": "IPY_MODEL_4530b4d1844f43e5b740a6fb96850403"
          }
        },
        "74e9463c5b194af2aa256da3dcf18c5a": {
          "model_module": "@jupyter-widgets/controls",
          "model_name": "LabelModel",
          "model_module_version": "1.5.0",
          "state": {
            "_dom_classes": [],
            "_model_module": "@jupyter-widgets/controls",
            "_model_module_version": "1.5.0",
            "_model_name": "LabelModel",
            "_view_count": null,
            "_view_module": "@jupyter-widgets/controls",
            "_view_module_version": "1.5.0",
            "_view_name": "LabelView",
            "description": "",
            "description_tooltip": null,
            "layout": "IPY_MODEL_d889799d9f424327ae2c39893577cda3",
            "placeholder": "​",
            "style": "IPY_MODEL_865912e5007548e1bc4e9efba2bed0b6",
            "value": "0.016 MB of 0.016 MB uploaded\r"
          }
        },
        "971198eae1a545b0823295af45723f18": {
          "model_module": "@jupyter-widgets/controls",
          "model_name": "FloatProgressModel",
          "model_module_version": "1.5.0",
          "state": {
            "_dom_classes": [],
            "_model_module": "@jupyter-widgets/controls",
            "_model_module_version": "1.5.0",
            "_model_name": "FloatProgressModel",
            "_view_count": null,
            "_view_module": "@jupyter-widgets/controls",
            "_view_module_version": "1.5.0",
            "_view_name": "ProgressView",
            "bar_style": "",
            "description": "",
            "description_tooltip": null,
            "layout": "IPY_MODEL_3cf72561ccce41798db8ee2f5d5be2f5",
            "max": 1,
            "min": 0,
            "orientation": "horizontal",
            "style": "IPY_MODEL_1c24617d631245fe90890a507ce3400b",
            "value": 1
          }
        },
        "4530b4d1844f43e5b740a6fb96850403": {
          "model_module": "@jupyter-widgets/base",
          "model_name": "LayoutModel",
          "model_module_version": "1.2.0",
          "state": {
            "_model_module": "@jupyter-widgets/base",
            "_model_module_version": "1.2.0",
            "_model_name": "LayoutModel",
            "_view_count": null,
            "_view_module": "@jupyter-widgets/base",
            "_view_module_version": "1.2.0",
            "_view_name": "LayoutView",
            "align_content": null,
            "align_items": null,
            "align_self": null,
            "border": null,
            "bottom": null,
            "display": null,
            "flex": null,
            "flex_flow": null,
            "grid_area": null,
            "grid_auto_columns": null,
            "grid_auto_flow": null,
            "grid_auto_rows": null,
            "grid_column": null,
            "grid_gap": null,
            "grid_row": null,
            "grid_template_areas": null,
            "grid_template_columns": null,
            "grid_template_rows": null,
            "height": null,
            "justify_content": null,
            "justify_items": null,
            "left": null,
            "margin": null,
            "max_height": null,
            "max_width": null,
            "min_height": null,
            "min_width": null,
            "object_fit": null,
            "object_position": null,
            "order": null,
            "overflow": null,
            "overflow_x": null,
            "overflow_y": null,
            "padding": null,
            "right": null,
            "top": null,
            "visibility": null,
            "width": null
          }
        },
        "d889799d9f424327ae2c39893577cda3": {
          "model_module": "@jupyter-widgets/base",
          "model_name": "LayoutModel",
          "model_module_version": "1.2.0",
          "state": {
            "_model_module": "@jupyter-widgets/base",
            "_model_module_version": "1.2.0",
            "_model_name": "LayoutModel",
            "_view_count": null,
            "_view_module": "@jupyter-widgets/base",
            "_view_module_version": "1.2.0",
            "_view_name": "LayoutView",
            "align_content": null,
            "align_items": null,
            "align_self": null,
            "border": null,
            "bottom": null,
            "display": null,
            "flex": null,
            "flex_flow": null,
            "grid_area": null,
            "grid_auto_columns": null,
            "grid_auto_flow": null,
            "grid_auto_rows": null,
            "grid_column": null,
            "grid_gap": null,
            "grid_row": null,
            "grid_template_areas": null,
            "grid_template_columns": null,
            "grid_template_rows": null,
            "height": null,
            "justify_content": null,
            "justify_items": null,
            "left": null,
            "margin": null,
            "max_height": null,
            "max_width": null,
            "min_height": null,
            "min_width": null,
            "object_fit": null,
            "object_position": null,
            "order": null,
            "overflow": null,
            "overflow_x": null,
            "overflow_y": null,
            "padding": null,
            "right": null,
            "top": null,
            "visibility": null,
            "width": null
          }
        },
        "865912e5007548e1bc4e9efba2bed0b6": {
          "model_module": "@jupyter-widgets/controls",
          "model_name": "DescriptionStyleModel",
          "model_module_version": "1.5.0",
          "state": {
            "_model_module": "@jupyter-widgets/controls",
            "_model_module_version": "1.5.0",
            "_model_name": "DescriptionStyleModel",
            "_view_count": null,
            "_view_module": "@jupyter-widgets/base",
            "_view_module_version": "1.2.0",
            "_view_name": "StyleView",
            "description_width": ""
          }
        },
        "3cf72561ccce41798db8ee2f5d5be2f5": {
          "model_module": "@jupyter-widgets/base",
          "model_name": "LayoutModel",
          "model_module_version": "1.2.0",
          "state": {
            "_model_module": "@jupyter-widgets/base",
            "_model_module_version": "1.2.0",
            "_model_name": "LayoutModel",
            "_view_count": null,
            "_view_module": "@jupyter-widgets/base",
            "_view_module_version": "1.2.0",
            "_view_name": "LayoutView",
            "align_content": null,
            "align_items": null,
            "align_self": null,
            "border": null,
            "bottom": null,
            "display": null,
            "flex": null,
            "flex_flow": null,
            "grid_area": null,
            "grid_auto_columns": null,
            "grid_auto_flow": null,
            "grid_auto_rows": null,
            "grid_column": null,
            "grid_gap": null,
            "grid_row": null,
            "grid_template_areas": null,
            "grid_template_columns": null,
            "grid_template_rows": null,
            "height": null,
            "justify_content": null,
            "justify_items": null,
            "left": null,
            "margin": null,
            "max_height": null,
            "max_width": null,
            "min_height": null,
            "min_width": null,
            "object_fit": null,
            "object_position": null,
            "order": null,
            "overflow": null,
            "overflow_x": null,
            "overflow_y": null,
            "padding": null,
            "right": null,
            "top": null,
            "visibility": null,
            "width": null
          }
        },
        "1c24617d631245fe90890a507ce3400b": {
          "model_module": "@jupyter-widgets/controls",
          "model_name": "ProgressStyleModel",
          "model_module_version": "1.5.0",
          "state": {
            "_model_module": "@jupyter-widgets/controls",
            "_model_module_version": "1.5.0",
            "_model_name": "ProgressStyleModel",
            "_view_count": null,
            "_view_module": "@jupyter-widgets/base",
            "_view_module_version": "1.2.0",
            "_view_name": "StyleView",
            "bar_color": null,
            "description_width": ""
          }
        },
        "c1a8559c49f746dfac2669bbf7d05a71": {
          "model_module": "@jupyter-widgets/controls",
          "model_name": "VBoxModel",
          "model_module_version": "1.5.0",
          "state": {
            "_dom_classes": [],
            "_model_module": "@jupyter-widgets/controls",
            "_model_module_version": "1.5.0",
            "_model_name": "VBoxModel",
            "_view_count": null,
            "_view_module": "@jupyter-widgets/controls",
            "_view_module_version": "1.5.0",
            "_view_name": "VBoxView",
            "box_style": "",
            "children": [
              "IPY_MODEL_95b278371a9c41fca02769e2ade33a77",
              "IPY_MODEL_eb917743439f4f0dbfc816beeced7845"
            ],
            "layout": "IPY_MODEL_931daeb51d71463083a30c29418d3b65"
          }
        },
        "95b278371a9c41fca02769e2ade33a77": {
          "model_module": "@jupyter-widgets/controls",
          "model_name": "LabelModel",
          "model_module_version": "1.5.0",
          "state": {
            "_dom_classes": [],
            "_model_module": "@jupyter-widgets/controls",
            "_model_module_version": "1.5.0",
            "_model_name": "LabelModel",
            "_view_count": null,
            "_view_module": "@jupyter-widgets/controls",
            "_view_module_version": "1.5.0",
            "_view_name": "LabelView",
            "description": "",
            "description_tooltip": null,
            "layout": "IPY_MODEL_6f542e7faea8492c95b988738c44df83",
            "placeholder": "​",
            "style": "IPY_MODEL_afd37805fe02422cb13f7d8e5bcf2912",
            "value": "0.015 MB of 0.015 MB uploaded\r"
          }
        },
        "eb917743439f4f0dbfc816beeced7845": {
          "model_module": "@jupyter-widgets/controls",
          "model_name": "FloatProgressModel",
          "model_module_version": "1.5.0",
          "state": {
            "_dom_classes": [],
            "_model_module": "@jupyter-widgets/controls",
            "_model_module_version": "1.5.0",
            "_model_name": "FloatProgressModel",
            "_view_count": null,
            "_view_module": "@jupyter-widgets/controls",
            "_view_module_version": "1.5.0",
            "_view_name": "ProgressView",
            "bar_style": "",
            "description": "",
            "description_tooltip": null,
            "layout": "IPY_MODEL_4cabbb584ff54d8bab9d366ecd1fb247",
            "max": 1,
            "min": 0,
            "orientation": "horizontal",
            "style": "IPY_MODEL_dbb00c4c0c504fe1bfca16cbbe90148e",
            "value": 1
          }
        },
        "931daeb51d71463083a30c29418d3b65": {
          "model_module": "@jupyter-widgets/base",
          "model_name": "LayoutModel",
          "model_module_version": "1.2.0",
          "state": {
            "_model_module": "@jupyter-widgets/base",
            "_model_module_version": "1.2.0",
            "_model_name": "LayoutModel",
            "_view_count": null,
            "_view_module": "@jupyter-widgets/base",
            "_view_module_version": "1.2.0",
            "_view_name": "LayoutView",
            "align_content": null,
            "align_items": null,
            "align_self": null,
            "border": null,
            "bottom": null,
            "display": null,
            "flex": null,
            "flex_flow": null,
            "grid_area": null,
            "grid_auto_columns": null,
            "grid_auto_flow": null,
            "grid_auto_rows": null,
            "grid_column": null,
            "grid_gap": null,
            "grid_row": null,
            "grid_template_areas": null,
            "grid_template_columns": null,
            "grid_template_rows": null,
            "height": null,
            "justify_content": null,
            "justify_items": null,
            "left": null,
            "margin": null,
            "max_height": null,
            "max_width": null,
            "min_height": null,
            "min_width": null,
            "object_fit": null,
            "object_position": null,
            "order": null,
            "overflow": null,
            "overflow_x": null,
            "overflow_y": null,
            "padding": null,
            "right": null,
            "top": null,
            "visibility": null,
            "width": null
          }
        },
        "6f542e7faea8492c95b988738c44df83": {
          "model_module": "@jupyter-widgets/base",
          "model_name": "LayoutModel",
          "model_module_version": "1.2.0",
          "state": {
            "_model_module": "@jupyter-widgets/base",
            "_model_module_version": "1.2.0",
            "_model_name": "LayoutModel",
            "_view_count": null,
            "_view_module": "@jupyter-widgets/base",
            "_view_module_version": "1.2.0",
            "_view_name": "LayoutView",
            "align_content": null,
            "align_items": null,
            "align_self": null,
            "border": null,
            "bottom": null,
            "display": null,
            "flex": null,
            "flex_flow": null,
            "grid_area": null,
            "grid_auto_columns": null,
            "grid_auto_flow": null,
            "grid_auto_rows": null,
            "grid_column": null,
            "grid_gap": null,
            "grid_row": null,
            "grid_template_areas": null,
            "grid_template_columns": null,
            "grid_template_rows": null,
            "height": null,
            "justify_content": null,
            "justify_items": null,
            "left": null,
            "margin": null,
            "max_height": null,
            "max_width": null,
            "min_height": null,
            "min_width": null,
            "object_fit": null,
            "object_position": null,
            "order": null,
            "overflow": null,
            "overflow_x": null,
            "overflow_y": null,
            "padding": null,
            "right": null,
            "top": null,
            "visibility": null,
            "width": null
          }
        },
        "afd37805fe02422cb13f7d8e5bcf2912": {
          "model_module": "@jupyter-widgets/controls",
          "model_name": "DescriptionStyleModel",
          "model_module_version": "1.5.0",
          "state": {
            "_model_module": "@jupyter-widgets/controls",
            "_model_module_version": "1.5.0",
            "_model_name": "DescriptionStyleModel",
            "_view_count": null,
            "_view_module": "@jupyter-widgets/base",
            "_view_module_version": "1.2.0",
            "_view_name": "StyleView",
            "description_width": ""
          }
        },
        "4cabbb584ff54d8bab9d366ecd1fb247": {
          "model_module": "@jupyter-widgets/base",
          "model_name": "LayoutModel",
          "model_module_version": "1.2.0",
          "state": {
            "_model_module": "@jupyter-widgets/base",
            "_model_module_version": "1.2.0",
            "_model_name": "LayoutModel",
            "_view_count": null,
            "_view_module": "@jupyter-widgets/base",
            "_view_module_version": "1.2.0",
            "_view_name": "LayoutView",
            "align_content": null,
            "align_items": null,
            "align_self": null,
            "border": null,
            "bottom": null,
            "display": null,
            "flex": null,
            "flex_flow": null,
            "grid_area": null,
            "grid_auto_columns": null,
            "grid_auto_flow": null,
            "grid_auto_rows": null,
            "grid_column": null,
            "grid_gap": null,
            "grid_row": null,
            "grid_template_areas": null,
            "grid_template_columns": null,
            "grid_template_rows": null,
            "height": null,
            "justify_content": null,
            "justify_items": null,
            "left": null,
            "margin": null,
            "max_height": null,
            "max_width": null,
            "min_height": null,
            "min_width": null,
            "object_fit": null,
            "object_position": null,
            "order": null,
            "overflow": null,
            "overflow_x": null,
            "overflow_y": null,
            "padding": null,
            "right": null,
            "top": null,
            "visibility": null,
            "width": null
          }
        },
        "dbb00c4c0c504fe1bfca16cbbe90148e": {
          "model_module": "@jupyter-widgets/controls",
          "model_name": "ProgressStyleModel",
          "model_module_version": "1.5.0",
          "state": {
            "_model_module": "@jupyter-widgets/controls",
            "_model_module_version": "1.5.0",
            "_model_name": "ProgressStyleModel",
            "_view_count": null,
            "_view_module": "@jupyter-widgets/base",
            "_view_module_version": "1.2.0",
            "_view_name": "StyleView",
            "bar_color": null,
            "description_width": ""
          }
        },
        "87ae24f532d14345826975156e716719": {
          "model_module": "@jupyter-widgets/controls",
          "model_name": "VBoxModel",
          "model_module_version": "1.5.0",
          "state": {
            "_dom_classes": [],
            "_model_module": "@jupyter-widgets/controls",
            "_model_module_version": "1.5.0",
            "_model_name": "VBoxModel",
            "_view_count": null,
            "_view_module": "@jupyter-widgets/controls",
            "_view_module_version": "1.5.0",
            "_view_name": "VBoxView",
            "box_style": "",
            "children": [
              "IPY_MODEL_cdcf7ddd6ffc4d1887b93af58f72eb46",
              "IPY_MODEL_93b7da6b46b840e3b4844f0319f853d9"
            ],
            "layout": "IPY_MODEL_c5ed82f2689a4bcfb18bfe51c994c85c"
          }
        },
        "cdcf7ddd6ffc4d1887b93af58f72eb46": {
          "model_module": "@jupyter-widgets/controls",
          "model_name": "LabelModel",
          "model_module_version": "1.5.0",
          "state": {
            "_dom_classes": [],
            "_model_module": "@jupyter-widgets/controls",
            "_model_module_version": "1.5.0",
            "_model_name": "LabelModel",
            "_view_count": null,
            "_view_module": "@jupyter-widgets/controls",
            "_view_module_version": "1.5.0",
            "_view_name": "LabelView",
            "description": "",
            "description_tooltip": null,
            "layout": "IPY_MODEL_36d69a959f8444779d0ccc0c90c912ab",
            "placeholder": "​",
            "style": "IPY_MODEL_9ca57d5b248e4319810a2d27b39ac699",
            "value": "0.014 MB of 0.014 MB uploaded\r"
          }
        },
        "93b7da6b46b840e3b4844f0319f853d9": {
          "model_module": "@jupyter-widgets/controls",
          "model_name": "FloatProgressModel",
          "model_module_version": "1.5.0",
          "state": {
            "_dom_classes": [],
            "_model_module": "@jupyter-widgets/controls",
            "_model_module_version": "1.5.0",
            "_model_name": "FloatProgressModel",
            "_view_count": null,
            "_view_module": "@jupyter-widgets/controls",
            "_view_module_version": "1.5.0",
            "_view_name": "ProgressView",
            "bar_style": "",
            "description": "",
            "description_tooltip": null,
            "layout": "IPY_MODEL_7aac23d5da7c4838a86c15800be96135",
            "max": 1,
            "min": 0,
            "orientation": "horizontal",
            "style": "IPY_MODEL_5e417d99e46343e4bb73b446d99f52db",
            "value": 1
          }
        },
        "c5ed82f2689a4bcfb18bfe51c994c85c": {
          "model_module": "@jupyter-widgets/base",
          "model_name": "LayoutModel",
          "model_module_version": "1.2.0",
          "state": {
            "_model_module": "@jupyter-widgets/base",
            "_model_module_version": "1.2.0",
            "_model_name": "LayoutModel",
            "_view_count": null,
            "_view_module": "@jupyter-widgets/base",
            "_view_module_version": "1.2.0",
            "_view_name": "LayoutView",
            "align_content": null,
            "align_items": null,
            "align_self": null,
            "border": null,
            "bottom": null,
            "display": null,
            "flex": null,
            "flex_flow": null,
            "grid_area": null,
            "grid_auto_columns": null,
            "grid_auto_flow": null,
            "grid_auto_rows": null,
            "grid_column": null,
            "grid_gap": null,
            "grid_row": null,
            "grid_template_areas": null,
            "grid_template_columns": null,
            "grid_template_rows": null,
            "height": null,
            "justify_content": null,
            "justify_items": null,
            "left": null,
            "margin": null,
            "max_height": null,
            "max_width": null,
            "min_height": null,
            "min_width": null,
            "object_fit": null,
            "object_position": null,
            "order": null,
            "overflow": null,
            "overflow_x": null,
            "overflow_y": null,
            "padding": null,
            "right": null,
            "top": null,
            "visibility": null,
            "width": null
          }
        },
        "36d69a959f8444779d0ccc0c90c912ab": {
          "model_module": "@jupyter-widgets/base",
          "model_name": "LayoutModel",
          "model_module_version": "1.2.0",
          "state": {
            "_model_module": "@jupyter-widgets/base",
            "_model_module_version": "1.2.0",
            "_model_name": "LayoutModel",
            "_view_count": null,
            "_view_module": "@jupyter-widgets/base",
            "_view_module_version": "1.2.0",
            "_view_name": "LayoutView",
            "align_content": null,
            "align_items": null,
            "align_self": null,
            "border": null,
            "bottom": null,
            "display": null,
            "flex": null,
            "flex_flow": null,
            "grid_area": null,
            "grid_auto_columns": null,
            "grid_auto_flow": null,
            "grid_auto_rows": null,
            "grid_column": null,
            "grid_gap": null,
            "grid_row": null,
            "grid_template_areas": null,
            "grid_template_columns": null,
            "grid_template_rows": null,
            "height": null,
            "justify_content": null,
            "justify_items": null,
            "left": null,
            "margin": null,
            "max_height": null,
            "max_width": null,
            "min_height": null,
            "min_width": null,
            "object_fit": null,
            "object_position": null,
            "order": null,
            "overflow": null,
            "overflow_x": null,
            "overflow_y": null,
            "padding": null,
            "right": null,
            "top": null,
            "visibility": null,
            "width": null
          }
        },
        "9ca57d5b248e4319810a2d27b39ac699": {
          "model_module": "@jupyter-widgets/controls",
          "model_name": "DescriptionStyleModel",
          "model_module_version": "1.5.0",
          "state": {
            "_model_module": "@jupyter-widgets/controls",
            "_model_module_version": "1.5.0",
            "_model_name": "DescriptionStyleModel",
            "_view_count": null,
            "_view_module": "@jupyter-widgets/base",
            "_view_module_version": "1.2.0",
            "_view_name": "StyleView",
            "description_width": ""
          }
        },
        "7aac23d5da7c4838a86c15800be96135": {
          "model_module": "@jupyter-widgets/base",
          "model_name": "LayoutModel",
          "model_module_version": "1.2.0",
          "state": {
            "_model_module": "@jupyter-widgets/base",
            "_model_module_version": "1.2.0",
            "_model_name": "LayoutModel",
            "_view_count": null,
            "_view_module": "@jupyter-widgets/base",
            "_view_module_version": "1.2.0",
            "_view_name": "LayoutView",
            "align_content": null,
            "align_items": null,
            "align_self": null,
            "border": null,
            "bottom": null,
            "display": null,
            "flex": null,
            "flex_flow": null,
            "grid_area": null,
            "grid_auto_columns": null,
            "grid_auto_flow": null,
            "grid_auto_rows": null,
            "grid_column": null,
            "grid_gap": null,
            "grid_row": null,
            "grid_template_areas": null,
            "grid_template_columns": null,
            "grid_template_rows": null,
            "height": null,
            "justify_content": null,
            "justify_items": null,
            "left": null,
            "margin": null,
            "max_height": null,
            "max_width": null,
            "min_height": null,
            "min_width": null,
            "object_fit": null,
            "object_position": null,
            "order": null,
            "overflow": null,
            "overflow_x": null,
            "overflow_y": null,
            "padding": null,
            "right": null,
            "top": null,
            "visibility": null,
            "width": null
          }
        },
        "5e417d99e46343e4bb73b446d99f52db": {
          "model_module": "@jupyter-widgets/controls",
          "model_name": "ProgressStyleModel",
          "model_module_version": "1.5.0",
          "state": {
            "_model_module": "@jupyter-widgets/controls",
            "_model_module_version": "1.5.0",
            "_model_name": "ProgressStyleModel",
            "_view_count": null,
            "_view_module": "@jupyter-widgets/base",
            "_view_module_version": "1.2.0",
            "_view_name": "StyleView",
            "bar_color": null,
            "description_width": ""
          }
        },
        "3a9d7c3ec67d476592ee2e18109665e5": {
          "model_module": "@jupyter-widgets/controls",
          "model_name": "VBoxModel",
          "model_module_version": "1.5.0",
          "state": {
            "_dom_classes": [],
            "_model_module": "@jupyter-widgets/controls",
            "_model_module_version": "1.5.0",
            "_model_name": "VBoxModel",
            "_view_count": null,
            "_view_module": "@jupyter-widgets/controls",
            "_view_module_version": "1.5.0",
            "_view_name": "VBoxView",
            "box_style": "",
            "children": [
              "IPY_MODEL_e8d9d6430bb3450aae10a3985cfab9fa",
              "IPY_MODEL_5a5b892098084c2598c0d733dc5a1366"
            ],
            "layout": "IPY_MODEL_84c64683754a4655834eec09919fe4f3"
          }
        },
        "e8d9d6430bb3450aae10a3985cfab9fa": {
          "model_module": "@jupyter-widgets/controls",
          "model_name": "LabelModel",
          "model_module_version": "1.5.0",
          "state": {
            "_dom_classes": [],
            "_model_module": "@jupyter-widgets/controls",
            "_model_module_version": "1.5.0",
            "_model_name": "LabelModel",
            "_view_count": null,
            "_view_module": "@jupyter-widgets/controls",
            "_view_module_version": "1.5.0",
            "_view_name": "LabelView",
            "description": "",
            "description_tooltip": null,
            "layout": "IPY_MODEL_381687d4c2f34fa6b28ce1879c4e1371",
            "placeholder": "​",
            "style": "IPY_MODEL_681eb8c6891c41adb9c2064f4c8b1551",
            "value": "0.014 MB of 0.014 MB uploaded\r"
          }
        },
        "5a5b892098084c2598c0d733dc5a1366": {
          "model_module": "@jupyter-widgets/controls",
          "model_name": "FloatProgressModel",
          "model_module_version": "1.5.0",
          "state": {
            "_dom_classes": [],
            "_model_module": "@jupyter-widgets/controls",
            "_model_module_version": "1.5.0",
            "_model_name": "FloatProgressModel",
            "_view_count": null,
            "_view_module": "@jupyter-widgets/controls",
            "_view_module_version": "1.5.0",
            "_view_name": "ProgressView",
            "bar_style": "",
            "description": "",
            "description_tooltip": null,
            "layout": "IPY_MODEL_1670f77e35324f18a13d6aa30c13d917",
            "max": 1,
            "min": 0,
            "orientation": "horizontal",
            "style": "IPY_MODEL_2a90d8a3cd9540a0baae0c9e4ccbbdc5",
            "value": 1
          }
        },
        "84c64683754a4655834eec09919fe4f3": {
          "model_module": "@jupyter-widgets/base",
          "model_name": "LayoutModel",
          "model_module_version": "1.2.0",
          "state": {
            "_model_module": "@jupyter-widgets/base",
            "_model_module_version": "1.2.0",
            "_model_name": "LayoutModel",
            "_view_count": null,
            "_view_module": "@jupyter-widgets/base",
            "_view_module_version": "1.2.0",
            "_view_name": "LayoutView",
            "align_content": null,
            "align_items": null,
            "align_self": null,
            "border": null,
            "bottom": null,
            "display": null,
            "flex": null,
            "flex_flow": null,
            "grid_area": null,
            "grid_auto_columns": null,
            "grid_auto_flow": null,
            "grid_auto_rows": null,
            "grid_column": null,
            "grid_gap": null,
            "grid_row": null,
            "grid_template_areas": null,
            "grid_template_columns": null,
            "grid_template_rows": null,
            "height": null,
            "justify_content": null,
            "justify_items": null,
            "left": null,
            "margin": null,
            "max_height": null,
            "max_width": null,
            "min_height": null,
            "min_width": null,
            "object_fit": null,
            "object_position": null,
            "order": null,
            "overflow": null,
            "overflow_x": null,
            "overflow_y": null,
            "padding": null,
            "right": null,
            "top": null,
            "visibility": null,
            "width": null
          }
        },
        "381687d4c2f34fa6b28ce1879c4e1371": {
          "model_module": "@jupyter-widgets/base",
          "model_name": "LayoutModel",
          "model_module_version": "1.2.0",
          "state": {
            "_model_module": "@jupyter-widgets/base",
            "_model_module_version": "1.2.0",
            "_model_name": "LayoutModel",
            "_view_count": null,
            "_view_module": "@jupyter-widgets/base",
            "_view_module_version": "1.2.0",
            "_view_name": "LayoutView",
            "align_content": null,
            "align_items": null,
            "align_self": null,
            "border": null,
            "bottom": null,
            "display": null,
            "flex": null,
            "flex_flow": null,
            "grid_area": null,
            "grid_auto_columns": null,
            "grid_auto_flow": null,
            "grid_auto_rows": null,
            "grid_column": null,
            "grid_gap": null,
            "grid_row": null,
            "grid_template_areas": null,
            "grid_template_columns": null,
            "grid_template_rows": null,
            "height": null,
            "justify_content": null,
            "justify_items": null,
            "left": null,
            "margin": null,
            "max_height": null,
            "max_width": null,
            "min_height": null,
            "min_width": null,
            "object_fit": null,
            "object_position": null,
            "order": null,
            "overflow": null,
            "overflow_x": null,
            "overflow_y": null,
            "padding": null,
            "right": null,
            "top": null,
            "visibility": null,
            "width": null
          }
        },
        "681eb8c6891c41adb9c2064f4c8b1551": {
          "model_module": "@jupyter-widgets/controls",
          "model_name": "DescriptionStyleModel",
          "model_module_version": "1.5.0",
          "state": {
            "_model_module": "@jupyter-widgets/controls",
            "_model_module_version": "1.5.0",
            "_model_name": "DescriptionStyleModel",
            "_view_count": null,
            "_view_module": "@jupyter-widgets/base",
            "_view_module_version": "1.2.0",
            "_view_name": "StyleView",
            "description_width": ""
          }
        },
        "1670f77e35324f18a13d6aa30c13d917": {
          "model_module": "@jupyter-widgets/base",
          "model_name": "LayoutModel",
          "model_module_version": "1.2.0",
          "state": {
            "_model_module": "@jupyter-widgets/base",
            "_model_module_version": "1.2.0",
            "_model_name": "LayoutModel",
            "_view_count": null,
            "_view_module": "@jupyter-widgets/base",
            "_view_module_version": "1.2.0",
            "_view_name": "LayoutView",
            "align_content": null,
            "align_items": null,
            "align_self": null,
            "border": null,
            "bottom": null,
            "display": null,
            "flex": null,
            "flex_flow": null,
            "grid_area": null,
            "grid_auto_columns": null,
            "grid_auto_flow": null,
            "grid_auto_rows": null,
            "grid_column": null,
            "grid_gap": null,
            "grid_row": null,
            "grid_template_areas": null,
            "grid_template_columns": null,
            "grid_template_rows": null,
            "height": null,
            "justify_content": null,
            "justify_items": null,
            "left": null,
            "margin": null,
            "max_height": null,
            "max_width": null,
            "min_height": null,
            "min_width": null,
            "object_fit": null,
            "object_position": null,
            "order": null,
            "overflow": null,
            "overflow_x": null,
            "overflow_y": null,
            "padding": null,
            "right": null,
            "top": null,
            "visibility": null,
            "width": null
          }
        },
        "2a90d8a3cd9540a0baae0c9e4ccbbdc5": {
          "model_module": "@jupyter-widgets/controls",
          "model_name": "ProgressStyleModel",
          "model_module_version": "1.5.0",
          "state": {
            "_model_module": "@jupyter-widgets/controls",
            "_model_module_version": "1.5.0",
            "_model_name": "ProgressStyleModel",
            "_view_count": null,
            "_view_module": "@jupyter-widgets/base",
            "_view_module_version": "1.2.0",
            "_view_name": "StyleView",
            "bar_color": null,
            "description_width": ""
          }
        },
        "3b720f8d49b24b8092b06afa9c3251a8": {
          "model_module": "@jupyter-widgets/controls",
          "model_name": "VBoxModel",
          "model_module_version": "1.5.0",
          "state": {
            "_dom_classes": [],
            "_model_module": "@jupyter-widgets/controls",
            "_model_module_version": "1.5.0",
            "_model_name": "VBoxModel",
            "_view_count": null,
            "_view_module": "@jupyter-widgets/controls",
            "_view_module_version": "1.5.0",
            "_view_name": "VBoxView",
            "box_style": "",
            "children": [
              "IPY_MODEL_a6ce3c2795b94d32b261df056e693df3",
              "IPY_MODEL_ed49eed73a934a61833090f8507ddbcb"
            ],
            "layout": "IPY_MODEL_afcd82afeb8f4b7280a9b125f0dbed2b"
          }
        },
        "a6ce3c2795b94d32b261df056e693df3": {
          "model_module": "@jupyter-widgets/controls",
          "model_name": "LabelModel",
          "model_module_version": "1.5.0",
          "state": {
            "_dom_classes": [],
            "_model_module": "@jupyter-widgets/controls",
            "_model_module_version": "1.5.0",
            "_model_name": "LabelModel",
            "_view_count": null,
            "_view_module": "@jupyter-widgets/controls",
            "_view_module_version": "1.5.0",
            "_view_name": "LabelView",
            "description": "",
            "description_tooltip": null,
            "layout": "IPY_MODEL_924d039e7cdc4f7484298eabe2d38bc8",
            "placeholder": "​",
            "style": "IPY_MODEL_19e10b3152f941588244bb33a58cfec8",
            "value": "0.014 MB of 0.014 MB uploaded\r"
          }
        },
        "ed49eed73a934a61833090f8507ddbcb": {
          "model_module": "@jupyter-widgets/controls",
          "model_name": "FloatProgressModel",
          "model_module_version": "1.5.0",
          "state": {
            "_dom_classes": [],
            "_model_module": "@jupyter-widgets/controls",
            "_model_module_version": "1.5.0",
            "_model_name": "FloatProgressModel",
            "_view_count": null,
            "_view_module": "@jupyter-widgets/controls",
            "_view_module_version": "1.5.0",
            "_view_name": "ProgressView",
            "bar_style": "",
            "description": "",
            "description_tooltip": null,
            "layout": "IPY_MODEL_0b667fb7ea294299868ba1ab7627a986",
            "max": 1,
            "min": 0,
            "orientation": "horizontal",
            "style": "IPY_MODEL_db9b8d49478c42a6b6092d7f62ebc3ef",
            "value": 1
          }
        },
        "afcd82afeb8f4b7280a9b125f0dbed2b": {
          "model_module": "@jupyter-widgets/base",
          "model_name": "LayoutModel",
          "model_module_version": "1.2.0",
          "state": {
            "_model_module": "@jupyter-widgets/base",
            "_model_module_version": "1.2.0",
            "_model_name": "LayoutModel",
            "_view_count": null,
            "_view_module": "@jupyter-widgets/base",
            "_view_module_version": "1.2.0",
            "_view_name": "LayoutView",
            "align_content": null,
            "align_items": null,
            "align_self": null,
            "border": null,
            "bottom": null,
            "display": null,
            "flex": null,
            "flex_flow": null,
            "grid_area": null,
            "grid_auto_columns": null,
            "grid_auto_flow": null,
            "grid_auto_rows": null,
            "grid_column": null,
            "grid_gap": null,
            "grid_row": null,
            "grid_template_areas": null,
            "grid_template_columns": null,
            "grid_template_rows": null,
            "height": null,
            "justify_content": null,
            "justify_items": null,
            "left": null,
            "margin": null,
            "max_height": null,
            "max_width": null,
            "min_height": null,
            "min_width": null,
            "object_fit": null,
            "object_position": null,
            "order": null,
            "overflow": null,
            "overflow_x": null,
            "overflow_y": null,
            "padding": null,
            "right": null,
            "top": null,
            "visibility": null,
            "width": null
          }
        },
        "924d039e7cdc4f7484298eabe2d38bc8": {
          "model_module": "@jupyter-widgets/base",
          "model_name": "LayoutModel",
          "model_module_version": "1.2.0",
          "state": {
            "_model_module": "@jupyter-widgets/base",
            "_model_module_version": "1.2.0",
            "_model_name": "LayoutModel",
            "_view_count": null,
            "_view_module": "@jupyter-widgets/base",
            "_view_module_version": "1.2.0",
            "_view_name": "LayoutView",
            "align_content": null,
            "align_items": null,
            "align_self": null,
            "border": null,
            "bottom": null,
            "display": null,
            "flex": null,
            "flex_flow": null,
            "grid_area": null,
            "grid_auto_columns": null,
            "grid_auto_flow": null,
            "grid_auto_rows": null,
            "grid_column": null,
            "grid_gap": null,
            "grid_row": null,
            "grid_template_areas": null,
            "grid_template_columns": null,
            "grid_template_rows": null,
            "height": null,
            "justify_content": null,
            "justify_items": null,
            "left": null,
            "margin": null,
            "max_height": null,
            "max_width": null,
            "min_height": null,
            "min_width": null,
            "object_fit": null,
            "object_position": null,
            "order": null,
            "overflow": null,
            "overflow_x": null,
            "overflow_y": null,
            "padding": null,
            "right": null,
            "top": null,
            "visibility": null,
            "width": null
          }
        },
        "19e10b3152f941588244bb33a58cfec8": {
          "model_module": "@jupyter-widgets/controls",
          "model_name": "DescriptionStyleModel",
          "model_module_version": "1.5.0",
          "state": {
            "_model_module": "@jupyter-widgets/controls",
            "_model_module_version": "1.5.0",
            "_model_name": "DescriptionStyleModel",
            "_view_count": null,
            "_view_module": "@jupyter-widgets/base",
            "_view_module_version": "1.2.0",
            "_view_name": "StyleView",
            "description_width": ""
          }
        },
        "0b667fb7ea294299868ba1ab7627a986": {
          "model_module": "@jupyter-widgets/base",
          "model_name": "LayoutModel",
          "model_module_version": "1.2.0",
          "state": {
            "_model_module": "@jupyter-widgets/base",
            "_model_module_version": "1.2.0",
            "_model_name": "LayoutModel",
            "_view_count": null,
            "_view_module": "@jupyter-widgets/base",
            "_view_module_version": "1.2.0",
            "_view_name": "LayoutView",
            "align_content": null,
            "align_items": null,
            "align_self": null,
            "border": null,
            "bottom": null,
            "display": null,
            "flex": null,
            "flex_flow": null,
            "grid_area": null,
            "grid_auto_columns": null,
            "grid_auto_flow": null,
            "grid_auto_rows": null,
            "grid_column": null,
            "grid_gap": null,
            "grid_row": null,
            "grid_template_areas": null,
            "grid_template_columns": null,
            "grid_template_rows": null,
            "height": null,
            "justify_content": null,
            "justify_items": null,
            "left": null,
            "margin": null,
            "max_height": null,
            "max_width": null,
            "min_height": null,
            "min_width": null,
            "object_fit": null,
            "object_position": null,
            "order": null,
            "overflow": null,
            "overflow_x": null,
            "overflow_y": null,
            "padding": null,
            "right": null,
            "top": null,
            "visibility": null,
            "width": null
          }
        },
        "db9b8d49478c42a6b6092d7f62ebc3ef": {
          "model_module": "@jupyter-widgets/controls",
          "model_name": "ProgressStyleModel",
          "model_module_version": "1.5.0",
          "state": {
            "_model_module": "@jupyter-widgets/controls",
            "_model_module_version": "1.5.0",
            "_model_name": "ProgressStyleModel",
            "_view_count": null,
            "_view_module": "@jupyter-widgets/base",
            "_view_module_version": "1.2.0",
            "_view_name": "StyleView",
            "bar_color": null,
            "description_width": ""
          }
        },
        "6100ec2995e749af9b26886a3f64277e": {
          "model_module": "@jupyter-widgets/controls",
          "model_name": "VBoxModel",
          "model_module_version": "1.5.0",
          "state": {
            "_dom_classes": [],
            "_model_module": "@jupyter-widgets/controls",
            "_model_module_version": "1.5.0",
            "_model_name": "VBoxModel",
            "_view_count": null,
            "_view_module": "@jupyter-widgets/controls",
            "_view_module_version": "1.5.0",
            "_view_name": "VBoxView",
            "box_style": "",
            "children": [
              "IPY_MODEL_00b153a6d80148858b6ce3b2dab00795",
              "IPY_MODEL_d61a5d9ea517468cba6d3231303c33dc"
            ],
            "layout": "IPY_MODEL_c640060e1df1404d800ad49ee9d7ead9"
          }
        },
        "00b153a6d80148858b6ce3b2dab00795": {
          "model_module": "@jupyter-widgets/controls",
          "model_name": "LabelModel",
          "model_module_version": "1.5.0",
          "state": {
            "_dom_classes": [],
            "_model_module": "@jupyter-widgets/controls",
            "_model_module_version": "1.5.0",
            "_model_name": "LabelModel",
            "_view_count": null,
            "_view_module": "@jupyter-widgets/controls",
            "_view_module_version": "1.5.0",
            "_view_name": "LabelView",
            "description": "",
            "description_tooltip": null,
            "layout": "IPY_MODEL_b24d62e3eda34797bf12e175a12f194f",
            "placeholder": "​",
            "style": "IPY_MODEL_9811c13228bc4c51bbe4fc8329b6caf5",
            "value": "0.014 MB of 0.014 MB uploaded\r"
          }
        },
        "d61a5d9ea517468cba6d3231303c33dc": {
          "model_module": "@jupyter-widgets/controls",
          "model_name": "FloatProgressModel",
          "model_module_version": "1.5.0",
          "state": {
            "_dom_classes": [],
            "_model_module": "@jupyter-widgets/controls",
            "_model_module_version": "1.5.0",
            "_model_name": "FloatProgressModel",
            "_view_count": null,
            "_view_module": "@jupyter-widgets/controls",
            "_view_module_version": "1.5.0",
            "_view_name": "ProgressView",
            "bar_style": "",
            "description": "",
            "description_tooltip": null,
            "layout": "IPY_MODEL_634fd57e8ee1472d91d1bf2ac303a476",
            "max": 1,
            "min": 0,
            "orientation": "horizontal",
            "style": "IPY_MODEL_1961f7ad55834e919bb18a815c67dc1e",
            "value": 1
          }
        },
        "c640060e1df1404d800ad49ee9d7ead9": {
          "model_module": "@jupyter-widgets/base",
          "model_name": "LayoutModel",
          "model_module_version": "1.2.0",
          "state": {
            "_model_module": "@jupyter-widgets/base",
            "_model_module_version": "1.2.0",
            "_model_name": "LayoutModel",
            "_view_count": null,
            "_view_module": "@jupyter-widgets/base",
            "_view_module_version": "1.2.0",
            "_view_name": "LayoutView",
            "align_content": null,
            "align_items": null,
            "align_self": null,
            "border": null,
            "bottom": null,
            "display": null,
            "flex": null,
            "flex_flow": null,
            "grid_area": null,
            "grid_auto_columns": null,
            "grid_auto_flow": null,
            "grid_auto_rows": null,
            "grid_column": null,
            "grid_gap": null,
            "grid_row": null,
            "grid_template_areas": null,
            "grid_template_columns": null,
            "grid_template_rows": null,
            "height": null,
            "justify_content": null,
            "justify_items": null,
            "left": null,
            "margin": null,
            "max_height": null,
            "max_width": null,
            "min_height": null,
            "min_width": null,
            "object_fit": null,
            "object_position": null,
            "order": null,
            "overflow": null,
            "overflow_x": null,
            "overflow_y": null,
            "padding": null,
            "right": null,
            "top": null,
            "visibility": null,
            "width": null
          }
        },
        "b24d62e3eda34797bf12e175a12f194f": {
          "model_module": "@jupyter-widgets/base",
          "model_name": "LayoutModel",
          "model_module_version": "1.2.0",
          "state": {
            "_model_module": "@jupyter-widgets/base",
            "_model_module_version": "1.2.0",
            "_model_name": "LayoutModel",
            "_view_count": null,
            "_view_module": "@jupyter-widgets/base",
            "_view_module_version": "1.2.0",
            "_view_name": "LayoutView",
            "align_content": null,
            "align_items": null,
            "align_self": null,
            "border": null,
            "bottom": null,
            "display": null,
            "flex": null,
            "flex_flow": null,
            "grid_area": null,
            "grid_auto_columns": null,
            "grid_auto_flow": null,
            "grid_auto_rows": null,
            "grid_column": null,
            "grid_gap": null,
            "grid_row": null,
            "grid_template_areas": null,
            "grid_template_columns": null,
            "grid_template_rows": null,
            "height": null,
            "justify_content": null,
            "justify_items": null,
            "left": null,
            "margin": null,
            "max_height": null,
            "max_width": null,
            "min_height": null,
            "min_width": null,
            "object_fit": null,
            "object_position": null,
            "order": null,
            "overflow": null,
            "overflow_x": null,
            "overflow_y": null,
            "padding": null,
            "right": null,
            "top": null,
            "visibility": null,
            "width": null
          }
        },
        "9811c13228bc4c51bbe4fc8329b6caf5": {
          "model_module": "@jupyter-widgets/controls",
          "model_name": "DescriptionStyleModel",
          "model_module_version": "1.5.0",
          "state": {
            "_model_module": "@jupyter-widgets/controls",
            "_model_module_version": "1.5.0",
            "_model_name": "DescriptionStyleModel",
            "_view_count": null,
            "_view_module": "@jupyter-widgets/base",
            "_view_module_version": "1.2.0",
            "_view_name": "StyleView",
            "description_width": ""
          }
        },
        "634fd57e8ee1472d91d1bf2ac303a476": {
          "model_module": "@jupyter-widgets/base",
          "model_name": "LayoutModel",
          "model_module_version": "1.2.0",
          "state": {
            "_model_module": "@jupyter-widgets/base",
            "_model_module_version": "1.2.0",
            "_model_name": "LayoutModel",
            "_view_count": null,
            "_view_module": "@jupyter-widgets/base",
            "_view_module_version": "1.2.0",
            "_view_name": "LayoutView",
            "align_content": null,
            "align_items": null,
            "align_self": null,
            "border": null,
            "bottom": null,
            "display": null,
            "flex": null,
            "flex_flow": null,
            "grid_area": null,
            "grid_auto_columns": null,
            "grid_auto_flow": null,
            "grid_auto_rows": null,
            "grid_column": null,
            "grid_gap": null,
            "grid_row": null,
            "grid_template_areas": null,
            "grid_template_columns": null,
            "grid_template_rows": null,
            "height": null,
            "justify_content": null,
            "justify_items": null,
            "left": null,
            "margin": null,
            "max_height": null,
            "max_width": null,
            "min_height": null,
            "min_width": null,
            "object_fit": null,
            "object_position": null,
            "order": null,
            "overflow": null,
            "overflow_x": null,
            "overflow_y": null,
            "padding": null,
            "right": null,
            "top": null,
            "visibility": null,
            "width": null
          }
        },
        "1961f7ad55834e919bb18a815c67dc1e": {
          "model_module": "@jupyter-widgets/controls",
          "model_name": "ProgressStyleModel",
          "model_module_version": "1.5.0",
          "state": {
            "_model_module": "@jupyter-widgets/controls",
            "_model_module_version": "1.5.0",
            "_model_name": "ProgressStyleModel",
            "_view_count": null,
            "_view_module": "@jupyter-widgets/base",
            "_view_module_version": "1.2.0",
            "_view_name": "StyleView",
            "bar_color": null,
            "description_width": ""
          }
        }
      }
    }
  },
  "nbformat": 4,
  "nbformat_minor": 0
}