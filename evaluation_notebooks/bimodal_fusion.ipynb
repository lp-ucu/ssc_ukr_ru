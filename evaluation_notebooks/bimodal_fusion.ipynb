{
  "nbformat": 4,
  "nbformat_minor": 0,
  "metadata": {
    "colab": {
      "provenance": [],
      "toc_visible": true
    },
    "kernelspec": {
      "name": "python3",
      "display_name": "Python 3"
    },
    "language_info": {
      "name": "python"
    },
    "widgets": {
      "application/vnd.jupyter.widget-state+json": {
        "2499e78580d44940ae76f8788c4d51f1": {
          "model_module": "@jupyter-widgets/controls",
          "model_name": "VBoxModel",
          "model_module_version": "1.5.0",
          "state": {
            "_dom_classes": [],
            "_model_module": "@jupyter-widgets/controls",
            "_model_module_version": "1.5.0",
            "_model_name": "VBoxModel",
            "_view_count": null,
            "_view_module": "@jupyter-widgets/controls",
            "_view_module_version": "1.5.0",
            "_view_name": "VBoxView",
            "box_style": "",
            "children": [
              "IPY_MODEL_de029f5fbcdc4659a3008ea8a4385792",
              "IPY_MODEL_ce26ddca10ea430792f55d61c2676440"
            ],
            "layout": "IPY_MODEL_ee80fd56ae9f4ccdba98fe65d09c8872"
          }
        },
        "de029f5fbcdc4659a3008ea8a4385792": {
          "model_module": "@jupyter-widgets/controls",
          "model_name": "LabelModel",
          "model_module_version": "1.5.0",
          "state": {
            "_dom_classes": [],
            "_model_module": "@jupyter-widgets/controls",
            "_model_module_version": "1.5.0",
            "_model_name": "LabelModel",
            "_view_count": null,
            "_view_module": "@jupyter-widgets/controls",
            "_view_module_version": "1.5.0",
            "_view_name": "LabelView",
            "description": "",
            "description_tooltip": null,
            "layout": "IPY_MODEL_3d74537dd5da4ffdb7020db47e074b19",
            "placeholder": "​",
            "style": "IPY_MODEL_bcfe57d1c1f94584b5c152b9916a7d3e",
            "value": "0.013 MB of 0.013 MB uploaded\r"
          }
        },
        "ce26ddca10ea430792f55d61c2676440": {
          "model_module": "@jupyter-widgets/controls",
          "model_name": "FloatProgressModel",
          "model_module_version": "1.5.0",
          "state": {
            "_dom_classes": [],
            "_model_module": "@jupyter-widgets/controls",
            "_model_module_version": "1.5.0",
            "_model_name": "FloatProgressModel",
            "_view_count": null,
            "_view_module": "@jupyter-widgets/controls",
            "_view_module_version": "1.5.0",
            "_view_name": "ProgressView",
            "bar_style": "",
            "description": "",
            "description_tooltip": null,
            "layout": "IPY_MODEL_b31c4482540e4ed794c4bd39716e7f38",
            "max": 1,
            "min": 0,
            "orientation": "horizontal",
            "style": "IPY_MODEL_fa98b387119b4b77b20282d8fb5bcb90",
            "value": 1
          }
        },
        "ee80fd56ae9f4ccdba98fe65d09c8872": {
          "model_module": "@jupyter-widgets/base",
          "model_name": "LayoutModel",
          "model_module_version": "1.2.0",
          "state": {
            "_model_module": "@jupyter-widgets/base",
            "_model_module_version": "1.2.0",
            "_model_name": "LayoutModel",
            "_view_count": null,
            "_view_module": "@jupyter-widgets/base",
            "_view_module_version": "1.2.0",
            "_view_name": "LayoutView",
            "align_content": null,
            "align_items": null,
            "align_self": null,
            "border": null,
            "bottom": null,
            "display": null,
            "flex": null,
            "flex_flow": null,
            "grid_area": null,
            "grid_auto_columns": null,
            "grid_auto_flow": null,
            "grid_auto_rows": null,
            "grid_column": null,
            "grid_gap": null,
            "grid_row": null,
            "grid_template_areas": null,
            "grid_template_columns": null,
            "grid_template_rows": null,
            "height": null,
            "justify_content": null,
            "justify_items": null,
            "left": null,
            "margin": null,
            "max_height": null,
            "max_width": null,
            "min_height": null,
            "min_width": null,
            "object_fit": null,
            "object_position": null,
            "order": null,
            "overflow": null,
            "overflow_x": null,
            "overflow_y": null,
            "padding": null,
            "right": null,
            "top": null,
            "visibility": null,
            "width": null
          }
        },
        "3d74537dd5da4ffdb7020db47e074b19": {
          "model_module": "@jupyter-widgets/base",
          "model_name": "LayoutModel",
          "model_module_version": "1.2.0",
          "state": {
            "_model_module": "@jupyter-widgets/base",
            "_model_module_version": "1.2.0",
            "_model_name": "LayoutModel",
            "_view_count": null,
            "_view_module": "@jupyter-widgets/base",
            "_view_module_version": "1.2.0",
            "_view_name": "LayoutView",
            "align_content": null,
            "align_items": null,
            "align_self": null,
            "border": null,
            "bottom": null,
            "display": null,
            "flex": null,
            "flex_flow": null,
            "grid_area": null,
            "grid_auto_columns": null,
            "grid_auto_flow": null,
            "grid_auto_rows": null,
            "grid_column": null,
            "grid_gap": null,
            "grid_row": null,
            "grid_template_areas": null,
            "grid_template_columns": null,
            "grid_template_rows": null,
            "height": null,
            "justify_content": null,
            "justify_items": null,
            "left": null,
            "margin": null,
            "max_height": null,
            "max_width": null,
            "min_height": null,
            "min_width": null,
            "object_fit": null,
            "object_position": null,
            "order": null,
            "overflow": null,
            "overflow_x": null,
            "overflow_y": null,
            "padding": null,
            "right": null,
            "top": null,
            "visibility": null,
            "width": null
          }
        },
        "bcfe57d1c1f94584b5c152b9916a7d3e": {
          "model_module": "@jupyter-widgets/controls",
          "model_name": "DescriptionStyleModel",
          "model_module_version": "1.5.0",
          "state": {
            "_model_module": "@jupyter-widgets/controls",
            "_model_module_version": "1.5.0",
            "_model_name": "DescriptionStyleModel",
            "_view_count": null,
            "_view_module": "@jupyter-widgets/base",
            "_view_module_version": "1.2.0",
            "_view_name": "StyleView",
            "description_width": ""
          }
        },
        "b31c4482540e4ed794c4bd39716e7f38": {
          "model_module": "@jupyter-widgets/base",
          "model_name": "LayoutModel",
          "model_module_version": "1.2.0",
          "state": {
            "_model_module": "@jupyter-widgets/base",
            "_model_module_version": "1.2.0",
            "_model_name": "LayoutModel",
            "_view_count": null,
            "_view_module": "@jupyter-widgets/base",
            "_view_module_version": "1.2.0",
            "_view_name": "LayoutView",
            "align_content": null,
            "align_items": null,
            "align_self": null,
            "border": null,
            "bottom": null,
            "display": null,
            "flex": null,
            "flex_flow": null,
            "grid_area": null,
            "grid_auto_columns": null,
            "grid_auto_flow": null,
            "grid_auto_rows": null,
            "grid_column": null,
            "grid_gap": null,
            "grid_row": null,
            "grid_template_areas": null,
            "grid_template_columns": null,
            "grid_template_rows": null,
            "height": null,
            "justify_content": null,
            "justify_items": null,
            "left": null,
            "margin": null,
            "max_height": null,
            "max_width": null,
            "min_height": null,
            "min_width": null,
            "object_fit": null,
            "object_position": null,
            "order": null,
            "overflow": null,
            "overflow_x": null,
            "overflow_y": null,
            "padding": null,
            "right": null,
            "top": null,
            "visibility": null,
            "width": null
          }
        },
        "fa98b387119b4b77b20282d8fb5bcb90": {
          "model_module": "@jupyter-widgets/controls",
          "model_name": "ProgressStyleModel",
          "model_module_version": "1.5.0",
          "state": {
            "_model_module": "@jupyter-widgets/controls",
            "_model_module_version": "1.5.0",
            "_model_name": "ProgressStyleModel",
            "_view_count": null,
            "_view_module": "@jupyter-widgets/base",
            "_view_module_version": "1.2.0",
            "_view_name": "StyleView",
            "bar_color": null,
            "description_width": ""
          }
        },
        "28ab5569071d4c5bbdddce4f1bcad9d9": {
          "model_module": "@jupyter-widgets/controls",
          "model_name": "VBoxModel",
          "model_module_version": "1.5.0",
          "state": {
            "_dom_classes": [],
            "_model_module": "@jupyter-widgets/controls",
            "_model_module_version": "1.5.0",
            "_model_name": "VBoxModel",
            "_view_count": null,
            "_view_module": "@jupyter-widgets/controls",
            "_view_module_version": "1.5.0",
            "_view_name": "VBoxView",
            "box_style": "",
            "children": [
              "IPY_MODEL_dc3f9f99d70b49ba981ecb0271486b2b",
              "IPY_MODEL_290d7a132584488e923326e641dcd454"
            ],
            "layout": "IPY_MODEL_eefe1f708872447998085e342fb61286"
          }
        },
        "dc3f9f99d70b49ba981ecb0271486b2b": {
          "model_module": "@jupyter-widgets/controls",
          "model_name": "LabelModel",
          "model_module_version": "1.5.0",
          "state": {
            "_dom_classes": [],
            "_model_module": "@jupyter-widgets/controls",
            "_model_module_version": "1.5.0",
            "_model_name": "LabelModel",
            "_view_count": null,
            "_view_module": "@jupyter-widgets/controls",
            "_view_module_version": "1.5.0",
            "_view_name": "LabelView",
            "description": "",
            "description_tooltip": null,
            "layout": "IPY_MODEL_f03e2963f765407b8b981def57fd0125",
            "placeholder": "​",
            "style": "IPY_MODEL_de651ed5dec44631a3a1948e2a140734",
            "value": "0.013 MB of 0.013 MB uploaded\r"
          }
        },
        "290d7a132584488e923326e641dcd454": {
          "model_module": "@jupyter-widgets/controls",
          "model_name": "FloatProgressModel",
          "model_module_version": "1.5.0",
          "state": {
            "_dom_classes": [],
            "_model_module": "@jupyter-widgets/controls",
            "_model_module_version": "1.5.0",
            "_model_name": "FloatProgressModel",
            "_view_count": null,
            "_view_module": "@jupyter-widgets/controls",
            "_view_module_version": "1.5.0",
            "_view_name": "ProgressView",
            "bar_style": "",
            "description": "",
            "description_tooltip": null,
            "layout": "IPY_MODEL_822f3104e8434d03a0e9a21e9f9c4efb",
            "max": 1,
            "min": 0,
            "orientation": "horizontal",
            "style": "IPY_MODEL_ff82523c3aa34a22945ae3141e2ae222",
            "value": 1
          }
        },
        "eefe1f708872447998085e342fb61286": {
          "model_module": "@jupyter-widgets/base",
          "model_name": "LayoutModel",
          "model_module_version": "1.2.0",
          "state": {
            "_model_module": "@jupyter-widgets/base",
            "_model_module_version": "1.2.0",
            "_model_name": "LayoutModel",
            "_view_count": null,
            "_view_module": "@jupyter-widgets/base",
            "_view_module_version": "1.2.0",
            "_view_name": "LayoutView",
            "align_content": null,
            "align_items": null,
            "align_self": null,
            "border": null,
            "bottom": null,
            "display": null,
            "flex": null,
            "flex_flow": null,
            "grid_area": null,
            "grid_auto_columns": null,
            "grid_auto_flow": null,
            "grid_auto_rows": null,
            "grid_column": null,
            "grid_gap": null,
            "grid_row": null,
            "grid_template_areas": null,
            "grid_template_columns": null,
            "grid_template_rows": null,
            "height": null,
            "justify_content": null,
            "justify_items": null,
            "left": null,
            "margin": null,
            "max_height": null,
            "max_width": null,
            "min_height": null,
            "min_width": null,
            "object_fit": null,
            "object_position": null,
            "order": null,
            "overflow": null,
            "overflow_x": null,
            "overflow_y": null,
            "padding": null,
            "right": null,
            "top": null,
            "visibility": null,
            "width": null
          }
        },
        "f03e2963f765407b8b981def57fd0125": {
          "model_module": "@jupyter-widgets/base",
          "model_name": "LayoutModel",
          "model_module_version": "1.2.0",
          "state": {
            "_model_module": "@jupyter-widgets/base",
            "_model_module_version": "1.2.0",
            "_model_name": "LayoutModel",
            "_view_count": null,
            "_view_module": "@jupyter-widgets/base",
            "_view_module_version": "1.2.0",
            "_view_name": "LayoutView",
            "align_content": null,
            "align_items": null,
            "align_self": null,
            "border": null,
            "bottom": null,
            "display": null,
            "flex": null,
            "flex_flow": null,
            "grid_area": null,
            "grid_auto_columns": null,
            "grid_auto_flow": null,
            "grid_auto_rows": null,
            "grid_column": null,
            "grid_gap": null,
            "grid_row": null,
            "grid_template_areas": null,
            "grid_template_columns": null,
            "grid_template_rows": null,
            "height": null,
            "justify_content": null,
            "justify_items": null,
            "left": null,
            "margin": null,
            "max_height": null,
            "max_width": null,
            "min_height": null,
            "min_width": null,
            "object_fit": null,
            "object_position": null,
            "order": null,
            "overflow": null,
            "overflow_x": null,
            "overflow_y": null,
            "padding": null,
            "right": null,
            "top": null,
            "visibility": null,
            "width": null
          }
        },
        "de651ed5dec44631a3a1948e2a140734": {
          "model_module": "@jupyter-widgets/controls",
          "model_name": "DescriptionStyleModel",
          "model_module_version": "1.5.0",
          "state": {
            "_model_module": "@jupyter-widgets/controls",
            "_model_module_version": "1.5.0",
            "_model_name": "DescriptionStyleModel",
            "_view_count": null,
            "_view_module": "@jupyter-widgets/base",
            "_view_module_version": "1.2.0",
            "_view_name": "StyleView",
            "description_width": ""
          }
        },
        "822f3104e8434d03a0e9a21e9f9c4efb": {
          "model_module": "@jupyter-widgets/base",
          "model_name": "LayoutModel",
          "model_module_version": "1.2.0",
          "state": {
            "_model_module": "@jupyter-widgets/base",
            "_model_module_version": "1.2.0",
            "_model_name": "LayoutModel",
            "_view_count": null,
            "_view_module": "@jupyter-widgets/base",
            "_view_module_version": "1.2.0",
            "_view_name": "LayoutView",
            "align_content": null,
            "align_items": null,
            "align_self": null,
            "border": null,
            "bottom": null,
            "display": null,
            "flex": null,
            "flex_flow": null,
            "grid_area": null,
            "grid_auto_columns": null,
            "grid_auto_flow": null,
            "grid_auto_rows": null,
            "grid_column": null,
            "grid_gap": null,
            "grid_row": null,
            "grid_template_areas": null,
            "grid_template_columns": null,
            "grid_template_rows": null,
            "height": null,
            "justify_content": null,
            "justify_items": null,
            "left": null,
            "margin": null,
            "max_height": null,
            "max_width": null,
            "min_height": null,
            "min_width": null,
            "object_fit": null,
            "object_position": null,
            "order": null,
            "overflow": null,
            "overflow_x": null,
            "overflow_y": null,
            "padding": null,
            "right": null,
            "top": null,
            "visibility": null,
            "width": null
          }
        },
        "ff82523c3aa34a22945ae3141e2ae222": {
          "model_module": "@jupyter-widgets/controls",
          "model_name": "ProgressStyleModel",
          "model_module_version": "1.5.0",
          "state": {
            "_model_module": "@jupyter-widgets/controls",
            "_model_module_version": "1.5.0",
            "_model_name": "ProgressStyleModel",
            "_view_count": null,
            "_view_module": "@jupyter-widgets/base",
            "_view_module_version": "1.2.0",
            "_view_name": "StyleView",
            "bar_color": null,
            "description_width": ""
          }
        },
        "944fc8f78b8b4f8e8b263ce5ef886f21": {
          "model_module": "@jupyter-widgets/controls",
          "model_name": "VBoxModel",
          "model_module_version": "1.5.0",
          "state": {
            "_dom_classes": [],
            "_model_module": "@jupyter-widgets/controls",
            "_model_module_version": "1.5.0",
            "_model_name": "VBoxModel",
            "_view_count": null,
            "_view_module": "@jupyter-widgets/controls",
            "_view_module_version": "1.5.0",
            "_view_name": "VBoxView",
            "box_style": "",
            "children": [
              "IPY_MODEL_67408d0b759b41c2bdf36feac29abc65",
              "IPY_MODEL_2ad41c1931664f6dabf4da1311eb3ed2"
            ],
            "layout": "IPY_MODEL_6658c6c2256443668123fb518dada1d1"
          }
        },
        "67408d0b759b41c2bdf36feac29abc65": {
          "model_module": "@jupyter-widgets/controls",
          "model_name": "LabelModel",
          "model_module_version": "1.5.0",
          "state": {
            "_dom_classes": [],
            "_model_module": "@jupyter-widgets/controls",
            "_model_module_version": "1.5.0",
            "_model_name": "LabelModel",
            "_view_count": null,
            "_view_module": "@jupyter-widgets/controls",
            "_view_module_version": "1.5.0",
            "_view_name": "LabelView",
            "description": "",
            "description_tooltip": null,
            "layout": "IPY_MODEL_09d6224e24ae4a9a9b6edfa77290fcf5",
            "placeholder": "​",
            "style": "IPY_MODEL_23071b70852f4a79881116cae1ec2fbd",
            "value": "0.013 MB of 0.013 MB uploaded\r"
          }
        },
        "2ad41c1931664f6dabf4da1311eb3ed2": {
          "model_module": "@jupyter-widgets/controls",
          "model_name": "FloatProgressModel",
          "model_module_version": "1.5.0",
          "state": {
            "_dom_classes": [],
            "_model_module": "@jupyter-widgets/controls",
            "_model_module_version": "1.5.0",
            "_model_name": "FloatProgressModel",
            "_view_count": null,
            "_view_module": "@jupyter-widgets/controls",
            "_view_module_version": "1.5.0",
            "_view_name": "ProgressView",
            "bar_style": "",
            "description": "",
            "description_tooltip": null,
            "layout": "IPY_MODEL_6810214dd7e44b38b801acd0c76bbb71",
            "max": 1,
            "min": 0,
            "orientation": "horizontal",
            "style": "IPY_MODEL_a78afa6c1724418781efb325d8e257a3",
            "value": 1
          }
        },
        "6658c6c2256443668123fb518dada1d1": {
          "model_module": "@jupyter-widgets/base",
          "model_name": "LayoutModel",
          "model_module_version": "1.2.0",
          "state": {
            "_model_module": "@jupyter-widgets/base",
            "_model_module_version": "1.2.0",
            "_model_name": "LayoutModel",
            "_view_count": null,
            "_view_module": "@jupyter-widgets/base",
            "_view_module_version": "1.2.0",
            "_view_name": "LayoutView",
            "align_content": null,
            "align_items": null,
            "align_self": null,
            "border": null,
            "bottom": null,
            "display": null,
            "flex": null,
            "flex_flow": null,
            "grid_area": null,
            "grid_auto_columns": null,
            "grid_auto_flow": null,
            "grid_auto_rows": null,
            "grid_column": null,
            "grid_gap": null,
            "grid_row": null,
            "grid_template_areas": null,
            "grid_template_columns": null,
            "grid_template_rows": null,
            "height": null,
            "justify_content": null,
            "justify_items": null,
            "left": null,
            "margin": null,
            "max_height": null,
            "max_width": null,
            "min_height": null,
            "min_width": null,
            "object_fit": null,
            "object_position": null,
            "order": null,
            "overflow": null,
            "overflow_x": null,
            "overflow_y": null,
            "padding": null,
            "right": null,
            "top": null,
            "visibility": null,
            "width": null
          }
        },
        "09d6224e24ae4a9a9b6edfa77290fcf5": {
          "model_module": "@jupyter-widgets/base",
          "model_name": "LayoutModel",
          "model_module_version": "1.2.0",
          "state": {
            "_model_module": "@jupyter-widgets/base",
            "_model_module_version": "1.2.0",
            "_model_name": "LayoutModel",
            "_view_count": null,
            "_view_module": "@jupyter-widgets/base",
            "_view_module_version": "1.2.0",
            "_view_name": "LayoutView",
            "align_content": null,
            "align_items": null,
            "align_self": null,
            "border": null,
            "bottom": null,
            "display": null,
            "flex": null,
            "flex_flow": null,
            "grid_area": null,
            "grid_auto_columns": null,
            "grid_auto_flow": null,
            "grid_auto_rows": null,
            "grid_column": null,
            "grid_gap": null,
            "grid_row": null,
            "grid_template_areas": null,
            "grid_template_columns": null,
            "grid_template_rows": null,
            "height": null,
            "justify_content": null,
            "justify_items": null,
            "left": null,
            "margin": null,
            "max_height": null,
            "max_width": null,
            "min_height": null,
            "min_width": null,
            "object_fit": null,
            "object_position": null,
            "order": null,
            "overflow": null,
            "overflow_x": null,
            "overflow_y": null,
            "padding": null,
            "right": null,
            "top": null,
            "visibility": null,
            "width": null
          }
        },
        "23071b70852f4a79881116cae1ec2fbd": {
          "model_module": "@jupyter-widgets/controls",
          "model_name": "DescriptionStyleModel",
          "model_module_version": "1.5.0",
          "state": {
            "_model_module": "@jupyter-widgets/controls",
            "_model_module_version": "1.5.0",
            "_model_name": "DescriptionStyleModel",
            "_view_count": null,
            "_view_module": "@jupyter-widgets/base",
            "_view_module_version": "1.2.0",
            "_view_name": "StyleView",
            "description_width": ""
          }
        },
        "6810214dd7e44b38b801acd0c76bbb71": {
          "model_module": "@jupyter-widgets/base",
          "model_name": "LayoutModel",
          "model_module_version": "1.2.0",
          "state": {
            "_model_module": "@jupyter-widgets/base",
            "_model_module_version": "1.2.0",
            "_model_name": "LayoutModel",
            "_view_count": null,
            "_view_module": "@jupyter-widgets/base",
            "_view_module_version": "1.2.0",
            "_view_name": "LayoutView",
            "align_content": null,
            "align_items": null,
            "align_self": null,
            "border": null,
            "bottom": null,
            "display": null,
            "flex": null,
            "flex_flow": null,
            "grid_area": null,
            "grid_auto_columns": null,
            "grid_auto_flow": null,
            "grid_auto_rows": null,
            "grid_column": null,
            "grid_gap": null,
            "grid_row": null,
            "grid_template_areas": null,
            "grid_template_columns": null,
            "grid_template_rows": null,
            "height": null,
            "justify_content": null,
            "justify_items": null,
            "left": null,
            "margin": null,
            "max_height": null,
            "max_width": null,
            "min_height": null,
            "min_width": null,
            "object_fit": null,
            "object_position": null,
            "order": null,
            "overflow": null,
            "overflow_x": null,
            "overflow_y": null,
            "padding": null,
            "right": null,
            "top": null,
            "visibility": null,
            "width": null
          }
        },
        "a78afa6c1724418781efb325d8e257a3": {
          "model_module": "@jupyter-widgets/controls",
          "model_name": "ProgressStyleModel",
          "model_module_version": "1.5.0",
          "state": {
            "_model_module": "@jupyter-widgets/controls",
            "_model_module_version": "1.5.0",
            "_model_name": "ProgressStyleModel",
            "_view_count": null,
            "_view_module": "@jupyter-widgets/base",
            "_view_module_version": "1.2.0",
            "_view_name": "StyleView",
            "bar_color": null,
            "description_width": ""
          }
        },
        "01fd950a02b2490c8230f07d3e42fd40": {
          "model_module": "@jupyter-widgets/controls",
          "model_name": "VBoxModel",
          "model_module_version": "1.5.0",
          "state": {
            "_dom_classes": [],
            "_model_module": "@jupyter-widgets/controls",
            "_model_module_version": "1.5.0",
            "_model_name": "VBoxModel",
            "_view_count": null,
            "_view_module": "@jupyter-widgets/controls",
            "_view_module_version": "1.5.0",
            "_view_name": "VBoxView",
            "box_style": "",
            "children": [
              "IPY_MODEL_08e522ea67b84addb2d1ca2f977712b9",
              "IPY_MODEL_db4a5ec3524e422eb7012b08165171b1"
            ],
            "layout": "IPY_MODEL_b2c82a99da6c4cb685f108c3308a2137"
          }
        },
        "08e522ea67b84addb2d1ca2f977712b9": {
          "model_module": "@jupyter-widgets/controls",
          "model_name": "LabelModel",
          "model_module_version": "1.5.0",
          "state": {
            "_dom_classes": [],
            "_model_module": "@jupyter-widgets/controls",
            "_model_module_version": "1.5.0",
            "_model_name": "LabelModel",
            "_view_count": null,
            "_view_module": "@jupyter-widgets/controls",
            "_view_module_version": "1.5.0",
            "_view_name": "LabelView",
            "description": "",
            "description_tooltip": null,
            "layout": "IPY_MODEL_9eb867fc03ac4911a0861c8f58887b54",
            "placeholder": "​",
            "style": "IPY_MODEL_ddca20a5a0cb4c6f800b2e03102995c7",
            "value": "0.013 MB of 0.013 MB uploaded\r"
          }
        },
        "db4a5ec3524e422eb7012b08165171b1": {
          "model_module": "@jupyter-widgets/controls",
          "model_name": "FloatProgressModel",
          "model_module_version": "1.5.0",
          "state": {
            "_dom_classes": [],
            "_model_module": "@jupyter-widgets/controls",
            "_model_module_version": "1.5.0",
            "_model_name": "FloatProgressModel",
            "_view_count": null,
            "_view_module": "@jupyter-widgets/controls",
            "_view_module_version": "1.5.0",
            "_view_name": "ProgressView",
            "bar_style": "",
            "description": "",
            "description_tooltip": null,
            "layout": "IPY_MODEL_a70aa63625e8423aa8f5dd5e7237f5af",
            "max": 1,
            "min": 0,
            "orientation": "horizontal",
            "style": "IPY_MODEL_a29ccbbe9a124f42a9028b2e8e4a0169",
            "value": 1
          }
        },
        "b2c82a99da6c4cb685f108c3308a2137": {
          "model_module": "@jupyter-widgets/base",
          "model_name": "LayoutModel",
          "model_module_version": "1.2.0",
          "state": {
            "_model_module": "@jupyter-widgets/base",
            "_model_module_version": "1.2.0",
            "_model_name": "LayoutModel",
            "_view_count": null,
            "_view_module": "@jupyter-widgets/base",
            "_view_module_version": "1.2.0",
            "_view_name": "LayoutView",
            "align_content": null,
            "align_items": null,
            "align_self": null,
            "border": null,
            "bottom": null,
            "display": null,
            "flex": null,
            "flex_flow": null,
            "grid_area": null,
            "grid_auto_columns": null,
            "grid_auto_flow": null,
            "grid_auto_rows": null,
            "grid_column": null,
            "grid_gap": null,
            "grid_row": null,
            "grid_template_areas": null,
            "grid_template_columns": null,
            "grid_template_rows": null,
            "height": null,
            "justify_content": null,
            "justify_items": null,
            "left": null,
            "margin": null,
            "max_height": null,
            "max_width": null,
            "min_height": null,
            "min_width": null,
            "object_fit": null,
            "object_position": null,
            "order": null,
            "overflow": null,
            "overflow_x": null,
            "overflow_y": null,
            "padding": null,
            "right": null,
            "top": null,
            "visibility": null,
            "width": null
          }
        },
        "9eb867fc03ac4911a0861c8f58887b54": {
          "model_module": "@jupyter-widgets/base",
          "model_name": "LayoutModel",
          "model_module_version": "1.2.0",
          "state": {
            "_model_module": "@jupyter-widgets/base",
            "_model_module_version": "1.2.0",
            "_model_name": "LayoutModel",
            "_view_count": null,
            "_view_module": "@jupyter-widgets/base",
            "_view_module_version": "1.2.0",
            "_view_name": "LayoutView",
            "align_content": null,
            "align_items": null,
            "align_self": null,
            "border": null,
            "bottom": null,
            "display": null,
            "flex": null,
            "flex_flow": null,
            "grid_area": null,
            "grid_auto_columns": null,
            "grid_auto_flow": null,
            "grid_auto_rows": null,
            "grid_column": null,
            "grid_gap": null,
            "grid_row": null,
            "grid_template_areas": null,
            "grid_template_columns": null,
            "grid_template_rows": null,
            "height": null,
            "justify_content": null,
            "justify_items": null,
            "left": null,
            "margin": null,
            "max_height": null,
            "max_width": null,
            "min_height": null,
            "min_width": null,
            "object_fit": null,
            "object_position": null,
            "order": null,
            "overflow": null,
            "overflow_x": null,
            "overflow_y": null,
            "padding": null,
            "right": null,
            "top": null,
            "visibility": null,
            "width": null
          }
        },
        "ddca20a5a0cb4c6f800b2e03102995c7": {
          "model_module": "@jupyter-widgets/controls",
          "model_name": "DescriptionStyleModel",
          "model_module_version": "1.5.0",
          "state": {
            "_model_module": "@jupyter-widgets/controls",
            "_model_module_version": "1.5.0",
            "_model_name": "DescriptionStyleModel",
            "_view_count": null,
            "_view_module": "@jupyter-widgets/base",
            "_view_module_version": "1.2.0",
            "_view_name": "StyleView",
            "description_width": ""
          }
        },
        "a70aa63625e8423aa8f5dd5e7237f5af": {
          "model_module": "@jupyter-widgets/base",
          "model_name": "LayoutModel",
          "model_module_version": "1.2.0",
          "state": {
            "_model_module": "@jupyter-widgets/base",
            "_model_module_version": "1.2.0",
            "_model_name": "LayoutModel",
            "_view_count": null,
            "_view_module": "@jupyter-widgets/base",
            "_view_module_version": "1.2.0",
            "_view_name": "LayoutView",
            "align_content": null,
            "align_items": null,
            "align_self": null,
            "border": null,
            "bottom": null,
            "display": null,
            "flex": null,
            "flex_flow": null,
            "grid_area": null,
            "grid_auto_columns": null,
            "grid_auto_flow": null,
            "grid_auto_rows": null,
            "grid_column": null,
            "grid_gap": null,
            "grid_row": null,
            "grid_template_areas": null,
            "grid_template_columns": null,
            "grid_template_rows": null,
            "height": null,
            "justify_content": null,
            "justify_items": null,
            "left": null,
            "margin": null,
            "max_height": null,
            "max_width": null,
            "min_height": null,
            "min_width": null,
            "object_fit": null,
            "object_position": null,
            "order": null,
            "overflow": null,
            "overflow_x": null,
            "overflow_y": null,
            "padding": null,
            "right": null,
            "top": null,
            "visibility": null,
            "width": null
          }
        },
        "a29ccbbe9a124f42a9028b2e8e4a0169": {
          "model_module": "@jupyter-widgets/controls",
          "model_name": "ProgressStyleModel",
          "model_module_version": "1.5.0",
          "state": {
            "_model_module": "@jupyter-widgets/controls",
            "_model_module_version": "1.5.0",
            "_model_name": "ProgressStyleModel",
            "_view_count": null,
            "_view_module": "@jupyter-widgets/base",
            "_view_module_version": "1.2.0",
            "_view_name": "StyleView",
            "bar_color": null,
            "description_width": ""
          }
        },
        "0844f27dcf0e42b681629d2c7951fc9c": {
          "model_module": "@jupyter-widgets/controls",
          "model_name": "VBoxModel",
          "model_module_version": "1.5.0",
          "state": {
            "_dom_classes": [],
            "_model_module": "@jupyter-widgets/controls",
            "_model_module_version": "1.5.0",
            "_model_name": "VBoxModel",
            "_view_count": null,
            "_view_module": "@jupyter-widgets/controls",
            "_view_module_version": "1.5.0",
            "_view_name": "VBoxView",
            "box_style": "",
            "children": [
              "IPY_MODEL_abfec3e3e70148d3893b3c03136fe279",
              "IPY_MODEL_1d60cf1396c6449d9d83aa79ce6768c3"
            ],
            "layout": "IPY_MODEL_85121741e74b4d60ae7c17ee7a952972"
          }
        },
        "abfec3e3e70148d3893b3c03136fe279": {
          "model_module": "@jupyter-widgets/controls",
          "model_name": "LabelModel",
          "model_module_version": "1.5.0",
          "state": {
            "_dom_classes": [],
            "_model_module": "@jupyter-widgets/controls",
            "_model_module_version": "1.5.0",
            "_model_name": "LabelModel",
            "_view_count": null,
            "_view_module": "@jupyter-widgets/controls",
            "_view_module_version": "1.5.0",
            "_view_name": "LabelView",
            "description": "",
            "description_tooltip": null,
            "layout": "IPY_MODEL_531e0e3148d3469d8fbbef54bbe2e195",
            "placeholder": "​",
            "style": "IPY_MODEL_b76fa734122a42659a8f021afd030441",
            "value": "0.013 MB of 0.013 MB uploaded\r"
          }
        },
        "1d60cf1396c6449d9d83aa79ce6768c3": {
          "model_module": "@jupyter-widgets/controls",
          "model_name": "FloatProgressModel",
          "model_module_version": "1.5.0",
          "state": {
            "_dom_classes": [],
            "_model_module": "@jupyter-widgets/controls",
            "_model_module_version": "1.5.0",
            "_model_name": "FloatProgressModel",
            "_view_count": null,
            "_view_module": "@jupyter-widgets/controls",
            "_view_module_version": "1.5.0",
            "_view_name": "ProgressView",
            "bar_style": "",
            "description": "",
            "description_tooltip": null,
            "layout": "IPY_MODEL_92a51f5bb8734c7982de887dc8a1702f",
            "max": 1,
            "min": 0,
            "orientation": "horizontal",
            "style": "IPY_MODEL_65b7536e132a457baf367b4ae136a4fd",
            "value": 1
          }
        },
        "85121741e74b4d60ae7c17ee7a952972": {
          "model_module": "@jupyter-widgets/base",
          "model_name": "LayoutModel",
          "model_module_version": "1.2.0",
          "state": {
            "_model_module": "@jupyter-widgets/base",
            "_model_module_version": "1.2.0",
            "_model_name": "LayoutModel",
            "_view_count": null,
            "_view_module": "@jupyter-widgets/base",
            "_view_module_version": "1.2.0",
            "_view_name": "LayoutView",
            "align_content": null,
            "align_items": null,
            "align_self": null,
            "border": null,
            "bottom": null,
            "display": null,
            "flex": null,
            "flex_flow": null,
            "grid_area": null,
            "grid_auto_columns": null,
            "grid_auto_flow": null,
            "grid_auto_rows": null,
            "grid_column": null,
            "grid_gap": null,
            "grid_row": null,
            "grid_template_areas": null,
            "grid_template_columns": null,
            "grid_template_rows": null,
            "height": null,
            "justify_content": null,
            "justify_items": null,
            "left": null,
            "margin": null,
            "max_height": null,
            "max_width": null,
            "min_height": null,
            "min_width": null,
            "object_fit": null,
            "object_position": null,
            "order": null,
            "overflow": null,
            "overflow_x": null,
            "overflow_y": null,
            "padding": null,
            "right": null,
            "top": null,
            "visibility": null,
            "width": null
          }
        },
        "531e0e3148d3469d8fbbef54bbe2e195": {
          "model_module": "@jupyter-widgets/base",
          "model_name": "LayoutModel",
          "model_module_version": "1.2.0",
          "state": {
            "_model_module": "@jupyter-widgets/base",
            "_model_module_version": "1.2.0",
            "_model_name": "LayoutModel",
            "_view_count": null,
            "_view_module": "@jupyter-widgets/base",
            "_view_module_version": "1.2.0",
            "_view_name": "LayoutView",
            "align_content": null,
            "align_items": null,
            "align_self": null,
            "border": null,
            "bottom": null,
            "display": null,
            "flex": null,
            "flex_flow": null,
            "grid_area": null,
            "grid_auto_columns": null,
            "grid_auto_flow": null,
            "grid_auto_rows": null,
            "grid_column": null,
            "grid_gap": null,
            "grid_row": null,
            "grid_template_areas": null,
            "grid_template_columns": null,
            "grid_template_rows": null,
            "height": null,
            "justify_content": null,
            "justify_items": null,
            "left": null,
            "margin": null,
            "max_height": null,
            "max_width": null,
            "min_height": null,
            "min_width": null,
            "object_fit": null,
            "object_position": null,
            "order": null,
            "overflow": null,
            "overflow_x": null,
            "overflow_y": null,
            "padding": null,
            "right": null,
            "top": null,
            "visibility": null,
            "width": null
          }
        },
        "b76fa734122a42659a8f021afd030441": {
          "model_module": "@jupyter-widgets/controls",
          "model_name": "DescriptionStyleModel",
          "model_module_version": "1.5.0",
          "state": {
            "_model_module": "@jupyter-widgets/controls",
            "_model_module_version": "1.5.0",
            "_model_name": "DescriptionStyleModel",
            "_view_count": null,
            "_view_module": "@jupyter-widgets/base",
            "_view_module_version": "1.2.0",
            "_view_name": "StyleView",
            "description_width": ""
          }
        },
        "92a51f5bb8734c7982de887dc8a1702f": {
          "model_module": "@jupyter-widgets/base",
          "model_name": "LayoutModel",
          "model_module_version": "1.2.0",
          "state": {
            "_model_module": "@jupyter-widgets/base",
            "_model_module_version": "1.2.0",
            "_model_name": "LayoutModel",
            "_view_count": null,
            "_view_module": "@jupyter-widgets/base",
            "_view_module_version": "1.2.0",
            "_view_name": "LayoutView",
            "align_content": null,
            "align_items": null,
            "align_self": null,
            "border": null,
            "bottom": null,
            "display": null,
            "flex": null,
            "flex_flow": null,
            "grid_area": null,
            "grid_auto_columns": null,
            "grid_auto_flow": null,
            "grid_auto_rows": null,
            "grid_column": null,
            "grid_gap": null,
            "grid_row": null,
            "grid_template_areas": null,
            "grid_template_columns": null,
            "grid_template_rows": null,
            "height": null,
            "justify_content": null,
            "justify_items": null,
            "left": null,
            "margin": null,
            "max_height": null,
            "max_width": null,
            "min_height": null,
            "min_width": null,
            "object_fit": null,
            "object_position": null,
            "order": null,
            "overflow": null,
            "overflow_x": null,
            "overflow_y": null,
            "padding": null,
            "right": null,
            "top": null,
            "visibility": null,
            "width": null
          }
        },
        "65b7536e132a457baf367b4ae136a4fd": {
          "model_module": "@jupyter-widgets/controls",
          "model_name": "ProgressStyleModel",
          "model_module_version": "1.5.0",
          "state": {
            "_model_module": "@jupyter-widgets/controls",
            "_model_module_version": "1.5.0",
            "_model_name": "ProgressStyleModel",
            "_view_count": null,
            "_view_module": "@jupyter-widgets/base",
            "_view_module_version": "1.2.0",
            "_view_name": "StyleView",
            "bar_color": null,
            "description_width": ""
          }
        },
        "6f3ee1ff7ae34f4d8915013d2b18547f": {
          "model_module": "@jupyter-widgets/controls",
          "model_name": "VBoxModel",
          "model_module_version": "1.5.0",
          "state": {
            "_dom_classes": [],
            "_model_module": "@jupyter-widgets/controls",
            "_model_module_version": "1.5.0",
            "_model_name": "VBoxModel",
            "_view_count": null,
            "_view_module": "@jupyter-widgets/controls",
            "_view_module_version": "1.5.0",
            "_view_name": "VBoxView",
            "box_style": "",
            "children": [
              "IPY_MODEL_cb74472a8f6340219609d429fc70fb05",
              "IPY_MODEL_c1d2044fc8d141c8a914cefb5108c1fd"
            ],
            "layout": "IPY_MODEL_2271424e49e249aea5251156aaf12dab"
          }
        },
        "cb74472a8f6340219609d429fc70fb05": {
          "model_module": "@jupyter-widgets/controls",
          "model_name": "LabelModel",
          "model_module_version": "1.5.0",
          "state": {
            "_dom_classes": [],
            "_model_module": "@jupyter-widgets/controls",
            "_model_module_version": "1.5.0",
            "_model_name": "LabelModel",
            "_view_count": null,
            "_view_module": "@jupyter-widgets/controls",
            "_view_module_version": "1.5.0",
            "_view_name": "LabelView",
            "description": "",
            "description_tooltip": null,
            "layout": "IPY_MODEL_3b6b4b7333494eefa7aeb554f91deb42",
            "placeholder": "​",
            "style": "IPY_MODEL_221bd4ae6b5042d0a5a47415d4ea8835",
            "value": "0.013 MB of 0.013 MB uploaded\r"
          }
        },
        "c1d2044fc8d141c8a914cefb5108c1fd": {
          "model_module": "@jupyter-widgets/controls",
          "model_name": "FloatProgressModel",
          "model_module_version": "1.5.0",
          "state": {
            "_dom_classes": [],
            "_model_module": "@jupyter-widgets/controls",
            "_model_module_version": "1.5.0",
            "_model_name": "FloatProgressModel",
            "_view_count": null,
            "_view_module": "@jupyter-widgets/controls",
            "_view_module_version": "1.5.0",
            "_view_name": "ProgressView",
            "bar_style": "",
            "description": "",
            "description_tooltip": null,
            "layout": "IPY_MODEL_0f3211029f5c4cbcb3e52325c3c913d8",
            "max": 1,
            "min": 0,
            "orientation": "horizontal",
            "style": "IPY_MODEL_ceb246ad82214f16be2a9aef5b82677f",
            "value": 1
          }
        },
        "2271424e49e249aea5251156aaf12dab": {
          "model_module": "@jupyter-widgets/base",
          "model_name": "LayoutModel",
          "model_module_version": "1.2.0",
          "state": {
            "_model_module": "@jupyter-widgets/base",
            "_model_module_version": "1.2.0",
            "_model_name": "LayoutModel",
            "_view_count": null,
            "_view_module": "@jupyter-widgets/base",
            "_view_module_version": "1.2.0",
            "_view_name": "LayoutView",
            "align_content": null,
            "align_items": null,
            "align_self": null,
            "border": null,
            "bottom": null,
            "display": null,
            "flex": null,
            "flex_flow": null,
            "grid_area": null,
            "grid_auto_columns": null,
            "grid_auto_flow": null,
            "grid_auto_rows": null,
            "grid_column": null,
            "grid_gap": null,
            "grid_row": null,
            "grid_template_areas": null,
            "grid_template_columns": null,
            "grid_template_rows": null,
            "height": null,
            "justify_content": null,
            "justify_items": null,
            "left": null,
            "margin": null,
            "max_height": null,
            "max_width": null,
            "min_height": null,
            "min_width": null,
            "object_fit": null,
            "object_position": null,
            "order": null,
            "overflow": null,
            "overflow_x": null,
            "overflow_y": null,
            "padding": null,
            "right": null,
            "top": null,
            "visibility": null,
            "width": null
          }
        },
        "3b6b4b7333494eefa7aeb554f91deb42": {
          "model_module": "@jupyter-widgets/base",
          "model_name": "LayoutModel",
          "model_module_version": "1.2.0",
          "state": {
            "_model_module": "@jupyter-widgets/base",
            "_model_module_version": "1.2.0",
            "_model_name": "LayoutModel",
            "_view_count": null,
            "_view_module": "@jupyter-widgets/base",
            "_view_module_version": "1.2.0",
            "_view_name": "LayoutView",
            "align_content": null,
            "align_items": null,
            "align_self": null,
            "border": null,
            "bottom": null,
            "display": null,
            "flex": null,
            "flex_flow": null,
            "grid_area": null,
            "grid_auto_columns": null,
            "grid_auto_flow": null,
            "grid_auto_rows": null,
            "grid_column": null,
            "grid_gap": null,
            "grid_row": null,
            "grid_template_areas": null,
            "grid_template_columns": null,
            "grid_template_rows": null,
            "height": null,
            "justify_content": null,
            "justify_items": null,
            "left": null,
            "margin": null,
            "max_height": null,
            "max_width": null,
            "min_height": null,
            "min_width": null,
            "object_fit": null,
            "object_position": null,
            "order": null,
            "overflow": null,
            "overflow_x": null,
            "overflow_y": null,
            "padding": null,
            "right": null,
            "top": null,
            "visibility": null,
            "width": null
          }
        },
        "221bd4ae6b5042d0a5a47415d4ea8835": {
          "model_module": "@jupyter-widgets/controls",
          "model_name": "DescriptionStyleModel",
          "model_module_version": "1.5.0",
          "state": {
            "_model_module": "@jupyter-widgets/controls",
            "_model_module_version": "1.5.0",
            "_model_name": "DescriptionStyleModel",
            "_view_count": null,
            "_view_module": "@jupyter-widgets/base",
            "_view_module_version": "1.2.0",
            "_view_name": "StyleView",
            "description_width": ""
          }
        },
        "0f3211029f5c4cbcb3e52325c3c913d8": {
          "model_module": "@jupyter-widgets/base",
          "model_name": "LayoutModel",
          "model_module_version": "1.2.0",
          "state": {
            "_model_module": "@jupyter-widgets/base",
            "_model_module_version": "1.2.0",
            "_model_name": "LayoutModel",
            "_view_count": null,
            "_view_module": "@jupyter-widgets/base",
            "_view_module_version": "1.2.0",
            "_view_name": "LayoutView",
            "align_content": null,
            "align_items": null,
            "align_self": null,
            "border": null,
            "bottom": null,
            "display": null,
            "flex": null,
            "flex_flow": null,
            "grid_area": null,
            "grid_auto_columns": null,
            "grid_auto_flow": null,
            "grid_auto_rows": null,
            "grid_column": null,
            "grid_gap": null,
            "grid_row": null,
            "grid_template_areas": null,
            "grid_template_columns": null,
            "grid_template_rows": null,
            "height": null,
            "justify_content": null,
            "justify_items": null,
            "left": null,
            "margin": null,
            "max_height": null,
            "max_width": null,
            "min_height": null,
            "min_width": null,
            "object_fit": null,
            "object_position": null,
            "order": null,
            "overflow": null,
            "overflow_x": null,
            "overflow_y": null,
            "padding": null,
            "right": null,
            "top": null,
            "visibility": null,
            "width": null
          }
        },
        "ceb246ad82214f16be2a9aef5b82677f": {
          "model_module": "@jupyter-widgets/controls",
          "model_name": "ProgressStyleModel",
          "model_module_version": "1.5.0",
          "state": {
            "_model_module": "@jupyter-widgets/controls",
            "_model_module_version": "1.5.0",
            "_model_name": "ProgressStyleModel",
            "_view_count": null,
            "_view_module": "@jupyter-widgets/base",
            "_view_module_version": "1.2.0",
            "_view_name": "StyleView",
            "bar_color": null,
            "description_width": ""
          }
        },
        "c49543eafd8641adb066ffdec06ae7c5": {
          "model_module": "@jupyter-widgets/controls",
          "model_name": "VBoxModel",
          "model_module_version": "1.5.0",
          "state": {
            "_dom_classes": [],
            "_model_module": "@jupyter-widgets/controls",
            "_model_module_version": "1.5.0",
            "_model_name": "VBoxModel",
            "_view_count": null,
            "_view_module": "@jupyter-widgets/controls",
            "_view_module_version": "1.5.0",
            "_view_name": "VBoxView",
            "box_style": "",
            "children": [
              "IPY_MODEL_1036b4846e054b43979e40a145eba837",
              "IPY_MODEL_4ca94db0611449a090fc32758f743caa"
            ],
            "layout": "IPY_MODEL_55c5c1747b01466c81a688767f6c1874"
          }
        },
        "1036b4846e054b43979e40a145eba837": {
          "model_module": "@jupyter-widgets/controls",
          "model_name": "LabelModel",
          "model_module_version": "1.5.0",
          "state": {
            "_dom_classes": [],
            "_model_module": "@jupyter-widgets/controls",
            "_model_module_version": "1.5.0",
            "_model_name": "LabelModel",
            "_view_count": null,
            "_view_module": "@jupyter-widgets/controls",
            "_view_module_version": "1.5.0",
            "_view_name": "LabelView",
            "description": "",
            "description_tooltip": null,
            "layout": "IPY_MODEL_0e55d2986b7a49d796e07b8a809bb7ae",
            "placeholder": "​",
            "style": "IPY_MODEL_2ed8b423649b41f5b012cd4e64dbf2f5",
            "value": "0.013 MB of 0.013 MB uploaded\r"
          }
        },
        "4ca94db0611449a090fc32758f743caa": {
          "model_module": "@jupyter-widgets/controls",
          "model_name": "FloatProgressModel",
          "model_module_version": "1.5.0",
          "state": {
            "_dom_classes": [],
            "_model_module": "@jupyter-widgets/controls",
            "_model_module_version": "1.5.0",
            "_model_name": "FloatProgressModel",
            "_view_count": null,
            "_view_module": "@jupyter-widgets/controls",
            "_view_module_version": "1.5.0",
            "_view_name": "ProgressView",
            "bar_style": "",
            "description": "",
            "description_tooltip": null,
            "layout": "IPY_MODEL_5665d88e52644917b4b69030c4251587",
            "max": 1,
            "min": 0,
            "orientation": "horizontal",
            "style": "IPY_MODEL_22ecec011caa4e1cbfa8127eca056569",
            "value": 1
          }
        },
        "55c5c1747b01466c81a688767f6c1874": {
          "model_module": "@jupyter-widgets/base",
          "model_name": "LayoutModel",
          "model_module_version": "1.2.0",
          "state": {
            "_model_module": "@jupyter-widgets/base",
            "_model_module_version": "1.2.0",
            "_model_name": "LayoutModel",
            "_view_count": null,
            "_view_module": "@jupyter-widgets/base",
            "_view_module_version": "1.2.0",
            "_view_name": "LayoutView",
            "align_content": null,
            "align_items": null,
            "align_self": null,
            "border": null,
            "bottom": null,
            "display": null,
            "flex": null,
            "flex_flow": null,
            "grid_area": null,
            "grid_auto_columns": null,
            "grid_auto_flow": null,
            "grid_auto_rows": null,
            "grid_column": null,
            "grid_gap": null,
            "grid_row": null,
            "grid_template_areas": null,
            "grid_template_columns": null,
            "grid_template_rows": null,
            "height": null,
            "justify_content": null,
            "justify_items": null,
            "left": null,
            "margin": null,
            "max_height": null,
            "max_width": null,
            "min_height": null,
            "min_width": null,
            "object_fit": null,
            "object_position": null,
            "order": null,
            "overflow": null,
            "overflow_x": null,
            "overflow_y": null,
            "padding": null,
            "right": null,
            "top": null,
            "visibility": null,
            "width": null
          }
        },
        "0e55d2986b7a49d796e07b8a809bb7ae": {
          "model_module": "@jupyter-widgets/base",
          "model_name": "LayoutModel",
          "model_module_version": "1.2.0",
          "state": {
            "_model_module": "@jupyter-widgets/base",
            "_model_module_version": "1.2.0",
            "_model_name": "LayoutModel",
            "_view_count": null,
            "_view_module": "@jupyter-widgets/base",
            "_view_module_version": "1.2.0",
            "_view_name": "LayoutView",
            "align_content": null,
            "align_items": null,
            "align_self": null,
            "border": null,
            "bottom": null,
            "display": null,
            "flex": null,
            "flex_flow": null,
            "grid_area": null,
            "grid_auto_columns": null,
            "grid_auto_flow": null,
            "grid_auto_rows": null,
            "grid_column": null,
            "grid_gap": null,
            "grid_row": null,
            "grid_template_areas": null,
            "grid_template_columns": null,
            "grid_template_rows": null,
            "height": null,
            "justify_content": null,
            "justify_items": null,
            "left": null,
            "margin": null,
            "max_height": null,
            "max_width": null,
            "min_height": null,
            "min_width": null,
            "object_fit": null,
            "object_position": null,
            "order": null,
            "overflow": null,
            "overflow_x": null,
            "overflow_y": null,
            "padding": null,
            "right": null,
            "top": null,
            "visibility": null,
            "width": null
          }
        },
        "2ed8b423649b41f5b012cd4e64dbf2f5": {
          "model_module": "@jupyter-widgets/controls",
          "model_name": "DescriptionStyleModel",
          "model_module_version": "1.5.0",
          "state": {
            "_model_module": "@jupyter-widgets/controls",
            "_model_module_version": "1.5.0",
            "_model_name": "DescriptionStyleModel",
            "_view_count": null,
            "_view_module": "@jupyter-widgets/base",
            "_view_module_version": "1.2.0",
            "_view_name": "StyleView",
            "description_width": ""
          }
        },
        "5665d88e52644917b4b69030c4251587": {
          "model_module": "@jupyter-widgets/base",
          "model_name": "LayoutModel",
          "model_module_version": "1.2.0",
          "state": {
            "_model_module": "@jupyter-widgets/base",
            "_model_module_version": "1.2.0",
            "_model_name": "LayoutModel",
            "_view_count": null,
            "_view_module": "@jupyter-widgets/base",
            "_view_module_version": "1.2.0",
            "_view_name": "LayoutView",
            "align_content": null,
            "align_items": null,
            "align_self": null,
            "border": null,
            "bottom": null,
            "display": null,
            "flex": null,
            "flex_flow": null,
            "grid_area": null,
            "grid_auto_columns": null,
            "grid_auto_flow": null,
            "grid_auto_rows": null,
            "grid_column": null,
            "grid_gap": null,
            "grid_row": null,
            "grid_template_areas": null,
            "grid_template_columns": null,
            "grid_template_rows": null,
            "height": null,
            "justify_content": null,
            "justify_items": null,
            "left": null,
            "margin": null,
            "max_height": null,
            "max_width": null,
            "min_height": null,
            "min_width": null,
            "object_fit": null,
            "object_position": null,
            "order": null,
            "overflow": null,
            "overflow_x": null,
            "overflow_y": null,
            "padding": null,
            "right": null,
            "top": null,
            "visibility": null,
            "width": null
          }
        },
        "22ecec011caa4e1cbfa8127eca056569": {
          "model_module": "@jupyter-widgets/controls",
          "model_name": "ProgressStyleModel",
          "model_module_version": "1.5.0",
          "state": {
            "_model_module": "@jupyter-widgets/controls",
            "_model_module_version": "1.5.0",
            "_model_name": "ProgressStyleModel",
            "_view_count": null,
            "_view_module": "@jupyter-widgets/base",
            "_view_module_version": "1.2.0",
            "_view_name": "StyleView",
            "bar_color": null,
            "description_width": ""
          }
        },
        "57a3d0caf7bf489799032b54ddfeba9c": {
          "model_module": "@jupyter-widgets/controls",
          "model_name": "VBoxModel",
          "model_module_version": "1.5.0",
          "state": {
            "_dom_classes": [],
            "_model_module": "@jupyter-widgets/controls",
            "_model_module_version": "1.5.0",
            "_model_name": "VBoxModel",
            "_view_count": null,
            "_view_module": "@jupyter-widgets/controls",
            "_view_module_version": "1.5.0",
            "_view_name": "VBoxView",
            "box_style": "",
            "children": [
              "IPY_MODEL_55fca620ab314904a6b94849f3421186",
              "IPY_MODEL_89a76b6d0e71441fb6ebaa4009d4d2af"
            ],
            "layout": "IPY_MODEL_6d960e4da4ef49768a5854304e5f9a81"
          }
        },
        "55fca620ab314904a6b94849f3421186": {
          "model_module": "@jupyter-widgets/controls",
          "model_name": "LabelModel",
          "model_module_version": "1.5.0",
          "state": {
            "_dom_classes": [],
            "_model_module": "@jupyter-widgets/controls",
            "_model_module_version": "1.5.0",
            "_model_name": "LabelModel",
            "_view_count": null,
            "_view_module": "@jupyter-widgets/controls",
            "_view_module_version": "1.5.0",
            "_view_name": "LabelView",
            "description": "",
            "description_tooltip": null,
            "layout": "IPY_MODEL_7f80c9f267d9479f8a4395d847ac1484",
            "placeholder": "​",
            "style": "IPY_MODEL_5ba4050cdd25497cb4d9357cb056fc50",
            "value": "0.011 MB of 0.011 MB uploaded\r"
          }
        },
        "89a76b6d0e71441fb6ebaa4009d4d2af": {
          "model_module": "@jupyter-widgets/controls",
          "model_name": "FloatProgressModel",
          "model_module_version": "1.5.0",
          "state": {
            "_dom_classes": [],
            "_model_module": "@jupyter-widgets/controls",
            "_model_module_version": "1.5.0",
            "_model_name": "FloatProgressModel",
            "_view_count": null,
            "_view_module": "@jupyter-widgets/controls",
            "_view_module_version": "1.5.0",
            "_view_name": "ProgressView",
            "bar_style": "",
            "description": "",
            "description_tooltip": null,
            "layout": "IPY_MODEL_1dbd6ac4a56d4c2baee1240d44be887c",
            "max": 1,
            "min": 0,
            "orientation": "horizontal",
            "style": "IPY_MODEL_642078914ed24658ab22ae021a56b11b",
            "value": 1
          }
        },
        "6d960e4da4ef49768a5854304e5f9a81": {
          "model_module": "@jupyter-widgets/base",
          "model_name": "LayoutModel",
          "model_module_version": "1.2.0",
          "state": {
            "_model_module": "@jupyter-widgets/base",
            "_model_module_version": "1.2.0",
            "_model_name": "LayoutModel",
            "_view_count": null,
            "_view_module": "@jupyter-widgets/base",
            "_view_module_version": "1.2.0",
            "_view_name": "LayoutView",
            "align_content": null,
            "align_items": null,
            "align_self": null,
            "border": null,
            "bottom": null,
            "display": null,
            "flex": null,
            "flex_flow": null,
            "grid_area": null,
            "grid_auto_columns": null,
            "grid_auto_flow": null,
            "grid_auto_rows": null,
            "grid_column": null,
            "grid_gap": null,
            "grid_row": null,
            "grid_template_areas": null,
            "grid_template_columns": null,
            "grid_template_rows": null,
            "height": null,
            "justify_content": null,
            "justify_items": null,
            "left": null,
            "margin": null,
            "max_height": null,
            "max_width": null,
            "min_height": null,
            "min_width": null,
            "object_fit": null,
            "object_position": null,
            "order": null,
            "overflow": null,
            "overflow_x": null,
            "overflow_y": null,
            "padding": null,
            "right": null,
            "top": null,
            "visibility": null,
            "width": null
          }
        },
        "7f80c9f267d9479f8a4395d847ac1484": {
          "model_module": "@jupyter-widgets/base",
          "model_name": "LayoutModel",
          "model_module_version": "1.2.0",
          "state": {
            "_model_module": "@jupyter-widgets/base",
            "_model_module_version": "1.2.0",
            "_model_name": "LayoutModel",
            "_view_count": null,
            "_view_module": "@jupyter-widgets/base",
            "_view_module_version": "1.2.0",
            "_view_name": "LayoutView",
            "align_content": null,
            "align_items": null,
            "align_self": null,
            "border": null,
            "bottom": null,
            "display": null,
            "flex": null,
            "flex_flow": null,
            "grid_area": null,
            "grid_auto_columns": null,
            "grid_auto_flow": null,
            "grid_auto_rows": null,
            "grid_column": null,
            "grid_gap": null,
            "grid_row": null,
            "grid_template_areas": null,
            "grid_template_columns": null,
            "grid_template_rows": null,
            "height": null,
            "justify_content": null,
            "justify_items": null,
            "left": null,
            "margin": null,
            "max_height": null,
            "max_width": null,
            "min_height": null,
            "min_width": null,
            "object_fit": null,
            "object_position": null,
            "order": null,
            "overflow": null,
            "overflow_x": null,
            "overflow_y": null,
            "padding": null,
            "right": null,
            "top": null,
            "visibility": null,
            "width": null
          }
        },
        "5ba4050cdd25497cb4d9357cb056fc50": {
          "model_module": "@jupyter-widgets/controls",
          "model_name": "DescriptionStyleModel",
          "model_module_version": "1.5.0",
          "state": {
            "_model_module": "@jupyter-widgets/controls",
            "_model_module_version": "1.5.0",
            "_model_name": "DescriptionStyleModel",
            "_view_count": null,
            "_view_module": "@jupyter-widgets/base",
            "_view_module_version": "1.2.0",
            "_view_name": "StyleView",
            "description_width": ""
          }
        },
        "1dbd6ac4a56d4c2baee1240d44be887c": {
          "model_module": "@jupyter-widgets/base",
          "model_name": "LayoutModel",
          "model_module_version": "1.2.0",
          "state": {
            "_model_module": "@jupyter-widgets/base",
            "_model_module_version": "1.2.0",
            "_model_name": "LayoutModel",
            "_view_count": null,
            "_view_module": "@jupyter-widgets/base",
            "_view_module_version": "1.2.0",
            "_view_name": "LayoutView",
            "align_content": null,
            "align_items": null,
            "align_self": null,
            "border": null,
            "bottom": null,
            "display": null,
            "flex": null,
            "flex_flow": null,
            "grid_area": null,
            "grid_auto_columns": null,
            "grid_auto_flow": null,
            "grid_auto_rows": null,
            "grid_column": null,
            "grid_gap": null,
            "grid_row": null,
            "grid_template_areas": null,
            "grid_template_columns": null,
            "grid_template_rows": null,
            "height": null,
            "justify_content": null,
            "justify_items": null,
            "left": null,
            "margin": null,
            "max_height": null,
            "max_width": null,
            "min_height": null,
            "min_width": null,
            "object_fit": null,
            "object_position": null,
            "order": null,
            "overflow": null,
            "overflow_x": null,
            "overflow_y": null,
            "padding": null,
            "right": null,
            "top": null,
            "visibility": null,
            "width": null
          }
        },
        "642078914ed24658ab22ae021a56b11b": {
          "model_module": "@jupyter-widgets/controls",
          "model_name": "ProgressStyleModel",
          "model_module_version": "1.5.0",
          "state": {
            "_model_module": "@jupyter-widgets/controls",
            "_model_module_version": "1.5.0",
            "_model_name": "ProgressStyleModel",
            "_view_count": null,
            "_view_module": "@jupyter-widgets/base",
            "_view_module_version": "1.2.0",
            "_view_name": "StyleView",
            "bar_color": null,
            "description_width": ""
          }
        },
        "0307d034898e4b36a2473c619a36c8ef": {
          "model_module": "@jupyter-widgets/controls",
          "model_name": "VBoxModel",
          "model_module_version": "1.5.0",
          "state": {
            "_dom_classes": [],
            "_model_module": "@jupyter-widgets/controls",
            "_model_module_version": "1.5.0",
            "_model_name": "VBoxModel",
            "_view_count": null,
            "_view_module": "@jupyter-widgets/controls",
            "_view_module_version": "1.5.0",
            "_view_name": "VBoxView",
            "box_style": "",
            "children": [
              "IPY_MODEL_71510f715e8d41af8ff7338ed4958fd6",
              "IPY_MODEL_9b13e61dd83b4e1aa673a516665588bc"
            ],
            "layout": "IPY_MODEL_196e7badb4c7487e8708c4fbede837e9"
          }
        },
        "71510f715e8d41af8ff7338ed4958fd6": {
          "model_module": "@jupyter-widgets/controls",
          "model_name": "LabelModel",
          "model_module_version": "1.5.0",
          "state": {
            "_dom_classes": [],
            "_model_module": "@jupyter-widgets/controls",
            "_model_module_version": "1.5.0",
            "_model_name": "LabelModel",
            "_view_count": null,
            "_view_module": "@jupyter-widgets/controls",
            "_view_module_version": "1.5.0",
            "_view_name": "LabelView",
            "description": "",
            "description_tooltip": null,
            "layout": "IPY_MODEL_084e5ae9b33a465b97bc968cd1362534",
            "placeholder": "​",
            "style": "IPY_MODEL_9ed2dddf5bfa4f999f46bb076abc0cc7",
            "value": "0.013 MB of 0.013 MB uploaded\r"
          }
        },
        "9b13e61dd83b4e1aa673a516665588bc": {
          "model_module": "@jupyter-widgets/controls",
          "model_name": "FloatProgressModel",
          "model_module_version": "1.5.0",
          "state": {
            "_dom_classes": [],
            "_model_module": "@jupyter-widgets/controls",
            "_model_module_version": "1.5.0",
            "_model_name": "FloatProgressModel",
            "_view_count": null,
            "_view_module": "@jupyter-widgets/controls",
            "_view_module_version": "1.5.0",
            "_view_name": "ProgressView",
            "bar_style": "",
            "description": "",
            "description_tooltip": null,
            "layout": "IPY_MODEL_d0ed022d4531437599acf1a616c01911",
            "max": 1,
            "min": 0,
            "orientation": "horizontal",
            "style": "IPY_MODEL_fb9b2621d5254e82ab5ff3806df829ed",
            "value": 1
          }
        },
        "196e7badb4c7487e8708c4fbede837e9": {
          "model_module": "@jupyter-widgets/base",
          "model_name": "LayoutModel",
          "model_module_version": "1.2.0",
          "state": {
            "_model_module": "@jupyter-widgets/base",
            "_model_module_version": "1.2.0",
            "_model_name": "LayoutModel",
            "_view_count": null,
            "_view_module": "@jupyter-widgets/base",
            "_view_module_version": "1.2.0",
            "_view_name": "LayoutView",
            "align_content": null,
            "align_items": null,
            "align_self": null,
            "border": null,
            "bottom": null,
            "display": null,
            "flex": null,
            "flex_flow": null,
            "grid_area": null,
            "grid_auto_columns": null,
            "grid_auto_flow": null,
            "grid_auto_rows": null,
            "grid_column": null,
            "grid_gap": null,
            "grid_row": null,
            "grid_template_areas": null,
            "grid_template_columns": null,
            "grid_template_rows": null,
            "height": null,
            "justify_content": null,
            "justify_items": null,
            "left": null,
            "margin": null,
            "max_height": null,
            "max_width": null,
            "min_height": null,
            "min_width": null,
            "object_fit": null,
            "object_position": null,
            "order": null,
            "overflow": null,
            "overflow_x": null,
            "overflow_y": null,
            "padding": null,
            "right": null,
            "top": null,
            "visibility": null,
            "width": null
          }
        },
        "084e5ae9b33a465b97bc968cd1362534": {
          "model_module": "@jupyter-widgets/base",
          "model_name": "LayoutModel",
          "model_module_version": "1.2.0",
          "state": {
            "_model_module": "@jupyter-widgets/base",
            "_model_module_version": "1.2.0",
            "_model_name": "LayoutModel",
            "_view_count": null,
            "_view_module": "@jupyter-widgets/base",
            "_view_module_version": "1.2.0",
            "_view_name": "LayoutView",
            "align_content": null,
            "align_items": null,
            "align_self": null,
            "border": null,
            "bottom": null,
            "display": null,
            "flex": null,
            "flex_flow": null,
            "grid_area": null,
            "grid_auto_columns": null,
            "grid_auto_flow": null,
            "grid_auto_rows": null,
            "grid_column": null,
            "grid_gap": null,
            "grid_row": null,
            "grid_template_areas": null,
            "grid_template_columns": null,
            "grid_template_rows": null,
            "height": null,
            "justify_content": null,
            "justify_items": null,
            "left": null,
            "margin": null,
            "max_height": null,
            "max_width": null,
            "min_height": null,
            "min_width": null,
            "object_fit": null,
            "object_position": null,
            "order": null,
            "overflow": null,
            "overflow_x": null,
            "overflow_y": null,
            "padding": null,
            "right": null,
            "top": null,
            "visibility": null,
            "width": null
          }
        },
        "9ed2dddf5bfa4f999f46bb076abc0cc7": {
          "model_module": "@jupyter-widgets/controls",
          "model_name": "DescriptionStyleModel",
          "model_module_version": "1.5.0",
          "state": {
            "_model_module": "@jupyter-widgets/controls",
            "_model_module_version": "1.5.0",
            "_model_name": "DescriptionStyleModel",
            "_view_count": null,
            "_view_module": "@jupyter-widgets/base",
            "_view_module_version": "1.2.0",
            "_view_name": "StyleView",
            "description_width": ""
          }
        },
        "d0ed022d4531437599acf1a616c01911": {
          "model_module": "@jupyter-widgets/base",
          "model_name": "LayoutModel",
          "model_module_version": "1.2.0",
          "state": {
            "_model_module": "@jupyter-widgets/base",
            "_model_module_version": "1.2.0",
            "_model_name": "LayoutModel",
            "_view_count": null,
            "_view_module": "@jupyter-widgets/base",
            "_view_module_version": "1.2.0",
            "_view_name": "LayoutView",
            "align_content": null,
            "align_items": null,
            "align_self": null,
            "border": null,
            "bottom": null,
            "display": null,
            "flex": null,
            "flex_flow": null,
            "grid_area": null,
            "grid_auto_columns": null,
            "grid_auto_flow": null,
            "grid_auto_rows": null,
            "grid_column": null,
            "grid_gap": null,
            "grid_row": null,
            "grid_template_areas": null,
            "grid_template_columns": null,
            "grid_template_rows": null,
            "height": null,
            "justify_content": null,
            "justify_items": null,
            "left": null,
            "margin": null,
            "max_height": null,
            "max_width": null,
            "min_height": null,
            "min_width": null,
            "object_fit": null,
            "object_position": null,
            "order": null,
            "overflow": null,
            "overflow_x": null,
            "overflow_y": null,
            "padding": null,
            "right": null,
            "top": null,
            "visibility": null,
            "width": null
          }
        },
        "fb9b2621d5254e82ab5ff3806df829ed": {
          "model_module": "@jupyter-widgets/controls",
          "model_name": "ProgressStyleModel",
          "model_module_version": "1.5.0",
          "state": {
            "_model_module": "@jupyter-widgets/controls",
            "_model_module_version": "1.5.0",
            "_model_name": "ProgressStyleModel",
            "_view_count": null,
            "_view_module": "@jupyter-widgets/base",
            "_view_module_version": "1.2.0",
            "_view_name": "StyleView",
            "bar_color": null,
            "description_width": ""
          }
        },
        "d779b34b2b8e441e9239061f8d47c7cb": {
          "model_module": "@jupyter-widgets/controls",
          "model_name": "VBoxModel",
          "model_module_version": "1.5.0",
          "state": {
            "_dom_classes": [],
            "_model_module": "@jupyter-widgets/controls",
            "_model_module_version": "1.5.0",
            "_model_name": "VBoxModel",
            "_view_count": null,
            "_view_module": "@jupyter-widgets/controls",
            "_view_module_version": "1.5.0",
            "_view_name": "VBoxView",
            "box_style": "",
            "children": [
              "IPY_MODEL_1225c7045b1a4a62895cdfc0741f1d90",
              "IPY_MODEL_49b3fa7f7c284e1eafc543b2c8a08d6c"
            ],
            "layout": "IPY_MODEL_7d15fe933fac4ce7a902ee031365af3b"
          }
        },
        "1225c7045b1a4a62895cdfc0741f1d90": {
          "model_module": "@jupyter-widgets/controls",
          "model_name": "LabelModel",
          "model_module_version": "1.5.0",
          "state": {
            "_dom_classes": [],
            "_model_module": "@jupyter-widgets/controls",
            "_model_module_version": "1.5.0",
            "_model_name": "LabelModel",
            "_view_count": null,
            "_view_module": "@jupyter-widgets/controls",
            "_view_module_version": "1.5.0",
            "_view_name": "LabelView",
            "description": "",
            "description_tooltip": null,
            "layout": "IPY_MODEL_67b39e52cc4a4daf81dcb5add06e9449",
            "placeholder": "​",
            "style": "IPY_MODEL_1e6edede60a442bea63044b86a25a922",
            "value": "0.013 MB of 0.013 MB uploaded\r"
          }
        },
        "49b3fa7f7c284e1eafc543b2c8a08d6c": {
          "model_module": "@jupyter-widgets/controls",
          "model_name": "FloatProgressModel",
          "model_module_version": "1.5.0",
          "state": {
            "_dom_classes": [],
            "_model_module": "@jupyter-widgets/controls",
            "_model_module_version": "1.5.0",
            "_model_name": "FloatProgressModel",
            "_view_count": null,
            "_view_module": "@jupyter-widgets/controls",
            "_view_module_version": "1.5.0",
            "_view_name": "ProgressView",
            "bar_style": "",
            "description": "",
            "description_tooltip": null,
            "layout": "IPY_MODEL_1baf65c2aa8f49e1a64831b4d3dc555d",
            "max": 1,
            "min": 0,
            "orientation": "horizontal",
            "style": "IPY_MODEL_e2e25047976542cb9ec7949db80338f3",
            "value": 1
          }
        },
        "7d15fe933fac4ce7a902ee031365af3b": {
          "model_module": "@jupyter-widgets/base",
          "model_name": "LayoutModel",
          "model_module_version": "1.2.0",
          "state": {
            "_model_module": "@jupyter-widgets/base",
            "_model_module_version": "1.2.0",
            "_model_name": "LayoutModel",
            "_view_count": null,
            "_view_module": "@jupyter-widgets/base",
            "_view_module_version": "1.2.0",
            "_view_name": "LayoutView",
            "align_content": null,
            "align_items": null,
            "align_self": null,
            "border": null,
            "bottom": null,
            "display": null,
            "flex": null,
            "flex_flow": null,
            "grid_area": null,
            "grid_auto_columns": null,
            "grid_auto_flow": null,
            "grid_auto_rows": null,
            "grid_column": null,
            "grid_gap": null,
            "grid_row": null,
            "grid_template_areas": null,
            "grid_template_columns": null,
            "grid_template_rows": null,
            "height": null,
            "justify_content": null,
            "justify_items": null,
            "left": null,
            "margin": null,
            "max_height": null,
            "max_width": null,
            "min_height": null,
            "min_width": null,
            "object_fit": null,
            "object_position": null,
            "order": null,
            "overflow": null,
            "overflow_x": null,
            "overflow_y": null,
            "padding": null,
            "right": null,
            "top": null,
            "visibility": null,
            "width": null
          }
        },
        "67b39e52cc4a4daf81dcb5add06e9449": {
          "model_module": "@jupyter-widgets/base",
          "model_name": "LayoutModel",
          "model_module_version": "1.2.0",
          "state": {
            "_model_module": "@jupyter-widgets/base",
            "_model_module_version": "1.2.0",
            "_model_name": "LayoutModel",
            "_view_count": null,
            "_view_module": "@jupyter-widgets/base",
            "_view_module_version": "1.2.0",
            "_view_name": "LayoutView",
            "align_content": null,
            "align_items": null,
            "align_self": null,
            "border": null,
            "bottom": null,
            "display": null,
            "flex": null,
            "flex_flow": null,
            "grid_area": null,
            "grid_auto_columns": null,
            "grid_auto_flow": null,
            "grid_auto_rows": null,
            "grid_column": null,
            "grid_gap": null,
            "grid_row": null,
            "grid_template_areas": null,
            "grid_template_columns": null,
            "grid_template_rows": null,
            "height": null,
            "justify_content": null,
            "justify_items": null,
            "left": null,
            "margin": null,
            "max_height": null,
            "max_width": null,
            "min_height": null,
            "min_width": null,
            "object_fit": null,
            "object_position": null,
            "order": null,
            "overflow": null,
            "overflow_x": null,
            "overflow_y": null,
            "padding": null,
            "right": null,
            "top": null,
            "visibility": null,
            "width": null
          }
        },
        "1e6edede60a442bea63044b86a25a922": {
          "model_module": "@jupyter-widgets/controls",
          "model_name": "DescriptionStyleModel",
          "model_module_version": "1.5.0",
          "state": {
            "_model_module": "@jupyter-widgets/controls",
            "_model_module_version": "1.5.0",
            "_model_name": "DescriptionStyleModel",
            "_view_count": null,
            "_view_module": "@jupyter-widgets/base",
            "_view_module_version": "1.2.0",
            "_view_name": "StyleView",
            "description_width": ""
          }
        },
        "1baf65c2aa8f49e1a64831b4d3dc555d": {
          "model_module": "@jupyter-widgets/base",
          "model_name": "LayoutModel",
          "model_module_version": "1.2.0",
          "state": {
            "_model_module": "@jupyter-widgets/base",
            "_model_module_version": "1.2.0",
            "_model_name": "LayoutModel",
            "_view_count": null,
            "_view_module": "@jupyter-widgets/base",
            "_view_module_version": "1.2.0",
            "_view_name": "LayoutView",
            "align_content": null,
            "align_items": null,
            "align_self": null,
            "border": null,
            "bottom": null,
            "display": null,
            "flex": null,
            "flex_flow": null,
            "grid_area": null,
            "grid_auto_columns": null,
            "grid_auto_flow": null,
            "grid_auto_rows": null,
            "grid_column": null,
            "grid_gap": null,
            "grid_row": null,
            "grid_template_areas": null,
            "grid_template_columns": null,
            "grid_template_rows": null,
            "height": null,
            "justify_content": null,
            "justify_items": null,
            "left": null,
            "margin": null,
            "max_height": null,
            "max_width": null,
            "min_height": null,
            "min_width": null,
            "object_fit": null,
            "object_position": null,
            "order": null,
            "overflow": null,
            "overflow_x": null,
            "overflow_y": null,
            "padding": null,
            "right": null,
            "top": null,
            "visibility": null,
            "width": null
          }
        },
        "e2e25047976542cb9ec7949db80338f3": {
          "model_module": "@jupyter-widgets/controls",
          "model_name": "ProgressStyleModel",
          "model_module_version": "1.5.0",
          "state": {
            "_model_module": "@jupyter-widgets/controls",
            "_model_module_version": "1.5.0",
            "_model_name": "ProgressStyleModel",
            "_view_count": null,
            "_view_module": "@jupyter-widgets/base",
            "_view_module_version": "1.2.0",
            "_view_name": "StyleView",
            "bar_color": null,
            "description_width": ""
          }
        },
        "8bc1574438b34e9cb862aa2fdda00cb3": {
          "model_module": "@jupyter-widgets/controls",
          "model_name": "VBoxModel",
          "model_module_version": "1.5.0",
          "state": {
            "_dom_classes": [],
            "_model_module": "@jupyter-widgets/controls",
            "_model_module_version": "1.5.0",
            "_model_name": "VBoxModel",
            "_view_count": null,
            "_view_module": "@jupyter-widgets/controls",
            "_view_module_version": "1.5.0",
            "_view_name": "VBoxView",
            "box_style": "",
            "children": [
              "IPY_MODEL_371c8d16aa0d450f8aef599950f68e5a",
              "IPY_MODEL_6b6713f283e44a2daf7383f2dc5ac714"
            ],
            "layout": "IPY_MODEL_fae96b1101a741d191ec00cb42006d84"
          }
        },
        "371c8d16aa0d450f8aef599950f68e5a": {
          "model_module": "@jupyter-widgets/controls",
          "model_name": "LabelModel",
          "model_module_version": "1.5.0",
          "state": {
            "_dom_classes": [],
            "_model_module": "@jupyter-widgets/controls",
            "_model_module_version": "1.5.0",
            "_model_name": "LabelModel",
            "_view_count": null,
            "_view_module": "@jupyter-widgets/controls",
            "_view_module_version": "1.5.0",
            "_view_name": "LabelView",
            "description": "",
            "description_tooltip": null,
            "layout": "IPY_MODEL_ff61e84d82b84829b5ac31f7d236538a",
            "placeholder": "​",
            "style": "IPY_MODEL_0e098ef654cb4f4c888ab4b8284f5a26",
            "value": "0.013 MB of 0.013 MB uploaded\r"
          }
        },
        "6b6713f283e44a2daf7383f2dc5ac714": {
          "model_module": "@jupyter-widgets/controls",
          "model_name": "FloatProgressModel",
          "model_module_version": "1.5.0",
          "state": {
            "_dom_classes": [],
            "_model_module": "@jupyter-widgets/controls",
            "_model_module_version": "1.5.0",
            "_model_name": "FloatProgressModel",
            "_view_count": null,
            "_view_module": "@jupyter-widgets/controls",
            "_view_module_version": "1.5.0",
            "_view_name": "ProgressView",
            "bar_style": "",
            "description": "",
            "description_tooltip": null,
            "layout": "IPY_MODEL_d90c42e1b43543868d311811b95caf74",
            "max": 1,
            "min": 0,
            "orientation": "horizontal",
            "style": "IPY_MODEL_1315f76784ff4a18889d020ed77afa17",
            "value": 1
          }
        },
        "fae96b1101a741d191ec00cb42006d84": {
          "model_module": "@jupyter-widgets/base",
          "model_name": "LayoutModel",
          "model_module_version": "1.2.0",
          "state": {
            "_model_module": "@jupyter-widgets/base",
            "_model_module_version": "1.2.0",
            "_model_name": "LayoutModel",
            "_view_count": null,
            "_view_module": "@jupyter-widgets/base",
            "_view_module_version": "1.2.0",
            "_view_name": "LayoutView",
            "align_content": null,
            "align_items": null,
            "align_self": null,
            "border": null,
            "bottom": null,
            "display": null,
            "flex": null,
            "flex_flow": null,
            "grid_area": null,
            "grid_auto_columns": null,
            "grid_auto_flow": null,
            "grid_auto_rows": null,
            "grid_column": null,
            "grid_gap": null,
            "grid_row": null,
            "grid_template_areas": null,
            "grid_template_columns": null,
            "grid_template_rows": null,
            "height": null,
            "justify_content": null,
            "justify_items": null,
            "left": null,
            "margin": null,
            "max_height": null,
            "max_width": null,
            "min_height": null,
            "min_width": null,
            "object_fit": null,
            "object_position": null,
            "order": null,
            "overflow": null,
            "overflow_x": null,
            "overflow_y": null,
            "padding": null,
            "right": null,
            "top": null,
            "visibility": null,
            "width": null
          }
        },
        "ff61e84d82b84829b5ac31f7d236538a": {
          "model_module": "@jupyter-widgets/base",
          "model_name": "LayoutModel",
          "model_module_version": "1.2.0",
          "state": {
            "_model_module": "@jupyter-widgets/base",
            "_model_module_version": "1.2.0",
            "_model_name": "LayoutModel",
            "_view_count": null,
            "_view_module": "@jupyter-widgets/base",
            "_view_module_version": "1.2.0",
            "_view_name": "LayoutView",
            "align_content": null,
            "align_items": null,
            "align_self": null,
            "border": null,
            "bottom": null,
            "display": null,
            "flex": null,
            "flex_flow": null,
            "grid_area": null,
            "grid_auto_columns": null,
            "grid_auto_flow": null,
            "grid_auto_rows": null,
            "grid_column": null,
            "grid_gap": null,
            "grid_row": null,
            "grid_template_areas": null,
            "grid_template_columns": null,
            "grid_template_rows": null,
            "height": null,
            "justify_content": null,
            "justify_items": null,
            "left": null,
            "margin": null,
            "max_height": null,
            "max_width": null,
            "min_height": null,
            "min_width": null,
            "object_fit": null,
            "object_position": null,
            "order": null,
            "overflow": null,
            "overflow_x": null,
            "overflow_y": null,
            "padding": null,
            "right": null,
            "top": null,
            "visibility": null,
            "width": null
          }
        },
        "0e098ef654cb4f4c888ab4b8284f5a26": {
          "model_module": "@jupyter-widgets/controls",
          "model_name": "DescriptionStyleModel",
          "model_module_version": "1.5.0",
          "state": {
            "_model_module": "@jupyter-widgets/controls",
            "_model_module_version": "1.5.0",
            "_model_name": "DescriptionStyleModel",
            "_view_count": null,
            "_view_module": "@jupyter-widgets/base",
            "_view_module_version": "1.2.0",
            "_view_name": "StyleView",
            "description_width": ""
          }
        },
        "d90c42e1b43543868d311811b95caf74": {
          "model_module": "@jupyter-widgets/base",
          "model_name": "LayoutModel",
          "model_module_version": "1.2.0",
          "state": {
            "_model_module": "@jupyter-widgets/base",
            "_model_module_version": "1.2.0",
            "_model_name": "LayoutModel",
            "_view_count": null,
            "_view_module": "@jupyter-widgets/base",
            "_view_module_version": "1.2.0",
            "_view_name": "LayoutView",
            "align_content": null,
            "align_items": null,
            "align_self": null,
            "border": null,
            "bottom": null,
            "display": null,
            "flex": null,
            "flex_flow": null,
            "grid_area": null,
            "grid_auto_columns": null,
            "grid_auto_flow": null,
            "grid_auto_rows": null,
            "grid_column": null,
            "grid_gap": null,
            "grid_row": null,
            "grid_template_areas": null,
            "grid_template_columns": null,
            "grid_template_rows": null,
            "height": null,
            "justify_content": null,
            "justify_items": null,
            "left": null,
            "margin": null,
            "max_height": null,
            "max_width": null,
            "min_height": null,
            "min_width": null,
            "object_fit": null,
            "object_position": null,
            "order": null,
            "overflow": null,
            "overflow_x": null,
            "overflow_y": null,
            "padding": null,
            "right": null,
            "top": null,
            "visibility": null,
            "width": null
          }
        },
        "1315f76784ff4a18889d020ed77afa17": {
          "model_module": "@jupyter-widgets/controls",
          "model_name": "ProgressStyleModel",
          "model_module_version": "1.5.0",
          "state": {
            "_model_module": "@jupyter-widgets/controls",
            "_model_module_version": "1.5.0",
            "_model_name": "ProgressStyleModel",
            "_view_count": null,
            "_view_module": "@jupyter-widgets/base",
            "_view_module_version": "1.2.0",
            "_view_name": "StyleView",
            "bar_color": null,
            "description_width": ""
          }
        },
        "e72b8898a76541e8b2767a2345d48456": {
          "model_module": "@jupyter-widgets/controls",
          "model_name": "VBoxModel",
          "model_module_version": "1.5.0",
          "state": {
            "_dom_classes": [],
            "_model_module": "@jupyter-widgets/controls",
            "_model_module_version": "1.5.0",
            "_model_name": "VBoxModel",
            "_view_count": null,
            "_view_module": "@jupyter-widgets/controls",
            "_view_module_version": "1.5.0",
            "_view_name": "VBoxView",
            "box_style": "",
            "children": [
              "IPY_MODEL_4dbef47e2ff548c39a582c5bee6791c4",
              "IPY_MODEL_6211f4a0c67f42a0b4f5811c0ee79f85"
            ],
            "layout": "IPY_MODEL_97aa85863d6c432fba1e33bdb147458a"
          }
        },
        "4dbef47e2ff548c39a582c5bee6791c4": {
          "model_module": "@jupyter-widgets/controls",
          "model_name": "LabelModel",
          "model_module_version": "1.5.0",
          "state": {
            "_dom_classes": [],
            "_model_module": "@jupyter-widgets/controls",
            "_model_module_version": "1.5.0",
            "_model_name": "LabelModel",
            "_view_count": null,
            "_view_module": "@jupyter-widgets/controls",
            "_view_module_version": "1.5.0",
            "_view_name": "LabelView",
            "description": "",
            "description_tooltip": null,
            "layout": "IPY_MODEL_157720da389641eb91b10261c898e20a",
            "placeholder": "​",
            "style": "IPY_MODEL_9ed51136573c4237a190ee6de0126622",
            "value": "0.013 MB of 0.013 MB uploaded\r"
          }
        },
        "6211f4a0c67f42a0b4f5811c0ee79f85": {
          "model_module": "@jupyter-widgets/controls",
          "model_name": "FloatProgressModel",
          "model_module_version": "1.5.0",
          "state": {
            "_dom_classes": [],
            "_model_module": "@jupyter-widgets/controls",
            "_model_module_version": "1.5.0",
            "_model_name": "FloatProgressModel",
            "_view_count": null,
            "_view_module": "@jupyter-widgets/controls",
            "_view_module_version": "1.5.0",
            "_view_name": "ProgressView",
            "bar_style": "",
            "description": "",
            "description_tooltip": null,
            "layout": "IPY_MODEL_58a5c67d658c49e1b6172dd4dd3fd67d",
            "max": 1,
            "min": 0,
            "orientation": "horizontal",
            "style": "IPY_MODEL_4c84396b73c446408dea3eb08755179b",
            "value": 1
          }
        },
        "97aa85863d6c432fba1e33bdb147458a": {
          "model_module": "@jupyter-widgets/base",
          "model_name": "LayoutModel",
          "model_module_version": "1.2.0",
          "state": {
            "_model_module": "@jupyter-widgets/base",
            "_model_module_version": "1.2.0",
            "_model_name": "LayoutModel",
            "_view_count": null,
            "_view_module": "@jupyter-widgets/base",
            "_view_module_version": "1.2.0",
            "_view_name": "LayoutView",
            "align_content": null,
            "align_items": null,
            "align_self": null,
            "border": null,
            "bottom": null,
            "display": null,
            "flex": null,
            "flex_flow": null,
            "grid_area": null,
            "grid_auto_columns": null,
            "grid_auto_flow": null,
            "grid_auto_rows": null,
            "grid_column": null,
            "grid_gap": null,
            "grid_row": null,
            "grid_template_areas": null,
            "grid_template_columns": null,
            "grid_template_rows": null,
            "height": null,
            "justify_content": null,
            "justify_items": null,
            "left": null,
            "margin": null,
            "max_height": null,
            "max_width": null,
            "min_height": null,
            "min_width": null,
            "object_fit": null,
            "object_position": null,
            "order": null,
            "overflow": null,
            "overflow_x": null,
            "overflow_y": null,
            "padding": null,
            "right": null,
            "top": null,
            "visibility": null,
            "width": null
          }
        },
        "157720da389641eb91b10261c898e20a": {
          "model_module": "@jupyter-widgets/base",
          "model_name": "LayoutModel",
          "model_module_version": "1.2.0",
          "state": {
            "_model_module": "@jupyter-widgets/base",
            "_model_module_version": "1.2.0",
            "_model_name": "LayoutModel",
            "_view_count": null,
            "_view_module": "@jupyter-widgets/base",
            "_view_module_version": "1.2.0",
            "_view_name": "LayoutView",
            "align_content": null,
            "align_items": null,
            "align_self": null,
            "border": null,
            "bottom": null,
            "display": null,
            "flex": null,
            "flex_flow": null,
            "grid_area": null,
            "grid_auto_columns": null,
            "grid_auto_flow": null,
            "grid_auto_rows": null,
            "grid_column": null,
            "grid_gap": null,
            "grid_row": null,
            "grid_template_areas": null,
            "grid_template_columns": null,
            "grid_template_rows": null,
            "height": null,
            "justify_content": null,
            "justify_items": null,
            "left": null,
            "margin": null,
            "max_height": null,
            "max_width": null,
            "min_height": null,
            "min_width": null,
            "object_fit": null,
            "object_position": null,
            "order": null,
            "overflow": null,
            "overflow_x": null,
            "overflow_y": null,
            "padding": null,
            "right": null,
            "top": null,
            "visibility": null,
            "width": null
          }
        },
        "9ed51136573c4237a190ee6de0126622": {
          "model_module": "@jupyter-widgets/controls",
          "model_name": "DescriptionStyleModel",
          "model_module_version": "1.5.0",
          "state": {
            "_model_module": "@jupyter-widgets/controls",
            "_model_module_version": "1.5.0",
            "_model_name": "DescriptionStyleModel",
            "_view_count": null,
            "_view_module": "@jupyter-widgets/base",
            "_view_module_version": "1.2.0",
            "_view_name": "StyleView",
            "description_width": ""
          }
        },
        "58a5c67d658c49e1b6172dd4dd3fd67d": {
          "model_module": "@jupyter-widgets/base",
          "model_name": "LayoutModel",
          "model_module_version": "1.2.0",
          "state": {
            "_model_module": "@jupyter-widgets/base",
            "_model_module_version": "1.2.0",
            "_model_name": "LayoutModel",
            "_view_count": null,
            "_view_module": "@jupyter-widgets/base",
            "_view_module_version": "1.2.0",
            "_view_name": "LayoutView",
            "align_content": null,
            "align_items": null,
            "align_self": null,
            "border": null,
            "bottom": null,
            "display": null,
            "flex": null,
            "flex_flow": null,
            "grid_area": null,
            "grid_auto_columns": null,
            "grid_auto_flow": null,
            "grid_auto_rows": null,
            "grid_column": null,
            "grid_gap": null,
            "grid_row": null,
            "grid_template_areas": null,
            "grid_template_columns": null,
            "grid_template_rows": null,
            "height": null,
            "justify_content": null,
            "justify_items": null,
            "left": null,
            "margin": null,
            "max_height": null,
            "max_width": null,
            "min_height": null,
            "min_width": null,
            "object_fit": null,
            "object_position": null,
            "order": null,
            "overflow": null,
            "overflow_x": null,
            "overflow_y": null,
            "padding": null,
            "right": null,
            "top": null,
            "visibility": null,
            "width": null
          }
        },
        "4c84396b73c446408dea3eb08755179b": {
          "model_module": "@jupyter-widgets/controls",
          "model_name": "ProgressStyleModel",
          "model_module_version": "1.5.0",
          "state": {
            "_model_module": "@jupyter-widgets/controls",
            "_model_module_version": "1.5.0",
            "_model_name": "ProgressStyleModel",
            "_view_count": null,
            "_view_module": "@jupyter-widgets/base",
            "_view_module_version": "1.2.0",
            "_view_name": "StyleView",
            "bar_color": null,
            "description_width": ""
          }
        },
        "948bc04800f540a7b1abbb2739651b87": {
          "model_module": "@jupyter-widgets/controls",
          "model_name": "VBoxModel",
          "model_module_version": "1.5.0",
          "state": {
            "_dom_classes": [],
            "_model_module": "@jupyter-widgets/controls",
            "_model_module_version": "1.5.0",
            "_model_name": "VBoxModel",
            "_view_count": null,
            "_view_module": "@jupyter-widgets/controls",
            "_view_module_version": "1.5.0",
            "_view_name": "VBoxView",
            "box_style": "",
            "children": [
              "IPY_MODEL_4a64c17f909d4ce989195e425ac9911c",
              "IPY_MODEL_ea2b452190eb48e496d0433c3b269396"
            ],
            "layout": "IPY_MODEL_75807841c4eb40cf8471db0a3c002536"
          }
        },
        "4a64c17f909d4ce989195e425ac9911c": {
          "model_module": "@jupyter-widgets/controls",
          "model_name": "LabelModel",
          "model_module_version": "1.5.0",
          "state": {
            "_dom_classes": [],
            "_model_module": "@jupyter-widgets/controls",
            "_model_module_version": "1.5.0",
            "_model_name": "LabelModel",
            "_view_count": null,
            "_view_module": "@jupyter-widgets/controls",
            "_view_module_version": "1.5.0",
            "_view_name": "LabelView",
            "description": "",
            "description_tooltip": null,
            "layout": "IPY_MODEL_bb6a3a7abf8c44c0aafa468745d02ea2",
            "placeholder": "​",
            "style": "IPY_MODEL_388b6f5d913f4601be79772628ecaad6",
            "value": "0.013 MB of 0.013 MB uploaded\r"
          }
        },
        "ea2b452190eb48e496d0433c3b269396": {
          "model_module": "@jupyter-widgets/controls",
          "model_name": "FloatProgressModel",
          "model_module_version": "1.5.0",
          "state": {
            "_dom_classes": [],
            "_model_module": "@jupyter-widgets/controls",
            "_model_module_version": "1.5.0",
            "_model_name": "FloatProgressModel",
            "_view_count": null,
            "_view_module": "@jupyter-widgets/controls",
            "_view_module_version": "1.5.0",
            "_view_name": "ProgressView",
            "bar_style": "",
            "description": "",
            "description_tooltip": null,
            "layout": "IPY_MODEL_480ea87a3ce54f748523d1be81d1fa9f",
            "max": 1,
            "min": 0,
            "orientation": "horizontal",
            "style": "IPY_MODEL_1431f1c86e1244fb94d6c94f12b96046",
            "value": 1
          }
        },
        "75807841c4eb40cf8471db0a3c002536": {
          "model_module": "@jupyter-widgets/base",
          "model_name": "LayoutModel",
          "model_module_version": "1.2.0",
          "state": {
            "_model_module": "@jupyter-widgets/base",
            "_model_module_version": "1.2.0",
            "_model_name": "LayoutModel",
            "_view_count": null,
            "_view_module": "@jupyter-widgets/base",
            "_view_module_version": "1.2.0",
            "_view_name": "LayoutView",
            "align_content": null,
            "align_items": null,
            "align_self": null,
            "border": null,
            "bottom": null,
            "display": null,
            "flex": null,
            "flex_flow": null,
            "grid_area": null,
            "grid_auto_columns": null,
            "grid_auto_flow": null,
            "grid_auto_rows": null,
            "grid_column": null,
            "grid_gap": null,
            "grid_row": null,
            "grid_template_areas": null,
            "grid_template_columns": null,
            "grid_template_rows": null,
            "height": null,
            "justify_content": null,
            "justify_items": null,
            "left": null,
            "margin": null,
            "max_height": null,
            "max_width": null,
            "min_height": null,
            "min_width": null,
            "object_fit": null,
            "object_position": null,
            "order": null,
            "overflow": null,
            "overflow_x": null,
            "overflow_y": null,
            "padding": null,
            "right": null,
            "top": null,
            "visibility": null,
            "width": null
          }
        },
        "bb6a3a7abf8c44c0aafa468745d02ea2": {
          "model_module": "@jupyter-widgets/base",
          "model_name": "LayoutModel",
          "model_module_version": "1.2.0",
          "state": {
            "_model_module": "@jupyter-widgets/base",
            "_model_module_version": "1.2.0",
            "_model_name": "LayoutModel",
            "_view_count": null,
            "_view_module": "@jupyter-widgets/base",
            "_view_module_version": "1.2.0",
            "_view_name": "LayoutView",
            "align_content": null,
            "align_items": null,
            "align_self": null,
            "border": null,
            "bottom": null,
            "display": null,
            "flex": null,
            "flex_flow": null,
            "grid_area": null,
            "grid_auto_columns": null,
            "grid_auto_flow": null,
            "grid_auto_rows": null,
            "grid_column": null,
            "grid_gap": null,
            "grid_row": null,
            "grid_template_areas": null,
            "grid_template_columns": null,
            "grid_template_rows": null,
            "height": null,
            "justify_content": null,
            "justify_items": null,
            "left": null,
            "margin": null,
            "max_height": null,
            "max_width": null,
            "min_height": null,
            "min_width": null,
            "object_fit": null,
            "object_position": null,
            "order": null,
            "overflow": null,
            "overflow_x": null,
            "overflow_y": null,
            "padding": null,
            "right": null,
            "top": null,
            "visibility": null,
            "width": null
          }
        },
        "388b6f5d913f4601be79772628ecaad6": {
          "model_module": "@jupyter-widgets/controls",
          "model_name": "DescriptionStyleModel",
          "model_module_version": "1.5.0",
          "state": {
            "_model_module": "@jupyter-widgets/controls",
            "_model_module_version": "1.5.0",
            "_model_name": "DescriptionStyleModel",
            "_view_count": null,
            "_view_module": "@jupyter-widgets/base",
            "_view_module_version": "1.2.0",
            "_view_name": "StyleView",
            "description_width": ""
          }
        },
        "480ea87a3ce54f748523d1be81d1fa9f": {
          "model_module": "@jupyter-widgets/base",
          "model_name": "LayoutModel",
          "model_module_version": "1.2.0",
          "state": {
            "_model_module": "@jupyter-widgets/base",
            "_model_module_version": "1.2.0",
            "_model_name": "LayoutModel",
            "_view_count": null,
            "_view_module": "@jupyter-widgets/base",
            "_view_module_version": "1.2.0",
            "_view_name": "LayoutView",
            "align_content": null,
            "align_items": null,
            "align_self": null,
            "border": null,
            "bottom": null,
            "display": null,
            "flex": null,
            "flex_flow": null,
            "grid_area": null,
            "grid_auto_columns": null,
            "grid_auto_flow": null,
            "grid_auto_rows": null,
            "grid_column": null,
            "grid_gap": null,
            "grid_row": null,
            "grid_template_areas": null,
            "grid_template_columns": null,
            "grid_template_rows": null,
            "height": null,
            "justify_content": null,
            "justify_items": null,
            "left": null,
            "margin": null,
            "max_height": null,
            "max_width": null,
            "min_height": null,
            "min_width": null,
            "object_fit": null,
            "object_position": null,
            "order": null,
            "overflow": null,
            "overflow_x": null,
            "overflow_y": null,
            "padding": null,
            "right": null,
            "top": null,
            "visibility": null,
            "width": null
          }
        },
        "1431f1c86e1244fb94d6c94f12b96046": {
          "model_module": "@jupyter-widgets/controls",
          "model_name": "ProgressStyleModel",
          "model_module_version": "1.5.0",
          "state": {
            "_model_module": "@jupyter-widgets/controls",
            "_model_module_version": "1.5.0",
            "_model_name": "ProgressStyleModel",
            "_view_count": null,
            "_view_module": "@jupyter-widgets/base",
            "_view_module_version": "1.2.0",
            "_view_name": "StyleView",
            "bar_color": null,
            "description_width": ""
          }
        },
        "596ffcbca5a842b4a9c73604ff8d190a": {
          "model_module": "@jupyter-widgets/controls",
          "model_name": "VBoxModel",
          "model_module_version": "1.5.0",
          "state": {
            "_dom_classes": [],
            "_model_module": "@jupyter-widgets/controls",
            "_model_module_version": "1.5.0",
            "_model_name": "VBoxModel",
            "_view_count": null,
            "_view_module": "@jupyter-widgets/controls",
            "_view_module_version": "1.5.0",
            "_view_name": "VBoxView",
            "box_style": "",
            "children": [
              "IPY_MODEL_ebe85dfa814c4ec3b75d09488cbbadf8",
              "IPY_MODEL_1a35b694ddb0408faed1af7a52d3b5d5"
            ],
            "layout": "IPY_MODEL_6a070062bcaa4efdbeb333848e6b0f35"
          }
        },
        "ebe85dfa814c4ec3b75d09488cbbadf8": {
          "model_module": "@jupyter-widgets/controls",
          "model_name": "LabelModel",
          "model_module_version": "1.5.0",
          "state": {
            "_dom_classes": [],
            "_model_module": "@jupyter-widgets/controls",
            "_model_module_version": "1.5.0",
            "_model_name": "LabelModel",
            "_view_count": null,
            "_view_module": "@jupyter-widgets/controls",
            "_view_module_version": "1.5.0",
            "_view_name": "LabelView",
            "description": "",
            "description_tooltip": null,
            "layout": "IPY_MODEL_d505f406ae3343e6b085dbea47843e15",
            "placeholder": "​",
            "style": "IPY_MODEL_7d5c365f852f4cf5966c451fdcda00cd",
            "value": "0.013 MB of 0.013 MB uploaded\r"
          }
        },
        "1a35b694ddb0408faed1af7a52d3b5d5": {
          "model_module": "@jupyter-widgets/controls",
          "model_name": "FloatProgressModel",
          "model_module_version": "1.5.0",
          "state": {
            "_dom_classes": [],
            "_model_module": "@jupyter-widgets/controls",
            "_model_module_version": "1.5.0",
            "_model_name": "FloatProgressModel",
            "_view_count": null,
            "_view_module": "@jupyter-widgets/controls",
            "_view_module_version": "1.5.0",
            "_view_name": "ProgressView",
            "bar_style": "",
            "description": "",
            "description_tooltip": null,
            "layout": "IPY_MODEL_895b5282d93e49dc9531b76273b526d4",
            "max": 1,
            "min": 0,
            "orientation": "horizontal",
            "style": "IPY_MODEL_4c5a82ab993c4779af4581acf6b73ae9",
            "value": 1
          }
        },
        "6a070062bcaa4efdbeb333848e6b0f35": {
          "model_module": "@jupyter-widgets/base",
          "model_name": "LayoutModel",
          "model_module_version": "1.2.0",
          "state": {
            "_model_module": "@jupyter-widgets/base",
            "_model_module_version": "1.2.0",
            "_model_name": "LayoutModel",
            "_view_count": null,
            "_view_module": "@jupyter-widgets/base",
            "_view_module_version": "1.2.0",
            "_view_name": "LayoutView",
            "align_content": null,
            "align_items": null,
            "align_self": null,
            "border": null,
            "bottom": null,
            "display": null,
            "flex": null,
            "flex_flow": null,
            "grid_area": null,
            "grid_auto_columns": null,
            "grid_auto_flow": null,
            "grid_auto_rows": null,
            "grid_column": null,
            "grid_gap": null,
            "grid_row": null,
            "grid_template_areas": null,
            "grid_template_columns": null,
            "grid_template_rows": null,
            "height": null,
            "justify_content": null,
            "justify_items": null,
            "left": null,
            "margin": null,
            "max_height": null,
            "max_width": null,
            "min_height": null,
            "min_width": null,
            "object_fit": null,
            "object_position": null,
            "order": null,
            "overflow": null,
            "overflow_x": null,
            "overflow_y": null,
            "padding": null,
            "right": null,
            "top": null,
            "visibility": null,
            "width": null
          }
        },
        "d505f406ae3343e6b085dbea47843e15": {
          "model_module": "@jupyter-widgets/base",
          "model_name": "LayoutModel",
          "model_module_version": "1.2.0",
          "state": {
            "_model_module": "@jupyter-widgets/base",
            "_model_module_version": "1.2.0",
            "_model_name": "LayoutModel",
            "_view_count": null,
            "_view_module": "@jupyter-widgets/base",
            "_view_module_version": "1.2.0",
            "_view_name": "LayoutView",
            "align_content": null,
            "align_items": null,
            "align_self": null,
            "border": null,
            "bottom": null,
            "display": null,
            "flex": null,
            "flex_flow": null,
            "grid_area": null,
            "grid_auto_columns": null,
            "grid_auto_flow": null,
            "grid_auto_rows": null,
            "grid_column": null,
            "grid_gap": null,
            "grid_row": null,
            "grid_template_areas": null,
            "grid_template_columns": null,
            "grid_template_rows": null,
            "height": null,
            "justify_content": null,
            "justify_items": null,
            "left": null,
            "margin": null,
            "max_height": null,
            "max_width": null,
            "min_height": null,
            "min_width": null,
            "object_fit": null,
            "object_position": null,
            "order": null,
            "overflow": null,
            "overflow_x": null,
            "overflow_y": null,
            "padding": null,
            "right": null,
            "top": null,
            "visibility": null,
            "width": null
          }
        },
        "7d5c365f852f4cf5966c451fdcda00cd": {
          "model_module": "@jupyter-widgets/controls",
          "model_name": "DescriptionStyleModel",
          "model_module_version": "1.5.0",
          "state": {
            "_model_module": "@jupyter-widgets/controls",
            "_model_module_version": "1.5.0",
            "_model_name": "DescriptionStyleModel",
            "_view_count": null,
            "_view_module": "@jupyter-widgets/base",
            "_view_module_version": "1.2.0",
            "_view_name": "StyleView",
            "description_width": ""
          }
        },
        "895b5282d93e49dc9531b76273b526d4": {
          "model_module": "@jupyter-widgets/base",
          "model_name": "LayoutModel",
          "model_module_version": "1.2.0",
          "state": {
            "_model_module": "@jupyter-widgets/base",
            "_model_module_version": "1.2.0",
            "_model_name": "LayoutModel",
            "_view_count": null,
            "_view_module": "@jupyter-widgets/base",
            "_view_module_version": "1.2.0",
            "_view_name": "LayoutView",
            "align_content": null,
            "align_items": null,
            "align_self": null,
            "border": null,
            "bottom": null,
            "display": null,
            "flex": null,
            "flex_flow": null,
            "grid_area": null,
            "grid_auto_columns": null,
            "grid_auto_flow": null,
            "grid_auto_rows": null,
            "grid_column": null,
            "grid_gap": null,
            "grid_row": null,
            "grid_template_areas": null,
            "grid_template_columns": null,
            "grid_template_rows": null,
            "height": null,
            "justify_content": null,
            "justify_items": null,
            "left": null,
            "margin": null,
            "max_height": null,
            "max_width": null,
            "min_height": null,
            "min_width": null,
            "object_fit": null,
            "object_position": null,
            "order": null,
            "overflow": null,
            "overflow_x": null,
            "overflow_y": null,
            "padding": null,
            "right": null,
            "top": null,
            "visibility": null,
            "width": null
          }
        },
        "4c5a82ab993c4779af4581acf6b73ae9": {
          "model_module": "@jupyter-widgets/controls",
          "model_name": "ProgressStyleModel",
          "model_module_version": "1.5.0",
          "state": {
            "_model_module": "@jupyter-widgets/controls",
            "_model_module_version": "1.5.0",
            "_model_name": "ProgressStyleModel",
            "_view_count": null,
            "_view_module": "@jupyter-widgets/base",
            "_view_module_version": "1.2.0",
            "_view_name": "StyleView",
            "bar_color": null,
            "description_width": ""
          }
        },
        "c3aec3d8448a4564b972564480ffb7ae": {
          "model_module": "@jupyter-widgets/controls",
          "model_name": "VBoxModel",
          "model_module_version": "1.5.0",
          "state": {
            "_dom_classes": [],
            "_model_module": "@jupyter-widgets/controls",
            "_model_module_version": "1.5.0",
            "_model_name": "VBoxModel",
            "_view_count": null,
            "_view_module": "@jupyter-widgets/controls",
            "_view_module_version": "1.5.0",
            "_view_name": "VBoxView",
            "box_style": "",
            "children": [
              "IPY_MODEL_da98d6878a254dbbbbc5d4b814dd7d9b",
              "IPY_MODEL_cbc67bea2bea4a629d41b19d0262d846"
            ],
            "layout": "IPY_MODEL_8e0b44abd71244fcb6d26638cce3661a"
          }
        },
        "da98d6878a254dbbbbc5d4b814dd7d9b": {
          "model_module": "@jupyter-widgets/controls",
          "model_name": "LabelModel",
          "model_module_version": "1.5.0",
          "state": {
            "_dom_classes": [],
            "_model_module": "@jupyter-widgets/controls",
            "_model_module_version": "1.5.0",
            "_model_name": "LabelModel",
            "_view_count": null,
            "_view_module": "@jupyter-widgets/controls",
            "_view_module_version": "1.5.0",
            "_view_name": "LabelView",
            "description": "",
            "description_tooltip": null,
            "layout": "IPY_MODEL_56249c88715947cc97b2c0116a2e7d7a",
            "placeholder": "​",
            "style": "IPY_MODEL_10d1a668255949fe9fda0e2cfde2834a",
            "value": "0.013 MB of 0.013 MB uploaded\r"
          }
        },
        "cbc67bea2bea4a629d41b19d0262d846": {
          "model_module": "@jupyter-widgets/controls",
          "model_name": "FloatProgressModel",
          "model_module_version": "1.5.0",
          "state": {
            "_dom_classes": [],
            "_model_module": "@jupyter-widgets/controls",
            "_model_module_version": "1.5.0",
            "_model_name": "FloatProgressModel",
            "_view_count": null,
            "_view_module": "@jupyter-widgets/controls",
            "_view_module_version": "1.5.0",
            "_view_name": "ProgressView",
            "bar_style": "",
            "description": "",
            "description_tooltip": null,
            "layout": "IPY_MODEL_0596861ac2c7457cabf621d2531b3913",
            "max": 1,
            "min": 0,
            "orientation": "horizontal",
            "style": "IPY_MODEL_e022f21644c54dfc83091ed846b54efe",
            "value": 1
          }
        },
        "8e0b44abd71244fcb6d26638cce3661a": {
          "model_module": "@jupyter-widgets/base",
          "model_name": "LayoutModel",
          "model_module_version": "1.2.0",
          "state": {
            "_model_module": "@jupyter-widgets/base",
            "_model_module_version": "1.2.0",
            "_model_name": "LayoutModel",
            "_view_count": null,
            "_view_module": "@jupyter-widgets/base",
            "_view_module_version": "1.2.0",
            "_view_name": "LayoutView",
            "align_content": null,
            "align_items": null,
            "align_self": null,
            "border": null,
            "bottom": null,
            "display": null,
            "flex": null,
            "flex_flow": null,
            "grid_area": null,
            "grid_auto_columns": null,
            "grid_auto_flow": null,
            "grid_auto_rows": null,
            "grid_column": null,
            "grid_gap": null,
            "grid_row": null,
            "grid_template_areas": null,
            "grid_template_columns": null,
            "grid_template_rows": null,
            "height": null,
            "justify_content": null,
            "justify_items": null,
            "left": null,
            "margin": null,
            "max_height": null,
            "max_width": null,
            "min_height": null,
            "min_width": null,
            "object_fit": null,
            "object_position": null,
            "order": null,
            "overflow": null,
            "overflow_x": null,
            "overflow_y": null,
            "padding": null,
            "right": null,
            "top": null,
            "visibility": null,
            "width": null
          }
        },
        "56249c88715947cc97b2c0116a2e7d7a": {
          "model_module": "@jupyter-widgets/base",
          "model_name": "LayoutModel",
          "model_module_version": "1.2.0",
          "state": {
            "_model_module": "@jupyter-widgets/base",
            "_model_module_version": "1.2.0",
            "_model_name": "LayoutModel",
            "_view_count": null,
            "_view_module": "@jupyter-widgets/base",
            "_view_module_version": "1.2.0",
            "_view_name": "LayoutView",
            "align_content": null,
            "align_items": null,
            "align_self": null,
            "border": null,
            "bottom": null,
            "display": null,
            "flex": null,
            "flex_flow": null,
            "grid_area": null,
            "grid_auto_columns": null,
            "grid_auto_flow": null,
            "grid_auto_rows": null,
            "grid_column": null,
            "grid_gap": null,
            "grid_row": null,
            "grid_template_areas": null,
            "grid_template_columns": null,
            "grid_template_rows": null,
            "height": null,
            "justify_content": null,
            "justify_items": null,
            "left": null,
            "margin": null,
            "max_height": null,
            "max_width": null,
            "min_height": null,
            "min_width": null,
            "object_fit": null,
            "object_position": null,
            "order": null,
            "overflow": null,
            "overflow_x": null,
            "overflow_y": null,
            "padding": null,
            "right": null,
            "top": null,
            "visibility": null,
            "width": null
          }
        },
        "10d1a668255949fe9fda0e2cfde2834a": {
          "model_module": "@jupyter-widgets/controls",
          "model_name": "DescriptionStyleModel",
          "model_module_version": "1.5.0",
          "state": {
            "_model_module": "@jupyter-widgets/controls",
            "_model_module_version": "1.5.0",
            "_model_name": "DescriptionStyleModel",
            "_view_count": null,
            "_view_module": "@jupyter-widgets/base",
            "_view_module_version": "1.2.0",
            "_view_name": "StyleView",
            "description_width": ""
          }
        },
        "0596861ac2c7457cabf621d2531b3913": {
          "model_module": "@jupyter-widgets/base",
          "model_name": "LayoutModel",
          "model_module_version": "1.2.0",
          "state": {
            "_model_module": "@jupyter-widgets/base",
            "_model_module_version": "1.2.0",
            "_model_name": "LayoutModel",
            "_view_count": null,
            "_view_module": "@jupyter-widgets/base",
            "_view_module_version": "1.2.0",
            "_view_name": "LayoutView",
            "align_content": null,
            "align_items": null,
            "align_self": null,
            "border": null,
            "bottom": null,
            "display": null,
            "flex": null,
            "flex_flow": null,
            "grid_area": null,
            "grid_auto_columns": null,
            "grid_auto_flow": null,
            "grid_auto_rows": null,
            "grid_column": null,
            "grid_gap": null,
            "grid_row": null,
            "grid_template_areas": null,
            "grid_template_columns": null,
            "grid_template_rows": null,
            "height": null,
            "justify_content": null,
            "justify_items": null,
            "left": null,
            "margin": null,
            "max_height": null,
            "max_width": null,
            "min_height": null,
            "min_width": null,
            "object_fit": null,
            "object_position": null,
            "order": null,
            "overflow": null,
            "overflow_x": null,
            "overflow_y": null,
            "padding": null,
            "right": null,
            "top": null,
            "visibility": null,
            "width": null
          }
        },
        "e022f21644c54dfc83091ed846b54efe": {
          "model_module": "@jupyter-widgets/controls",
          "model_name": "ProgressStyleModel",
          "model_module_version": "1.5.0",
          "state": {
            "_model_module": "@jupyter-widgets/controls",
            "_model_module_version": "1.5.0",
            "_model_name": "ProgressStyleModel",
            "_view_count": null,
            "_view_module": "@jupyter-widgets/base",
            "_view_module_version": "1.2.0",
            "_view_name": "StyleView",
            "bar_color": null,
            "description_width": ""
          }
        },
        "55c586f9e424489f9319ace5bd1b80dd": {
          "model_module": "@jupyter-widgets/controls",
          "model_name": "VBoxModel",
          "model_module_version": "1.5.0",
          "state": {
            "_dom_classes": [],
            "_model_module": "@jupyter-widgets/controls",
            "_model_module_version": "1.5.0",
            "_model_name": "VBoxModel",
            "_view_count": null,
            "_view_module": "@jupyter-widgets/controls",
            "_view_module_version": "1.5.0",
            "_view_name": "VBoxView",
            "box_style": "",
            "children": [
              "IPY_MODEL_f35f3c60ba4c4b9ab0f173488f5ec823",
              "IPY_MODEL_9e3b95021e0e40fca01d21d3291d5da6"
            ],
            "layout": "IPY_MODEL_fd3352a9ea6a4f32a7cc21472a12d57e"
          }
        },
        "f35f3c60ba4c4b9ab0f173488f5ec823": {
          "model_module": "@jupyter-widgets/controls",
          "model_name": "LabelModel",
          "model_module_version": "1.5.0",
          "state": {
            "_dom_classes": [],
            "_model_module": "@jupyter-widgets/controls",
            "_model_module_version": "1.5.0",
            "_model_name": "LabelModel",
            "_view_count": null,
            "_view_module": "@jupyter-widgets/controls",
            "_view_module_version": "1.5.0",
            "_view_name": "LabelView",
            "description": "",
            "description_tooltip": null,
            "layout": "IPY_MODEL_ab4ea8034d1745dba41d95b1b2192227",
            "placeholder": "​",
            "style": "IPY_MODEL_abfa4f11d11341deaa11c48744016229",
            "value": "0.013 MB of 0.013 MB uploaded\r"
          }
        },
        "9e3b95021e0e40fca01d21d3291d5da6": {
          "model_module": "@jupyter-widgets/controls",
          "model_name": "FloatProgressModel",
          "model_module_version": "1.5.0",
          "state": {
            "_dom_classes": [],
            "_model_module": "@jupyter-widgets/controls",
            "_model_module_version": "1.5.0",
            "_model_name": "FloatProgressModel",
            "_view_count": null,
            "_view_module": "@jupyter-widgets/controls",
            "_view_module_version": "1.5.0",
            "_view_name": "ProgressView",
            "bar_style": "",
            "description": "",
            "description_tooltip": null,
            "layout": "IPY_MODEL_415befcee3df47c2b28c303fb48390c2",
            "max": 1,
            "min": 0,
            "orientation": "horizontal",
            "style": "IPY_MODEL_9f835d4d4509484fb7b56f571ed0e674",
            "value": 1
          }
        },
        "fd3352a9ea6a4f32a7cc21472a12d57e": {
          "model_module": "@jupyter-widgets/base",
          "model_name": "LayoutModel",
          "model_module_version": "1.2.0",
          "state": {
            "_model_module": "@jupyter-widgets/base",
            "_model_module_version": "1.2.0",
            "_model_name": "LayoutModel",
            "_view_count": null,
            "_view_module": "@jupyter-widgets/base",
            "_view_module_version": "1.2.0",
            "_view_name": "LayoutView",
            "align_content": null,
            "align_items": null,
            "align_self": null,
            "border": null,
            "bottom": null,
            "display": null,
            "flex": null,
            "flex_flow": null,
            "grid_area": null,
            "grid_auto_columns": null,
            "grid_auto_flow": null,
            "grid_auto_rows": null,
            "grid_column": null,
            "grid_gap": null,
            "grid_row": null,
            "grid_template_areas": null,
            "grid_template_columns": null,
            "grid_template_rows": null,
            "height": null,
            "justify_content": null,
            "justify_items": null,
            "left": null,
            "margin": null,
            "max_height": null,
            "max_width": null,
            "min_height": null,
            "min_width": null,
            "object_fit": null,
            "object_position": null,
            "order": null,
            "overflow": null,
            "overflow_x": null,
            "overflow_y": null,
            "padding": null,
            "right": null,
            "top": null,
            "visibility": null,
            "width": null
          }
        },
        "ab4ea8034d1745dba41d95b1b2192227": {
          "model_module": "@jupyter-widgets/base",
          "model_name": "LayoutModel",
          "model_module_version": "1.2.0",
          "state": {
            "_model_module": "@jupyter-widgets/base",
            "_model_module_version": "1.2.0",
            "_model_name": "LayoutModel",
            "_view_count": null,
            "_view_module": "@jupyter-widgets/base",
            "_view_module_version": "1.2.0",
            "_view_name": "LayoutView",
            "align_content": null,
            "align_items": null,
            "align_self": null,
            "border": null,
            "bottom": null,
            "display": null,
            "flex": null,
            "flex_flow": null,
            "grid_area": null,
            "grid_auto_columns": null,
            "grid_auto_flow": null,
            "grid_auto_rows": null,
            "grid_column": null,
            "grid_gap": null,
            "grid_row": null,
            "grid_template_areas": null,
            "grid_template_columns": null,
            "grid_template_rows": null,
            "height": null,
            "justify_content": null,
            "justify_items": null,
            "left": null,
            "margin": null,
            "max_height": null,
            "max_width": null,
            "min_height": null,
            "min_width": null,
            "object_fit": null,
            "object_position": null,
            "order": null,
            "overflow": null,
            "overflow_x": null,
            "overflow_y": null,
            "padding": null,
            "right": null,
            "top": null,
            "visibility": null,
            "width": null
          }
        },
        "abfa4f11d11341deaa11c48744016229": {
          "model_module": "@jupyter-widgets/controls",
          "model_name": "DescriptionStyleModel",
          "model_module_version": "1.5.0",
          "state": {
            "_model_module": "@jupyter-widgets/controls",
            "_model_module_version": "1.5.0",
            "_model_name": "DescriptionStyleModel",
            "_view_count": null,
            "_view_module": "@jupyter-widgets/base",
            "_view_module_version": "1.2.0",
            "_view_name": "StyleView",
            "description_width": ""
          }
        },
        "415befcee3df47c2b28c303fb48390c2": {
          "model_module": "@jupyter-widgets/base",
          "model_name": "LayoutModel",
          "model_module_version": "1.2.0",
          "state": {
            "_model_module": "@jupyter-widgets/base",
            "_model_module_version": "1.2.0",
            "_model_name": "LayoutModel",
            "_view_count": null,
            "_view_module": "@jupyter-widgets/base",
            "_view_module_version": "1.2.0",
            "_view_name": "LayoutView",
            "align_content": null,
            "align_items": null,
            "align_self": null,
            "border": null,
            "bottom": null,
            "display": null,
            "flex": null,
            "flex_flow": null,
            "grid_area": null,
            "grid_auto_columns": null,
            "grid_auto_flow": null,
            "grid_auto_rows": null,
            "grid_column": null,
            "grid_gap": null,
            "grid_row": null,
            "grid_template_areas": null,
            "grid_template_columns": null,
            "grid_template_rows": null,
            "height": null,
            "justify_content": null,
            "justify_items": null,
            "left": null,
            "margin": null,
            "max_height": null,
            "max_width": null,
            "min_height": null,
            "min_width": null,
            "object_fit": null,
            "object_position": null,
            "order": null,
            "overflow": null,
            "overflow_x": null,
            "overflow_y": null,
            "padding": null,
            "right": null,
            "top": null,
            "visibility": null,
            "width": null
          }
        },
        "9f835d4d4509484fb7b56f571ed0e674": {
          "model_module": "@jupyter-widgets/controls",
          "model_name": "ProgressStyleModel",
          "model_module_version": "1.5.0",
          "state": {
            "_model_module": "@jupyter-widgets/controls",
            "_model_module_version": "1.5.0",
            "_model_name": "ProgressStyleModel",
            "_view_count": null,
            "_view_module": "@jupyter-widgets/base",
            "_view_module_version": "1.2.0",
            "_view_name": "StyleView",
            "bar_color": null,
            "description_width": ""
          }
        },
        "2cf1eec067494e27b4c47dbbf38445c2": {
          "model_module": "@jupyter-widgets/controls",
          "model_name": "VBoxModel",
          "model_module_version": "1.5.0",
          "state": {
            "_dom_classes": [],
            "_model_module": "@jupyter-widgets/controls",
            "_model_module_version": "1.5.0",
            "_model_name": "VBoxModel",
            "_view_count": null,
            "_view_module": "@jupyter-widgets/controls",
            "_view_module_version": "1.5.0",
            "_view_name": "VBoxView",
            "box_style": "",
            "children": [
              "IPY_MODEL_36da4cbd12c64ee1a6302d71a130e014",
              "IPY_MODEL_2a03d22a61e546b99e39b808f2359843"
            ],
            "layout": "IPY_MODEL_cb4601d1cefd49e7bf287c9b2152c8ed"
          }
        },
        "36da4cbd12c64ee1a6302d71a130e014": {
          "model_module": "@jupyter-widgets/controls",
          "model_name": "LabelModel",
          "model_module_version": "1.5.0",
          "state": {
            "_dom_classes": [],
            "_model_module": "@jupyter-widgets/controls",
            "_model_module_version": "1.5.0",
            "_model_name": "LabelModel",
            "_view_count": null,
            "_view_module": "@jupyter-widgets/controls",
            "_view_module_version": "1.5.0",
            "_view_name": "LabelView",
            "description": "",
            "description_tooltip": null,
            "layout": "IPY_MODEL_30f800b9d83543e9a1647f6224e37c59",
            "placeholder": "​",
            "style": "IPY_MODEL_28fdb2e7d0f14c39b7677d483b324b21",
            "value": "0.013 MB of 0.013 MB uploaded\r"
          }
        },
        "2a03d22a61e546b99e39b808f2359843": {
          "model_module": "@jupyter-widgets/controls",
          "model_name": "FloatProgressModel",
          "model_module_version": "1.5.0",
          "state": {
            "_dom_classes": [],
            "_model_module": "@jupyter-widgets/controls",
            "_model_module_version": "1.5.0",
            "_model_name": "FloatProgressModel",
            "_view_count": null,
            "_view_module": "@jupyter-widgets/controls",
            "_view_module_version": "1.5.0",
            "_view_name": "ProgressView",
            "bar_style": "",
            "description": "",
            "description_tooltip": null,
            "layout": "IPY_MODEL_2d19e9830fa64e93b8f0f6f95729e9b8",
            "max": 1,
            "min": 0,
            "orientation": "horizontal",
            "style": "IPY_MODEL_48c72748add14da7b2a760a08f4951d8",
            "value": 1
          }
        },
        "cb4601d1cefd49e7bf287c9b2152c8ed": {
          "model_module": "@jupyter-widgets/base",
          "model_name": "LayoutModel",
          "model_module_version": "1.2.0",
          "state": {
            "_model_module": "@jupyter-widgets/base",
            "_model_module_version": "1.2.0",
            "_model_name": "LayoutModel",
            "_view_count": null,
            "_view_module": "@jupyter-widgets/base",
            "_view_module_version": "1.2.0",
            "_view_name": "LayoutView",
            "align_content": null,
            "align_items": null,
            "align_self": null,
            "border": null,
            "bottom": null,
            "display": null,
            "flex": null,
            "flex_flow": null,
            "grid_area": null,
            "grid_auto_columns": null,
            "grid_auto_flow": null,
            "grid_auto_rows": null,
            "grid_column": null,
            "grid_gap": null,
            "grid_row": null,
            "grid_template_areas": null,
            "grid_template_columns": null,
            "grid_template_rows": null,
            "height": null,
            "justify_content": null,
            "justify_items": null,
            "left": null,
            "margin": null,
            "max_height": null,
            "max_width": null,
            "min_height": null,
            "min_width": null,
            "object_fit": null,
            "object_position": null,
            "order": null,
            "overflow": null,
            "overflow_x": null,
            "overflow_y": null,
            "padding": null,
            "right": null,
            "top": null,
            "visibility": null,
            "width": null
          }
        },
        "30f800b9d83543e9a1647f6224e37c59": {
          "model_module": "@jupyter-widgets/base",
          "model_name": "LayoutModel",
          "model_module_version": "1.2.0",
          "state": {
            "_model_module": "@jupyter-widgets/base",
            "_model_module_version": "1.2.0",
            "_model_name": "LayoutModel",
            "_view_count": null,
            "_view_module": "@jupyter-widgets/base",
            "_view_module_version": "1.2.0",
            "_view_name": "LayoutView",
            "align_content": null,
            "align_items": null,
            "align_self": null,
            "border": null,
            "bottom": null,
            "display": null,
            "flex": null,
            "flex_flow": null,
            "grid_area": null,
            "grid_auto_columns": null,
            "grid_auto_flow": null,
            "grid_auto_rows": null,
            "grid_column": null,
            "grid_gap": null,
            "grid_row": null,
            "grid_template_areas": null,
            "grid_template_columns": null,
            "grid_template_rows": null,
            "height": null,
            "justify_content": null,
            "justify_items": null,
            "left": null,
            "margin": null,
            "max_height": null,
            "max_width": null,
            "min_height": null,
            "min_width": null,
            "object_fit": null,
            "object_position": null,
            "order": null,
            "overflow": null,
            "overflow_x": null,
            "overflow_y": null,
            "padding": null,
            "right": null,
            "top": null,
            "visibility": null,
            "width": null
          }
        },
        "28fdb2e7d0f14c39b7677d483b324b21": {
          "model_module": "@jupyter-widgets/controls",
          "model_name": "DescriptionStyleModel",
          "model_module_version": "1.5.0",
          "state": {
            "_model_module": "@jupyter-widgets/controls",
            "_model_module_version": "1.5.0",
            "_model_name": "DescriptionStyleModel",
            "_view_count": null,
            "_view_module": "@jupyter-widgets/base",
            "_view_module_version": "1.2.0",
            "_view_name": "StyleView",
            "description_width": ""
          }
        },
        "2d19e9830fa64e93b8f0f6f95729e9b8": {
          "model_module": "@jupyter-widgets/base",
          "model_name": "LayoutModel",
          "model_module_version": "1.2.0",
          "state": {
            "_model_module": "@jupyter-widgets/base",
            "_model_module_version": "1.2.0",
            "_model_name": "LayoutModel",
            "_view_count": null,
            "_view_module": "@jupyter-widgets/base",
            "_view_module_version": "1.2.0",
            "_view_name": "LayoutView",
            "align_content": null,
            "align_items": null,
            "align_self": null,
            "border": null,
            "bottom": null,
            "display": null,
            "flex": null,
            "flex_flow": null,
            "grid_area": null,
            "grid_auto_columns": null,
            "grid_auto_flow": null,
            "grid_auto_rows": null,
            "grid_column": null,
            "grid_gap": null,
            "grid_row": null,
            "grid_template_areas": null,
            "grid_template_columns": null,
            "grid_template_rows": null,
            "height": null,
            "justify_content": null,
            "justify_items": null,
            "left": null,
            "margin": null,
            "max_height": null,
            "max_width": null,
            "min_height": null,
            "min_width": null,
            "object_fit": null,
            "object_position": null,
            "order": null,
            "overflow": null,
            "overflow_x": null,
            "overflow_y": null,
            "padding": null,
            "right": null,
            "top": null,
            "visibility": null,
            "width": null
          }
        },
        "48c72748add14da7b2a760a08f4951d8": {
          "model_module": "@jupyter-widgets/controls",
          "model_name": "ProgressStyleModel",
          "model_module_version": "1.5.0",
          "state": {
            "_model_module": "@jupyter-widgets/controls",
            "_model_module_version": "1.5.0",
            "_model_name": "ProgressStyleModel",
            "_view_count": null,
            "_view_module": "@jupyter-widgets/base",
            "_view_module_version": "1.2.0",
            "_view_name": "StyleView",
            "bar_color": null,
            "description_width": ""
          }
        },
        "eaf5e2a329f44fabbf124bf2555f671d": {
          "model_module": "@jupyter-widgets/controls",
          "model_name": "VBoxModel",
          "model_module_version": "1.5.0",
          "state": {
            "_dom_classes": [],
            "_model_module": "@jupyter-widgets/controls",
            "_model_module_version": "1.5.0",
            "_model_name": "VBoxModel",
            "_view_count": null,
            "_view_module": "@jupyter-widgets/controls",
            "_view_module_version": "1.5.0",
            "_view_name": "VBoxView",
            "box_style": "",
            "children": [
              "IPY_MODEL_514ccf99f5fa49f493e5108a0624a72d",
              "IPY_MODEL_c5960d4943c84347beddbe5999d77e1d"
            ],
            "layout": "IPY_MODEL_7c5fe1ba1a5b45de99e02820b9381e5a"
          }
        },
        "514ccf99f5fa49f493e5108a0624a72d": {
          "model_module": "@jupyter-widgets/controls",
          "model_name": "LabelModel",
          "model_module_version": "1.5.0",
          "state": {
            "_dom_classes": [],
            "_model_module": "@jupyter-widgets/controls",
            "_model_module_version": "1.5.0",
            "_model_name": "LabelModel",
            "_view_count": null,
            "_view_module": "@jupyter-widgets/controls",
            "_view_module_version": "1.5.0",
            "_view_name": "LabelView",
            "description": "",
            "description_tooltip": null,
            "layout": "IPY_MODEL_dd6995ab657d406fae4d99ac10afb391",
            "placeholder": "​",
            "style": "IPY_MODEL_322f4809ab4b43109ecd1ff2f6ae30f0",
            "value": "0.011 MB of 0.011 MB uploaded\r"
          }
        },
        "c5960d4943c84347beddbe5999d77e1d": {
          "model_module": "@jupyter-widgets/controls",
          "model_name": "FloatProgressModel",
          "model_module_version": "1.5.0",
          "state": {
            "_dom_classes": [],
            "_model_module": "@jupyter-widgets/controls",
            "_model_module_version": "1.5.0",
            "_model_name": "FloatProgressModel",
            "_view_count": null,
            "_view_module": "@jupyter-widgets/controls",
            "_view_module_version": "1.5.0",
            "_view_name": "ProgressView",
            "bar_style": "",
            "description": "",
            "description_tooltip": null,
            "layout": "IPY_MODEL_3256875e109f40c893a9ebb3430fdd6e",
            "max": 1,
            "min": 0,
            "orientation": "horizontal",
            "style": "IPY_MODEL_ade89c2dea3f4ed59bd58a0526d159ee",
            "value": 1
          }
        },
        "7c5fe1ba1a5b45de99e02820b9381e5a": {
          "model_module": "@jupyter-widgets/base",
          "model_name": "LayoutModel",
          "model_module_version": "1.2.0",
          "state": {
            "_model_module": "@jupyter-widgets/base",
            "_model_module_version": "1.2.0",
            "_model_name": "LayoutModel",
            "_view_count": null,
            "_view_module": "@jupyter-widgets/base",
            "_view_module_version": "1.2.0",
            "_view_name": "LayoutView",
            "align_content": null,
            "align_items": null,
            "align_self": null,
            "border": null,
            "bottom": null,
            "display": null,
            "flex": null,
            "flex_flow": null,
            "grid_area": null,
            "grid_auto_columns": null,
            "grid_auto_flow": null,
            "grid_auto_rows": null,
            "grid_column": null,
            "grid_gap": null,
            "grid_row": null,
            "grid_template_areas": null,
            "grid_template_columns": null,
            "grid_template_rows": null,
            "height": null,
            "justify_content": null,
            "justify_items": null,
            "left": null,
            "margin": null,
            "max_height": null,
            "max_width": null,
            "min_height": null,
            "min_width": null,
            "object_fit": null,
            "object_position": null,
            "order": null,
            "overflow": null,
            "overflow_x": null,
            "overflow_y": null,
            "padding": null,
            "right": null,
            "top": null,
            "visibility": null,
            "width": null
          }
        },
        "dd6995ab657d406fae4d99ac10afb391": {
          "model_module": "@jupyter-widgets/base",
          "model_name": "LayoutModel",
          "model_module_version": "1.2.0",
          "state": {
            "_model_module": "@jupyter-widgets/base",
            "_model_module_version": "1.2.0",
            "_model_name": "LayoutModel",
            "_view_count": null,
            "_view_module": "@jupyter-widgets/base",
            "_view_module_version": "1.2.0",
            "_view_name": "LayoutView",
            "align_content": null,
            "align_items": null,
            "align_self": null,
            "border": null,
            "bottom": null,
            "display": null,
            "flex": null,
            "flex_flow": null,
            "grid_area": null,
            "grid_auto_columns": null,
            "grid_auto_flow": null,
            "grid_auto_rows": null,
            "grid_column": null,
            "grid_gap": null,
            "grid_row": null,
            "grid_template_areas": null,
            "grid_template_columns": null,
            "grid_template_rows": null,
            "height": null,
            "justify_content": null,
            "justify_items": null,
            "left": null,
            "margin": null,
            "max_height": null,
            "max_width": null,
            "min_height": null,
            "min_width": null,
            "object_fit": null,
            "object_position": null,
            "order": null,
            "overflow": null,
            "overflow_x": null,
            "overflow_y": null,
            "padding": null,
            "right": null,
            "top": null,
            "visibility": null,
            "width": null
          }
        },
        "322f4809ab4b43109ecd1ff2f6ae30f0": {
          "model_module": "@jupyter-widgets/controls",
          "model_name": "DescriptionStyleModel",
          "model_module_version": "1.5.0",
          "state": {
            "_model_module": "@jupyter-widgets/controls",
            "_model_module_version": "1.5.0",
            "_model_name": "DescriptionStyleModel",
            "_view_count": null,
            "_view_module": "@jupyter-widgets/base",
            "_view_module_version": "1.2.0",
            "_view_name": "StyleView",
            "description_width": ""
          }
        },
        "3256875e109f40c893a9ebb3430fdd6e": {
          "model_module": "@jupyter-widgets/base",
          "model_name": "LayoutModel",
          "model_module_version": "1.2.0",
          "state": {
            "_model_module": "@jupyter-widgets/base",
            "_model_module_version": "1.2.0",
            "_model_name": "LayoutModel",
            "_view_count": null,
            "_view_module": "@jupyter-widgets/base",
            "_view_module_version": "1.2.0",
            "_view_name": "LayoutView",
            "align_content": null,
            "align_items": null,
            "align_self": null,
            "border": null,
            "bottom": null,
            "display": null,
            "flex": null,
            "flex_flow": null,
            "grid_area": null,
            "grid_auto_columns": null,
            "grid_auto_flow": null,
            "grid_auto_rows": null,
            "grid_column": null,
            "grid_gap": null,
            "grid_row": null,
            "grid_template_areas": null,
            "grid_template_columns": null,
            "grid_template_rows": null,
            "height": null,
            "justify_content": null,
            "justify_items": null,
            "left": null,
            "margin": null,
            "max_height": null,
            "max_width": null,
            "min_height": null,
            "min_width": null,
            "object_fit": null,
            "object_position": null,
            "order": null,
            "overflow": null,
            "overflow_x": null,
            "overflow_y": null,
            "padding": null,
            "right": null,
            "top": null,
            "visibility": null,
            "width": null
          }
        },
        "ade89c2dea3f4ed59bd58a0526d159ee": {
          "model_module": "@jupyter-widgets/controls",
          "model_name": "ProgressStyleModel",
          "model_module_version": "1.5.0",
          "state": {
            "_model_module": "@jupyter-widgets/controls",
            "_model_module_version": "1.5.0",
            "_model_name": "ProgressStyleModel",
            "_view_count": null,
            "_view_module": "@jupyter-widgets/base",
            "_view_module_version": "1.2.0",
            "_view_name": "StyleView",
            "bar_color": null,
            "description_width": ""
          }
        },
        "c18ebe6a6ba8459db767091c70ec5499": {
          "model_module": "@jupyter-widgets/controls",
          "model_name": "VBoxModel",
          "model_module_version": "1.5.0",
          "state": {
            "_dom_classes": [],
            "_model_module": "@jupyter-widgets/controls",
            "_model_module_version": "1.5.0",
            "_model_name": "VBoxModel",
            "_view_count": null,
            "_view_module": "@jupyter-widgets/controls",
            "_view_module_version": "1.5.0",
            "_view_name": "VBoxView",
            "box_style": "",
            "children": [
              "IPY_MODEL_ca9154db18954db889c69852f975051b",
              "IPY_MODEL_d7d694740ec6453a8aa6b2560a0fecbb"
            ],
            "layout": "IPY_MODEL_de5c760504354cbe93af2118c5b6d3e8"
          }
        },
        "ca9154db18954db889c69852f975051b": {
          "model_module": "@jupyter-widgets/controls",
          "model_name": "LabelModel",
          "model_module_version": "1.5.0",
          "state": {
            "_dom_classes": [],
            "_model_module": "@jupyter-widgets/controls",
            "_model_module_version": "1.5.0",
            "_model_name": "LabelModel",
            "_view_count": null,
            "_view_module": "@jupyter-widgets/controls",
            "_view_module_version": "1.5.0",
            "_view_name": "LabelView",
            "description": "",
            "description_tooltip": null,
            "layout": "IPY_MODEL_93148199841c4c82a0ed42ec79f8211c",
            "placeholder": "​",
            "style": "IPY_MODEL_c1da49fa171f46f4b0373d4f3d756e55",
            "value": "0.013 MB of 0.013 MB uploaded\r"
          }
        },
        "d7d694740ec6453a8aa6b2560a0fecbb": {
          "model_module": "@jupyter-widgets/controls",
          "model_name": "FloatProgressModel",
          "model_module_version": "1.5.0",
          "state": {
            "_dom_classes": [],
            "_model_module": "@jupyter-widgets/controls",
            "_model_module_version": "1.5.0",
            "_model_name": "FloatProgressModel",
            "_view_count": null,
            "_view_module": "@jupyter-widgets/controls",
            "_view_module_version": "1.5.0",
            "_view_name": "ProgressView",
            "bar_style": "",
            "description": "",
            "description_tooltip": null,
            "layout": "IPY_MODEL_c55a9ec09ba44961be03f3ad0f1fa033",
            "max": 1,
            "min": 0,
            "orientation": "horizontal",
            "style": "IPY_MODEL_6db9d87cdc46425085a96e2d5c100343",
            "value": 1
          }
        },
        "de5c760504354cbe93af2118c5b6d3e8": {
          "model_module": "@jupyter-widgets/base",
          "model_name": "LayoutModel",
          "model_module_version": "1.2.0",
          "state": {
            "_model_module": "@jupyter-widgets/base",
            "_model_module_version": "1.2.0",
            "_model_name": "LayoutModel",
            "_view_count": null,
            "_view_module": "@jupyter-widgets/base",
            "_view_module_version": "1.2.0",
            "_view_name": "LayoutView",
            "align_content": null,
            "align_items": null,
            "align_self": null,
            "border": null,
            "bottom": null,
            "display": null,
            "flex": null,
            "flex_flow": null,
            "grid_area": null,
            "grid_auto_columns": null,
            "grid_auto_flow": null,
            "grid_auto_rows": null,
            "grid_column": null,
            "grid_gap": null,
            "grid_row": null,
            "grid_template_areas": null,
            "grid_template_columns": null,
            "grid_template_rows": null,
            "height": null,
            "justify_content": null,
            "justify_items": null,
            "left": null,
            "margin": null,
            "max_height": null,
            "max_width": null,
            "min_height": null,
            "min_width": null,
            "object_fit": null,
            "object_position": null,
            "order": null,
            "overflow": null,
            "overflow_x": null,
            "overflow_y": null,
            "padding": null,
            "right": null,
            "top": null,
            "visibility": null,
            "width": null
          }
        },
        "93148199841c4c82a0ed42ec79f8211c": {
          "model_module": "@jupyter-widgets/base",
          "model_name": "LayoutModel",
          "model_module_version": "1.2.0",
          "state": {
            "_model_module": "@jupyter-widgets/base",
            "_model_module_version": "1.2.0",
            "_model_name": "LayoutModel",
            "_view_count": null,
            "_view_module": "@jupyter-widgets/base",
            "_view_module_version": "1.2.0",
            "_view_name": "LayoutView",
            "align_content": null,
            "align_items": null,
            "align_self": null,
            "border": null,
            "bottom": null,
            "display": null,
            "flex": null,
            "flex_flow": null,
            "grid_area": null,
            "grid_auto_columns": null,
            "grid_auto_flow": null,
            "grid_auto_rows": null,
            "grid_column": null,
            "grid_gap": null,
            "grid_row": null,
            "grid_template_areas": null,
            "grid_template_columns": null,
            "grid_template_rows": null,
            "height": null,
            "justify_content": null,
            "justify_items": null,
            "left": null,
            "margin": null,
            "max_height": null,
            "max_width": null,
            "min_height": null,
            "min_width": null,
            "object_fit": null,
            "object_position": null,
            "order": null,
            "overflow": null,
            "overflow_x": null,
            "overflow_y": null,
            "padding": null,
            "right": null,
            "top": null,
            "visibility": null,
            "width": null
          }
        },
        "c1da49fa171f46f4b0373d4f3d756e55": {
          "model_module": "@jupyter-widgets/controls",
          "model_name": "DescriptionStyleModel",
          "model_module_version": "1.5.0",
          "state": {
            "_model_module": "@jupyter-widgets/controls",
            "_model_module_version": "1.5.0",
            "_model_name": "DescriptionStyleModel",
            "_view_count": null,
            "_view_module": "@jupyter-widgets/base",
            "_view_module_version": "1.2.0",
            "_view_name": "StyleView",
            "description_width": ""
          }
        },
        "c55a9ec09ba44961be03f3ad0f1fa033": {
          "model_module": "@jupyter-widgets/base",
          "model_name": "LayoutModel",
          "model_module_version": "1.2.0",
          "state": {
            "_model_module": "@jupyter-widgets/base",
            "_model_module_version": "1.2.0",
            "_model_name": "LayoutModel",
            "_view_count": null,
            "_view_module": "@jupyter-widgets/base",
            "_view_module_version": "1.2.0",
            "_view_name": "LayoutView",
            "align_content": null,
            "align_items": null,
            "align_self": null,
            "border": null,
            "bottom": null,
            "display": null,
            "flex": null,
            "flex_flow": null,
            "grid_area": null,
            "grid_auto_columns": null,
            "grid_auto_flow": null,
            "grid_auto_rows": null,
            "grid_column": null,
            "grid_gap": null,
            "grid_row": null,
            "grid_template_areas": null,
            "grid_template_columns": null,
            "grid_template_rows": null,
            "height": null,
            "justify_content": null,
            "justify_items": null,
            "left": null,
            "margin": null,
            "max_height": null,
            "max_width": null,
            "min_height": null,
            "min_width": null,
            "object_fit": null,
            "object_position": null,
            "order": null,
            "overflow": null,
            "overflow_x": null,
            "overflow_y": null,
            "padding": null,
            "right": null,
            "top": null,
            "visibility": null,
            "width": null
          }
        },
        "6db9d87cdc46425085a96e2d5c100343": {
          "model_module": "@jupyter-widgets/controls",
          "model_name": "ProgressStyleModel",
          "model_module_version": "1.5.0",
          "state": {
            "_model_module": "@jupyter-widgets/controls",
            "_model_module_version": "1.5.0",
            "_model_name": "ProgressStyleModel",
            "_view_count": null,
            "_view_module": "@jupyter-widgets/base",
            "_view_module_version": "1.2.0",
            "_view_name": "StyleView",
            "bar_color": null,
            "description_width": ""
          }
        }
      }
    }
  },
  "cells": [
    {
      "cell_type": "code",
      "source": [
        "!pip install wandb"
      ],
      "metadata": {
        "colab": {
          "base_uri": "https://localhost:8080/"
        },
        "id": "bC4PHMVK3n9f",
        "outputId": "55a0c6b9-e964-4d56-cde0-4891116b109e"
      },
      "execution_count": 8,
      "outputs": [
        {
          "output_type": "stream",
          "name": "stdout",
          "text": [
            "Collecting wandb\n",
            "  Downloading wandb-0.17.0-py3-none-manylinux_2_5_x86_64.manylinux1_x86_64.manylinux_2_17_x86_64.manylinux2014_x86_64.whl (6.7 MB)\n",
            "\u001b[2K     \u001b[90m━━━━━━━━━━━━━━━━━━━━━━━━━━━━━━━━━━━━━━━━\u001b[0m \u001b[32m6.7/6.7 MB\u001b[0m \u001b[31m21.1 MB/s\u001b[0m eta \u001b[36m0:00:00\u001b[0m\n",
            "\u001b[?25hRequirement already satisfied: click!=8.0.0,>=7.1 in /usr/local/lib/python3.10/dist-packages (from wandb) (8.1.7)\n",
            "Collecting docker-pycreds>=0.4.0 (from wandb)\n",
            "  Downloading docker_pycreds-0.4.0-py2.py3-none-any.whl (9.0 kB)\n",
            "Collecting gitpython!=3.1.29,>=1.0.0 (from wandb)\n",
            "  Downloading GitPython-3.1.43-py3-none-any.whl (207 kB)\n",
            "\u001b[2K     \u001b[90m━━━━━━━━━━━━━━━━━━━━━━━━━━━━━━━━━━━━━━━━\u001b[0m \u001b[32m207.3/207.3 kB\u001b[0m \u001b[31m18.8 MB/s\u001b[0m eta \u001b[36m0:00:00\u001b[0m\n",
            "\u001b[?25hRequirement already satisfied: platformdirs in /usr/local/lib/python3.10/dist-packages (from wandb) (4.2.1)\n",
            "Requirement already satisfied: protobuf!=4.21.0,<5,>=3.19.0 in /usr/local/lib/python3.10/dist-packages (from wandb) (3.20.3)\n",
            "Requirement already satisfied: psutil>=5.0.0 in /usr/local/lib/python3.10/dist-packages (from wandb) (5.9.5)\n",
            "Requirement already satisfied: pyyaml in /usr/local/lib/python3.10/dist-packages (from wandb) (6.0.1)\n",
            "Requirement already satisfied: requests<3,>=2.0.0 in /usr/local/lib/python3.10/dist-packages (from wandb) (2.31.0)\n",
            "Collecting sentry-sdk>=1.0.0 (from wandb)\n",
            "  Downloading sentry_sdk-2.2.0-py2.py3-none-any.whl (281 kB)\n",
            "\u001b[2K     \u001b[90m━━━━━━━━━━━━━━━━━━━━━━━━━━━━━━━━━━━━━━━━\u001b[0m \u001b[32m281.1/281.1 kB\u001b[0m \u001b[31m14.8 MB/s\u001b[0m eta \u001b[36m0:00:00\u001b[0m\n",
            "\u001b[?25hCollecting setproctitle (from wandb)\n",
            "  Downloading setproctitle-1.3.3-cp310-cp310-manylinux_2_5_x86_64.manylinux1_x86_64.manylinux_2_17_x86_64.manylinux2014_x86_64.whl (30 kB)\n",
            "Requirement already satisfied: setuptools in /usr/local/lib/python3.10/dist-packages (from wandb) (67.7.2)\n",
            "Requirement already satisfied: six>=1.4.0 in /usr/local/lib/python3.10/dist-packages (from docker-pycreds>=0.4.0->wandb) (1.16.0)\n",
            "Collecting gitdb<5,>=4.0.1 (from gitpython!=3.1.29,>=1.0.0->wandb)\n",
            "  Downloading gitdb-4.0.11-py3-none-any.whl (62 kB)\n",
            "\u001b[2K     \u001b[90m━━━━━━━━━━━━━━━━━━━━━━━━━━━━━━━━━━━━━━━━\u001b[0m \u001b[32m62.7/62.7 kB\u001b[0m \u001b[31m2.5 MB/s\u001b[0m eta \u001b[36m0:00:00\u001b[0m\n",
            "\u001b[?25hRequirement already satisfied: charset-normalizer<4,>=2 in /usr/local/lib/python3.10/dist-packages (from requests<3,>=2.0.0->wandb) (3.3.2)\n",
            "Requirement already satisfied: idna<4,>=2.5 in /usr/local/lib/python3.10/dist-packages (from requests<3,>=2.0.0->wandb) (3.7)\n",
            "Requirement already satisfied: urllib3<3,>=1.21.1 in /usr/local/lib/python3.10/dist-packages (from requests<3,>=2.0.0->wandb) (2.0.7)\n",
            "Requirement already satisfied: certifi>=2017.4.17 in /usr/local/lib/python3.10/dist-packages (from requests<3,>=2.0.0->wandb) (2024.2.2)\n",
            "Collecting smmap<6,>=3.0.1 (from gitdb<5,>=4.0.1->gitpython!=3.1.29,>=1.0.0->wandb)\n",
            "  Downloading smmap-5.0.1-py3-none-any.whl (24 kB)\n",
            "Installing collected packages: smmap, setproctitle, sentry-sdk, docker-pycreds, gitdb, gitpython, wandb\n",
            "Successfully installed docker-pycreds-0.4.0 gitdb-4.0.11 gitpython-3.1.43 sentry-sdk-2.2.0 setproctitle-1.3.3 smmap-5.0.1 wandb-0.17.0\n"
          ]
        }
      ]
    },
    {
      "cell_type": "code",
      "execution_count": 9,
      "metadata": {
        "id": "jjCqmjrDzfFv"
      },
      "outputs": [],
      "source": [
        "import pandas as pd\n",
        "import wandb"
      ]
    },
    {
      "cell_type": "code",
      "source": [
        "from google.colab import drive\n",
        "drive.mount('/content/gdrive/')"
      ],
      "metadata": {
        "colab": {
          "base_uri": "https://localhost:8080/"
        },
        "id": "fnoy3shNzvsq",
        "outputId": "b915cbe5-e4c9-4173-ad70-2d5903cadaff"
      },
      "execution_count": 2,
      "outputs": [
        {
          "output_type": "stream",
          "name": "stdout",
          "text": [
            "Drive already mounted at /content/gdrive/; to attempt to forcibly remount, call drive.mount(\"/content/gdrive/\", force_remount=True).\n"
          ]
        }
      ]
    },
    {
      "cell_type": "code",
      "source": [],
      "metadata": {
        "id": "iR75kx9Bz8tW"
      },
      "execution_count": 2,
      "outputs": []
    },
    {
      "cell_type": "code",
      "source": [
        "root_folder = \"gdrive/MyDrive/emotion_recognition/\"\n",
        "data_path = root_folder + \"data_init/\"\n",
        "data_seg_path = root_folder + \"data_init_segments/\"\n",
        "res_folder = root_folder + 'experiments/'\n",
        "audio_features_folder = res_folder + \"audio_features/\"\n",
        "text_features_folder = res_folder + \"text_features/\""
      ],
      "metadata": {
        "id": "ZEzO0nv9zwuo"
      },
      "execution_count": 14,
      "outputs": []
    },
    {
      "cell_type": "markdown",
      "source": [
        "# Data preparation"
      ],
      "metadata": {
        "id": "OHd47_XqV319"
      }
    },
    {
      "cell_type": "code",
      "source": [
        "df_file = pd.read_csv(res_folder+'init.csv', ).reset_index(drop=True)\n",
        "\n",
        "\n",
        "df_file['emotion_merged'] = df_file['emotion']\n",
        "df_file.loc[df_file['emotion_merged'] == 'pleasant_surprise', 'emotion_merged'] = 'happy'\n",
        "df_file.loc[df_file['emotion_merged'] == 'disgust', 'emotion_merged'] = 'angry'\n",
        "df_file['label'] = df_file['emotion_merged'].apply(lambda x: 'no-conflict' if x in ['neutral', 'happy'] else 'conflict')\n",
        "df_file['path'] = data_path + df_file['folder_name'] + '/' + \"rs_16_\" + df_file['audio_file_name']\n",
        "df_file['folder'] = df_file.path.str.split('/').str[4]\n",
        "\n",
        "df_file = df_file.drop(columns=['Unnamed: 0', 'emotion'])\n"
      ],
      "metadata": {
        "id": "cW2fVVbZ0QYl"
      },
      "execution_count": 4,
      "outputs": []
    },
    {
      "cell_type": "code",
      "source": [
        "def change_lang(lang, langid_lang):\n",
        "  if lang == 's':\n",
        "    if langid_lang == 'ru':\n",
        "      return 'r'\n",
        "    return 'u'\n",
        "  return lang\n",
        "\n",
        "\n",
        "df_seg = pd.read_csv(data_seg_path+'seg_info.csv').drop([48]).reset_index(drop=True)\n",
        "df_seg['emotion_merged'] = df_seg['emotion']\n",
        "df_seg.loc[df_seg['emotion_merged'] == 'pleasant_surprise', 'emotion_merged'] = 'happy'\n",
        "df_seg.loc[df_seg['emotion_merged'] == 'disgust', 'emotion_merged'] = 'angry'\n",
        "df_seg['label'] = df_seg['emotion_merged'].apply(lambda x: 'no-conflict' if x in ['neutral', 'happy'] else 'conflict')\n",
        "df_seg['context_label'] = df_seg['emotion_context'].apply(lambda x: 'no-conflict' if x in ['neutral', 'happy', 'pleasant_surprise'] else 'conflict')\n",
        "\n",
        "df_seg['language'] = df_seg.apply(lambda row: change_lang(row['language'], row['langid_language']),\n",
        "                                  axis=1)\n",
        "df_seg['path'] = df_seg['folder_name'] + df_seg['res_file_name']\n",
        "\n",
        "df_seg = df_seg.drop(columns=['Unnamed: 0', 'folder_name', 'file_name',\n",
        "                              'info', 'emotion', 'langid_language'])"
      ],
      "metadata": {
        "id": "3BUB28180SsH"
      },
      "execution_count": 5,
      "outputs": []
    },
    {
      "cell_type": "code",
      "source": [
        "def merge_labels(df_meta, df_features, drop_index=False, merge_on=\"path\"):\n",
        "  return df_features.reset_index(drop=drop_index) \\\n",
        "                    .rename(columns={\"file\":\"path\"}) \\\n",
        "                    .merge(df_meta[[merge_on, 'label']], on=merge_on, how='inner', suffixes=('_1', '_2'))"
      ],
      "metadata": {
        "id": "cO_ff54UzyQU"
      },
      "execution_count": 6,
      "outputs": []
    },
    {
      "cell_type": "code",
      "source": [
        "df_file_smile_func_compare = pd.read_csv(audio_features_folder+'file_smile_func_compare.csv')\n",
        "df_seg_smile_func_compare = pd.read_csv(audio_features_folder+'seg_smile_func_compare.csv')\n",
        "df_file_smile_lld_compare = pd.read_csv(audio_features_folder+'file_smile_lld_compare.csv')\n",
        "df_seg_smile_lld_compare = pd.read_csv(audio_features_folder+'seg_smile_lld_compare.csv')\n",
        "\n",
        "df_file_smile_func_compare = merge_labels(df_file, df_file_smile_func_compare, drop_index=True)\n",
        "df_seg_smile_func_compare = merge_labels(df_seg, df_seg_smile_func_compare, drop_index=True)"
      ],
      "metadata": {
        "id": "Wiy-_ilp00qG"
      },
      "execution_count": 7,
      "outputs": []
    },
    {
      "cell_type": "code",
      "source": [
        "df_file_hs_300m = pd.read_csv(audio_features_folder+\"file_hs_w2v_no-tune_fb_xls-r-300m.csv\")\n",
        "df_file_hs_300m.pop('Unnamed: 0')\n",
        "\n",
        "df_file_ef_300m = pd.read_csv(audio_features_folder+\"file_ef_w2v_no-tune_fb_xls-r-300m.csv\")\n",
        "df_file_ef_300m.pop('Unnamed: 0')\n",
        "\n",
        "df_seg_hs_300m = pd.read_csv(audio_features_folder+\"seg_hs_w2v_no-tune_fb_xls-r-300m.csv\")\n",
        "df_seg_hs_300m.pop('Unnamed: 0')\n",
        "\n",
        "df_seg_ef_300m = pd.read_csv(audio_features_folder+\"seg_ef_w2v_no-tune_fb_xls-r-300m.csv\")\n",
        "df_seg_ef_300m.pop('Unnamed: 0')\n",
        "\n",
        "\n",
        "\n",
        "df_file_hs_1b = pd.read_csv(audio_features_folder+\"file_hs_wav2vec2-xls-r-1b.csv\")\n",
        "df_file_hs_1b.pop('Unnamed: 0')\n",
        "\n",
        "df_file_ef_1b = pd.read_csv(audio_features_folder+\"file_ef_wav2vec2-xls-r-1b.csv\")\n",
        "df_file_ef_1b.pop('Unnamed: 0')\n",
        "\n",
        "df_seg_hs_1b = pd.read_csv(audio_features_folder+\"seg_hs_wav2vec2-xls-r-1b.csv\")\n",
        "df_seg_hs_1b.pop('Unnamed: 0')\n",
        "\n",
        "df_seg_ef_1b = pd.read_csv(audio_features_folder+\"seg_ef_wav2vec2-xls-r-1b.csv\")\n",
        "df_seg_ef_1b.pop('Unnamed: 0')\n",
        "\n",
        "\n",
        "df_file_hs_2b = pd.read_csv(audio_features_folder+\"file_hs_wav2vec2-xls-r-2b.csv\")\n",
        "df_file_hs_2b.pop('Unnamed: 0')\n",
        "\n",
        "df_file_ef_2b = pd.read_csv(audio_features_folder+\"file_ef_wav2vec2-xls-r-2b.csv\")\n",
        "df_file_ef_2b.pop('Unnamed: 0')\n",
        "\n",
        "df_seg_hs_2b = pd.read_csv(audio_features_folder+\"seg_hs_wav2vec2-xls-r-2b.csv\")\n",
        "df_seg_hs_2b.pop('Unnamed: 0')\n",
        "\n",
        "df_seg_ef_2b = pd.read_csv(audio_features_folder+\"seg_ef_wav2vec2-xls-r-2b.csv\")\n",
        "df_seg_ef_2b.pop('Unnamed: 0')"
      ],
      "metadata": {
        "colab": {
          "base_uri": "https://localhost:8080/"
        },
        "id": "emnhuOHG018w",
        "outputId": "eabedba4-6563-43b2-dc37-94e4207db2da"
      },
      "execution_count": 68,
      "outputs": [
        {
          "output_type": "execute_result",
          "data": {
            "text/plain": [
              "0        0\n",
              "1        1\n",
              "2        2\n",
              "3        3\n",
              "4        4\n",
              "      ... \n",
              "540    540\n",
              "541    541\n",
              "542    542\n",
              "543    543\n",
              "544    544\n",
              "Name: Unnamed: 0, Length: 545, dtype: int64"
            ]
          },
          "metadata": {},
          "execution_count": 68
        }
      ]
    },
    {
      "cell_type": "code",
      "source": [
        "roberta_pipline_twitter_out_eng_df = pd.read_csv(text_features_folder + 'twitter-roberta-base-sentiment-latest.csv')\n",
        "roberta_pipline_twitter_out_eng_df.pop('Unnamed: 0')\n",
        "\n",
        "mdeberta_xnli_multi_transc = pd.read_csv(text_features_folder + 'transc_file_mDeBERTa-v3-base-mnli-xnli.csv')\n",
        "mdeberta_xnli_multi_transc.pop('Unnamed: 0')\n",
        "\n",
        "mdeberta_xnli_multi_origin = pd.read_csv(text_features_folder + 'origin_file_mDeBERTa-v3-base-mnli-xnli.csv')\n",
        "mdeberta_xnli_multi_origin.pop('Unnamed: 0')\n"
      ],
      "metadata": {
        "colab": {
          "base_uri": "https://localhost:8080/"
        },
        "id": "L6x7wyDt5At-",
        "outputId": "59366a47-e19a-447c-d830-0e23d3957053"
      },
      "execution_count": 204,
      "outputs": [
        {
          "output_type": "execute_result",
          "data": {
            "text/plain": [
              "0      0\n",
              "1      1\n",
              "2      2\n",
              "3      3\n",
              "4      4\n",
              "      ..\n",
              "85    85\n",
              "86    86\n",
              "87    87\n",
              "88    88\n",
              "89    89\n",
              "Name: Unnamed: 0, Length: 90, dtype: int64"
            ]
          },
          "metadata": {},
          "execution_count": 204
        }
      ]
    },
    {
      "cell_type": "code",
      "source": [
        "roberta_pipline_twitter_out_eng_df['path'] = roberta_pipline_twitter_out_eng_df['path'].str.replace('rs_16_rs_16_', 'rs_16_')\n",
        "mdeberta_xnli_multi_transc['path'] = mdeberta_xnli_multi_transc['path'].str.replace('rs_16_rs_16_', 'rs_16_')\n",
        "mdeberta_xnli_multi_origin['path'] = mdeberta_xnli_multi_origin['path'].str.replace('rs_16_rs_16_', 'rs_16_')"
      ],
      "metadata": {
        "id": "_iJh48qm_TEt"
      },
      "execution_count": 209,
      "outputs": []
    },
    {
      "cell_type": "markdown",
      "source": [
        "## Selected smile features"
      ],
      "metadata": {
        "id": "iAOjLJrU9Rfy"
      }
    },
    {
      "cell_type": "code",
      "source": [
        "selected_feature_names = ['audspecRasta_lengthL1norm_sma_kurtosis',\n",
        " 'audspecRasta_lengthL1norm_sma_maxSegLen',\n",
        " 'audspecRasta_lengthL1norm_sma_de_kurtosis',\n",
        " 'audSpec_Rfilt_sma[0]_kurtosis', 'audSpec_Rfilt_sma[1]_kurtosis',\n",
        " 'audSpec_Rfilt_sma[2]_kurtosis', 'audSpec_Rfilt_sma[3]_kurtosis',\n",
        " 'audSpec_Rfilt_sma[4]_kurtosis', 'audSpec_Rfilt_sma[5]_range',\n",
        " 'audSpec_Rfilt_sma[5]_kurtosis', 'audSpec_Rfilt_sma[6]_kurtosis',\n",
        " 'audSpec_Rfilt_sma[7]_kurtosis', 'audSpec_Rfilt_sma[8]_range',\n",
        " 'audSpec_Rfilt_sma[9]_range', 'audSpec_Rfilt_sma[9]_kurtosis',\n",
        " 'audSpec_Rfilt_sma[10]_kurtosis', 'audSpec_Rfilt_sma[10]_maxSegLen',\n",
        " 'audSpec_Rfilt_sma[11]_kurtosis', 'audSpec_Rfilt_sma[12]_kurtosis',\n",
        " 'audSpec_Rfilt_sma[13]_kurtosis', 'audSpec_Rfilt_sma[14]_range',\n",
        " 'audSpec_Rfilt_sma[14]_kurtosis', 'audSpec_Rfilt_sma[16]_kurtosis',\n",
        " 'audSpec_Rfilt_sma[16]_maxSegLen', 'audSpec_Rfilt_sma[18]_range',\n",
        " 'audSpec_Rfilt_sma[18]_kurtosis', 'audSpec_Rfilt_sma[20]_kurtosis',\n",
        " 'audSpec_Rfilt_sma[21]_kurtosis', 'audSpec_Rfilt_sma[22]_kurtosis',\n",
        " 'audSpec_Rfilt_sma[23]_kurtosis', 'audSpec_Rfilt_sma[24]_kurtosis',\n",
        " 'audSpec_Rfilt_sma[25]_kurtosis', 'pcm_fftMag_fband250-650_sma_kurtosis',\n",
        " 'pcm_fftMag_fband250-650_sma_maxSegLen',\n",
        " 'pcm_fftMag_fband1000-4000_sma_kurtosis',\n",
        " 'pcm_fftMag_spectralRollOff25.0_sma_range',\n",
        " 'pcm_fftMag_spectralRollOff25.0_sma_quartile1',\n",
        " 'pcm_fftMag_spectralRollOff25.0_sma_quartile2',\n",
        " 'pcm_fftMag_spectralRollOff25.0_sma_quartile3',\n",
        " 'pcm_fftMag_spectralRollOff25.0_sma_iqr1-2',\n",
        " 'pcm_fftMag_spectralRollOff25.0_sma_iqr2-3',\n",
        " 'pcm_fftMag_spectralRollOff25.0_sma_iqr1-3',\n",
        " 'pcm_fftMag_spectralRollOff25.0_sma_percentile1.0',\n",
        " 'pcm_fftMag_spectralRollOff25.0_sma_percentile99.0',\n",
        " 'pcm_fftMag_spectralRollOff25.0_sma_pctlrange0-1',\n",
        " 'pcm_fftMag_spectralRollOff25.0_sma_stddev',\n",
        " 'pcm_fftMag_spectralRollOff25.0_sma_lpgain',\n",
        " 'pcm_fftMag_spectralRollOff50.0_sma_range',\n",
        " 'pcm_fftMag_spectralRollOff50.0_sma_quartile1',\n",
        " 'pcm_fftMag_spectralRollOff50.0_sma_quartile2',\n",
        " 'pcm_fftMag_spectralRollOff50.0_sma_quartile3',\n",
        " 'pcm_fftMag_spectralRollOff50.0_sma_iqr1-2',\n",
        " 'pcm_fftMag_spectralRollOff50.0_sma_iqr2-3',\n",
        " 'pcm_fftMag_spectralRollOff50.0_sma_iqr1-3',\n",
        " 'pcm_fftMag_spectralRollOff50.0_sma_percentile1.0',\n",
        " 'pcm_fftMag_spectralRollOff50.0_sma_percentile99.0',\n",
        " 'pcm_fftMag_spectralRollOff50.0_sma_pctlrange0-1',\n",
        " 'pcm_fftMag_spectralRollOff50.0_sma_stddev',\n",
        " 'pcm_fftMag_spectralRollOff50.0_sma_lpgain',\n",
        " 'pcm_fftMag_spectralRollOff75.0_sma_range',\n",
        " 'pcm_fftMag_spectralRollOff75.0_sma_quartile1',\n",
        " 'pcm_fftMag_spectralRollOff75.0_sma_quartile2',\n",
        " 'pcm_fftMag_spectralRollOff75.0_sma_quartile3',\n",
        " 'pcm_fftMag_spectralRollOff75.0_sma_iqr1-2',\n",
        " 'pcm_fftMag_spectralRollOff75.0_sma_iqr2-3',\n",
        " 'pcm_fftMag_spectralRollOff75.0_sma_iqr1-3',\n",
        " 'pcm_fftMag_spectralRollOff75.0_sma_percentile1.0',\n",
        " 'pcm_fftMag_spectralRollOff75.0_sma_percentile99.0',\n",
        " 'pcm_fftMag_spectralRollOff75.0_sma_pctlrange0-1',\n",
        " 'pcm_fftMag_spectralRollOff75.0_sma_stddev',\n",
        " 'pcm_fftMag_spectralRollOff75.0_sma_lpgain',\n",
        " 'pcm_fftMag_spectralRollOff90.0_sma_range',\n",
        " 'pcm_fftMag_spectralRollOff90.0_sma_quartile1',\n",
        " 'pcm_fftMag_spectralRollOff90.0_sma_quartile2',\n",
        " 'pcm_fftMag_spectralRollOff90.0_sma_quartile3',\n",
        " 'pcm_fftMag_spectralRollOff90.0_sma_iqr1-2',\n",
        " 'pcm_fftMag_spectralRollOff90.0_sma_iqr2-3',\n",
        " 'pcm_fftMag_spectralRollOff90.0_sma_iqr1-3',\n",
        " 'pcm_fftMag_spectralRollOff90.0_sma_percentile1.0',\n",
        " 'pcm_fftMag_spectralRollOff90.0_sma_percentile99.0',\n",
        " 'pcm_fftMag_spectralRollOff90.0_sma_pctlrange0-1',\n",
        " 'pcm_fftMag_spectralRollOff90.0_sma_stddev',\n",
        " 'pcm_fftMag_spectralFlux_sma_kurtosis',\n",
        " 'pcm_fftMag_spectralCentroid_sma_range',\n",
        " 'pcm_fftMag_spectralCentroid_sma_quartile1',\n",
        " 'pcm_fftMag_spectralCentroid_sma_quartile2',\n",
        " 'pcm_fftMag_spectralCentroid_sma_quartile3',\n",
        " 'pcm_fftMag_spectralCentroid_sma_iqr1-2',\n",
        " 'pcm_fftMag_spectralCentroid_sma_iqr2-3',\n",
        " 'pcm_fftMag_spectralCentroid_sma_iqr1-3',\n",
        " 'pcm_fftMag_spectralCentroid_sma_percentile1.0',\n",
        " 'pcm_fftMag_spectralCentroid_sma_percentile99.0',\n",
        " 'pcm_fftMag_spectralCentroid_sma_pctlrange0-1',\n",
        " 'pcm_fftMag_spectralCentroid_sma_stddev',\n",
        " 'pcm_fftMag_spectralCentroid_sma_lpgain',\n",
        " 'pcm_fftMag_spectralVariance_sma_percentile1.0',\n",
        " 'pcm_fftMag_spectralKurtosis_sma_range',\n",
        " 'pcm_fftMag_spectralKurtosis_sma_quartile3',\n",
        " 'pcm_fftMag_spectralKurtosis_sma_iqr2-3',\n",
        " 'pcm_fftMag_spectralKurtosis_sma_iqr1-3',\n",
        " 'pcm_fftMag_spectralKurtosis_sma_percentile99.0',\n",
        " 'pcm_fftMag_spectralKurtosis_sma_pctlrange0-1',\n",
        " 'pcm_fftMag_spectralKurtosis_sma_stddev',\n",
        " 'pcm_fftMag_spectralKurtosis_sma_kurtosis',\n",
        " 'pcm_fftMag_spectralKurtosis_sma_meanSegLen',\n",
        " 'pcm_fftMag_spectralKurtosis_sma_maxSegLen',\n",
        " 'pcm_fftMag_spectralKurtosis_sma_lpgain',\n",
        " 'pcm_fftMag_spectralSlope_sma_kurtosis',\n",
        " 'pcm_fftMag_spectralSlope_sma_maxSegLen',\n",
        " 'pcm_fftMag_spectralHarmonicity_sma_kurtosis',\n",
        " 'pcm_fftMag_spectralHarmonicity_sma_maxSegLen', 'mfcc_sma[1]_range',\n",
        " 'mfcc_sma[1]_quartile1', 'mfcc_sma[1]_percentile1.0',\n",
        " 'mfcc_sma[1]_percentile99.0', 'mfcc_sma[2]_range', 'mfcc_sma[2]_quartile1',\n",
        " 'mfcc_sma[2]_quartile2', 'mfcc_sma[2]_quartile3',\n",
        " 'mfcc_sma[2]_percentile1.0', 'mfcc_sma[3]_range', 'mfcc_sma[3]_quartile2',\n",
        " 'mfcc_sma[3]_iqr1-3', 'mfcc_sma[3]_pctlrange0-1', 'mfcc_sma[4]_range',\n",
        " 'mfcc_sma[4]_percentile99.0', 'mfcc_sma[4]_pctlrange0-1',\n",
        " 'mfcc_sma[5]_range', 'mfcc_sma[5]_percentile1.0',\n",
        " 'mfcc_sma[5]_pctlrange0-1', 'mfcc_sma[6]_range', 'mfcc_sma[6]_quartile1',\n",
        " 'mfcc_sma[6]_iqr1-3', 'mfcc_sma[6]_percentile1.0',\n",
        " 'mfcc_sma[6]_percentile99.0', 'mfcc_sma[7]_range', 'mfcc_sma[8]_range',\n",
        " 'mfcc_sma[8]_pctlrange0-1', 'mfcc_sma[9]_range', 'mfcc_sma[9]_quartile1',\n",
        " 'mfcc_sma[9]_quartile2', 'mfcc_sma[9]_percentile1.0',\n",
        " 'mfcc_sma[9]_pctlrange0-1', 'mfcc_sma[10]_range',\n",
        " 'mfcc_sma[10]_percentile1.0', 'mfcc_sma[10]_percentile99.0',\n",
        " 'mfcc_sma[10]_pctlrange0-1', 'mfcc_sma[11]_range', 'mfcc_sma[11]_quartile1',\n",
        " 'mfcc_sma[11]_percentile1.0', 'mfcc_sma[11]_percentile99.0',\n",
        " 'mfcc_sma[12]_range', 'mfcc_sma[12]_percentile99.0',\n",
        " 'mfcc_sma[12]_pctlrange0-1', 'mfcc_sma[13]_range',\n",
        " 'mfcc_sma[13]_percentile1.0', 'mfcc_sma[13]_pctlrange0-1',\n",
        " 'mfcc_sma[14]_range', 'mfcc_sma[14]_percentile1.0',\n",
        " 'mfcc_sma[14]_percentile99.0', 'audSpec_Rfilt_sma_de[1]_kurtosis',\n",
        " 'audSpec_Rfilt_sma_de[1]_maxSegLen', 'audSpec_Rfilt_sma_de[2]_minSegLen',\n",
        " 'audSpec_Rfilt_sma_de[3]_kurtosis', 'audSpec_Rfilt_sma_de[3]_maxSegLen',\n",
        " 'audSpec_Rfilt_sma_de[4]_kurtosis', 'audSpec_Rfilt_sma_de[4]_maxSegLen',\n",
        " 'audSpec_Rfilt_sma_de[4]_minSegLen', 'audSpec_Rfilt_sma_de[5]_kurtosis',\n",
        " 'audSpec_Rfilt_sma_de[6]_kurtosis', 'audSpec_Rfilt_sma_de[6]_maxSegLen',\n",
        " 'audSpec_Rfilt_sma_de[7]_kurtosis', 'audSpec_Rfilt_sma_de[7]_meanSegLen',\n",
        " 'audSpec_Rfilt_sma_de[7]_minSegLen', 'audSpec_Rfilt_sma_de[8]_maxSegLen',\n",
        " 'audSpec_Rfilt_sma_de[9]_kurtosis', 'audSpec_Rfilt_sma_de[9]_maxSegLen',\n",
        " 'audSpec_Rfilt_sma_de[10]_kurtosis', 'audSpec_Rfilt_sma_de[10]_meanSegLen',\n",
        " 'audSpec_Rfilt_sma_de[11]_kurtosis', 'audSpec_Rfilt_sma_de[11]_maxSegLen',\n",
        " 'audSpec_Rfilt_sma_de[12]_maxSegLen',\n",
        " 'audSpec_Rfilt_sma_de[12]_segLenStddev',\n",
        " 'audSpec_Rfilt_sma_de[13]_kurtosis', 'audSpec_Rfilt_sma_de[13]_meanSegLen',\n",
        " 'audSpec_Rfilt_sma_de[13]_maxSegLen', 'audSpec_Rfilt_sma_de[14]_kurtosis',\n",
        " 'audSpec_Rfilt_sma_de[16]_minSegLen',\n",
        " 'audSpec_Rfilt_sma_de[17]_meanSegLen',\n",
        " 'audSpec_Rfilt_sma_de[17]_maxSegLen',\n",
        " 'audSpec_Rfilt_sma_de[17]_segLenStddev',\n",
        " 'audSpec_Rfilt_sma_de[18]_kurtosis', 'audSpec_Rfilt_sma_de[18]_maxSegLen',\n",
        " 'audSpec_Rfilt_sma_de[20]_kurtosis', 'audSpec_Rfilt_sma_de[21]_kurtosis',\n",
        " 'audSpec_Rfilt_sma_de[22]_kurtosis', 'audSpec_Rfilt_sma_de[23]_kurtosis',\n",
        " 'audSpec_Rfilt_sma_de[24]_kurtosis', 'audSpec_Rfilt_sma_de[25]_kurtosis',\n",
        " 'pcm_fftMag_fband250-650_sma_de_kurtosis',\n",
        " 'pcm_fftMag_fband1000-4000_sma_de_kurtosis',\n",
        " 'pcm_fftMag_fband1000-4000_sma_de_maxSegLen',\n",
        " 'pcm_fftMag_fband1000-4000_sma_de_minSegLen',\n",
        " 'pcm_fftMag_spectralRollOff25.0_sma_de_range',\n",
        " 'pcm_fftMag_spectralRollOff25.0_sma_de_quartile1',\n",
        " 'pcm_fftMag_spectralRollOff25.0_sma_de_iqr1-2',\n",
        " 'pcm_fftMag_spectralRollOff25.0_sma_de_iqr2-3',\n",
        " 'pcm_fftMag_spectralRollOff25.0_sma_de_iqr1-3',\n",
        " 'pcm_fftMag_spectralRollOff25.0_sma_de_percentile1.0',\n",
        " 'pcm_fftMag_spectralRollOff25.0_sma_de_percentile99.0',\n",
        " 'pcm_fftMag_spectralRollOff25.0_sma_de_pctlrange0-1',\n",
        " 'pcm_fftMag_spectralRollOff25.0_sma_de_kurtosis',\n",
        " 'pcm_fftMag_spectralRollOff25.0_sma_de_lpgain',\n",
        " 'pcm_fftMag_spectralRollOff50.0_sma_de_range',\n",
        " 'pcm_fftMag_spectralRollOff50.0_sma_de_percentile1.0',\n",
        " 'pcm_fftMag_spectralRollOff50.0_sma_de_percentile99.0',\n",
        " 'pcm_fftMag_spectralRollOff50.0_sma_de_pctlrange0-1',\n",
        " 'pcm_fftMag_spectralRollOff50.0_sma_de_stddev',\n",
        " 'pcm_fftMag_spectralRollOff50.0_sma_de_lpgain',\n",
        " 'pcm_fftMag_spectralRollOff75.0_sma_de_range',\n",
        " 'pcm_fftMag_spectralRollOff75.0_sma_de_quartile1',\n",
        " 'pcm_fftMag_spectralRollOff75.0_sma_de_iqr1-2',\n",
        " 'pcm_fftMag_spectralRollOff75.0_sma_de_iqr1-3',\n",
        " 'pcm_fftMag_spectralRollOff75.0_sma_de_percentile99.0',\n",
        " 'pcm_fftMag_spectralRollOff75.0_sma_de_pctlrange0-1',\n",
        " 'pcm_fftMag_spectralRollOff75.0_sma_de_lpgain',\n",
        " 'pcm_fftMag_spectralRollOff90.0_sma_de_range',\n",
        " 'pcm_fftMag_spectralRollOff90.0_sma_de_quartile3',\n",
        " 'pcm_fftMag_spectralRollOff90.0_sma_de_iqr2-3',\n",
        " 'pcm_fftMag_spectralRollOff90.0_sma_de_iqr1-3',\n",
        " 'pcm_fftMag_spectralRollOff90.0_sma_de_percentile1.0',\n",
        " 'pcm_fftMag_spectralRollOff90.0_sma_de_percentile99.0',\n",
        " 'pcm_fftMag_spectralRollOff90.0_sma_de_pctlrange0-1',\n",
        " 'pcm_fftMag_spectralRollOff90.0_sma_de_stddev',\n",
        " 'pcm_fftMag_spectralRollOff90.0_sma_de_lpgain',\n",
        " 'pcm_fftMag_spectralFlux_sma_de_kurtosis',\n",
        " 'pcm_fftMag_spectralFlux_sma_de_meanSegLen',\n",
        " 'pcm_fftMag_spectralFlux_sma_de_maxSegLen',\n",
        " 'pcm_fftMag_spectralFlux_sma_de_minSegLen',\n",
        " 'pcm_fftMag_spectralCentroid_sma_de_range',\n",
        " 'pcm_fftMag_spectralCentroid_sma_de_iqr1-3',\n",
        " 'pcm_fftMag_spectralCentroid_sma_de_percentile1.0',\n",
        " 'pcm_fftMag_spectralCentroid_sma_de_percentile99.0',\n",
        " 'pcm_fftMag_spectralCentroid_sma_de_pctlrange0-1',\n",
        " 'pcm_fftMag_spectralCentroid_sma_de_stddev',\n",
        " 'pcm_fftMag_spectralCentroid_sma_de_lpgain',\n",
        " 'pcm_fftMag_spectralVariance_sma_de_quartile2',\n",
        " 'pcm_fftMag_spectralSkewness_sma_de_meanSegLen',\n",
        " 'pcm_fftMag_spectralSkewness_sma_de_maxSegLen',\n",
        " 'pcm_fftMag_spectralSkewness_sma_de_segLenStddev',\n",
        " 'pcm_fftMag_spectralKurtosis_sma_de_range',\n",
        " 'pcm_fftMag_spectralKurtosis_sma_de_percentile99.0',\n",
        " 'pcm_fftMag_spectralKurtosis_sma_de_pctlrange0-1',\n",
        " 'pcm_fftMag_spectralKurtosis_sma_de_stddev',\n",
        " 'pcm_fftMag_spectralKurtosis_sma_de_kurtosis',\n",
        " 'pcm_fftMag_spectralKurtosis_sma_de_meanSegLen',\n",
        " 'pcm_fftMag_spectralKurtosis_sma_de_minSegLen',\n",
        " 'pcm_fftMag_spectralKurtosis_sma_de_lpgain',\n",
        " 'pcm_fftMag_spectralSlope_sma_de_maxSegLen',\n",
        " 'pcm_fftMag_spectralSlope_sma_de_minSegLen',\n",
        " 'pcm_fftMag_spectralHarmonicity_sma_de_kurtosis',\n",
        " 'pcm_fftMag_spectralHarmonicity_sma_de_meanSegLen',\n",
        " 'pcm_fftMag_spectralHarmonicity_sma_de_minSegLen', 'mfcc_sma_de[1]_range',\n",
        " 'mfcc_sma_de[10]_range', 'mfcc_sma_de[12]_range', 'F0final_sma_amean',\n",
        " 'F0final_sma_rqmean', 'F0final_sma_range', 'F0final_sma_quartile1',\n",
        " 'F0final_sma_quartile2', 'F0final_sma_quartile3', 'F0final_sma_iqr1-2',\n",
        " 'F0final_sma_iqr1-3', 'F0final_sma_percentile99.0',\n",
        " 'F0final_sma_pctlrange0-1', 'F0final_sma_kurtosis', 'F0final_sma_lpgain',\n",
        " 'jitterDDP_sma_kurtosis', 'logHNR_sma_rqmean', 'logHNR_sma_range',\n",
        " 'logHNR_sma_quartile1', 'logHNR_sma_quartile2', 'logHNR_sma_iqr1-2',\n",
        " 'logHNR_sma_iqr1-3', 'logHNR_sma_percentile1.0',\n",
        " 'logHNR_sma_percentile99.0', 'logHNR_sma_pctlrange0-1', 'logHNR_sma_lpgain',\n",
        " 'F0final_sma_de_kurtosis', 'voicingFinalUnclipped_sma_de_skewness',\n",
        " 'voicingFinalUnclipped_sma_de_kurtosis', 'jitterLocal_sma_de_skewness',\n",
        " 'jitterLocal_sma_de_kurtosis', 'jitterDDP_sma_de_kurtosis',\n",
        " 'shimmerLocal_sma_de_skewness', 'shimmerLocal_sma_de_kurtosis',\n",
        " 'logHNR_sma_de_skewness', 'logHNR_sma_de_kurtosis',\n",
        " 'audspecRasta_lengthL1norm_sma_meanRisingSlope',\n",
        " 'audspecRasta_lengthL1norm_sma_stddevFallingSlope',\n",
        " 'audSpec_Rfilt_sma[2]_meanRisingSlope',\n",
        " 'audSpec_Rfilt_sma[2]_stddevRisingSlope',\n",
        " 'audSpec_Rfilt_sma[3]_meanRisingSlope',\n",
        " 'audSpec_Rfilt_sma[3]_stddevFallingSlope',\n",
        " 'audSpec_Rfilt_sma[4]_meanRisingSlope',\n",
        " 'audSpec_Rfilt_sma[5]_peakRangeAbs',\n",
        " 'audSpec_Rfilt_sma[5]_meanRisingSlope',\n",
        " 'audSpec_Rfilt_sma[5]_stddevRisingSlope',\n",
        " 'audSpec_Rfilt_sma[5]_stddevFallingSlope',\n",
        " 'audSpec_Rfilt_sma[6]_peakRangeAbs',\n",
        " 'audSpec_Rfilt_sma[6]_meanRisingSlope',\n",
        " 'audSpec_Rfilt_sma[6]_stddevRisingSlope',\n",
        " 'audSpec_Rfilt_sma[7]_stddevFallingSlope',\n",
        " 'audSpec_Rfilt_sma[8]_peakRangeAbs',\n",
        " 'audSpec_Rfilt_sma[8]_meanRisingSlope',\n",
        " 'audSpec_Rfilt_sma[8]_stddevRisingSlope',\n",
        " 'audSpec_Rfilt_sma[9]_peakRangeAbs', 'audSpec_Rfilt_sma[9]_peakMeanAbs',\n",
        " 'audSpec_Rfilt_sma[9]_meanRisingSlope',\n",
        " 'audSpec_Rfilt_sma[9]_stddevRisingSlope',\n",
        " 'audSpec_Rfilt_sma[9]_stddevFallingSlope',\n",
        " 'audSpec_Rfilt_sma[10]_meanRisingSlope',\n",
        " 'audSpec_Rfilt_sma[10]_stddevRisingSlope',\n",
        " 'audSpec_Rfilt_sma[11]_meanRisingSlope',\n",
        " 'audSpec_Rfilt_sma[11]_stddevRisingSlope',\n",
        " 'audSpec_Rfilt_sma[11]_meanFallingSlope',\n",
        " 'audSpec_Rfilt_sma[11]_stddevFallingSlope',\n",
        " 'audSpec_Rfilt_sma[12]_meanFallingSlope',\n",
        " 'audSpec_Rfilt_sma[12]_stddevFallingSlope',\n",
        " 'audSpec_Rfilt_sma[13]_meanFallingSlope',\n",
        " 'audSpec_Rfilt_sma[13]_stddevFallingSlope',\n",
        " 'audSpec_Rfilt_sma[14]_stddevRisingSlope',\n",
        " 'audSpec_Rfilt_sma[14]_meanFallingSlope',\n",
        " 'audSpec_Rfilt_sma[15]_meanRisingSlope',\n",
        " 'audSpec_Rfilt_sma[15]_stddevFallingSlope',\n",
        " 'audSpec_Rfilt_sma[16]_meanRisingSlope',\n",
        " 'audSpec_Rfilt_sma[16]_stddevRisingSlope',\n",
        " 'audSpec_Rfilt_sma[16]_stddevFallingSlope',\n",
        " 'audSpec_Rfilt_sma[17]_meanRisingSlope',\n",
        " 'audSpec_Rfilt_sma[18]_peakRangeAbs',\n",
        " 'audSpec_Rfilt_sma[18]_meanRisingSlope',\n",
        " 'audSpec_Rfilt_sma[18]_stddevRisingSlope',\n",
        " 'audSpec_Rfilt_sma[18]_meanFallingSlope',\n",
        " 'audSpec_Rfilt_sma[18]_stddevFallingSlope',\n",
        " 'audSpec_Rfilt_sma[20]_stddevFallingSlope',\n",
        " 'audSpec_Rfilt_sma[21]_stddevFallingSlope',\n",
        " 'audSpec_Rfilt_sma[22]_stddevFallingSlope',\n",
        " 'pcm_fftMag_fband250-650_sma_meanRisingSlope',\n",
        " 'pcm_fftMag_fband250-650_sma_stddevRisingSlope',\n",
        " 'pcm_fftMag_fband250-650_sma_meanFallingSlope',\n",
        " 'pcm_fftMag_fband250-650_sma_stddevFallingSlope',\n",
        " 'pcm_fftMag_spectralRollOff25.0_sma_amean',\n",
        " 'pcm_fftMag_spectralRollOff25.0_sma_rqmean',\n",
        " 'pcm_fftMag_spectralRollOff25.0_sma_peakRangeAbs',\n",
        " 'pcm_fftMag_spectralRollOff25.0_sma_peakMeanAbs',\n",
        " 'pcm_fftMag_spectralRollOff25.0_sma_peakMeanMeanDist',\n",
        " 'pcm_fftMag_spectralRollOff25.0_sma_meanRisingSlope',\n",
        " 'pcm_fftMag_spectralRollOff25.0_sma_stddevRisingSlope',\n",
        " 'pcm_fftMag_spectralRollOff25.0_sma_meanFallingSlope',\n",
        " 'pcm_fftMag_spectralRollOff25.0_sma_stddevFallingSlope',\n",
        " 'pcm_fftMag_spectralRollOff50.0_sma_amean',\n",
        " 'pcm_fftMag_spectralRollOff50.0_sma_rqmean',\n",
        " 'pcm_fftMag_spectralRollOff50.0_sma_peakRangeAbs',\n",
        " 'pcm_fftMag_spectralRollOff50.0_sma_peakMeanMeanDist',\n",
        " 'pcm_fftMag_spectralRollOff50.0_sma_meanRisingSlope',\n",
        " 'pcm_fftMag_spectralRollOff50.0_sma_meanFallingSlope',\n",
        " 'pcm_fftMag_spectralRollOff75.0_sma_amean',\n",
        " 'pcm_fftMag_spectralRollOff75.0_sma_rqmean',\n",
        " 'pcm_fftMag_spectralRollOff75.0_sma_peakRangeAbs',\n",
        " 'pcm_fftMag_spectralRollOff75.0_sma_peakMeanAbs',\n",
        " 'pcm_fftMag_spectralRollOff75.0_sma_peakMeanMeanDist',\n",
        " 'pcm_fftMag_spectralRollOff75.0_sma_stddevFallingSlope',\n",
        " 'pcm_fftMag_spectralRollOff90.0_sma_amean',\n",
        " 'pcm_fftMag_spectralRollOff90.0_sma_rqmean',\n",
        " 'pcm_fftMag_spectralRollOff90.0_sma_peakRangeAbs',\n",
        " 'pcm_fftMag_spectralRollOff90.0_sma_peakMeanAbs',\n",
        " 'pcm_fftMag_spectralRollOff90.0_sma_peakMeanMeanDist',\n",
        " 'pcm_fftMag_spectralRollOff90.0_sma_meanRisingSlope',\n",
        " 'pcm_fftMag_spectralRollOff90.0_sma_meanFallingSlope',\n",
        " 'pcm_fftMag_spectralRollOff90.0_sma_stddevFallingSlope',\n",
        " 'pcm_fftMag_spectralCentroid_sma_amean',\n",
        " 'pcm_fftMag_spectralCentroid_sma_rqmean',\n",
        " 'pcm_fftMag_spectralCentroid_sma_peakRangeAbs',\n",
        " 'pcm_fftMag_spectralCentroid_sma_peakMeanAbs',\n",
        " 'pcm_fftMag_spectralCentroid_sma_peakMeanMeanDist',\n",
        " 'pcm_fftMag_spectralCentroid_sma_stddevRisingSlope',\n",
        " 'pcm_fftMag_spectralCentroid_sma_stddevFallingSlope',\n",
        " 'pcm_fftMag_spectralSkewness_sma_peakRangeAbs',\n",
        " 'pcm_fftMag_spectralSkewness_sma_meanRisingSlope',\n",
        " 'pcm_fftMag_spectralSkewness_sma_stddevRisingSlope',\n",
        " 'pcm_fftMag_spectralSkewness_sma_meanFallingSlope',\n",
        " 'pcm_fftMag_spectralSkewness_sma_stddevFallingSlope',\n",
        " 'pcm_fftMag_spectralKurtosis_sma_rqmean',\n",
        " 'pcm_fftMag_spectralKurtosis_sma_peakRangeAbs',\n",
        " 'pcm_fftMag_spectralKurtosis_sma_peakMeanAbs',\n",
        " 'pcm_fftMag_spectralKurtosis_sma_peakMeanMeanDist',\n",
        " 'pcm_fftMag_spectralKurtosis_sma_meanRisingSlope',\n",
        " 'pcm_fftMag_spectralKurtosis_sma_stddevRisingSlope',\n",
        " 'pcm_fftMag_spectralKurtosis_sma_meanFallingSlope',\n",
        " 'pcm_fftMag_spectralKurtosis_sma_stddevFallingSlope',\n",
        " 'pcm_fftMag_spectralHarmonicity_sma_meanFallingSlope',\n",
        " 'pcm_fftMag_spectralHarmonicity_sma_stddevFallingSlope',\n",
        " 'mfcc_sma[1]_amean', 'mfcc_sma[1]_meanRisingSlope',\n",
        " 'mfcc_sma[1]_stddevRisingSlope', 'mfcc_sma[1]_meanFallingSlope',\n",
        " 'mfcc_sma[1]_stddevFallingSlope', 'mfcc_sma[2]_amean', 'mfcc_sma[2]_rqmean',\n",
        " 'mfcc_sma[2]_peakRangeAbs', 'mfcc_sma[2]_peakMeanAbs',\n",
        " 'mfcc_sma[2]_meanRisingSlope', 'mfcc_sma[2]_stddevRisingSlope',\n",
        " 'mfcc_sma[2]_meanFallingSlope', 'mfcc_sma[2]_stddevFallingSlope',\n",
        " 'mfcc_sma[3]_rqmean', 'mfcc_sma[3]_peakRangeAbs',\n",
        " 'mfcc_sma[3]_meanRisingSlope', 'mfcc_sma[4]_peakRangeAbs',\n",
        " 'mfcc_sma[4]_peakMeanAbs', 'mfcc_sma[4]_peakMeanRel',\n",
        " 'mfcc_sma[4]_meanRisingSlope', 'mfcc_sma[4]_meanFallingSlope',\n",
        " 'mfcc_sma[4]_stddevFallingSlope', 'mfcc_sma[5]_peakRangeAbs',\n",
        " 'mfcc_sma[5]_meanRisingSlope', 'mfcc_sma[5]_meanFallingSlope',\n",
        " 'mfcc_sma[5]_stddevFallingSlope', 'mfcc_sma[6]_amean',\n",
        " 'mfcc_sma[6]_peakRangeAbs', 'mfcc_sma[6]_peakMeanAbs',\n",
        " 'mfcc_sma[6]_peakMeanRel', 'mfcc_sma[6]_meanRisingSlope',\n",
        " 'mfcc_sma[6]_stddevRisingSlope', 'mfcc_sma[6]_meanFallingSlope',\n",
        " 'mfcc_sma[6]_stddevFallingSlope', 'mfcc_sma[7]_peakRangeAbs',\n",
        " 'mfcc_sma[7]_meanRisingSlope', 'mfcc_sma[7]_stddevRisingSlope',\n",
        " 'mfcc_sma[7]_meanFallingSlope', 'mfcc_sma[7]_stddevFallingSlope',\n",
        " 'mfcc_sma[8]_peakRangeAbs', 'mfcc_sma[8]_meanRisingSlope',\n",
        " 'mfcc_sma[8]_stddevRisingSlope', 'mfcc_sma[8]_meanFallingSlope',\n",
        " 'mfcc_sma[8]_stddevFallingSlope', 'mfcc_sma[9]_amean',\n",
        " 'mfcc_sma[9]_peakRangeAbs', 'mfcc_sma[9]_peakMeanRel',\n",
        " 'mfcc_sma[9]_meanRisingSlope', 'mfcc_sma[9]_stddevRisingSlope',\n",
        " 'mfcc_sma[9]_meanFallingSlope', 'mfcc_sma[9]_stddevFallingSlope',\n",
        " 'mfcc_sma[10]_peakRangeAbs', 'mfcc_sma[10]_meanRisingSlope',\n",
        " 'mfcc_sma[10]_stddevRisingSlope', 'mfcc_sma[10]_meanFallingSlope',\n",
        " 'mfcc_sma[10]_stddevFallingSlope', 'mfcc_sma[11]_peakMeanAbs',\n",
        " 'mfcc_sma[11]_meanRisingSlope', 'mfcc_sma[11]_stddevRisingSlope',\n",
        " 'mfcc_sma[11]_meanFallingSlope', 'mfcc_sma[12]_peakRangeAbs',\n",
        " 'mfcc_sma[12]_meanRisingSlope', 'mfcc_sma[12]_stddevRisingSlope',\n",
        " 'mfcc_sma[12]_meanFallingSlope', 'mfcc_sma[12]_stddevFallingSlope',\n",
        " 'mfcc_sma[13]_peakRangeAbs', 'mfcc_sma[13]_meanRisingSlope',\n",
        " 'mfcc_sma[13]_stddevRisingSlope', 'mfcc_sma[13]_meanFallingSlope',\n",
        " 'mfcc_sma[14]_meanRisingSlope', 'mfcc_sma[14]_stddevRisingSlope',\n",
        " 'mfcc_sma[14]_meanFallingSlope', 'mfcc_sma[14]_stddevFallingSlope',\n",
        " 'audspec_lengthL1norm_sma_de_peakMeanRel', 'pcm_zcr_sma_de_peakMeanRel',\n",
        " 'audSpec_Rfilt_sma_de[0]_peakMeanRel',\n",
        " 'audSpec_Rfilt_sma_de[1]_peakMeanRel',\n",
        " 'audSpec_Rfilt_sma_de[2]_peakMeanRel',\n",
        " 'audSpec_Rfilt_sma_de[2]_meanFallingSlope',\n",
        " 'audSpec_Rfilt_sma_de[3]_meanFallingSlope',\n",
        " 'audSpec_Rfilt_sma_de[3]_stddevFallingSlope',\n",
        " 'audSpec_Rfilt_sma_de[5]_meanFallingSlope',\n",
        " 'audSpec_Rfilt_sma_de[5]_stddevFallingSlope',\n",
        " 'audSpec_Rfilt_sma_de[6]_peakMeanRel',\n",
        " 'audSpec_Rfilt_sma_de[6]_meanFallingSlope',\n",
        " 'audSpec_Rfilt_sma_de[6]_stddevFallingSlope',\n",
        " 'audSpec_Rfilt_sma_de[7]_peakMeanRel',\n",
        " 'audSpec_Rfilt_sma_de[7]_stddevRisingSlope',\n",
        " 'audSpec_Rfilt_sma_de[7]_meanFallingSlope',\n",
        " 'audSpec_Rfilt_sma_de[7]_stddevFallingSlope',\n",
        " 'audSpec_Rfilt_sma_de[8]_peakMeanRel',\n",
        " 'audSpec_Rfilt_sma_de[8]_meanFallingSlope',\n",
        " 'audSpec_Rfilt_sma_de[8]_stddevFallingSlope',\n",
        " 'audSpec_Rfilt_sma_de[9]_peakMeanRel',\n",
        " 'audSpec_Rfilt_sma_de[9]_meanFallingSlope',\n",
        " 'audSpec_Rfilt_sma_de[9]_stddevFallingSlope',\n",
        " 'audSpec_Rfilt_sma_de[10]_peakMeanRel',\n",
        " 'audSpec_Rfilt_sma_de[10]_meanFallingSlope',\n",
        " 'audSpec_Rfilt_sma_de[10]_stddevFallingSlope',\n",
        " 'audSpec_Rfilt_sma_de[11]_meanFallingSlope',\n",
        " 'audSpec_Rfilt_sma_de[11]_stddevFallingSlope',\n",
        " 'audSpec_Rfilt_sma_de[12]_peakMeanRel',\n",
        " 'audSpec_Rfilt_sma_de[12]_meanFallingSlope',\n",
        " 'audSpec_Rfilt_sma_de[12]_stddevFallingSlope',\n",
        " 'audSpec_Rfilt_sma_de[13]_peakMeanRel',\n",
        " 'audSpec_Rfilt_sma_de[13]_meanFallingSlope',\n",
        " 'audSpec_Rfilt_sma_de[13]_stddevFallingSlope',\n",
        " 'audSpec_Rfilt_sma_de[14]_peakMeanRel',\n",
        " 'audSpec_Rfilt_sma_de[14]_meanFallingSlope',\n",
        " 'audSpec_Rfilt_sma_de[14]_stddevFallingSlope',\n",
        " 'audSpec_Rfilt_sma_de[15]_meanFallingSlope',\n",
        " 'audSpec_Rfilt_sma_de[15]_stddevFallingSlope',\n",
        " 'audSpec_Rfilt_sma_de[16]_stddevFallingSlope',\n",
        " 'audSpec_Rfilt_sma_de[17]_peakMeanRel',\n",
        " 'audSpec_Rfilt_sma_de[18]_peakMeanRel',\n",
        " 'audSpec_Rfilt_sma_de[18]_stddevRisingSlope',\n",
        " 'audSpec_Rfilt_sma_de[18]_meanFallingSlope',\n",
        " 'audSpec_Rfilt_sma_de[18]_stddevFallingSlope',\n",
        " 'audSpec_Rfilt_sma_de[19]_peakMeanRel',\n",
        " 'audSpec_Rfilt_sma_de[21]_stddevFallingSlope',\n",
        " 'audSpec_Rfilt_sma_de[25]_peakMeanRel',\n",
        " 'pcm_fftMag_fband250-650_sma_de_meanFallingSlope',\n",
        " 'pcm_fftMag_fband250-650_sma_de_stddevFallingSlope',\n",
        " 'pcm_fftMag_fband1000-4000_sma_de_peakMeanRel',\n",
        " 'pcm_fftMag_fband1000-4000_sma_de_meanFallingSlope',\n",
        " 'pcm_fftMag_fband1000-4000_sma_de_stddevFallingSlope',\n",
        " 'pcm_fftMag_spectralRollOff25.0_sma_de_rqmean',\n",
        " 'pcm_fftMag_spectralRollOff25.0_sma_de_peakRangeAbs',\n",
        " 'pcm_fftMag_spectralRollOff25.0_sma_de_peakMeanAbs',\n",
        " 'pcm_fftMag_spectralRollOff25.0_sma_de_peakMeanMeanDist',\n",
        " 'pcm_fftMag_spectralRollOff25.0_sma_de_peakMeanRel',\n",
        " 'pcm_fftMag_spectralRollOff25.0_sma_de_meanRisingSlope',\n",
        " 'pcm_fftMag_spectralRollOff25.0_sma_de_stddevRisingSlope',\n",
        " 'pcm_fftMag_spectralRollOff25.0_sma_de_stddevFallingSlope',\n",
        " 'pcm_fftMag_spectralRollOff50.0_sma_de_posamean',\n",
        " 'pcm_fftMag_spectralRollOff50.0_sma_de_rqmean',\n",
        " 'pcm_fftMag_spectralRollOff50.0_sma_de_peakRangeAbs',\n",
        " 'pcm_fftMag_spectralRollOff50.0_sma_de_peakMeanAbs',\n",
        " 'pcm_fftMag_spectralRollOff50.0_sma_de_peakMeanRel',\n",
        " 'pcm_fftMag_spectralRollOff50.0_sma_de_meanRisingSlope',\n",
        " 'pcm_fftMag_spectralRollOff75.0_sma_de_rqmean',\n",
        " 'pcm_fftMag_spectralRollOff75.0_sma_de_peakRangeAbs',\n",
        " 'pcm_fftMag_spectralRollOff75.0_sma_de_peakMeanAbs',\n",
        " 'pcm_fftMag_spectralRollOff75.0_sma_de_peakMeanMeanDist',\n",
        " 'pcm_fftMag_spectralRollOff75.0_sma_de_meanRisingSlope',\n",
        " 'pcm_fftMag_spectralRollOff75.0_sma_de_stddevRisingSlope',\n",
        " 'pcm_fftMag_spectralRollOff90.0_sma_de_posamean',\n",
        " 'pcm_fftMag_spectralRollOff90.0_sma_de_rqmean',\n",
        " 'pcm_fftMag_spectralRollOff90.0_sma_de_peakRangeAbs',\n",
        " 'pcm_fftMag_spectralRollOff90.0_sma_de_peakMeanAbs',\n",
        " 'pcm_fftMag_spectralRollOff90.0_sma_de_peakMeanMeanDist',\n",
        " 'pcm_fftMag_spectralRollOff90.0_sma_de_peakMeanRel',\n",
        " 'pcm_fftMag_spectralRollOff90.0_sma_de_meanRisingSlope',\n",
        " 'pcm_fftMag_spectralRollOff90.0_sma_de_stddevFallingSlope',\n",
        " 'pcm_fftMag_spectralFlux_sma_de_peakMeanRel',\n",
        " 'pcm_fftMag_spectralCentroid_sma_de_posamean',\n",
        " 'pcm_fftMag_spectralCentroid_sma_de_rqmean',\n",
        " 'pcm_fftMag_spectralCentroid_sma_de_peakRangeAbs',\n",
        " 'pcm_fftMag_spectralCentroid_sma_de_peakMeanAbs',\n",
        " 'pcm_fftMag_spectralCentroid_sma_de_peakMeanMeanDist',\n",
        " 'pcm_fftMag_spectralCentroid_sma_de_peakMeanRel',\n",
        " 'pcm_fftMag_spectralCentroid_sma_de_meanRisingSlope',\n",
        " 'pcm_fftMag_spectralCentroid_sma_de_stddevRisingSlope',\n",
        " 'pcm_fftMag_spectralCentroid_sma_de_meanFallingSlope',\n",
        " 'pcm_fftMag_spectralEntropy_sma_de_peakMeanRel',\n",
        " 'pcm_fftMag_spectralVariance_sma_de_peakMeanRel',\n",
        " 'pcm_fftMag_spectralSkewness_sma_de_stddevRisingSlope',\n",
        " 'pcm_fftMag_spectralSkewness_sma_de_meanFallingSlope',\n",
        " 'pcm_fftMag_spectralSkewness_sma_de_stddevFallingSlope',\n",
        " 'pcm_fftMag_spectralKurtosis_sma_de_rqmean',\n",
        " 'pcm_fftMag_spectralKurtosis_sma_de_peakRangeAbs',\n",
        " 'pcm_fftMag_spectralKurtosis_sma_de_peakMeanAbs',\n",
        " 'pcm_fftMag_spectralKurtosis_sma_de_peakMeanMeanDist',\n",
        " 'pcm_fftMag_spectralKurtosis_sma_de_peakMeanRel',\n",
        " 'pcm_fftMag_spectralKurtosis_sma_de_meanRisingSlope',\n",
        " 'pcm_fftMag_spectralKurtosis_sma_de_stddevRisingSlope',\n",
        " 'pcm_fftMag_spectralKurtosis_sma_de_meanFallingSlope',\n",
        " 'pcm_fftMag_spectralKurtosis_sma_de_stddevFallingSlope',\n",
        " 'pcm_fftMag_spectralSlope_sma_de_peakMeanRel',\n",
        " 'mfcc_sma_de[1]_peakMeanRel', 'mfcc_sma_de[1]_meanRisingSlope',\n",
        " 'mfcc_sma_de[1]_stddevRisingSlope', 'mfcc_sma_de[1]_meanFallingSlope',\n",
        " 'mfcc_sma_de[1]_stddevFallingSlope', 'mfcc_sma_de[2]_stddevRisingSlope',\n",
        " 'mfcc_sma_de[2]_meanFallingSlope', 'mfcc_sma_de[2]_stddevFallingSlope',\n",
        " 'mfcc_sma_de[3]_peakMeanRel', 'mfcc_sma_de[3]_meanRisingSlope',\n",
        " 'mfcc_sma_de[3]_stddevRisingSlope', 'mfcc_sma_de[3]_meanFallingSlope',\n",
        " 'mfcc_sma_de[3]_stddevFallingSlope', 'mfcc_sma_de[4]_peakMeanRel',\n",
        " 'mfcc_sma_de[4]_meanRisingSlope', 'mfcc_sma_de[4]_stddevRisingSlope',\n",
        " 'mfcc_sma_de[4]_meanFallingSlope', 'mfcc_sma_de[4]_stddevFallingSlope',\n",
        " 'mfcc_sma_de[5]_meanRisingSlope', 'mfcc_sma_de[5]_stddevRisingSlope',\n",
        " 'mfcc_sma_de[5]_meanFallingSlope', 'mfcc_sma_de[5]_stddevFallingSlope',\n",
        " 'mfcc_sma_de[6]_peakMeanRel', 'mfcc_sma_de[6]_meanRisingSlope',\n",
        " 'mfcc_sma_de[6]_stddevRisingSlope', 'mfcc_sma_de[6]_meanFallingSlope',\n",
        " 'mfcc_sma_de[6]_stddevFallingSlope', 'mfcc_sma_de[7]_peakMeanRel',\n",
        " 'mfcc_sma_de[7]_meanRisingSlope', 'mfcc_sma_de[7]_meanFallingSlope',\n",
        " 'mfcc_sma_de[8]_peakMeanRel', 'mfcc_sma_de[8]_meanRisingSlope',\n",
        " 'mfcc_sma_de[8]_stddevRisingSlope', 'mfcc_sma_de[8]_meanFallingSlope',\n",
        " 'mfcc_sma_de[8]_stddevFallingSlope', 'mfcc_sma_de[9]_peakMeanRel',\n",
        " 'mfcc_sma_de[9]_meanRisingSlope', 'mfcc_sma_de[9]_stddevRisingSlope',\n",
        " 'mfcc_sma_de[9]_meanFallingSlope', 'mfcc_sma_de[9]_stddevFallingSlope',\n",
        " 'mfcc_sma_de[10]_peakMeanRel', 'mfcc_sma_de[10]_meanRisingSlope',\n",
        " 'mfcc_sma_de[10]_stddevRisingSlope', 'mfcc_sma_de[10]_meanFallingSlope',\n",
        " 'mfcc_sma_de[10]_stddevFallingSlope', 'mfcc_sma_de[11]_peakMeanRel',\n",
        " 'mfcc_sma_de[11]_meanRisingSlope', 'mfcc_sma_de[11]_stddevRisingSlope',\n",
        " 'mfcc_sma_de[11]_meanFallingSlope', 'mfcc_sma_de[12]_peakMeanRel',\n",
        " 'mfcc_sma_de[12]_stddevRisingSlope', 'mfcc_sma_de[12]_meanFallingSlope',\n",
        " 'mfcc_sma_de[12]_stddevFallingSlope', 'mfcc_sma_de[13]_peakMeanRel',\n",
        " 'mfcc_sma_de[13]_meanRisingSlope', 'mfcc_sma_de[13]_stddevRisingSlope',\n",
        " 'mfcc_sma_de[13]_meanFallingSlope', 'mfcc_sma_de[13]_stddevFallingSlope',\n",
        " 'mfcc_sma_de[14]_peakMeanRel', 'mfcc_sma_de[14]_meanRisingSlope',\n",
        " 'mfcc_sma_de[14]_stddevRisingSlope']\n"
      ],
      "metadata": {
        "id": "xbyrokXJ8NFD"
      },
      "execution_count": 55,
      "outputs": []
    },
    {
      "cell_type": "markdown",
      "source": [
        "## Helper functions"
      ],
      "metadata": {
        "id": "ihXZDyai9YaJ"
      }
    },
    {
      "cell_type": "code",
      "source": [
        "import wandb\n",
        "from sklearn.metrics import f1_score, accuracy_score, confusion_matrix, ConfusionMatrixDisplay, classification_report\n",
        "from matplotlib import pyplot as plt\n",
        "\n",
        "def evaluate(y_true, y_pred, run, display_cm=True, display_cr=True):\n",
        "    # print(f\"f1-score: {round(f1_score(y_true, y_pred, average='binary'),2)}, accuracy: {round(accuracy_score(y_true, y_pred),2)}\")\n",
        "    cm = confusion_matrix(y_true, y_pred)\n",
        "    print(cm)\n",
        "    if display_cm:\n",
        "      disp = ConfusionMatrixDisplay(confusion_matrix=cm)\n",
        "      disp.plot()\n",
        "      plt.show()\n",
        "\n",
        "    if display_cr:\n",
        "      cr = classification_report(y_true, y_pred)\n",
        "      print(cr)\n",
        "\n",
        "    if run:\n",
        "      wandb.sklearn.plot_confusion_matrix(y_true, y_pred)\n",
        "\n",
        "      cr = classification_report(y_true, y_pred, output_dict=True)\n",
        "      run.log({\"accuracy\" : cr['accuracy'],\n",
        "              \"no_conflict_precision\" : cr['no-conflict']['precision'],\n",
        "              \"no_conflict_recall\" : cr['no-conflict']['recall'],\n",
        "              \"no_conflict_f1-score\" : cr['no-conflict']['f1-score'],\n",
        "              \"conflict_precision\" : cr['conflict']['precision'],\n",
        "              \"conflict_recall\" : cr['conflict']['recall'],\n",
        "              \"conflict_f1-score\" : cr['conflict']['f1-score']})"
      ],
      "metadata": {
        "id": "5CqD4MnK06Np"
      },
      "execution_count": 178,
      "outputs": []
    },
    {
      "cell_type": "code",
      "source": [
        "from sklearn.model_selection import cross_val_predict, cross_val_score\n",
        "from sklearn.pipeline import make_pipeline\n",
        "from sklearn.preprocessing import StandardScaler\n",
        "import time\n",
        "\n",
        "\n",
        "def cross_validation_n_fold(clf, values, true_labels, wandb_config=None, cv=5):\n",
        "  run = None\n",
        "  if wandb_config:\n",
        "    timestr = time.strftime(\"%m%d-%H%M\")\n",
        "    run = wandb.init(project=\"emotion_recognition\",\n",
        "              name=f\"e_{timestr}_audio_eval\",\n",
        "              config=wandb_config)\n",
        "\n",
        "  # score = cross_val_score(clf, values, true_labels, cv=5)\n",
        "\n",
        "  pred = cross_val_predict(clf, values, true_labels, cv=5)\n",
        "\n",
        "  evaluate(true_labels, pred, run)\n",
        "\n",
        "  if wandb_config:\n",
        "    wandb.finish()\n",
        "  # print(score)\n",
        "  # print(confusion_matrix(true_labels, pred))\n",
        "  # print(classification_report(true_labels, pred))"
      ],
      "metadata": {
        "id": "Ce5LOaGr06LW"
      },
      "execution_count": 179,
      "outputs": []
    },
    {
      "cell_type": "code",
      "source": [
        "import numpy as np\n",
        "from sklearn.preprocessing import LabelEncoder\n",
        "\n",
        "\n",
        "def cross_validation_n_fold_ensemble(clf1, clf2, x1, x2, true_labels, wandb_config=None, cv=5):\n",
        "  run = None\n",
        "  if wandb_config:\n",
        "    timestr = time.strftime(\"%m%d-%H%M\")\n",
        "    run = wandb.init(project=\"emotion_recognition\",\n",
        "              name=f\"e_{timestr}_audio_eval\",\n",
        "              config=wandb_config)\n",
        "\n",
        "\n",
        "  le = LabelEncoder()\n",
        "  y_encoded = le.fit_transform(true_labels)\n",
        "\n",
        "  proba1 = cross_val_predict(clf1, x1, y_encoded, cv=cv, method='predict_proba')\n",
        "  proba2 = cross_val_predict(clf2, x2, y_encoded, cv=cv, method='predict_proba')\n",
        "\n",
        "  # Ensemble prediction: Max voting on probabilities\n",
        "  #ensemble_proba = np.maximum(proba1, proba2)\n",
        "  ensemble_proba = proba1+proba2\n",
        "  ensemble_pred_encoded = np.argmax(ensemble_proba, axis=1)\n",
        "\n",
        "  ensemble_pred = le.inverse_transform(ensemble_pred_encoded)\n",
        "\n",
        "  evaluate(true_labels, ensemble_pred, run)\n",
        "\n",
        "  if wandb_config:\n",
        "    wandb.finish()"
      ],
      "metadata": {
        "id": "FB0IN3r28kkv"
      },
      "execution_count": 192,
      "outputs": []
    },
    {
      "cell_type": "code",
      "source": [
        "def fold_i_of_k(meta_df, seg_features, i, k):\n",
        "    n = len(meta_df)\n",
        "\n",
        "    return meta_df[n*(i-1)//k:n*i//k]\n",
        "\n",
        "\n",
        "def manual_k_fold(clf, df_seg, df_seg_features, name='pred_compare_func', wandb_config=None, cv=5):\n",
        "  run=None\n",
        "  if wandb_config:\n",
        "    timestr = time.strftime(\"%m%d-%H%M\")\n",
        "    run = wandb.init(project=\"emotion_recognition\",\n",
        "              name=f\"e_{timestr}_audio_eval\",\n",
        "              config=wandb_config)\n",
        "\n",
        "  for i in range(1, cv+1):\n",
        "    fold_i_of_k(df_file, df_seg, i, cv)\n",
        "    k_fold = df_seg[df_seg['conversation_folder_name'].isin(fold_i_of_k(df_file, df_seg, i, cv).folder_name)]\n",
        "    features_test = df_seg_features[df_seg_features['path'].isin(k_fold.path)].copy()\n",
        "    features_train = df_seg_features[~df_seg_features['path'].isin(k_fold.path)].copy()\n",
        "\n",
        "    clf.fit(features_train.drop(columns=['path', 'label']),\n",
        "                  features_train['label'])\n",
        "    try:\n",
        "      pred = clf.predict(features_test.drop(columns=['path', 'label']))\n",
        "    except:\n",
        "      display(features_test)\n",
        "\n",
        "    df_seg.loc[k_fold.index, name] = pred\n",
        "  print(df_seg[name].value_counts())\n",
        "  df_res = df_seg[['conversation_folder_name', 'context_label', 'label', name]] \\\n",
        "            .groupby(['conversation_folder_name', 'context_label'])[name] \\\n",
        "            .apply(lambda x: 'conflict' if 'conflict' in list(x.values) else 'no-conflict').reset_index()\n",
        "\n",
        "  evaluate(df_res['context_label'], df_res[name], run=run)\n",
        "\n",
        "\n",
        "  if wandb_config:\n",
        "    run.finish()"
      ],
      "metadata": {
        "id": "hUru96Ur0-WL"
      },
      "execution_count": 22,
      "outputs": []
    },
    {
      "cell_type": "code",
      "source": [
        "wandb.login()\n",
        "\n",
        "wandb_config = {\n",
        "    \"model_name\" : \"LR\",\n",
        "    \"fine-tuned\" : False,\n",
        "    \"framework\" : \"sklearn\",\n",
        "    \"data\" : \"init_full_1h\",\n",
        "    \"feature_set\" : \"ComParE_2016\",\n",
        "    \"feature_level\" : \"audio+text\",\n",
        "    \"task\" : \"bimodal_fusion\",\n",
        "    \"split\" : \"no\",\n",
        "    \"CV\" : \"n-fold\"\n",
        "  }"
      ],
      "metadata": {
        "colab": {
          "base_uri": "https://localhost:8080/"
        },
        "id": "__lf8U6u3yLK",
        "outputId": "fa6e5f5b-01e4-4a5b-809a-ca35b095bb7e"
      },
      "execution_count": 11,
      "outputs": [
        {
          "output_type": "stream",
          "name": "stderr",
          "text": [
            "\u001b[34m\u001b[1mwandb\u001b[0m: Currently logged in as: \u001b[33mpatenko-pn\u001b[0m (\u001b[33mlp-ucu\u001b[0m). Use \u001b[1m`wandb login --relogin`\u001b[0m to force relogin\n"
          ]
        }
      ]
    },
    {
      "cell_type": "code",
      "source": [],
      "metadata": {
        "id": "l0PhTUKk3yh3"
      },
      "execution_count": null,
      "outputs": []
    },
    {
      "cell_type": "code",
      "source": [
        "import torch\n",
        "from torch import nn\n",
        "from torch.utils.data import DataLoader\n",
        "from sklearn.model_selection import KFold\n",
        "\n",
        "class SentimentLSTM(nn.Module):\n",
        "  def __init__(self, embedding_dim, output_dim, hidden_size=128):\n",
        "    super(SentimentLSTM, self).__init__()\n",
        "    self.lstm = nn.LSTM(embedding_dim, hidden_size)\n",
        "    self.fc = nn.Linear(hidden_size, output_dim)\n",
        "\n",
        "  def forward(self, x):\n",
        "    x, _ = self.lstm(x)\n",
        "\n",
        "    #out = self.fc(x[:, -1, :])\n",
        "    out = self.fc(x)\n",
        "    return out\n",
        "\n",
        "\n",
        "class SentimentFC(nn.Module):\n",
        "  def __init__(self, input_dim, output_dim, hidden_size=128):\n",
        "    super(SentimentFC, self).__init__()\n",
        "\n",
        "    self.fc = nn.Linear(input_dim, hidden_size)\n",
        "    self.fc_last = nn.Linear(hidden_size, output_dim)\n",
        "\n",
        "  def forward(self, x):\n",
        "    x = self.fc(x)\n",
        "    out = self.fc_last(x)\n",
        "    return out\n",
        "\n",
        "class LateFusionFC(nn.Module):\n",
        "  def __init__(self, input_dim1, input_dim2, output_dim, hidden_size=128):\n",
        "    super(LateFusionFC, self).__init__()\n",
        "    # self.lstm = nn.LSTM(embedding_dim, hidden_size)\n",
        "\n",
        "    self.fc1 = nn.Linear(input_dim1, hidden_size)\n",
        "    self.fc2 = nn.Linear(input_dim2, hidden_size)\n",
        "\n",
        "\n",
        "    self.fc_last = nn.Linear(hidden_size*2, output_dim)\n",
        "\n",
        "  def forward(self, x1, x2):\n",
        "    x1 = self.fc1(x1)\n",
        "    x2 = self.fc2(x2)\n",
        "\n",
        "    x = x1.vstack(x2)\n",
        "    #out = self.fc(x[:, -1, :])\n",
        "    out = self.fc(x)\n",
        "    return out\n",
        "\n",
        "def train(model, train_loader, optimizer, criterion):\n",
        "  model.train()\n",
        "  total_loss = 0\n",
        "  correct = 0\n",
        "  total = 0\n",
        "  for data, target in train_loader:\n",
        "    optimizer.zero_grad()\n",
        "    output = model(data)\n",
        "    loss = criterion(output, target)\n",
        "    loss.backward()\n",
        "    optimizer.step()\n",
        "    total_loss += loss.item()\n",
        "    _, predicted = torch.max(output.data, 1)\n",
        "    total += target.size(0)\n",
        "    correct += (predicted == target).sum().item()\n",
        "  train_loss = total_loss / len(train_loader)\n",
        "  train_acc = 100 * correct / total\n",
        "  return train_loss, train_acc\n",
        "\n",
        "def evaluate(model, test_loader):\n",
        "  model.eval()\n",
        "  correct = 0\n",
        "  total = 0\n",
        "  total_loss = 0\n",
        "  with torch.no_grad():\n",
        "    for data, target in test_loader:\n",
        "      output = model(data)\n",
        "      loss = criterion(output, target)  # Calculate validation loss here\n",
        "      total_loss += loss.item()\n",
        "      _, predicted = torch.max(output.data, 1)\n",
        "      total += target.size(0)\n",
        "      correct += (predicted == target).sum().item()\n",
        "  valid_acc = 100 * correct / total\n",
        "  valid_loss = total_loss / len(test_loader)\n",
        "  return valid_loss, valid_acc\n",
        "\n",
        "def kfold_cv(model, X, y, k, embedding_dim, optimizer, criterion, num_epochs=5, batch_size=32):\n",
        "  kf = KFold(n_splits=k, shuffle=True, random_state=0)\n",
        "  cv_train_losses, cv_val_losses, cv_train_accs, cv_val_accs = [], [], [], []\n",
        "  for train_index, test_index in kf.split(X):\n",
        "    k_fold_train_loss, k_fold_val_loss = [], []\n",
        "    X_train, X_test = X[train_index], X[test_index]\n",
        "    y_train, y_test = y[train_index], y[test_index]\n",
        "\n",
        "    train_loader = DataLoader(list(zip(X_train, y_train)), batch_size=batch_size, shuffle=True)\n",
        "    test_loader = DataLoader(list(zip(X_test, y_test)), batch_size=batch_size, shuffle=False)\n",
        "\n",
        "    print()\n",
        "    for epoch in range(num_epochs):\n",
        "      train_loss, train_acc = train(model, train_loader, optimizer, criterion)\n",
        "      val_loss, val_acc = evaluate(model, test_loader)\n",
        "      print(f\"Epoch: {epoch+1}, Train Loss: {train_loss:.4f}, Val Loss: {val_loss:.4f}, Train Acc: {train_acc:.2f}%, Val Acc: {val_acc:.2f}%\")\n",
        "\n",
        "      k_fold_train_loss.append(train_loss)\n",
        "      k_fold_val_loss.append(val_loss)\n",
        "\n",
        "    cv_train_losses.append(k_fold_train_loss)\n",
        "    cv_val_losses.append(k_fold_val_loss)\n",
        "    cv_train_accs.append(train_acc)\n",
        "    cv_val_accs.append(val_acc)\n",
        "\n",
        "  print(f\"\\nAverage Train Acc: {sum(cv_train_accs) / len(cv_train_accs):.2f}%\")\n",
        "  print(f\"\\nAverage Val Acc: {sum(cv_val_accs) / len(cv_val_accs):.2f}%\")\n",
        "  return cv_train_losses, cv_val_losses, cv_train_accs, cv_val_accs\n",
        "\n"
      ],
      "metadata": {
        "id": "wUyjEAdT7lDw"
      },
      "execution_count": 215,
      "outputs": []
    },
    {
      "cell_type": "markdown",
      "source": [
        "# Evaluation"
      ],
      "metadata": {
        "id": "5Vk_z5c97lta"
      }
    },
    {
      "cell_type": "code",
      "source": [
        "from sklearn.linear_model import LogisticRegression\n",
        "from sklearn.pipeline import make_pipeline\n"
      ],
      "metadata": {
        "id": "QEPNn5Iq7k-a"
      },
      "execution_count": 24,
      "outputs": []
    },
    {
      "cell_type": "markdown",
      "source": [
        "## roberta-twitter (eng) + smile full"
      ],
      "metadata": {
        "id": "zHAUCEBWa9QX"
      }
    },
    {
      "cell_type": "markdown",
      "source": [
        "### Early fusion"
      ],
      "metadata": {
        "id": "3hoDmE1eWQzU"
      }
    },
    {
      "cell_type": "code",
      "source": [
        "wandb_config['model_name'] = \"LR\"\n",
        "wandb_config['framework'] = \"sklearn\"\n",
        "wandb_config['feature_level'] = \"audio+text\"\n",
        "wandb_config['data'] = \"init_full_1h\"\n",
        "wandb_config['feature_set'] = \"twitter_smile_full\"\n",
        "\n",
        "df_file_twitter_smile_concat = df_file_smile_func_compare.drop(columns=['start', 'end', 'label']).merge(roberta_pipline_twitter_out_eng_df, on='path')\n",
        "\n",
        "clf = make_pipeline(\n",
        "    StandardScaler(),\n",
        "    LogisticRegression(random_state=0),\n",
        ")\n",
        "\n",
        "cross_validation_n_fold(clf, df_file_twitter_smile_concat.drop(columns=['path', 'label']),\n",
        "               df_file_twitter_smile_concat['label'], wandb_config)"
      ],
      "metadata": {
        "colab": {
          "base_uri": "https://localhost:8080/",
          "height": 1000,
          "referenced_widgets": [
            "2499e78580d44940ae76f8788c4d51f1",
            "de029f5fbcdc4659a3008ea8a4385792",
            "ce26ddca10ea430792f55d61c2676440",
            "ee80fd56ae9f4ccdba98fe65d09c8872",
            "3d74537dd5da4ffdb7020db47e074b19",
            "bcfe57d1c1f94584b5c152b9916a7d3e",
            "b31c4482540e4ed794c4bd39716e7f38",
            "fa98b387119b4b77b20282d8fb5bcb90"
          ]
        },
        "id": "Jy0xCNIh7kBz",
        "outputId": "31f16900-d0dc-4379-e848-8a01858fdabf"
      },
      "execution_count": 88,
      "outputs": [
        {
          "output_type": "display_data",
          "data": {
            "text/plain": [
              "<IPython.core.display.HTML object>"
            ],
            "text/html": [
              "Tracking run with wandb version 0.17.0"
            ]
          },
          "metadata": {}
        },
        {
          "output_type": "display_data",
          "data": {
            "text/plain": [
              "<IPython.core.display.HTML object>"
            ],
            "text/html": [
              "Run data is saved locally in <code>/content/wandb/run-20240517_075651-wrb038ir</code>"
            ]
          },
          "metadata": {}
        },
        {
          "output_type": "display_data",
          "data": {
            "text/plain": [
              "<IPython.core.display.HTML object>"
            ],
            "text/html": [
              "Syncing run <strong><a href='https://wandb.ai/lp-ucu/emotion_recognition/runs/wrb038ir' target=\"_blank\">e_0517-0756_audio_eval</a></strong> to <a href='https://wandb.ai/lp-ucu/emotion_recognition' target=\"_blank\">Weights & Biases</a> (<a href='https://wandb.me/run' target=\"_blank\">docs</a>)<br/>"
            ]
          },
          "metadata": {}
        },
        {
          "output_type": "display_data",
          "data": {
            "text/plain": [
              "<IPython.core.display.HTML object>"
            ],
            "text/html": [
              " View project at <a href='https://wandb.ai/lp-ucu/emotion_recognition' target=\"_blank\">https://wandb.ai/lp-ucu/emotion_recognition</a>"
            ]
          },
          "metadata": {}
        },
        {
          "output_type": "display_data",
          "data": {
            "text/plain": [
              "<IPython.core.display.HTML object>"
            ],
            "text/html": [
              " View run at <a href='https://wandb.ai/lp-ucu/emotion_recognition/runs/wrb038ir' target=\"_blank\">https://wandb.ai/lp-ucu/emotion_recognition/runs/wrb038ir</a>"
            ]
          },
          "metadata": {}
        },
        {
          "output_type": "stream",
          "name": "stdout",
          "text": [
            "[[36  8]\n",
            " [ 5 41]]\n"
          ]
        },
        {
          "output_type": "display_data",
          "data": {
            "text/plain": [
              "<Figure size 640x480 with 2 Axes>"
            ],
            "image/png": "[encoded data removed]"
          },
          "metadata": {}
        },
        {
          "output_type": "stream",
          "name": "stdout",
          "text": [
            "              precision    recall  f1-score   support\n",
            "\n",
            "    conflict       0.88      0.82      0.85        44\n",
            " no-conflict       0.84      0.89      0.86        46\n",
            "\n",
            "    accuracy                           0.86        90\n",
            "   macro avg       0.86      0.85      0.86        90\n",
            "weighted avg       0.86      0.86      0.86        90\n",
            "\n"
          ]
        },
        {
          "output_type": "display_data",
          "data": {
            "text/plain": [
              "VBox(children=(Label(value='0.002 MB of 0.002 MB uploaded\\r'), FloatProgress(value=1.0, max=1.0)))"
            ],
            "application/vnd.jupyter.widget-view+json": {
              "version_major": 2,
              "version_minor": 0,
              "model_id": "2499e78580d44940ae76f8788c4d51f1"
            }
          },
          "metadata": {}
        },
        {
          "output_type": "display_data",
          "data": {
            "text/plain": [
              "<IPython.core.display.HTML object>"
            ],
            "text/html": [
              "<style>\n",
              "    table.wandb td:nth-child(1) { padding: 0 10px; text-align: left ; width: auto;} td:nth-child(2) {text-align: left ; width: 100%}\n",
              "    .wandb-row { display: flex; flex-direction: row; flex-wrap: wrap; justify-content: flex-start; width: 100% }\n",
              "    .wandb-col { display: flex; flex-direction: column; flex-basis: 100%; flex: 1; padding: 10px; }\n",
              "    </style>\n",
              "<div class=\"wandb-row\"><div class=\"wandb-col\"><h3>Run history:</h3><br/><table class=\"wandb\"><tr><td>accuracy</td><td>▁</td></tr><tr><td>conflict_f1-score</td><td>▁</td></tr><tr><td>conflict_precision</td><td>▁</td></tr><tr><td>conflict_recall</td><td>▁</td></tr><tr><td>no_conflict_f1-score</td><td>▁</td></tr><tr><td>no_conflict_precision</td><td>▁</td></tr><tr><td>no_conflict_recall</td><td>▁</td></tr></table><br/></div><div class=\"wandb-col\"><h3>Run summary:</h3><br/><table class=\"wandb\"><tr><td>accuracy</td><td>0.85556</td></tr><tr><td>conflict_f1-score</td><td>0.84706</td></tr><tr><td>conflict_precision</td><td>0.87805</td></tr><tr><td>conflict_recall</td><td>0.81818</td></tr><tr><td>no_conflict_f1-score</td><td>0.86316</td></tr><tr><td>no_conflict_precision</td><td>0.83673</td></tr><tr><td>no_conflict_recall</td><td>0.8913</td></tr></table><br/></div></div>"
            ]
          },
          "metadata": {}
        },
        {
          "output_type": "display_data",
          "data": {
            "text/plain": [
              "<IPython.core.display.HTML object>"
            ],
            "text/html": [
              " View run <strong style=\"color:#cdcd00\">e_0517-0756_audio_eval</strong> at: <a href='https://wandb.ai/lp-ucu/emotion_recognition/runs/wrb038ir' target=\"_blank\">https://wandb.ai/lp-ucu/emotion_recognition/runs/wrb038ir</a><br/> View project at: <a href='https://wandb.ai/lp-ucu/emotion_recognition' target=\"_blank\">https://wandb.ai/lp-ucu/emotion_recognition</a><br/>Synced 5 W&B file(s), 1 media file(s), 1 artifact file(s) and 0 other file(s)"
            ]
          },
          "metadata": {}
        },
        {
          "output_type": "display_data",
          "data": {
            "text/plain": [
              "<IPython.core.display.HTML object>"
            ],
            "text/html": [
              "Find logs at: <code>./wandb/run-20240517_075651-wrb038ir/logs</code>"
            ]
          },
          "metadata": {}
        }
      ]
    },
    {
      "cell_type": "markdown",
      "source": [
        "### Late fusion"
      ],
      "metadata": {
        "id": "PdNL_3pJg1wg"
      }
    },
    {
      "cell_type": "code",
      "source": [
        "wandb_config['model_name'] = \"LR\"\n",
        "wandb_config['framework'] = \"sklearn\"\n",
        "wandb_config['feature_level'] = \"audio+text\"\n",
        "wandb_config['data'] = \"init_full_1h\"\n",
        "wandb_config['feature_set'] = \"twitter_smile_full\"\n",
        "wandb_config['\n",
        "'] = \"late_lr\"\n",
        "\n",
        "df_file_twitter_smile_concat = df_file_smile_func_compare.drop(columns=['start', 'end', 'label']).merge(roberta_pipline_twitter_out_eng_df, on='path')\n",
        "\n",
        "clf1 = make_pipeline(\n",
        "    StandardScaler(),\n",
        "    LogisticRegression(random_state=0),\n",
        ")\n",
        "\n",
        "clf2 = make_pipeline(\n",
        "    StandardScaler(),\n",
        "    LogisticRegression(random_state=0),\n",
        ")\n",
        "\n",
        "cross_validation_n_fold_ensemble(clf1, clf2, df_file_smile_func_compare.drop(columns=['start', 'end', 'label', 'path']),\n",
        "                                  roberta_pipline_twitter_out_eng_df.drop(columns=['label', 'path']),\n",
        "                                  roberta_pipline_twitter_out_eng_df['label'], wandb_config)\n",
        "\n"
      ],
      "metadata": {
        "colab": {
          "base_uri": "https://localhost:8080/",
          "height": 645
        },
        "id": "egwZIBYq89M9",
        "outputId": "f36b56e8-8fc4-4d73-e386-1fd2883b4829"
      },
      "execution_count": 193,
      "outputs": [
        {
          "output_type": "stream",
          "name": "stdout",
          "text": [
            "[[35  9]\n",
            " [10 36]]\n"
          ]
        },
        {
          "output_type": "display_data",
          "data": {
            "text/plain": [
              "<Figure size 640x480 with 2 Axes>"
            ],
            "image/png": "[encoded data removed]"
          },
          "metadata": {}
        },
        {
          "output_type": "stream",
          "name": "stdout",
          "text": [
            "              precision    recall  f1-score   support\n",
            "\n",
            "    conflict       0.78      0.80      0.79        44\n",
            " no-conflict       0.80      0.78      0.79        46\n",
            "\n",
            "    accuracy                           0.79        90\n",
            "   macro avg       0.79      0.79      0.79        90\n",
            "weighted avg       0.79      0.79      0.79        90\n",
            "\n"
          ]
        }
      ]
    },
    {
      "cell_type": "markdown",
      "source": [],
      "metadata": {
        "id": "Xh-FXYSq6eTh"
      }
    },
    {
      "cell_type": "code",
      "source": [],
      "metadata": {
        "id": "ABIaj56k6eGk"
      },
      "execution_count": null,
      "outputs": []
    },
    {
      "cell_type": "markdown",
      "source": [
        "## roberta-twitter (eng) + smile selected features\n",
        "\n"
      ],
      "metadata": {
        "id": "e5kMyiU6bDyh"
      }
    },
    {
      "cell_type": "markdown",
      "source": [
        "### Early fusion"
      ],
      "metadata": {
        "id": "yhfS81C_WVlN"
      }
    },
    {
      "cell_type": "code",
      "source": [
        "wandb_config['model_name'] = \"LR\"\n",
        "wandb_config['framework'] = \"sklearn\"\n",
        "wandb_config['feature_level'] = \"audio+text\"\n",
        "wandb_config['data'] = \"init_full_1h\"\n",
        "wandb_config['feature_set'] = \"twitter_smile_selected\"\n",
        "\n",
        "df_file_twitter_smile_concat = df_file_smile_func_compare[selected_feature_names + ['path']].merge(roberta_pipline_twitter_out_eng_df, on='path')\n",
        "\n",
        "clf = make_pipeline(\n",
        "    StandardScaler(),\n",
        "    LogisticRegression(random_state=0),\n",
        ")\n",
        "\n",
        "cross_validation_n_fold(clf, df_file_twitter_smile_concat.drop(columns=['path', 'label']),\n",
        "               df_file_twitter_smile_concat['label'], wandb_config)"
      ],
      "metadata": {
        "colab": {
          "base_uri": "https://localhost:8080/",
          "height": 1000,
          "referenced_widgets": [
            "28ab5569071d4c5bbdddce4f1bcad9d9",
            "dc3f9f99d70b49ba981ecb0271486b2b",
            "290d7a132584488e923326e641dcd454",
            "eefe1f708872447998085e342fb61286",
            "f03e2963f765407b8b981def57fd0125",
            "de651ed5dec44631a3a1948e2a140734",
            "822f3104e8434d03a0e9a21e9f9c4efb",
            "ff82523c3aa34a22945ae3141e2ae222"
          ]
        },
        "id": "UmqQPWCb7jzE",
        "outputId": "1f4591ec-68b2-4e38-ff5b-239cd5b0c0aa"
      },
      "execution_count": 89,
      "outputs": [
        {
          "output_type": "display_data",
          "data": {
            "text/plain": [
              "<IPython.core.display.HTML object>"
            ],
            "text/html": [
              "Tracking run with wandb version 0.17.0"
            ]
          },
          "metadata": {}
        },
        {
          "output_type": "display_data",
          "data": {
            "text/plain": [
              "<IPython.core.display.HTML object>"
            ],
            "text/html": [
              "Run data is saved locally in <code>/content/wandb/run-20240517_083339-i2scebzx</code>"
            ]
          },
          "metadata": {}
        },
        {
          "output_type": "display_data",
          "data": {
            "text/plain": [
              "<IPython.core.display.HTML object>"
            ],
            "text/html": [
              "Syncing run <strong><a href='https://wandb.ai/lp-ucu/emotion_recognition/runs/i2scebzx' target=\"_blank\">e_0517-0833_audio_eval</a></strong> to <a href='https://wandb.ai/lp-ucu/emotion_recognition' target=\"_blank\">Weights & Biases</a> (<a href='https://wandb.me/run' target=\"_blank\">docs</a>)<br/>"
            ]
          },
          "metadata": {}
        },
        {
          "output_type": "display_data",
          "data": {
            "text/plain": [
              "<IPython.core.display.HTML object>"
            ],
            "text/html": [
              " View project at <a href='https://wandb.ai/lp-ucu/emotion_recognition' target=\"_blank\">https://wandb.ai/lp-ucu/emotion_recognition</a>"
            ]
          },
          "metadata": {}
        },
        {
          "output_type": "display_data",
          "data": {
            "text/plain": [
              "<IPython.core.display.HTML object>"
            ],
            "text/html": [
              " View run at <a href='https://wandb.ai/lp-ucu/emotion_recognition/runs/i2scebzx' target=\"_blank\">https://wandb.ai/lp-ucu/emotion_recognition/runs/i2scebzx</a>"
            ]
          },
          "metadata": {}
        },
        {
          "output_type": "stream",
          "name": "stdout",
          "text": [
            "[[40  4]\n",
            " [ 5 41]]\n"
          ]
        },
        {
          "output_type": "display_data",
          "data": {
            "text/plain": [
              "<Figure size 640x480 with 2 Axes>"
            ],
            "image/png": "[encoded data removed]"
          },
          "metadata": {}
        },
        {
          "output_type": "stream",
          "name": "stdout",
          "text": [
            "              precision    recall  f1-score   support\n",
            "\n",
            "    conflict       0.89      0.91      0.90        44\n",
            " no-conflict       0.91      0.89      0.90        46\n",
            "\n",
            "    accuracy                           0.90        90\n",
            "   macro avg       0.90      0.90      0.90        90\n",
            "weighted avg       0.90      0.90      0.90        90\n",
            "\n"
          ]
        },
        {
          "output_type": "display_data",
          "data": {
            "text/plain": [
              "VBox(children=(Label(value='0.002 MB of 0.002 MB uploaded\\r'), FloatProgress(value=1.0, max=1.0)))"
            ],
            "application/vnd.jupyter.widget-view+json": {
              "version_major": 2,
              "version_minor": 0,
              "model_id": "28ab5569071d4c5bbdddce4f1bcad9d9"
            }
          },
          "metadata": {}
        },
        {
          "output_type": "display_data",
          "data": {
            "text/plain": [
              "<IPython.core.display.HTML object>"
            ],
            "text/html": [
              "<style>\n",
              "    table.wandb td:nth-child(1) { padding: 0 10px; text-align: left ; width: auto;} td:nth-child(2) {text-align: left ; width: 100%}\n",
              "    .wandb-row { display: flex; flex-direction: row; flex-wrap: wrap; justify-content: flex-start; width: 100% }\n",
              "    .wandb-col { display: flex; flex-direction: column; flex-basis: 100%; flex: 1; padding: 10px; }\n",
              "    </style>\n",
              "<div class=\"wandb-row\"><div class=\"wandb-col\"><h3>Run history:</h3><br/><table class=\"wandb\"><tr><td>accuracy</td><td>▁</td></tr><tr><td>conflict_f1-score</td><td>▁</td></tr><tr><td>conflict_precision</td><td>▁</td></tr><tr><td>conflict_recall</td><td>▁</td></tr><tr><td>no_conflict_f1-score</td><td>▁</td></tr><tr><td>no_conflict_precision</td><td>▁</td></tr><tr><td>no_conflict_recall</td><td>▁</td></tr></table><br/></div><div class=\"wandb-col\"><h3>Run summary:</h3><br/><table class=\"wandb\"><tr><td>accuracy</td><td>0.9</td></tr><tr><td>conflict_f1-score</td><td>0.89888</td></tr><tr><td>conflict_precision</td><td>0.88889</td></tr><tr><td>conflict_recall</td><td>0.90909</td></tr><tr><td>no_conflict_f1-score</td><td>0.9011</td></tr><tr><td>no_conflict_precision</td><td>0.91111</td></tr><tr><td>no_conflict_recall</td><td>0.8913</td></tr></table><br/></div></div>"
            ]
          },
          "metadata": {}
        },
        {
          "output_type": "display_data",
          "data": {
            "text/plain": [
              "<IPython.core.display.HTML object>"
            ],
            "text/html": [
              " View run <strong style=\"color:#cdcd00\">e_0517-0833_audio_eval</strong> at: <a href='https://wandb.ai/lp-ucu/emotion_recognition/runs/i2scebzx' target=\"_blank\">https://wandb.ai/lp-ucu/emotion_recognition/runs/i2scebzx</a><br/> View project at: <a href='https://wandb.ai/lp-ucu/emotion_recognition' target=\"_blank\">https://wandb.ai/lp-ucu/emotion_recognition</a><br/>Synced 5 W&B file(s), 1 media file(s), 1 artifact file(s) and 0 other file(s)"
            ]
          },
          "metadata": {}
        },
        {
          "output_type": "display_data",
          "data": {
            "text/plain": [
              "<IPython.core.display.HTML object>"
            ],
            "text/html": [
              "Find logs at: <code>./wandb/run-20240517_083339-i2scebzx/logs</code>"
            ]
          },
          "metadata": {}
        }
      ]
    },
    {
      "cell_type": "markdown",
      "source": [
        "## roberta-twitter (eng) + wav2vec 300m hs"
      ],
      "metadata": {
        "id": "M-lUK3sUbIQd"
      }
    },
    {
      "cell_type": "markdown",
      "source": [
        "### Early fusion"
      ],
      "metadata": {
        "id": "AQU27yNYWeS0"
      }
    },
    {
      "cell_type": "code",
      "source": [
        "wandb_config['model_name'] = \"LR\"\n",
        "wandb_config['framework'] = \"sklearn\"\n",
        "wandb_config['feature_level'] = \"audio+text\"\n",
        "wandb_config['data'] = \"init_full_1h\"\n",
        "wandb_config['feature_set'] = \"twitter_w2v_300_hs\"\n",
        "\n",
        "\n",
        "df_file_twitter_w2v_300_concat = df_file_hs_300m.loc[:, \"path\":].merge(roberta_pipline_twitter_out_eng_df, on='path')\n",
        "\n",
        "clf = make_pipeline(\n",
        "    StandardScaler(),\n",
        "    LogisticRegression(random_state=0),\n",
        ")\n",
        "\n",
        "cross_validation_n_fold(clf, df_file_twitter_w2v_300_concat.drop(columns=['path', 'label', 'folder']),\n",
        "               df_file_twitter_w2v_300_concat['label'], wandb_config)"
      ],
      "metadata": {
        "colab": {
          "base_uri": "https://localhost:8080/",
          "height": 1000,
          "referenced_widgets": [
            "944fc8f78b8b4f8e8b263ce5ef886f21",
            "67408d0b759b41c2bdf36feac29abc65",
            "2ad41c1931664f6dabf4da1311eb3ed2",
            "6658c6c2256443668123fb518dada1d1",
            "09d6224e24ae4a9a9b6edfa77290fcf5",
            "23071b70852f4a79881116cae1ec2fbd",
            "6810214dd7e44b38b801acd0c76bbb71",
            "a78afa6c1724418781efb325d8e257a3"
          ]
        },
        "id": "COHZ948cBMHX",
        "outputId": "ea1edf87-e79f-43ca-86c9-b359d696e865"
      },
      "execution_count": 91,
      "outputs": [
        {
          "output_type": "display_data",
          "data": {
            "text/plain": [
              "<IPython.core.display.HTML object>"
            ],
            "text/html": [
              "Tracking run with wandb version 0.17.0"
            ]
          },
          "metadata": {}
        },
        {
          "output_type": "display_data",
          "data": {
            "text/plain": [
              "<IPython.core.display.HTML object>"
            ],
            "text/html": [
              "Run data is saved locally in <code>/content/wandb/run-20240517_083442-2pzflv5a</code>"
            ]
          },
          "metadata": {}
        },
        {
          "output_type": "display_data",
          "data": {
            "text/plain": [
              "<IPython.core.display.HTML object>"
            ],
            "text/html": [
              "Syncing run <strong><a href='https://wandb.ai/lp-ucu/emotion_recognition/runs/2pzflv5a' target=\"_blank\">e_0517-0834_audio_eval</a></strong> to <a href='https://wandb.ai/lp-ucu/emotion_recognition' target=\"_blank\">Weights & Biases</a> (<a href='https://wandb.me/run' target=\"_blank\">docs</a>)<br/>"
            ]
          },
          "metadata": {}
        },
        {
          "output_type": "display_data",
          "data": {
            "text/plain": [
              "<IPython.core.display.HTML object>"
            ],
            "text/html": [
              " View project at <a href='https://wandb.ai/lp-ucu/emotion_recognition' target=\"_blank\">https://wandb.ai/lp-ucu/emotion_recognition</a>"
            ]
          },
          "metadata": {}
        },
        {
          "output_type": "display_data",
          "data": {
            "text/plain": [
              "<IPython.core.display.HTML object>"
            ],
            "text/html": [
              " View run at <a href='https://wandb.ai/lp-ucu/emotion_recognition/runs/2pzflv5a' target=\"_blank\">https://wandb.ai/lp-ucu/emotion_recognition/runs/2pzflv5a</a>"
            ]
          },
          "metadata": {}
        },
        {
          "output_type": "stream",
          "name": "stdout",
          "text": [
            "[[37  7]\n",
            " [ 8 38]]\n"
          ]
        },
        {
          "output_type": "display_data",
          "data": {
            "text/plain": [
              "<Figure size 640x480 with 2 Axes>"
            ],
            "image/png": "[encoded data removed]"
          },
          "metadata": {}
        },
        {
          "output_type": "stream",
          "name": "stdout",
          "text": [
            "              precision    recall  f1-score   support\n",
            "\n",
            "    conflict       0.82      0.84      0.83        44\n",
            " no-conflict       0.84      0.83      0.84        46\n",
            "\n",
            "    accuracy                           0.83        90\n",
            "   macro avg       0.83      0.83      0.83        90\n",
            "weighted avg       0.83      0.83      0.83        90\n",
            "\n"
          ]
        },
        {
          "output_type": "display_data",
          "data": {
            "text/plain": [
              "VBox(children=(Label(value='0.002 MB of 0.002 MB uploaded\\r'), FloatProgress(value=1.0, max=1.0)))"
            ],
            "application/vnd.jupyter.widget-view+json": {
              "version_major": 2,
              "version_minor": 0,
              "model_id": "944fc8f78b8b4f8e8b263ce5ef886f21"
            }
          },
          "metadata": {}
        },
        {
          "output_type": "display_data",
          "data": {
            "text/plain": [
              "<IPython.core.display.HTML object>"
            ],
            "text/html": [
              "<style>\n",
              "    table.wandb td:nth-child(1) { padding: 0 10px; text-align: left ; width: auto;} td:nth-child(2) {text-align: left ; width: 100%}\n",
              "    .wandb-row { display: flex; flex-direction: row; flex-wrap: wrap; justify-content: flex-start; width: 100% }\n",
              "    .wandb-col { display: flex; flex-direction: column; flex-basis: 100%; flex: 1; padding: 10px; }\n",
              "    </style>\n",
              "<div class=\"wandb-row\"><div class=\"wandb-col\"><h3>Run history:</h3><br/><table class=\"wandb\"><tr><td>accuracy</td><td>▁</td></tr><tr><td>conflict_f1-score</td><td>▁</td></tr><tr><td>conflict_precision</td><td>▁</td></tr><tr><td>conflict_recall</td><td>▁</td></tr><tr><td>no_conflict_f1-score</td><td>▁</td></tr><tr><td>no_conflict_precision</td><td>▁</td></tr><tr><td>no_conflict_recall</td><td>▁</td></tr></table><br/></div><div class=\"wandb-col\"><h3>Run summary:</h3><br/><table class=\"wandb\"><tr><td>accuracy</td><td>0.83333</td></tr><tr><td>conflict_f1-score</td><td>0.83146</td></tr><tr><td>conflict_precision</td><td>0.82222</td></tr><tr><td>conflict_recall</td><td>0.84091</td></tr><tr><td>no_conflict_f1-score</td><td>0.83516</td></tr><tr><td>no_conflict_precision</td><td>0.84444</td></tr><tr><td>no_conflict_recall</td><td>0.82609</td></tr></table><br/></div></div>"
            ]
          },
          "metadata": {}
        },
        {
          "output_type": "display_data",
          "data": {
            "text/plain": [
              "<IPython.core.display.HTML object>"
            ],
            "text/html": [
              " View run <strong style=\"color:#cdcd00\">e_0517-0834_audio_eval</strong> at: <a href='https://wandb.ai/lp-ucu/emotion_recognition/runs/2pzflv5a' target=\"_blank\">https://wandb.ai/lp-ucu/emotion_recognition/runs/2pzflv5a</a><br/> View project at: <a href='https://wandb.ai/lp-ucu/emotion_recognition' target=\"_blank\">https://wandb.ai/lp-ucu/emotion_recognition</a><br/>Synced 5 W&B file(s), 1 media file(s), 1 artifact file(s) and 0 other file(s)"
            ]
          },
          "metadata": {}
        },
        {
          "output_type": "display_data",
          "data": {
            "text/plain": [
              "<IPython.core.display.HTML object>"
            ],
            "text/html": [
              "Find logs at: <code>./wandb/run-20240517_083442-2pzflv5a/logs</code>"
            ]
          },
          "metadata": {}
        }
      ]
    },
    {
      "cell_type": "markdown",
      "source": [
        "### Late fusion"
      ],
      "metadata": {
        "id": "DGwovDwMiAgP"
      }
    },
    {
      "cell_type": "code",
      "source": [
        "wandb_config['model_name'] = \"LR\"\n",
        "wandb_config['framework'] = \"sklearn\"\n",
        "wandb_config['feature_level'] = \"audio+text\"\n",
        "wandb_config['data'] = \"init_full_1h\"\n",
        "wandb_config['feature_set'] = \"twitter_w2v_300_hs\"\n",
        "wandb_config['fusion'] = \"late_lr\"\n",
        "\n",
        "clf1 = make_pipeline(\n",
        "    StandardScaler(),\n",
        "    LogisticRegression(random_state=0),\n",
        ")\n",
        "\n",
        "clf2 = make_pipeline(\n",
        "    StandardScaler(),\n",
        "    LogisticRegression(random_state=0),\n",
        ")\n",
        "\n",
        "cross_validation_n_fold_ensemble(clf1, clf2, df_file_twitter_w2v_300_concat.drop(columns=['label', 'path', 'folder']),\n",
        "                                  roberta_pipline_twitter_out_eng_df.drop(columns=['label', 'path']),\n",
        "                                  roberta_pipline_twitter_out_eng_df['label'], wandb_config)\n",
        "\n"
      ],
      "metadata": {
        "colab": {
          "base_uri": "https://localhost:8080/",
          "height": 1000,
          "referenced_widgets": [
            "01fd950a02b2490c8230f07d3e42fd40",
            "08e522ea67b84addb2d1ca2f977712b9",
            "db4a5ec3524e422eb7012b08165171b1",
            "b2c82a99da6c4cb685f108c3308a2137",
            "9eb867fc03ac4911a0861c8f58887b54",
            "ddca20a5a0cb4c6f800b2e03102995c7",
            "a70aa63625e8423aa8f5dd5e7237f5af",
            "a29ccbbe9a124f42a9028b2e8e4a0169"
          ]
        },
        "id": "9TN_63P9iDJE",
        "outputId": "056ab3cb-8b6e-49e8-c3df-eb04f6c7aff6"
      },
      "execution_count": 191,
      "outputs": [
        {
          "output_type": "display_data",
          "data": {
            "text/plain": [
              "<IPython.core.display.HTML object>"
            ],
            "text/html": [
              "Tracking run with wandb version 0.17.0"
            ]
          },
          "metadata": {}
        },
        {
          "output_type": "display_data",
          "data": {
            "text/plain": [
              "<IPython.core.display.HTML object>"
            ],
            "text/html": [
              "Run data is saved locally in <code>/content/wandb/run-20240517_123236-b1el6674</code>"
            ]
          },
          "metadata": {}
        },
        {
          "output_type": "display_data",
          "data": {
            "text/plain": [
              "<IPython.core.display.HTML object>"
            ],
            "text/html": [
              "Syncing run <strong><a href='https://wandb.ai/lp-ucu/emotion_recognition/runs/b1el6674' target=\"_blank\">e_0517-1232_audio_eval</a></strong> to <a href='https://wandb.ai/lp-ucu/emotion_recognition' target=\"_blank\">Weights & Biases</a> (<a href='https://wandb.me/run' target=\"_blank\">docs</a>)<br/>"
            ]
          },
          "metadata": {}
        },
        {
          "output_type": "display_data",
          "data": {
            "text/plain": [
              "<IPython.core.display.HTML object>"
            ],
            "text/html": [
              " View project at <a href='https://wandb.ai/lp-ucu/emotion_recognition' target=\"_blank\">https://wandb.ai/lp-ucu/emotion_recognition</a>"
            ]
          },
          "metadata": {}
        },
        {
          "output_type": "display_data",
          "data": {
            "text/plain": [
              "<IPython.core.display.HTML object>"
            ],
            "text/html": [
              " View run at <a href='https://wandb.ai/lp-ucu/emotion_recognition/runs/b1el6674' target=\"_blank\">https://wandb.ai/lp-ucu/emotion_recognition/runs/b1el6674</a>"
            ]
          },
          "metadata": {}
        },
        {
          "output_type": "stream",
          "name": "stdout",
          "text": [
            "[[36  8]\n",
            " [11 35]]\n"
          ]
        },
        {
          "output_type": "display_data",
          "data": {
            "text/plain": [
              "<Figure size 640x480 with 2 Axes>"
            ],
            "image/png": "[encoded data removed]"
          },
          "metadata": {}
        },
        {
          "output_type": "stream",
          "name": "stdout",
          "text": [
            "              precision    recall  f1-score   support\n",
            "\n",
            "    conflict       0.77      0.82      0.79        44\n",
            " no-conflict       0.81      0.76      0.79        46\n",
            "\n",
            "    accuracy                           0.79        90\n",
            "   macro avg       0.79      0.79      0.79        90\n",
            "weighted avg       0.79      0.79      0.79        90\n",
            "\n"
          ]
        },
        {
          "output_type": "display_data",
          "data": {
            "text/plain": [
              "VBox(children=(Label(value='0.002 MB of 0.002 MB uploaded\\r'), FloatProgress(value=0.9048106448311156, max=1.0…"
            ],
            "application/vnd.jupyter.widget-view+json": {
              "version_major": 2,
              "version_minor": 0,
              "model_id": "01fd950a02b2490c8230f07d3e42fd40"
            }
          },
          "metadata": {}
        },
        {
          "output_type": "display_data",
          "data": {
            "text/plain": [
              "<IPython.core.display.HTML object>"
            ],
            "text/html": [
              "<style>\n",
              "    table.wandb td:nth-child(1) { padding: 0 10px; text-align: left ; width: auto;} td:nth-child(2) {text-align: left ; width: 100%}\n",
              "    .wandb-row { display: flex; flex-direction: row; flex-wrap: wrap; justify-content: flex-start; width: 100% }\n",
              "    .wandb-col { display: flex; flex-direction: column; flex-basis: 100%; flex: 1; padding: 10px; }\n",
              "    </style>\n",
              "<div class=\"wandb-row\"><div class=\"wandb-col\"><h3>Run history:</h3><br/><table class=\"wandb\"><tr><td>accuracy</td><td>▁</td></tr><tr><td>conflict_f1-score</td><td>▁</td></tr><tr><td>conflict_precision</td><td>▁</td></tr><tr><td>conflict_recall</td><td>▁</td></tr><tr><td>no_conflict_f1-score</td><td>▁</td></tr><tr><td>no_conflict_precision</td><td>▁</td></tr><tr><td>no_conflict_recall</td><td>▁</td></tr></table><br/></div><div class=\"wandb-col\"><h3>Run summary:</h3><br/><table class=\"wandb\"><tr><td>accuracy</td><td>0.78889</td></tr><tr><td>conflict_f1-score</td><td>0.79121</td></tr><tr><td>conflict_precision</td><td>0.76596</td></tr><tr><td>conflict_recall</td><td>0.81818</td></tr><tr><td>no_conflict_f1-score</td><td>0.78652</td></tr><tr><td>no_conflict_precision</td><td>0.81395</td></tr><tr><td>no_conflict_recall</td><td>0.76087</td></tr></table><br/></div></div>"
            ]
          },
          "metadata": {}
        },
        {
          "output_type": "display_data",
          "data": {
            "text/plain": [
              "<IPython.core.display.HTML object>"
            ],
            "text/html": [
              " View run <strong style=\"color:#cdcd00\">e_0517-1232_audio_eval</strong> at: <a href='https://wandb.ai/lp-ucu/emotion_recognition/runs/b1el6674' target=\"_blank\">https://wandb.ai/lp-ucu/emotion_recognition/runs/b1el6674</a><br/> View project at: <a href='https://wandb.ai/lp-ucu/emotion_recognition' target=\"_blank\">https://wandb.ai/lp-ucu/emotion_recognition</a><br/>Synced 5 W&B file(s), 1 media file(s), 1 artifact file(s) and 0 other file(s)"
            ]
          },
          "metadata": {}
        },
        {
          "output_type": "display_data",
          "data": {
            "text/plain": [
              "<IPython.core.display.HTML object>"
            ],
            "text/html": [
              "Find logs at: <code>./wandb/run-20240517_123236-b1el6674/logs</code>"
            ]
          },
          "metadata": {}
        }
      ]
    },
    {
      "cell_type": "markdown",
      "source": [
        "## roberta-twitter (eng) + wav2vec 300m CNN features\n",
        "\n"
      ],
      "metadata": {
        "id": "arWSQDdpbTaA"
      }
    },
    {
      "cell_type": "markdown",
      "source": [
        "### Early fusion"
      ],
      "metadata": {
        "id": "sk6PvdpPWm2M"
      }
    },
    {
      "cell_type": "code",
      "source": [
        "wandb_config['model_name'] = \"LR\"\n",
        "wandb_config['framework'] = \"sklearn\"\n",
        "wandb_config['feature_level'] = \"audio+text\"\n",
        "wandb_config['data'] = \"init_full_1h\"\n",
        "wandb_config['feature_set'] = \"twitter_w2v_30_ef\"\n",
        "\n",
        "df_file_twitter_w2v_300_concat_ef = df_file_ef_300m.loc[:, \"path\":].merge(roberta_pipline_twitter_out_eng_df, on='path')\n",
        "\n",
        "clf = make_pipeline(\n",
        "    StandardScaler(),\n",
        "    LogisticRegression(random_state=0),\n",
        ")\n",
        "\n",
        "cross_validation_n_fold(clf, df_file_twitter_w2v_300_concat_ef.drop(columns=['path', 'label', 'folder']),\n",
        "               df_file_twitter_w2v_300_concat_ef['label'], wandb_config)"
      ],
      "metadata": {
        "colab": {
          "base_uri": "https://localhost:8080/",
          "height": 1000,
          "referenced_widgets": [
            "0844f27dcf0e42b681629d2c7951fc9c",
            "abfec3e3e70148d3893b3c03136fe279",
            "1d60cf1396c6449d9d83aa79ce6768c3",
            "85121741e74b4d60ae7c17ee7a952972",
            "531e0e3148d3469d8fbbef54bbe2e195",
            "b76fa734122a42659a8f021afd030441",
            "92a51f5bb8734c7982de887dc8a1702f",
            "65b7536e132a457baf367b4ae136a4fd"
          ]
        },
        "id": "rrmdVaTVDVZA",
        "outputId": "519958f1-ce07-4150-8d0f-0bee15b9d1b6"
      },
      "execution_count": 92,
      "outputs": [
        {
          "output_type": "display_data",
          "data": {
            "text/plain": [
              "<IPython.core.display.HTML object>"
            ],
            "text/html": [
              "Tracking run with wandb version 0.17.0"
            ]
          },
          "metadata": {}
        },
        {
          "output_type": "display_data",
          "data": {
            "text/plain": [
              "<IPython.core.display.HTML object>"
            ],
            "text/html": [
              "Run data is saved locally in <code>/content/wandb/run-20240517_083522-cz5ny90q</code>"
            ]
          },
          "metadata": {}
        },
        {
          "output_type": "display_data",
          "data": {
            "text/plain": [
              "<IPython.core.display.HTML object>"
            ],
            "text/html": [
              "Syncing run <strong><a href='https://wandb.ai/lp-ucu/emotion_recognition/runs/cz5ny90q' target=\"_blank\">e_0517-0835_audio_eval</a></strong> to <a href='https://wandb.ai/lp-ucu/emotion_recognition' target=\"_blank\">Weights & Biases</a> (<a href='https://wandb.me/run' target=\"_blank\">docs</a>)<br/>"
            ]
          },
          "metadata": {}
        },
        {
          "output_type": "display_data",
          "data": {
            "text/plain": [
              "<IPython.core.display.HTML object>"
            ],
            "text/html": [
              " View project at <a href='https://wandb.ai/lp-ucu/emotion_recognition' target=\"_blank\">https://wandb.ai/lp-ucu/emotion_recognition</a>"
            ]
          },
          "metadata": {}
        },
        {
          "output_type": "display_data",
          "data": {
            "text/plain": [
              "<IPython.core.display.HTML object>"
            ],
            "text/html": [
              " View run at <a href='https://wandb.ai/lp-ucu/emotion_recognition/runs/cz5ny90q' target=\"_blank\">https://wandb.ai/lp-ucu/emotion_recognition/runs/cz5ny90q</a>"
            ]
          },
          "metadata": {}
        },
        {
          "output_type": "stream",
          "name": "stdout",
          "text": [
            "[[36  8]\n",
            " [ 8 38]]\n"
          ]
        },
        {
          "output_type": "display_data",
          "data": {
            "text/plain": [
              "<Figure size 640x480 with 2 Axes>"
            ],
            "image/png": "[encoded data removed]"
          },
          "metadata": {}
        },
        {
          "output_type": "stream",
          "name": "stdout",
          "text": [
            "              precision    recall  f1-score   support\n",
            "\n",
            "    conflict       0.82      0.82      0.82        44\n",
            " no-conflict       0.83      0.83      0.83        46\n",
            "\n",
            "    accuracy                           0.82        90\n",
            "   macro avg       0.82      0.82      0.82        90\n",
            "weighted avg       0.82      0.82      0.82        90\n",
            "\n"
          ]
        },
        {
          "output_type": "display_data",
          "data": {
            "text/plain": [
              "VBox(children=(Label(value='0.002 MB of 0.002 MB uploaded\\r'), FloatProgress(value=1.0, max=1.0)))"
            ],
            "application/vnd.jupyter.widget-view+json": {
              "version_major": 2,
              "version_minor": 0,
              "model_id": "0844f27dcf0e42b681629d2c7951fc9c"
            }
          },
          "metadata": {}
        },
        {
          "output_type": "display_data",
          "data": {
            "text/plain": [
              "<IPython.core.display.HTML object>"
            ],
            "text/html": [
              "<style>\n",
              "    table.wandb td:nth-child(1) { padding: 0 10px; text-align: left ; width: auto;} td:nth-child(2) {text-align: left ; width: 100%}\n",
              "    .wandb-row { display: flex; flex-direction: row; flex-wrap: wrap; justify-content: flex-start; width: 100% }\n",
              "    .wandb-col { display: flex; flex-direction: column; flex-basis: 100%; flex: 1; padding: 10px; }\n",
              "    </style>\n",
              "<div class=\"wandb-row\"><div class=\"wandb-col\"><h3>Run history:</h3><br/><table class=\"wandb\"><tr><td>accuracy</td><td>▁</td></tr><tr><td>conflict_f1-score</td><td>▁</td></tr><tr><td>conflict_precision</td><td>▁</td></tr><tr><td>conflict_recall</td><td>▁</td></tr><tr><td>no_conflict_f1-score</td><td>▁</td></tr><tr><td>no_conflict_precision</td><td>▁</td></tr><tr><td>no_conflict_recall</td><td>▁</td></tr></table><br/></div><div class=\"wandb-col\"><h3>Run summary:</h3><br/><table class=\"wandb\"><tr><td>accuracy</td><td>0.82222</td></tr><tr><td>conflict_f1-score</td><td>0.81818</td></tr><tr><td>conflict_precision</td><td>0.81818</td></tr><tr><td>conflict_recall</td><td>0.81818</td></tr><tr><td>no_conflict_f1-score</td><td>0.82609</td></tr><tr><td>no_conflict_precision</td><td>0.82609</td></tr><tr><td>no_conflict_recall</td><td>0.82609</td></tr></table><br/></div></div>"
            ]
          },
          "metadata": {}
        },
        {
          "output_type": "display_data",
          "data": {
            "text/plain": [
              "<IPython.core.display.HTML object>"
            ],
            "text/html": [
              " View run <strong style=\"color:#cdcd00\">e_0517-0835_audio_eval</strong> at: <a href='https://wandb.ai/lp-ucu/emotion_recognition/runs/cz5ny90q' target=\"_blank\">https://wandb.ai/lp-ucu/emotion_recognition/runs/cz5ny90q</a><br/> View project at: <a href='https://wandb.ai/lp-ucu/emotion_recognition' target=\"_blank\">https://wandb.ai/lp-ucu/emotion_recognition</a><br/>Synced 5 W&B file(s), 1 media file(s), 1 artifact file(s) and 0 other file(s)"
            ]
          },
          "metadata": {}
        },
        {
          "output_type": "display_data",
          "data": {
            "text/plain": [
              "<IPython.core.display.HTML object>"
            ],
            "text/html": [
              "Find logs at: <code>./wandb/run-20240517_083522-cz5ny90q/logs</code>"
            ]
          },
          "metadata": {}
        }
      ]
    },
    {
      "cell_type": "markdown",
      "source": [
        "### twitter + wav2vec 1b HS\n"
      ],
      "metadata": {
        "id": "jWnY5ql8bcj0"
      }
    },
    {
      "cell_type": "code",
      "source": [
        "wandb_config['model_name'] = \"LR\"\n",
        "wandb_config['framework'] = \"sklearn\"\n",
        "wandb_config['feature_level'] = \"audio+text\"\n",
        "wandb_config['data'] = \"init_full_1h\"\n",
        "wandb_config['feature_set'] = \"twitter_w2v_1b_hs\"\n",
        "\n",
        "df_file_twitter_w2v_1b_concat = df_file_hs_1b.loc[:, \"path\":].merge(roberta_pipline_twitter_out_eng_df, on='path')\n",
        "\n",
        "clf = make_pipeline(\n",
        "    StandardScaler(),\n",
        "    LogisticRegression(random_state=0),\n",
        ")\n",
        "\n",
        "cross_validation_n_fold(clf, df_file_twitter_w2v_1b_concat.drop(columns=['path', 'label', 'folder']),\n",
        "               df_file_twitter_w2v_1b_concat['label'], wandb_config)"
      ],
      "metadata": {
        "colab": {
          "base_uri": "https://localhost:8080/",
          "height": 1000,
          "referenced_widgets": [
            "6f3ee1ff7ae34f4d8915013d2b18547f",
            "cb74472a8f6340219609d429fc70fb05",
            "c1d2044fc8d141c8a914cefb5108c1fd",
            "2271424e49e249aea5251156aaf12dab",
            "3b6b4b7333494eefa7aeb554f91deb42",
            "221bd4ae6b5042d0a5a47415d4ea8835",
            "0f3211029f5c4cbcb3e52325c3c913d8",
            "ceb246ad82214f16be2a9aef5b82677f"
          ]
        },
        "id": "89FgMEVhBMF9",
        "outputId": "291c7f3f-e486-4c98-962c-ab87d5eacf54"
      },
      "execution_count": 93,
      "outputs": [
        {
          "output_type": "display_data",
          "data": {
            "text/plain": [
              "<IPython.core.display.HTML object>"
            ],
            "text/html": [
              "Tracking run with wandb version 0.17.0"
            ]
          },
          "metadata": {}
        },
        {
          "output_type": "display_data",
          "data": {
            "text/plain": [
              "<IPython.core.display.HTML object>"
            ],
            "text/html": [
              "Run data is saved locally in <code>/content/wandb/run-20240517_083606-63jl2t2s</code>"
            ]
          },
          "metadata": {}
        },
        {
          "output_type": "display_data",
          "data": {
            "text/plain": [
              "<IPython.core.display.HTML object>"
            ],
            "text/html": [
              "Syncing run <strong><a href='https://wandb.ai/lp-ucu/emotion_recognition/runs/63jl2t2s' target=\"_blank\">e_0517-0836_audio_eval</a></strong> to <a href='https://wandb.ai/lp-ucu/emotion_recognition' target=\"_blank\">Weights & Biases</a> (<a href='https://wandb.me/run' target=\"_blank\">docs</a>)<br/>"
            ]
          },
          "metadata": {}
        },
        {
          "output_type": "display_data",
          "data": {
            "text/plain": [
              "<IPython.core.display.HTML object>"
            ],
            "text/html": [
              " View project at <a href='https://wandb.ai/lp-ucu/emotion_recognition' target=\"_blank\">https://wandb.ai/lp-ucu/emotion_recognition</a>"
            ]
          },
          "metadata": {}
        },
        {
          "output_type": "display_data",
          "data": {
            "text/plain": [
              "<IPython.core.display.HTML object>"
            ],
            "text/html": [
              " View run at <a href='https://wandb.ai/lp-ucu/emotion_recognition/runs/63jl2t2s' target=\"_blank\">https://wandb.ai/lp-ucu/emotion_recognition/runs/63jl2t2s</a>"
            ]
          },
          "metadata": {}
        },
        {
          "output_type": "stream",
          "name": "stdout",
          "text": [
            "[[36  8]\n",
            " [ 8 38]]\n"
          ]
        },
        {
          "output_type": "display_data",
          "data": {
            "text/plain": [
              "<Figure size 640x480 with 2 Axes>"
            ],
            "image/png": "[encoded data removed]"
          },
          "metadata": {}
        },
        {
          "output_type": "stream",
          "name": "stdout",
          "text": [
            "              precision    recall  f1-score   support\n",
            "\n",
            "    conflict       0.82      0.82      0.82        44\n",
            " no-conflict       0.83      0.83      0.83        46\n",
            "\n",
            "    accuracy                           0.82        90\n",
            "   macro avg       0.82      0.82      0.82        90\n",
            "weighted avg       0.82      0.82      0.82        90\n",
            "\n"
          ]
        },
        {
          "output_type": "display_data",
          "data": {
            "text/plain": [
              "VBox(children=(Label(value='0.002 MB of 0.002 MB uploaded\\r'), FloatProgress(value=1.0, max=1.0)))"
            ],
            "application/vnd.jupyter.widget-view+json": {
              "version_major": 2,
              "version_minor": 0,
              "model_id": "6f3ee1ff7ae34f4d8915013d2b18547f"
            }
          },
          "metadata": {}
        },
        {
          "output_type": "display_data",
          "data": {
            "text/plain": [
              "<IPython.core.display.HTML object>"
            ],
            "text/html": [
              "<style>\n",
              "    table.wandb td:nth-child(1) { padding: 0 10px; text-align: left ; width: auto;} td:nth-child(2) {text-align: left ; width: 100%}\n",
              "    .wandb-row { display: flex; flex-direction: row; flex-wrap: wrap; justify-content: flex-start; width: 100% }\n",
              "    .wandb-col { display: flex; flex-direction: column; flex-basis: 100%; flex: 1; padding: 10px; }\n",
              "    </style>\n",
              "<div class=\"wandb-row\"><div class=\"wandb-col\"><h3>Run history:</h3><br/><table class=\"wandb\"><tr><td>accuracy</td><td>▁</td></tr><tr><td>conflict_f1-score</td><td>▁</td></tr><tr><td>conflict_precision</td><td>▁</td></tr><tr><td>conflict_recall</td><td>▁</td></tr><tr><td>no_conflict_f1-score</td><td>▁</td></tr><tr><td>no_conflict_precision</td><td>▁</td></tr><tr><td>no_conflict_recall</td><td>▁</td></tr></table><br/></div><div class=\"wandb-col\"><h3>Run summary:</h3><br/><table class=\"wandb\"><tr><td>accuracy</td><td>0.82222</td></tr><tr><td>conflict_f1-score</td><td>0.81818</td></tr><tr><td>conflict_precision</td><td>0.81818</td></tr><tr><td>conflict_recall</td><td>0.81818</td></tr><tr><td>no_conflict_f1-score</td><td>0.82609</td></tr><tr><td>no_conflict_precision</td><td>0.82609</td></tr><tr><td>no_conflict_recall</td><td>0.82609</td></tr></table><br/></div></div>"
            ]
          },
          "metadata": {}
        },
        {
          "output_type": "display_data",
          "data": {
            "text/plain": [
              "<IPython.core.display.HTML object>"
            ],
            "text/html": [
              " View run <strong style=\"color:#cdcd00\">e_0517-0836_audio_eval</strong> at: <a href='https://wandb.ai/lp-ucu/emotion_recognition/runs/63jl2t2s' target=\"_blank\">https://wandb.ai/lp-ucu/emotion_recognition/runs/63jl2t2s</a><br/> View project at: <a href='https://wandb.ai/lp-ucu/emotion_recognition' target=\"_blank\">https://wandb.ai/lp-ucu/emotion_recognition</a><br/>Synced 5 W&B file(s), 1 media file(s), 1 artifact file(s) and 0 other file(s)"
            ]
          },
          "metadata": {}
        },
        {
          "output_type": "display_data",
          "data": {
            "text/plain": [
              "<IPython.core.display.HTML object>"
            ],
            "text/html": [
              "Find logs at: <code>./wandb/run-20240517_083606-63jl2t2s/logs</code>"
            ]
          },
          "metadata": {}
        }
      ]
    },
    {
      "cell_type": "markdown",
      "source": [
        "## roberta-twitter (eng) + wav2vec 1b CNN features\n"
      ],
      "metadata": {
        "id": "vr-KSQPebekB"
      }
    },
    {
      "cell_type": "markdown",
      "source": [
        "### Early fusion"
      ],
      "metadata": {
        "id": "4YiumK5bWq8c"
      }
    },
    {
      "cell_type": "code",
      "source": [
        "wandb_config['model_name'] = \"LR\"\n",
        "wandb_config['framework'] = \"sklearn\"\n",
        "wandb_config['feature_level'] = \"audio+text\"\n",
        "wandb_config['data'] = \"init_full_1h\"\n",
        "wandb_config['feature_set'] = \"twitter_w2v_1b_ef\"\n",
        "\n",
        "df_file_twitter_w2v_1b_concat_ef = df_file_ef_1b.loc[:, \"path\":].merge(roberta_pipline_twitter_out_eng_df, on='path')\n",
        "\n",
        "clf = make_pipeline(\n",
        "    StandardScaler(),\n",
        "    LogisticRegression(random_state=0),\n",
        ")\n",
        "\n",
        "cross_validation_n_fold(clf, df_file_twitter_w2v_1b_concat_ef.drop(columns=['path', 'label', 'folder']),\n",
        "               df_file_twitter_w2v_1b_concat_ef['label'], wandb_config)"
      ],
      "metadata": {
        "colab": {
          "base_uri": "https://localhost:8080/",
          "height": 1000,
          "referenced_widgets": [
            "c49543eafd8641adb066ffdec06ae7c5",
            "1036b4846e054b43979e40a145eba837",
            "4ca94db0611449a090fc32758f743caa",
            "55c5c1747b01466c81a688767f6c1874",
            "0e55d2986b7a49d796e07b8a809bb7ae",
            "2ed8b423649b41f5b012cd4e64dbf2f5",
            "5665d88e52644917b4b69030c4251587",
            "22ecec011caa4e1cbfa8127eca056569"
          ]
        },
        "id": "n99rmNJoDdMI",
        "outputId": "b533131d-fe05-4c77-ace8-c7a6e694ad7b"
      },
      "execution_count": 94,
      "outputs": [
        {
          "output_type": "display_data",
          "data": {
            "text/plain": [
              "<IPython.core.display.HTML object>"
            ],
            "text/html": [
              "Tracking run with wandb version 0.17.0"
            ]
          },
          "metadata": {}
        },
        {
          "output_type": "display_data",
          "data": {
            "text/plain": [
              "<IPython.core.display.HTML object>"
            ],
            "text/html": [
              "Run data is saved locally in <code>/content/wandb/run-20240517_083638-xiwzqvex</code>"
            ]
          },
          "metadata": {}
        },
        {
          "output_type": "display_data",
          "data": {
            "text/plain": [
              "<IPython.core.display.HTML object>"
            ],
            "text/html": [
              "Syncing run <strong><a href='https://wandb.ai/lp-ucu/emotion_recognition/runs/xiwzqvex' target=\"_blank\">e_0517-0836_audio_eval</a></strong> to <a href='https://wandb.ai/lp-ucu/emotion_recognition' target=\"_blank\">Weights & Biases</a> (<a href='https://wandb.me/run' target=\"_blank\">docs</a>)<br/>"
            ]
          },
          "metadata": {}
        },
        {
          "output_type": "display_data",
          "data": {
            "text/plain": [
              "<IPython.core.display.HTML object>"
            ],
            "text/html": [
              " View project at <a href='https://wandb.ai/lp-ucu/emotion_recognition' target=\"_blank\">https://wandb.ai/lp-ucu/emotion_recognition</a>"
            ]
          },
          "metadata": {}
        },
        {
          "output_type": "display_data",
          "data": {
            "text/plain": [
              "<IPython.core.display.HTML object>"
            ],
            "text/html": [
              " View run at <a href='https://wandb.ai/lp-ucu/emotion_recognition/runs/xiwzqvex' target=\"_blank\">https://wandb.ai/lp-ucu/emotion_recognition/runs/xiwzqvex</a>"
            ]
          },
          "metadata": {}
        },
        {
          "output_type": "stream",
          "name": "stdout",
          "text": [
            "[[38  6]\n",
            " [ 8 38]]\n"
          ]
        },
        {
          "output_type": "display_data",
          "data": {
            "text/plain": [
              "<Figure size 640x480 with 2 Axes>"
            ],
            "image/png": "[encoded data removed]"
          },
          "metadata": {}
        },
        {
          "output_type": "stream",
          "name": "stdout",
          "text": [
            "              precision    recall  f1-score   support\n",
            "\n",
            "    conflict       0.83      0.86      0.84        44\n",
            " no-conflict       0.86      0.83      0.84        46\n",
            "\n",
            "    accuracy                           0.84        90\n",
            "   macro avg       0.84      0.84      0.84        90\n",
            "weighted avg       0.85      0.84      0.84        90\n",
            "\n"
          ]
        },
        {
          "output_type": "display_data",
          "data": {
            "text/plain": [
              "VBox(children=(Label(value='0.002 MB of 0.002 MB uploaded\\r'), FloatProgress(value=1.0, max=1.0)))"
            ],
            "application/vnd.jupyter.widget-view+json": {
              "version_major": 2,
              "version_minor": 0,
              "model_id": "c49543eafd8641adb066ffdec06ae7c5"
            }
          },
          "metadata": {}
        },
        {
          "output_type": "display_data",
          "data": {
            "text/plain": [
              "<IPython.core.display.HTML object>"
            ],
            "text/html": [
              "<style>\n",
              "    table.wandb td:nth-child(1) { padding: 0 10px; text-align: left ; width: auto;} td:nth-child(2) {text-align: left ; width: 100%}\n",
              "    .wandb-row { display: flex; flex-direction: row; flex-wrap: wrap; justify-content: flex-start; width: 100% }\n",
              "    .wandb-col { display: flex; flex-direction: column; flex-basis: 100%; flex: 1; padding: 10px; }\n",
              "    </style>\n",
              "<div class=\"wandb-row\"><div class=\"wandb-col\"><h3>Run history:</h3><br/><table class=\"wandb\"><tr><td>accuracy</td><td>▁</td></tr><tr><td>conflict_f1-score</td><td>▁</td></tr><tr><td>conflict_precision</td><td>▁</td></tr><tr><td>conflict_recall</td><td>▁</td></tr><tr><td>no_conflict_f1-score</td><td>▁</td></tr><tr><td>no_conflict_precision</td><td>▁</td></tr><tr><td>no_conflict_recall</td><td>▁</td></tr></table><br/></div><div class=\"wandb-col\"><h3>Run summary:</h3><br/><table class=\"wandb\"><tr><td>accuracy</td><td>0.84444</td></tr><tr><td>conflict_f1-score</td><td>0.84444</td></tr><tr><td>conflict_precision</td><td>0.82609</td></tr><tr><td>conflict_recall</td><td>0.86364</td></tr><tr><td>no_conflict_f1-score</td><td>0.84444</td></tr><tr><td>no_conflict_precision</td><td>0.86364</td></tr><tr><td>no_conflict_recall</td><td>0.82609</td></tr></table><br/></div></div>"
            ]
          },
          "metadata": {}
        },
        {
          "output_type": "display_data",
          "data": {
            "text/plain": [
              "<IPython.core.display.HTML object>"
            ],
            "text/html": [
              " View run <strong style=\"color:#cdcd00\">e_0517-0836_audio_eval</strong> at: <a href='https://wandb.ai/lp-ucu/emotion_recognition/runs/xiwzqvex' target=\"_blank\">https://wandb.ai/lp-ucu/emotion_recognition/runs/xiwzqvex</a><br/> View project at: <a href='https://wandb.ai/lp-ucu/emotion_recognition' target=\"_blank\">https://wandb.ai/lp-ucu/emotion_recognition</a><br/>Synced 5 W&B file(s), 1 media file(s), 1 artifact file(s) and 0 other file(s)"
            ]
          },
          "metadata": {}
        },
        {
          "output_type": "display_data",
          "data": {
            "text/plain": [
              "<IPython.core.display.HTML object>"
            ],
            "text/html": [
              "Find logs at: <code>./wandb/run-20240517_083638-xiwzqvex/logs</code>"
            ]
          },
          "metadata": {}
        }
      ]
    },
    {
      "cell_type": "markdown",
      "source": [
        "### Late fusion"
      ],
      "metadata": {
        "id": "Fo9wG8tojRn9"
      }
    },
    {
      "cell_type": "code",
      "source": [
        "wandb_config['model_name'] = \"LR\"\n",
        "wandb_config['framework'] = \"sklearn\"\n",
        "wandb_config['feature_level'] = \"audio+text\"\n",
        "wandb_config['data'] = \"init_full_1h\"\n",
        "wandb_config['feature_set'] = \"twitter_w2v_1b_ef\"\n",
        "wandb_config['fusion'] = \"late_lr\"\n",
        "\n",
        "clf1 = make_pipeline(\n",
        "    StandardScaler(),\n",
        "    LogisticRegression(random_state=0),\n",
        ")\n",
        "\n",
        "clf2 = make_pipeline(\n",
        "    StandardScaler(),\n",
        "    LogisticRegression(random_state=0),\n",
        ")\n",
        "\n",
        "cross_validation_n_fold_ensemble(clf1, clf2, df_file_ef_1b.loc[:,'ef_0':],\n",
        "                                  roberta_pipline_twitter_out_eng_df.drop(columns=['label', 'path']),\n",
        "                                  roberta_pipline_twitter_out_eng_df['label'], wandb_config)"
      ],
      "metadata": {
        "colab": {
          "base_uri": "https://localhost:8080/",
          "height": 1000,
          "referenced_widgets": [
            "57a3d0caf7bf489799032b54ddfeba9c",
            "55fca620ab314904a6b94849f3421186",
            "89a76b6d0e71441fb6ebaa4009d4d2af",
            "6d960e4da4ef49768a5854304e5f9a81",
            "7f80c9f267d9479f8a4395d847ac1484",
            "5ba4050cdd25497cb4d9357cb056fc50",
            "1dbd6ac4a56d4c2baee1240d44be887c",
            "642078914ed24658ab22ae021a56b11b",
            "0307d034898e4b36a2473c619a36c8ef",
            "71510f715e8d41af8ff7338ed4958fd6",
            "9b13e61dd83b4e1aa673a516665588bc",
            "196e7badb4c7487e8708c4fbede837e9",
            "084e5ae9b33a465b97bc968cd1362534",
            "9ed2dddf5bfa4f999f46bb076abc0cc7",
            "d0ed022d4531437599acf1a616c01911",
            "fb9b2621d5254e82ab5ff3806df829ed"
          ]
        },
        "id": "WG_8fmJfbjRJ",
        "outputId": "77179e95-84de-499d-cc01-1fea71e9f626"
      },
      "execution_count": 197,
      "outputs": [
        {
          "output_type": "display_data",
          "data": {
            "text/plain": [
              "<IPython.core.display.HTML object>"
            ],
            "text/html": [
              "Finishing last run (ID:srpxu770) before initializing another..."
            ]
          },
          "metadata": {}
        },
        {
          "output_type": "display_data",
          "data": {
            "text/plain": [
              "VBox(children=(Label(value='0.011 MB of 0.011 MB uploaded\\r'), FloatProgress(value=1.0, max=1.0)))"
            ],
            "application/vnd.jupyter.widget-view+json": {
              "version_major": 2,
              "version_minor": 0,
              "model_id": "57a3d0caf7bf489799032b54ddfeba9c"
            }
          },
          "metadata": {}
        },
        {
          "output_type": "display_data",
          "data": {
            "text/plain": [
              "<IPython.core.display.HTML object>"
            ],
            "text/html": [
              " View run <strong style=\"color:#cdcd00\">e_0517-1237_audio_eval</strong> at: <a href='https://wandb.ai/lp-ucu/emotion_recognition/runs/srpxu770' target=\"_blank\">https://wandb.ai/lp-ucu/emotion_recognition/runs/srpxu770</a><br/> View project at: <a href='https://wandb.ai/lp-ucu/emotion_recognition' target=\"_blank\">https://wandb.ai/lp-ucu/emotion_recognition</a><br/>Synced 4 W&B file(s), 0 media file(s), 0 artifact file(s) and 0 other file(s)"
            ]
          },
          "metadata": {}
        },
        {
          "output_type": "display_data",
          "data": {
            "text/plain": [
              "<IPython.core.display.HTML object>"
            ],
            "text/html": [
              "Find logs at: <code>./wandb/run-20240517_123737-srpxu770/logs</code>"
            ]
          },
          "metadata": {}
        },
        {
          "output_type": "display_data",
          "data": {
            "text/plain": [
              "<IPython.core.display.HTML object>"
            ],
            "text/html": [
              "Successfully finished last run (ID:srpxu770). Initializing new run:<br/>"
            ]
          },
          "metadata": {}
        },
        {
          "output_type": "display_data",
          "data": {
            "text/plain": [
              "<IPython.core.display.HTML object>"
            ],
            "text/html": [
              "Tracking run with wandb version 0.17.0"
            ]
          },
          "metadata": {}
        },
        {
          "output_type": "display_data",
          "data": {
            "text/plain": [
              "<IPython.core.display.HTML object>"
            ],
            "text/html": [
              "Run data is saved locally in <code>/content/wandb/run-20240517_123913-o2w8p9zv</code>"
            ]
          },
          "metadata": {}
        },
        {
          "output_type": "display_data",
          "data": {
            "text/plain": [
              "<IPython.core.display.HTML object>"
            ],
            "text/html": [
              "Syncing run <strong><a href='https://wandb.ai/lp-ucu/emotion_recognition/runs/o2w8p9zv' target=\"_blank\">e_0517-1239_audio_eval</a></strong> to <a href='https://wandb.ai/lp-ucu/emotion_recognition' target=\"_blank\">Weights & Biases</a> (<a href='https://wandb.me/run' target=\"_blank\">docs</a>)<br/>"
            ]
          },
          "metadata": {}
        },
        {
          "output_type": "display_data",
          "data": {
            "text/plain": [
              "<IPython.core.display.HTML object>"
            ],
            "text/html": [
              " View project at <a href='https://wandb.ai/lp-ucu/emotion_recognition' target=\"_blank\">https://wandb.ai/lp-ucu/emotion_recognition</a>"
            ]
          },
          "metadata": {}
        },
        {
          "output_type": "display_data",
          "data": {
            "text/plain": [
              "<IPython.core.display.HTML object>"
            ],
            "text/html": [
              " View run at <a href='https://wandb.ai/lp-ucu/emotion_recognition/runs/o2w8p9zv' target=\"_blank\">https://wandb.ai/lp-ucu/emotion_recognition/runs/o2w8p9zv</a>"
            ]
          },
          "metadata": {}
        },
        {
          "output_type": "stream",
          "name": "stdout",
          "text": [
            "[[37  7]\n",
            " [ 9 37]]\n"
          ]
        },
        {
          "output_type": "display_data",
          "data": {
            "text/plain": [
              "<Figure size 640x480 with 2 Axes>"
            ],
            "image/png": "[encoded data removed]"
          },
          "metadata": {}
        },
        {
          "output_type": "stream",
          "name": "stdout",
          "text": [
            "              precision    recall  f1-score   support\n",
            "\n",
            "    conflict       0.80      0.84      0.82        44\n",
            " no-conflict       0.84      0.80      0.82        46\n",
            "\n",
            "    accuracy                           0.82        90\n",
            "   macro avg       0.82      0.82      0.82        90\n",
            "weighted avg       0.82      0.82      0.82        90\n",
            "\n"
          ]
        },
        {
          "output_type": "display_data",
          "data": {
            "text/plain": [
              "VBox(children=(Label(value='0.002 MB of 0.002 MB uploaded\\r'), FloatProgress(value=1.0, max=1.0)))"
            ],
            "application/vnd.jupyter.widget-view+json": {
              "version_major": 2,
              "version_minor": 0,
              "model_id": "0307d034898e4b36a2473c619a36c8ef"
            }
          },
          "metadata": {}
        },
        {
          "output_type": "display_data",
          "data": {
            "text/plain": [
              "<IPython.core.display.HTML object>"
            ],
            "text/html": [
              "<style>\n",
              "    table.wandb td:nth-child(1) { padding: 0 10px; text-align: left ; width: auto;} td:nth-child(2) {text-align: left ; width: 100%}\n",
              "    .wandb-row { display: flex; flex-direction: row; flex-wrap: wrap; justify-content: flex-start; width: 100% }\n",
              "    .wandb-col { display: flex; flex-direction: column; flex-basis: 100%; flex: 1; padding: 10px; }\n",
              "    </style>\n",
              "<div class=\"wandb-row\"><div class=\"wandb-col\"><h3>Run history:</h3><br/><table class=\"wandb\"><tr><td>accuracy</td><td>▁</td></tr><tr><td>conflict_f1-score</td><td>▁</td></tr><tr><td>conflict_precision</td><td>▁</td></tr><tr><td>conflict_recall</td><td>▁</td></tr><tr><td>no_conflict_f1-score</td><td>▁</td></tr><tr><td>no_conflict_precision</td><td>▁</td></tr><tr><td>no_conflict_recall</td><td>▁</td></tr></table><br/></div><div class=\"wandb-col\"><h3>Run summary:</h3><br/><table class=\"wandb\"><tr><td>accuracy</td><td>0.82222</td></tr><tr><td>conflict_f1-score</td><td>0.82222</td></tr><tr><td>conflict_precision</td><td>0.80435</td></tr><tr><td>conflict_recall</td><td>0.84091</td></tr><tr><td>no_conflict_f1-score</td><td>0.82222</td></tr><tr><td>no_conflict_precision</td><td>0.84091</td></tr><tr><td>no_conflict_recall</td><td>0.80435</td></tr></table><br/></div></div>"
            ]
          },
          "metadata": {}
        },
        {
          "output_type": "display_data",
          "data": {
            "text/plain": [
              "<IPython.core.display.HTML object>"
            ],
            "text/html": [
              " View run <strong style=\"color:#cdcd00\">e_0517-1239_audio_eval</strong> at: <a href='https://wandb.ai/lp-ucu/emotion_recognition/runs/o2w8p9zv' target=\"_blank\">https://wandb.ai/lp-ucu/emotion_recognition/runs/o2w8p9zv</a><br/> View project at: <a href='https://wandb.ai/lp-ucu/emotion_recognition' target=\"_blank\">https://wandb.ai/lp-ucu/emotion_recognition</a><br/>Synced 5 W&B file(s), 1 media file(s), 1 artifact file(s) and 0 other file(s)"
            ]
          },
          "metadata": {}
        },
        {
          "output_type": "display_data",
          "data": {
            "text/plain": [
              "<IPython.core.display.HTML object>"
            ],
            "text/html": [
              "Find logs at: <code>./wandb/run-20240517_123913-o2w8p9zv/logs</code>"
            ]
          },
          "metadata": {}
        }
      ]
    },
    {
      "cell_type": "code",
      "source": [],
      "metadata": {
        "id": "c1V2m8YLbjON"
      },
      "execution_count": null,
      "outputs": []
    },
    {
      "cell_type": "markdown",
      "source": [
        "## mDeBERTa-v3-base-mnli-xnli (transcribe) + smile full"
      ],
      "metadata": {
        "id": "-lp9BJN2byvH"
      }
    },
    {
      "cell_type": "markdown",
      "source": [
        "### Early fusion"
      ],
      "metadata": {
        "id": "m21Opx8uW62B"
      }
    },
    {
      "cell_type": "code",
      "source": [
        "wandb_config['model_name'] = \"LR\"\n",
        "wandb_config['framework'] = \"sklearn\"\n",
        "wandb_config['feature_level'] = \"audio+text_transc\"\n",
        "wandb_config['data'] = \"init_full_1h\"\n",
        "wandb_config['feature_set'] = \"mdeberta_smile_full\"\n",
        "\n",
        "df_file_mdeberta_transc_smile_concat = df_file_smile_func_compare.drop(columns=['start', 'end', 'label']).merge(mdeberta_xnli_multi_transc, on='path')\n",
        "\n",
        "clf = make_pipeline(\n",
        "    StandardScaler(),\n",
        "    LogisticRegression(random_state=0),\n",
        ")\n",
        "\n",
        "cross_validation_n_fold(clf, df_file_mdeberta_transc_smile_concat.drop(columns=['path', 'label']),\n",
        "               df_file_mdeberta_transc_smile_concat['label'], wandb_config)"
      ],
      "metadata": {
        "colab": {
          "base_uri": "https://localhost:8080/",
          "height": 1000,
          "referenced_widgets": [
            "d779b34b2b8e441e9239061f8d47c7cb",
            "1225c7045b1a4a62895cdfc0741f1d90",
            "49b3fa7f7c284e1eafc543b2c8a08d6c",
            "7d15fe933fac4ce7a902ee031365af3b",
            "67b39e52cc4a4daf81dcb5add06e9449",
            "1e6edede60a442bea63044b86a25a922",
            "1baf65c2aa8f49e1a64831b4d3dc555d",
            "e2e25047976542cb9ec7949db80338f3"
          ]
        },
        "id": "jSyWwB6ubiN4",
        "outputId": "6aeb7e98-bc6b-4a19-e594-b9fc096f7e5b"
      },
      "execution_count": 95,
      "outputs": [
        {
          "output_type": "display_data",
          "data": {
            "text/plain": [
              "<IPython.core.display.HTML object>"
            ],
            "text/html": [
              "Tracking run with wandb version 0.17.0"
            ]
          },
          "metadata": {}
        },
        {
          "output_type": "display_data",
          "data": {
            "text/plain": [
              "<IPython.core.display.HTML object>"
            ],
            "text/html": [
              "Run data is saved locally in <code>/content/wandb/run-20240517_083732-o76fb3hs</code>"
            ]
          },
          "metadata": {}
        },
        {
          "output_type": "display_data",
          "data": {
            "text/plain": [
              "<IPython.core.display.HTML object>"
            ],
            "text/html": [
              "Syncing run <strong><a href='https://wandb.ai/lp-ucu/emotion_recognition/runs/o76fb3hs' target=\"_blank\">e_0517-0837_audio_eval</a></strong> to <a href='https://wandb.ai/lp-ucu/emotion_recognition' target=\"_blank\">Weights & Biases</a> (<a href='https://wandb.me/run' target=\"_blank\">docs</a>)<br/>"
            ]
          },
          "metadata": {}
        },
        {
          "output_type": "display_data",
          "data": {
            "text/plain": [
              "<IPython.core.display.HTML object>"
            ],
            "text/html": [
              " View project at <a href='https://wandb.ai/lp-ucu/emotion_recognition' target=\"_blank\">https://wandb.ai/lp-ucu/emotion_recognition</a>"
            ]
          },
          "metadata": {}
        },
        {
          "output_type": "display_data",
          "data": {
            "text/plain": [
              "<IPython.core.display.HTML object>"
            ],
            "text/html": [
              " View run at <a href='https://wandb.ai/lp-ucu/emotion_recognition/runs/o76fb3hs' target=\"_blank\">https://wandb.ai/lp-ucu/emotion_recognition/runs/o76fb3hs</a>"
            ]
          },
          "metadata": {}
        },
        {
          "output_type": "stream",
          "name": "stdout",
          "text": [
            "[[31 13]\n",
            " [10 36]]\n"
          ]
        },
        {
          "output_type": "display_data",
          "data": {
            "text/plain": [
              "<Figure size 640x480 with 2 Axes>"
            ],
            "image/png": "[encoded data removed]"
          },
          "metadata": {}
        },
        {
          "output_type": "stream",
          "name": "stdout",
          "text": [
            "              precision    recall  f1-score   support\n",
            "\n",
            "    conflict       0.76      0.70      0.73        44\n",
            " no-conflict       0.73      0.78      0.76        46\n",
            "\n",
            "    accuracy                           0.74        90\n",
            "   macro avg       0.75      0.74      0.74        90\n",
            "weighted avg       0.75      0.74      0.74        90\n",
            "\n"
          ]
        },
        {
          "output_type": "display_data",
          "data": {
            "text/plain": [
              "VBox(children=(Label(value='0.002 MB of 0.002 MB uploaded\\r'), FloatProgress(value=0.9044455799693408, max=1.0…"
            ],
            "application/vnd.jupyter.widget-view+json": {
              "version_major": 2,
              "version_minor": 0,
              "model_id": "d779b34b2b8e441e9239061f8d47c7cb"
            }
          },
          "metadata": {}
        },
        {
          "output_type": "display_data",
          "data": {
            "text/plain": [
              "<IPython.core.display.HTML object>"
            ],
            "text/html": [
              "<style>\n",
              "    table.wandb td:nth-child(1) { padding: 0 10px; text-align: left ; width: auto;} td:nth-child(2) {text-align: left ; width: 100%}\n",
              "    .wandb-row { display: flex; flex-direction: row; flex-wrap: wrap; justify-content: flex-start; width: 100% }\n",
              "    .wandb-col { display: flex; flex-direction: column; flex-basis: 100%; flex: 1; padding: 10px; }\n",
              "    </style>\n",
              "<div class=\"wandb-row\"><div class=\"wandb-col\"><h3>Run history:</h3><br/><table class=\"wandb\"><tr><td>accuracy</td><td>▁</td></tr><tr><td>conflict_f1-score</td><td>▁</td></tr><tr><td>conflict_precision</td><td>▁</td></tr><tr><td>conflict_recall</td><td>▁</td></tr><tr><td>no_conflict_f1-score</td><td>▁</td></tr><tr><td>no_conflict_precision</td><td>▁</td></tr><tr><td>no_conflict_recall</td><td>▁</td></tr></table><br/></div><div class=\"wandb-col\"><h3>Run summary:</h3><br/><table class=\"wandb\"><tr><td>accuracy</td><td>0.74444</td></tr><tr><td>conflict_f1-score</td><td>0.72941</td></tr><tr><td>conflict_precision</td><td>0.7561</td></tr><tr><td>conflict_recall</td><td>0.70455</td></tr><tr><td>no_conflict_f1-score</td><td>0.75789</td></tr><tr><td>no_conflict_precision</td><td>0.73469</td></tr><tr><td>no_conflict_recall</td><td>0.78261</td></tr></table><br/></div></div>"
            ]
          },
          "metadata": {}
        },
        {
          "output_type": "display_data",
          "data": {
            "text/plain": [
              "<IPython.core.display.HTML object>"
            ],
            "text/html": [
              " View run <strong style=\"color:#cdcd00\">e_0517-0837_audio_eval</strong> at: <a href='https://wandb.ai/lp-ucu/emotion_recognition/runs/o76fb3hs' target=\"_blank\">https://wandb.ai/lp-ucu/emotion_recognition/runs/o76fb3hs</a><br/> View project at: <a href='https://wandb.ai/lp-ucu/emotion_recognition' target=\"_blank\">https://wandb.ai/lp-ucu/emotion_recognition</a><br/>Synced 5 W&B file(s), 1 media file(s), 1 artifact file(s) and 0 other file(s)"
            ]
          },
          "metadata": {}
        },
        {
          "output_type": "display_data",
          "data": {
            "text/plain": [
              "<IPython.core.display.HTML object>"
            ],
            "text/html": [
              "Find logs at: <code>./wandb/run-20240517_083732-o76fb3hs/logs</code>"
            ]
          },
          "metadata": {}
        }
      ]
    },
    {
      "cell_type": "markdown",
      "source": [
        ":"
      ],
      "metadata": {
        "id": "V3QWzAktb5s0"
      }
    },
    {
      "cell_type": "markdown",
      "source": [
        "### Late fusion"
      ],
      "metadata": {
        "id": "liG9rMpYW9r6"
      }
    },
    {
      "cell_type": "code",
      "source": [
        "wandb_config['model_name'] = \"LR\"\n",
        "wandb_config['framework'] = \"sklearn\"\n",
        "wandb_config['feature_level'] = \"audio+text\"\n",
        "wandb_config['data'] = \"init_full_1h\"\n",
        "wandb_config['feature_set'] = \"mdeberta_smile_full\"\n",
        "wandb_config['fusion'] = \"late_lr\"\n",
        "\n",
        "clf1 = make_pipeline(\n",
        "    StandardScaler(),\n",
        "    LogisticRegression(random_state=0),\n",
        ")\n",
        "\n",
        "clf2 = make_pipeline(\n",
        "    StandardScaler(),\n",
        "    LogisticRegression(random_state=0),\n",
        ")\n",
        "\n",
        "cross_validation_n_fold_ensemble(clf1, clf2, df_file_smile_func_compare.drop(columns=['start', 'end', 'label', 'path']),\n",
        "                                  mdeberta_xnli_multi_transc.drop(columns=['label', 'path']),\n",
        "                                  mdeberta_xnli_multi_transc['label'], wandb_config)\n",
        "\n"
      ],
      "metadata": {
        "colab": {
          "base_uri": "https://localhost:8080/",
          "height": 1000,
          "referenced_widgets": [
            "8bc1574438b34e9cb862aa2fdda00cb3",
            "371c8d16aa0d450f8aef599950f68e5a",
            "6b6713f283e44a2daf7383f2dc5ac714",
            "fae96b1101a741d191ec00cb42006d84",
            "ff61e84d82b84829b5ac31f7d236538a",
            "0e098ef654cb4f4c888ab4b8284f5a26",
            "d90c42e1b43543868d311811b95caf74",
            "1315f76784ff4a18889d020ed77afa17"
          ]
        },
        "id": "T-etCURfkI95",
        "outputId": "bae043fc-71bc-4eef-b1c2-7b31cc960e4d"
      },
      "execution_count": 199,
      "outputs": [
        {
          "output_type": "display_data",
          "data": {
            "text/plain": [
              "<IPython.core.display.HTML object>"
            ],
            "text/html": [
              "Tracking run with wandb version 0.17.0"
            ]
          },
          "metadata": {}
        },
        {
          "output_type": "display_data",
          "data": {
            "text/plain": [
              "<IPython.core.display.HTML object>"
            ],
            "text/html": [
              "Run data is saved locally in <code>/content/wandb/run-20240517_124707-2mu2hj4e</code>"
            ]
          },
          "metadata": {}
        },
        {
          "output_type": "display_data",
          "data": {
            "text/plain": [
              "<IPython.core.display.HTML object>"
            ],
            "text/html": [
              "Syncing run <strong><a href='https://wandb.ai/lp-ucu/emotion_recognition/runs/2mu2hj4e' target=\"_blank\">e_0517-1247_audio_eval</a></strong> to <a href='https://wandb.ai/lp-ucu/emotion_recognition' target=\"_blank\">Weights & Biases</a> (<a href='https://wandb.me/run' target=\"_blank\">docs</a>)<br/>"
            ]
          },
          "metadata": {}
        },
        {
          "output_type": "display_data",
          "data": {
            "text/plain": [
              "<IPython.core.display.HTML object>"
            ],
            "text/html": [
              " View project at <a href='https://wandb.ai/lp-ucu/emotion_recognition' target=\"_blank\">https://wandb.ai/lp-ucu/emotion_recognition</a>"
            ]
          },
          "metadata": {}
        },
        {
          "output_type": "display_data",
          "data": {
            "text/plain": [
              "<IPython.core.display.HTML object>"
            ],
            "text/html": [
              " View run at <a href='https://wandb.ai/lp-ucu/emotion_recognition/runs/2mu2hj4e' target=\"_blank\">https://wandb.ai/lp-ucu/emotion_recognition/runs/2mu2hj4e</a>"
            ]
          },
          "metadata": {}
        },
        {
          "output_type": "stream",
          "name": "stdout",
          "text": [
            "[[30 14]\n",
            " [13 33]]\n"
          ]
        },
        {
          "output_type": "display_data",
          "data": {
            "text/plain": [
              "<Figure size 640x480 with 2 Axes>"
            ],
            "image/png": "[encoded data removed]"
          },
          "metadata": {}
        },
        {
          "output_type": "stream",
          "name": "stdout",
          "text": [
            "              precision    recall  f1-score   support\n",
            "\n",
            "    conflict       0.70      0.68      0.69        44\n",
            " no-conflict       0.70      0.72      0.71        46\n",
            "\n",
            "    accuracy                           0.70        90\n",
            "   macro avg       0.70      0.70      0.70        90\n",
            "weighted avg       0.70      0.70      0.70        90\n",
            "\n"
          ]
        },
        {
          "output_type": "display_data",
          "data": {
            "text/plain": [
              "VBox(children=(Label(value='0.002 MB of 0.002 MB uploaded\\r'), FloatProgress(value=0.9044455799693408, max=1.0…"
            ],
            "application/vnd.jupyter.widget-view+json": {
              "version_major": 2,
              "version_minor": 0,
              "model_id": "8bc1574438b34e9cb862aa2fdda00cb3"
            }
          },
          "metadata": {}
        },
        {
          "output_type": "display_data",
          "data": {
            "text/plain": [
              "<IPython.core.display.HTML object>"
            ],
            "text/html": [
              "<style>\n",
              "    table.wandb td:nth-child(1) { padding: 0 10px; text-align: left ; width: auto;} td:nth-child(2) {text-align: left ; width: 100%}\n",
              "    .wandb-row { display: flex; flex-direction: row; flex-wrap: wrap; justify-content: flex-start; width: 100% }\n",
              "    .wandb-col { display: flex; flex-direction: column; flex-basis: 100%; flex: 1; padding: 10px; }\n",
              "    </style>\n",
              "<div class=\"wandb-row\"><div class=\"wandb-col\"><h3>Run history:</h3><br/><table class=\"wandb\"><tr><td>accuracy</td><td>▁</td></tr><tr><td>conflict_f1-score</td><td>▁</td></tr><tr><td>conflict_precision</td><td>▁</td></tr><tr><td>conflict_recall</td><td>▁</td></tr><tr><td>no_conflict_f1-score</td><td>▁</td></tr><tr><td>no_conflict_precision</td><td>▁</td></tr><tr><td>no_conflict_recall</td><td>▁</td></tr></table><br/></div><div class=\"wandb-col\"><h3>Run summary:</h3><br/><table class=\"wandb\"><tr><td>accuracy</td><td>0.7</td></tr><tr><td>conflict_f1-score</td><td>0.68966</td></tr><tr><td>conflict_precision</td><td>0.69767</td></tr><tr><td>conflict_recall</td><td>0.68182</td></tr><tr><td>no_conflict_f1-score</td><td>0.70968</td></tr><tr><td>no_conflict_precision</td><td>0.70213</td></tr><tr><td>no_conflict_recall</td><td>0.71739</td></tr></table><br/></div></div>"
            ]
          },
          "metadata": {}
        },
        {
          "output_type": "display_data",
          "data": {
            "text/plain": [
              "<IPython.core.display.HTML object>"
            ],
            "text/html": [
              " View run <strong style=\"color:#cdcd00\">e_0517-1247_audio_eval</strong> at: <a href='https://wandb.ai/lp-ucu/emotion_recognition/runs/2mu2hj4e' target=\"_blank\">https://wandb.ai/lp-ucu/emotion_recognition/runs/2mu2hj4e</a><br/> View project at: <a href='https://wandb.ai/lp-ucu/emotion_recognition' target=\"_blank\">https://wandb.ai/lp-ucu/emotion_recognition</a><br/>Synced 5 W&B file(s), 1 media file(s), 1 artifact file(s) and 0 other file(s)"
            ]
          },
          "metadata": {}
        },
        {
          "output_type": "display_data",
          "data": {
            "text/plain": [
              "<IPython.core.display.HTML object>"
            ],
            "text/html": [
              "Find logs at: <code>./wandb/run-20240517_124707-2mu2hj4e/logs</code>"
            ]
          },
          "metadata": {}
        }
      ]
    },
    {
      "cell_type": "markdown",
      "source": [
        "## mDeBERTa-v3-base-mnli-xnli (transcribe) + smile selected features\n"
      ],
      "metadata": {
        "id": "BXSk9nR0d9uH"
      }
    },
    {
      "cell_type": "markdown",
      "source": [
        "### Early fusion"
      ],
      "metadata": {
        "id": "7Cq_pCEoXCH_"
      }
    },
    {
      "cell_type": "code",
      "source": [
        "wandb_config['model_name'] = \"LR\"\n",
        "wandb_config['framework'] = \"sklearn\"\n",
        "wandb_config['feature_level'] = \"audio+text_transc\"\n",
        "wandb_config['data'] = \"init_full_1h\"\n",
        "wandb_config['feature_set'] = \"mdeberta_smile_selected\"\n",
        "\n",
        "\n",
        "df_file_mdeberta_transc_smile_concat = df_file_smile_func_compare.drop(columns=['start', 'end', 'label'])[selected_feature_names + ['path']].merge(mdeberta_xnli_multi_transc, on='path')\n",
        "\n",
        "clf = make_pipeline(\n",
        "    StandardScaler(),\n",
        "    LogisticRegression(random_state=0),\n",
        ")\n",
        "\n",
        "cross_validation_n_fold(clf, df_file_mdeberta_transc_smile_concat.drop(columns=['path', 'label']),\n",
        "               df_file_mdeberta_transc_smile_concat['label'], wandb_config)"
      ],
      "metadata": {
        "colab": {
          "base_uri": "https://localhost:8080/",
          "height": 1000,
          "referenced_widgets": [
            "e72b8898a76541e8b2767a2345d48456",
            "4dbef47e2ff548c39a582c5bee6791c4",
            "6211f4a0c67f42a0b4f5811c0ee79f85",
            "97aa85863d6c432fba1e33bdb147458a",
            "157720da389641eb91b10261c898e20a",
            "9ed51136573c4237a190ee6de0126622",
            "58a5c67d658c49e1b6172dd4dd3fd67d",
            "4c84396b73c446408dea3eb08755179b"
          ]
        },
        "id": "n1cybN2vb6OS",
        "outputId": "2e3af007-50b1-4b82-8fb1-9e11fe05b3e1"
      },
      "execution_count": 96,
      "outputs": [
        {
          "output_type": "display_data",
          "data": {
            "text/plain": [
              "<IPython.core.display.HTML object>"
            ],
            "text/html": [
              "Tracking run with wandb version 0.17.0"
            ]
          },
          "metadata": {}
        },
        {
          "output_type": "display_data",
          "data": {
            "text/plain": [
              "<IPython.core.display.HTML object>"
            ],
            "text/html": [
              "Run data is saved locally in <code>/content/wandb/run-20240517_083759-50yneezj</code>"
            ]
          },
          "metadata": {}
        },
        {
          "output_type": "display_data",
          "data": {
            "text/plain": [
              "<IPython.core.display.HTML object>"
            ],
            "text/html": [
              "Syncing run <strong><a href='https://wandb.ai/lp-ucu/emotion_recognition/runs/50yneezj' target=\"_blank\">e_0517-0837_audio_eval</a></strong> to <a href='https://wandb.ai/lp-ucu/emotion_recognition' target=\"_blank\">Weights & Biases</a> (<a href='https://wandb.me/run' target=\"_blank\">docs</a>)<br/>"
            ]
          },
          "metadata": {}
        },
        {
          "output_type": "display_data",
          "data": {
            "text/plain": [
              "<IPython.core.display.HTML object>"
            ],
            "text/html": [
              " View project at <a href='https://wandb.ai/lp-ucu/emotion_recognition' target=\"_blank\">https://wandb.ai/lp-ucu/emotion_recognition</a>"
            ]
          },
          "metadata": {}
        },
        {
          "output_type": "display_data",
          "data": {
            "text/plain": [
              "<IPython.core.display.HTML object>"
            ],
            "text/html": [
              " View run at <a href='https://wandb.ai/lp-ucu/emotion_recognition/runs/50yneezj' target=\"_blank\">https://wandb.ai/lp-ucu/emotion_recognition/runs/50yneezj</a>"
            ]
          },
          "metadata": {}
        },
        {
          "output_type": "stream",
          "name": "stdout",
          "text": [
            "[[35  9]\n",
            " [ 9 37]]\n"
          ]
        },
        {
          "output_type": "display_data",
          "data": {
            "text/plain": [
              "<Figure size 640x480 with 2 Axes>"
            ],
            "image/png": "[encoded data removed]"
          },
          "metadata": {}
        },
        {
          "output_type": "stream",
          "name": "stdout",
          "text": [
            "              precision    recall  f1-score   support\n",
            "\n",
            "    conflict       0.80      0.80      0.80        44\n",
            " no-conflict       0.80      0.80      0.80        46\n",
            "\n",
            "    accuracy                           0.80        90\n",
            "   macro avg       0.80      0.80      0.80        90\n",
            "weighted avg       0.80      0.80      0.80        90\n",
            "\n"
          ]
        },
        {
          "output_type": "display_data",
          "data": {
            "text/plain": [
              "VBox(children=(Label(value='0.002 MB of 0.002 MB uploaded\\r'), FloatProgress(value=1.0, max=1.0)))"
            ],
            "application/vnd.jupyter.widget-view+json": {
              "version_major": 2,
              "version_minor": 0,
              "model_id": "e72b8898a76541e8b2767a2345d48456"
            }
          },
          "metadata": {}
        },
        {
          "output_type": "display_data",
          "data": {
            "text/plain": [
              "<IPython.core.display.HTML object>"
            ],
            "text/html": [
              "<style>\n",
              "    table.wandb td:nth-child(1) { padding: 0 10px; text-align: left ; width: auto;} td:nth-child(2) {text-align: left ; width: 100%}\n",
              "    .wandb-row { display: flex; flex-direction: row; flex-wrap: wrap; justify-content: flex-start; width: 100% }\n",
              "    .wandb-col { display: flex; flex-direction: column; flex-basis: 100%; flex: 1; padding: 10px; }\n",
              "    </style>\n",
              "<div class=\"wandb-row\"><div class=\"wandb-col\"><h3>Run history:</h3><br/><table class=\"wandb\"><tr><td>accuracy</td><td>▁</td></tr><tr><td>conflict_f1-score</td><td>▁</td></tr><tr><td>conflict_precision</td><td>▁</td></tr><tr><td>conflict_recall</td><td>▁</td></tr><tr><td>no_conflict_f1-score</td><td>▁</td></tr><tr><td>no_conflict_precision</td><td>▁</td></tr><tr><td>no_conflict_recall</td><td>▁</td></tr></table><br/></div><div class=\"wandb-col\"><h3>Run summary:</h3><br/><table class=\"wandb\"><tr><td>accuracy</td><td>0.8</td></tr><tr><td>conflict_f1-score</td><td>0.79545</td></tr><tr><td>conflict_precision</td><td>0.79545</td></tr><tr><td>conflict_recall</td><td>0.79545</td></tr><tr><td>no_conflict_f1-score</td><td>0.80435</td></tr><tr><td>no_conflict_precision</td><td>0.80435</td></tr><tr><td>no_conflict_recall</td><td>0.80435</td></tr></table><br/></div></div>"
            ]
          },
          "metadata": {}
        },
        {
          "output_type": "display_data",
          "data": {
            "text/plain": [
              "<IPython.core.display.HTML object>"
            ],
            "text/html": [
              " View run <strong style=\"color:#cdcd00\">e_0517-0837_audio_eval</strong> at: <a href='https://wandb.ai/lp-ucu/emotion_recognition/runs/50yneezj' target=\"_blank\">https://wandb.ai/lp-ucu/emotion_recognition/runs/50yneezj</a><br/> View project at: <a href='https://wandb.ai/lp-ucu/emotion_recognition' target=\"_blank\">https://wandb.ai/lp-ucu/emotion_recognition</a><br/>Synced 5 W&B file(s), 1 media file(s), 1 artifact file(s) and 0 other file(s)"
            ]
          },
          "metadata": {}
        },
        {
          "output_type": "display_data",
          "data": {
            "text/plain": [
              "<IPython.core.display.HTML object>"
            ],
            "text/html": [
              "Find logs at: <code>./wandb/run-20240517_083759-50yneezj/logs</code>"
            ]
          },
          "metadata": {}
        }
      ]
    },
    {
      "cell_type": "markdown",
      "source": [
        "## mDeBERTa-v3-base-mnli-xnli (transcribe) + wav2vec 300m hs\n",
        "\n"
      ],
      "metadata": {
        "id": "XE-O5l3bDdA9"
      }
    },
    {
      "cell_type": "markdown",
      "source": [
        "### Early fusion"
      ],
      "metadata": {
        "id": "yaEEil7DXGgZ"
      }
    },
    {
      "cell_type": "code",
      "source": [
        "wandb_config['model_name'] = \"LR\"\n",
        "wandb_config['framework'] = \"sklearn\"\n",
        "wandb_config['feature_level'] = \"audio+text_transc\"\n",
        "wandb_config['data'] = \"init_full_1h\"\n",
        "wandb_config['feature_set'] = \"mdeberta_w2v_300_hs\"\n",
        "\n",
        "\n",
        "df_file_mdeberta_transc_w2v_300_concat = df_file_hs_300m.loc[:, \"path\":].merge(mdeberta_xnli_multi_transc, on='path')\n",
        "\n",
        "clf = make_pipeline(\n",
        "    StandardScaler(),\n",
        "    LogisticRegression(random_state=0),\n",
        ")\n",
        "\n",
        "cross_validation_n_fold(clf, df_file_mdeberta_transc_w2v_300_concat.drop(columns=['path', 'label', 'folder']),\n",
        "               df_file_mdeberta_transc_w2v_300_concat['label'], wandb_config)"
      ],
      "metadata": {
        "colab": {
          "base_uri": "https://localhost:8080/",
          "height": 1000,
          "referenced_widgets": [
            "948bc04800f540a7b1abbb2739651b87",
            "4a64c17f909d4ce989195e425ac9911c",
            "ea2b452190eb48e496d0433c3b269396",
            "75807841c4eb40cf8471db0a3c002536",
            "bb6a3a7abf8c44c0aafa468745d02ea2",
            "388b6f5d913f4601be79772628ecaad6",
            "480ea87a3ce54f748523d1be81d1fa9f",
            "1431f1c86e1244fb94d6c94f12b96046"
          ]
        },
        "id": "SmSp5BEReTgW",
        "outputId": "da79f3e6-b1c7-4656-b8b2-7c104e90b6a9"
      },
      "execution_count": 97,
      "outputs": [
        {
          "output_type": "display_data",
          "data": {
            "text/plain": [
              "<IPython.core.display.HTML object>"
            ],
            "text/html": [
              "Tracking run with wandb version 0.17.0"
            ]
          },
          "metadata": {}
        },
        {
          "output_type": "display_data",
          "data": {
            "text/plain": [
              "<IPython.core.display.HTML object>"
            ],
            "text/html": [
              "Run data is saved locally in <code>/content/wandb/run-20240517_084256-31fk6lq5</code>"
            ]
          },
          "metadata": {}
        },
        {
          "output_type": "display_data",
          "data": {
            "text/plain": [
              "<IPython.core.display.HTML object>"
            ],
            "text/html": [
              "Syncing run <strong><a href='https://wandb.ai/lp-ucu/emotion_recognition/runs/31fk6lq5' target=\"_blank\">e_0517-0842_audio_eval</a></strong> to <a href='https://wandb.ai/lp-ucu/emotion_recognition' target=\"_blank\">Weights & Biases</a> (<a href='https://wandb.me/run' target=\"_blank\">docs</a>)<br/>"
            ]
          },
          "metadata": {}
        },
        {
          "output_type": "display_data",
          "data": {
            "text/plain": [
              "<IPython.core.display.HTML object>"
            ],
            "text/html": [
              " View project at <a href='https://wandb.ai/lp-ucu/emotion_recognition' target=\"_blank\">https://wandb.ai/lp-ucu/emotion_recognition</a>"
            ]
          },
          "metadata": {}
        },
        {
          "output_type": "display_data",
          "data": {
            "text/plain": [
              "<IPython.core.display.HTML object>"
            ],
            "text/html": [
              " View run at <a href='https://wandb.ai/lp-ucu/emotion_recognition/runs/31fk6lq5' target=\"_blank\">https://wandb.ai/lp-ucu/emotion_recognition/runs/31fk6lq5</a>"
            ]
          },
          "metadata": {}
        },
        {
          "output_type": "stream",
          "name": "stdout",
          "text": [
            "[[30 14]\n",
            " [14 32]]\n"
          ]
        },
        {
          "output_type": "display_data",
          "data": {
            "text/plain": [
              "<Figure size 640x480 with 2 Axes>"
            ],
            "image/png": "[encoded data removed]"
          },
          "metadata": {}
        },
        {
          "output_type": "stream",
          "name": "stdout",
          "text": [
            "              precision    recall  f1-score   support\n",
            "\n",
            "    conflict       0.68      0.68      0.68        44\n",
            " no-conflict       0.70      0.70      0.70        46\n",
            "\n",
            "    accuracy                           0.69        90\n",
            "   macro avg       0.69      0.69      0.69        90\n",
            "weighted avg       0.69      0.69      0.69        90\n",
            "\n"
          ]
        },
        {
          "output_type": "display_data",
          "data": {
            "text/plain": [
              "VBox(children=(Label(value='0.002 MB of 0.002 MB uploaded\\r'), FloatProgress(value=1.0, max=1.0)))"
            ],
            "application/vnd.jupyter.widget-view+json": {
              "version_major": 2,
              "version_minor": 0,
              "model_id": "948bc04800f540a7b1abbb2739651b87"
            }
          },
          "metadata": {}
        },
        {
          "output_type": "display_data",
          "data": {
            "text/plain": [
              "<IPython.core.display.HTML object>"
            ],
            "text/html": [
              "<style>\n",
              "    table.wandb td:nth-child(1) { padding: 0 10px; text-align: left ; width: auto;} td:nth-child(2) {text-align: left ; width: 100%}\n",
              "    .wandb-row { display: flex; flex-direction: row; flex-wrap: wrap; justify-content: flex-start; width: 100% }\n",
              "    .wandb-col { display: flex; flex-direction: column; flex-basis: 100%; flex: 1; padding: 10px; }\n",
              "    </style>\n",
              "<div class=\"wandb-row\"><div class=\"wandb-col\"><h3>Run history:</h3><br/><table class=\"wandb\"><tr><td>accuracy</td><td>▁</td></tr><tr><td>conflict_f1-score</td><td>▁</td></tr><tr><td>conflict_precision</td><td>▁</td></tr><tr><td>conflict_recall</td><td>▁</td></tr><tr><td>no_conflict_f1-score</td><td>▁</td></tr><tr><td>no_conflict_precision</td><td>▁</td></tr><tr><td>no_conflict_recall</td><td>▁</td></tr></table><br/></div><div class=\"wandb-col\"><h3>Run summary:</h3><br/><table class=\"wandb\"><tr><td>accuracy</td><td>0.68889</td></tr><tr><td>conflict_f1-score</td><td>0.68182</td></tr><tr><td>conflict_precision</td><td>0.68182</td></tr><tr><td>conflict_recall</td><td>0.68182</td></tr><tr><td>no_conflict_f1-score</td><td>0.69565</td></tr><tr><td>no_conflict_precision</td><td>0.69565</td></tr><tr><td>no_conflict_recall</td><td>0.69565</td></tr></table><br/></div></div>"
            ]
          },
          "metadata": {}
        },
        {
          "output_type": "display_data",
          "data": {
            "text/plain": [
              "<IPython.core.display.HTML object>"
            ],
            "text/html": [
              " View run <strong style=\"color:#cdcd00\">e_0517-0842_audio_eval</strong> at: <a href='https://wandb.ai/lp-ucu/emotion_recognition/runs/31fk6lq5' target=\"_blank\">https://wandb.ai/lp-ucu/emotion_recognition/runs/31fk6lq5</a><br/> View project at: <a href='https://wandb.ai/lp-ucu/emotion_recognition' target=\"_blank\">https://wandb.ai/lp-ucu/emotion_recognition</a><br/>Synced 5 W&B file(s), 1 media file(s), 1 artifact file(s) and 0 other file(s)"
            ]
          },
          "metadata": {}
        },
        {
          "output_type": "display_data",
          "data": {
            "text/plain": [
              "<IPython.core.display.HTML object>"
            ],
            "text/html": [
              "Find logs at: <code>./wandb/run-20240517_084256-31fk6lq5/logs</code>"
            ]
          },
          "metadata": {}
        }
      ]
    },
    {
      "cell_type": "markdown",
      "source": [
        "## mDeBERTa-v3-base-mnli-xnli (transcribe) + wav2vec 300m CNN features"
      ],
      "metadata": {
        "id": "HjrVPX3iexGr"
      }
    },
    {
      "cell_type": "markdown",
      "source": [
        "### Early fusion"
      ],
      "metadata": {
        "id": "ayMvN7p1XR24"
      }
    },
    {
      "cell_type": "code",
      "source": [
        "wandb_config['model_name'] = \"LR\"\n",
        "wandb_config['framework'] = \"sklearn\"\n",
        "wandb_config['feature_level'] = \"audio+text_transc\"\n",
        "wandb_config['data'] = \"init_full_1h\"\n",
        "wandb_config['feature_set'] = \"mdeberta_w2v_300_ef\"\n",
        "\n",
        "df_file_mdeberta_transc_w2v_300_concat_ef = df_file_ef_300m.loc[:, \"path\":].merge(mdeberta_xnli_multi_transc, on='path')\n",
        "\n",
        "clf = make_pipeline(\n",
        "    StandardScaler(),\n",
        "    LogisticRegression(random_state=0),\n",
        ")\n",
        "\n",
        "cross_validation_n_fold(clf, df_file_mdeberta_transc_w2v_300_concat_ef.drop(columns=['path', 'label', 'folder']),\n",
        "               df_file_mdeberta_transc_w2v_300_concat_ef['label'], wandb_config)"
      ],
      "metadata": {
        "colab": {
          "base_uri": "https://localhost:8080/",
          "height": 1000,
          "referenced_widgets": [
            "596ffcbca5a842b4a9c73604ff8d190a",
            "ebe85dfa814c4ec3b75d09488cbbadf8",
            "1a35b694ddb0408faed1af7a52d3b5d5",
            "6a070062bcaa4efdbeb333848e6b0f35",
            "d505f406ae3343e6b085dbea47843e15",
            "7d5c365f852f4cf5966c451fdcda00cd",
            "895b5282d93e49dc9531b76273b526d4",
            "4c5a82ab993c4779af4581acf6b73ae9"
          ]
        },
        "id": "pN2UjRCWeiRI",
        "outputId": "8d1c8636-7c78-482a-8efc-bfc6bced62bb"
      },
      "execution_count": 99,
      "outputs": [
        {
          "output_type": "display_data",
          "data": {
            "text/plain": [
              "<IPython.core.display.HTML object>"
            ],
            "text/html": [
              "Tracking run with wandb version 0.17.0"
            ]
          },
          "metadata": {}
        },
        {
          "output_type": "display_data",
          "data": {
            "text/plain": [
              "<IPython.core.display.HTML object>"
            ],
            "text/html": [
              "Run data is saved locally in <code>/content/wandb/run-20240517_084331-ezl00oks</code>"
            ]
          },
          "metadata": {}
        },
        {
          "output_type": "display_data",
          "data": {
            "text/plain": [
              "<IPython.core.display.HTML object>"
            ],
            "text/html": [
              "Syncing run <strong><a href='https://wandb.ai/lp-ucu/emotion_recognition/runs/ezl00oks' target=\"_blank\">e_0517-0843_audio_eval</a></strong> to <a href='https://wandb.ai/lp-ucu/emotion_recognition' target=\"_blank\">Weights & Biases</a> (<a href='https://wandb.me/run' target=\"_blank\">docs</a>)<br/>"
            ]
          },
          "metadata": {}
        },
        {
          "output_type": "display_data",
          "data": {
            "text/plain": [
              "<IPython.core.display.HTML object>"
            ],
            "text/html": [
              " View project at <a href='https://wandb.ai/lp-ucu/emotion_recognition' target=\"_blank\">https://wandb.ai/lp-ucu/emotion_recognition</a>"
            ]
          },
          "metadata": {}
        },
        {
          "output_type": "display_data",
          "data": {
            "text/plain": [
              "<IPython.core.display.HTML object>"
            ],
            "text/html": [
              " View run at <a href='https://wandb.ai/lp-ucu/emotion_recognition/runs/ezl00oks' target=\"_blank\">https://wandb.ai/lp-ucu/emotion_recognition/runs/ezl00oks</a>"
            ]
          },
          "metadata": {}
        },
        {
          "output_type": "stream",
          "name": "stdout",
          "text": [
            "[[33 11]\n",
            " [15 31]]\n"
          ]
        },
        {
          "output_type": "display_data",
          "data": {
            "text/plain": [
              "<Figure size 640x480 with 2 Axes>"
            ],
            "image/png": "[encoded data removed]"
          },
          "metadata": {}
        },
        {
          "output_type": "stream",
          "name": "stdout",
          "text": [
            "              precision    recall  f1-score   support\n",
            "\n",
            "    conflict       0.69      0.75      0.72        44\n",
            " no-conflict       0.74      0.67      0.70        46\n",
            "\n",
            "    accuracy                           0.71        90\n",
            "   macro avg       0.71      0.71      0.71        90\n",
            "weighted avg       0.71      0.71      0.71        90\n",
            "\n"
          ]
        },
        {
          "output_type": "display_data",
          "data": {
            "text/plain": [
              "VBox(children=(Label(value='0.002 MB of 0.002 MB uploaded\\r'), FloatProgress(value=1.0, max=1.0)))"
            ],
            "application/vnd.jupyter.widget-view+json": {
              "version_major": 2,
              "version_minor": 0,
              "model_id": "596ffcbca5a842b4a9c73604ff8d190a"
            }
          },
          "metadata": {}
        },
        {
          "output_type": "display_data",
          "data": {
            "text/plain": [
              "<IPython.core.display.HTML object>"
            ],
            "text/html": [
              "<style>\n",
              "    table.wandb td:nth-child(1) { padding: 0 10px; text-align: left ; width: auto;} td:nth-child(2) {text-align: left ; width: 100%}\n",
              "    .wandb-row { display: flex; flex-direction: row; flex-wrap: wrap; justify-content: flex-start; width: 100% }\n",
              "    .wandb-col { display: flex; flex-direction: column; flex-basis: 100%; flex: 1; padding: 10px; }\n",
              "    </style>\n",
              "<div class=\"wandb-row\"><div class=\"wandb-col\"><h3>Run history:</h3><br/><table class=\"wandb\"><tr><td>accuracy</td><td>▁</td></tr><tr><td>conflict_f1-score</td><td>▁</td></tr><tr><td>conflict_precision</td><td>▁</td></tr><tr><td>conflict_recall</td><td>▁</td></tr><tr><td>no_conflict_f1-score</td><td>▁</td></tr><tr><td>no_conflict_precision</td><td>▁</td></tr><tr><td>no_conflict_recall</td><td>▁</td></tr></table><br/></div><div class=\"wandb-col\"><h3>Run summary:</h3><br/><table class=\"wandb\"><tr><td>accuracy</td><td>0.71111</td></tr><tr><td>conflict_f1-score</td><td>0.71739</td></tr><tr><td>conflict_precision</td><td>0.6875</td></tr><tr><td>conflict_recall</td><td>0.75</td></tr><tr><td>no_conflict_f1-score</td><td>0.70455</td></tr><tr><td>no_conflict_precision</td><td>0.7381</td></tr><tr><td>no_conflict_recall</td><td>0.67391</td></tr></table><br/></div></div>"
            ]
          },
          "metadata": {}
        },
        {
          "output_type": "display_data",
          "data": {
            "text/plain": [
              "<IPython.core.display.HTML object>"
            ],
            "text/html": [
              " View run <strong style=\"color:#cdcd00\">e_0517-0843_audio_eval</strong> at: <a href='https://wandb.ai/lp-ucu/emotion_recognition/runs/ezl00oks' target=\"_blank\">https://wandb.ai/lp-ucu/emotion_recognition/runs/ezl00oks</a><br/> View project at: <a href='https://wandb.ai/lp-ucu/emotion_recognition' target=\"_blank\">https://wandb.ai/lp-ucu/emotion_recognition</a><br/>Synced 5 W&B file(s), 1 media file(s), 1 artifact file(s) and 0 other file(s)"
            ]
          },
          "metadata": {}
        },
        {
          "output_type": "display_data",
          "data": {
            "text/plain": [
              "<IPython.core.display.HTML object>"
            ],
            "text/html": [
              "Find logs at: <code>./wandb/run-20240517_084331-ezl00oks/logs</code>"
            ]
          },
          "metadata": {}
        }
      ]
    },
    {
      "cell_type": "markdown",
      "source": [
        "### Late fusion"
      ],
      "metadata": {
        "id": "qoOXygv8nZA7"
      }
    },
    {
      "cell_type": "code",
      "source": [
        "wandb_config['model_name'] = \"LR\"\n",
        "wandb_config['framework'] = \"sklearn\"\n",
        "wandb_config['feature_level'] = \"audio+text\"\n",
        "wandb_config['data'] = \"init_full_1h\"\n",
        "wandb_config['feature_set'] = \"mdeberta_w2v_300_ef\"\n",
        "wandb_config['fusion'] = \"late_lr\"\n",
        "\n",
        "clf1 = make_pipeline(\n",
        "    StandardScaler(),\n",
        "    LogisticRegression(random_state=0),\n",
        ")\n",
        "\n",
        "clf2 = make_pipeline(\n",
        "    StandardScaler(),\n",
        "    LogisticRegression(random_state=0),\n",
        ")\n",
        "\n",
        "cross_validation_n_fold_ensemble(clf1, clf2, df_file_ef_300m.loc[:, \"ef_0\":],\n",
        "                                  mdeberta_xnli_multi_transc.drop(columns=['label', 'path']),\n",
        "                                  mdeberta_xnli_multi_transc['label'], wandb_config)\n",
        "\n"
      ],
      "metadata": {
        "colab": {
          "base_uri": "https://localhost:8080/",
          "height": 1000,
          "referenced_widgets": [
            "c3aec3d8448a4564b972564480ffb7ae",
            "da98d6878a254dbbbbc5d4b814dd7d9b",
            "cbc67bea2bea4a629d41b19d0262d846",
            "8e0b44abd71244fcb6d26638cce3661a",
            "56249c88715947cc97b2c0116a2e7d7a",
            "10d1a668255949fe9fda0e2cfde2834a",
            "0596861ac2c7457cabf621d2531b3913",
            "e022f21644c54dfc83091ed846b54efe"
          ]
        },
        "id": "bCJp-n9GlnA8",
        "outputId": "c1e88e19-8df0-4e63-a37b-3ec163efe66d"
      },
      "execution_count": 201,
      "outputs": [
        {
          "output_type": "display_data",
          "data": {
            "text/plain": [
              "<IPython.core.display.HTML object>"
            ],
            "text/html": [
              "Tracking run with wandb version 0.17.0"
            ]
          },
          "metadata": {}
        },
        {
          "output_type": "display_data",
          "data": {
            "text/plain": [
              "<IPython.core.display.HTML object>"
            ],
            "text/html": [
              "Run data is saved locally in <code>/content/wandb/run-20240517_125241-q8e6suic</code>"
            ]
          },
          "metadata": {}
        },
        {
          "output_type": "display_data",
          "data": {
            "text/plain": [
              "<IPython.core.display.HTML object>"
            ],
            "text/html": [
              "Syncing run <strong><a href='https://wandb.ai/lp-ucu/emotion_recognition/runs/q8e6suic' target=\"_blank\">e_0517-1252_audio_eval</a></strong> to <a href='https://wandb.ai/lp-ucu/emotion_recognition' target=\"_blank\">Weights & Biases</a> (<a href='https://wandb.me/run' target=\"_blank\">docs</a>)<br/>"
            ]
          },
          "metadata": {}
        },
        {
          "output_type": "display_data",
          "data": {
            "text/plain": [
              "<IPython.core.display.HTML object>"
            ],
            "text/html": [
              " View project at <a href='https://wandb.ai/lp-ucu/emotion_recognition' target=\"_blank\">https://wandb.ai/lp-ucu/emotion_recognition</a>"
            ]
          },
          "metadata": {}
        },
        {
          "output_type": "display_data",
          "data": {
            "text/plain": [
              "<IPython.core.display.HTML object>"
            ],
            "text/html": [
              " View run at <a href='https://wandb.ai/lp-ucu/emotion_recognition/runs/q8e6suic' target=\"_blank\">https://wandb.ai/lp-ucu/emotion_recognition/runs/q8e6suic</a>"
            ]
          },
          "metadata": {}
        },
        {
          "output_type": "stream",
          "name": "stdout",
          "text": [
            "[[31 13]\n",
            " [14 32]]\n"
          ]
        },
        {
          "output_type": "display_data",
          "data": {
            "text/plain": [
              "<Figure size 640x480 with 2 Axes>"
            ],
            "image/png": "[encoded data removed]"
          },
          "metadata": {}
        },
        {
          "output_type": "stream",
          "name": "stdout",
          "text": [
            "              precision    recall  f1-score   support\n",
            "\n",
            "    conflict       0.69      0.70      0.70        44\n",
            " no-conflict       0.71      0.70      0.70        46\n",
            "\n",
            "    accuracy                           0.70        90\n",
            "   macro avg       0.70      0.70      0.70        90\n",
            "weighted avg       0.70      0.70      0.70        90\n",
            "\n"
          ]
        },
        {
          "output_type": "display_data",
          "data": {
            "text/plain": [
              "VBox(children=(Label(value='0.002 MB of 0.002 MB uploaded\\r'), FloatProgress(value=1.0, max=1.0)))"
            ],
            "application/vnd.jupyter.widget-view+json": {
              "version_major": 2,
              "version_minor": 0,
              "model_id": "c3aec3d8448a4564b972564480ffb7ae"
            }
          },
          "metadata": {}
        },
        {
          "output_type": "display_data",
          "data": {
            "text/plain": [
              "<IPython.core.display.HTML object>"
            ],
            "text/html": [
              "<style>\n",
              "    table.wandb td:nth-child(1) { padding: 0 10px; text-align: left ; width: auto;} td:nth-child(2) {text-align: left ; width: 100%}\n",
              "    .wandb-row { display: flex; flex-direction: row; flex-wrap: wrap; justify-content: flex-start; width: 100% }\n",
              "    .wandb-col { display: flex; flex-direction: column; flex-basis: 100%; flex: 1; padding: 10px; }\n",
              "    </style>\n",
              "<div class=\"wandb-row\"><div class=\"wandb-col\"><h3>Run history:</h3><br/><table class=\"wandb\"><tr><td>accuracy</td><td>▁</td></tr><tr><td>conflict_f1-score</td><td>▁</td></tr><tr><td>conflict_precision</td><td>▁</td></tr><tr><td>conflict_recall</td><td>▁</td></tr><tr><td>no_conflict_f1-score</td><td>▁</td></tr><tr><td>no_conflict_precision</td><td>▁</td></tr><tr><td>no_conflict_recall</td><td>▁</td></tr></table><br/></div><div class=\"wandb-col\"><h3>Run summary:</h3><br/><table class=\"wandb\"><tr><td>accuracy</td><td>0.7</td></tr><tr><td>conflict_f1-score</td><td>0.69663</td></tr><tr><td>conflict_precision</td><td>0.68889</td></tr><tr><td>conflict_recall</td><td>0.70455</td></tr><tr><td>no_conflict_f1-score</td><td>0.7033</td></tr><tr><td>no_conflict_precision</td><td>0.71111</td></tr><tr><td>no_conflict_recall</td><td>0.69565</td></tr></table><br/></div></div>"
            ]
          },
          "metadata": {}
        },
        {
          "output_type": "display_data",
          "data": {
            "text/plain": [
              "<IPython.core.display.HTML object>"
            ],
            "text/html": [
              " View run <strong style=\"color:#cdcd00\">e_0517-1252_audio_eval</strong> at: <a href='https://wandb.ai/lp-ucu/emotion_recognition/runs/q8e6suic' target=\"_blank\">https://wandb.ai/lp-ucu/emotion_recognition/runs/q8e6suic</a><br/> View project at: <a href='https://wandb.ai/lp-ucu/emotion_recognition' target=\"_blank\">https://wandb.ai/lp-ucu/emotion_recognition</a><br/>Synced 5 W&B file(s), 1 media file(s), 1 artifact file(s) and 0 other file(s)"
            ]
          },
          "metadata": {}
        },
        {
          "output_type": "display_data",
          "data": {
            "text/plain": [
              "<IPython.core.display.HTML object>"
            ],
            "text/html": [
              "Find logs at: <code>./wandb/run-20240517_125241-q8e6suic/logs</code>"
            ]
          },
          "metadata": {}
        }
      ]
    },
    {
      "cell_type": "markdown",
      "source": [
        "## mDeBERTa-v3-base-mnli-xnli (transcribe) + wav2vec 1b hs"
      ],
      "metadata": {
        "id": "2cL75IkjfBBU"
      }
    },
    {
      "cell_type": "markdown",
      "source": [
        "### Early fusion"
      ],
      "metadata": {
        "id": "fBsxHt5CXXnL"
      }
    },
    {
      "cell_type": "code",
      "source": [
        "wandb_config['model_name'] = \"LR\"\n",
        "wandb_config['framework'] = \"sklearn\"\n",
        "wandb_config['feature_level'] = \"audio+text_transc\"\n",
        "wandb_config['data'] = \"init_full_1h\"\n",
        "wandb_config['feature_set'] = \"mdeberta_w2v_1b_hs\"\n",
        "\n",
        "df_file_mdeberta_transc_w2v_1b_concat = df_file_hs_1b.loc[:, \"path\":].merge(mdeberta_xnli_multi_transc, on='path')\n",
        "\n",
        "clf = make_pipeline(\n",
        "    StandardScaler(),\n",
        "    LogisticRegression(random_state=0),\n",
        ")\n",
        "\n",
        "cross_validation_n_fold(clf, df_file_mdeberta_transc_w2v_1b_concat.drop(columns=['path', 'label', 'folder']),\n",
        "               df_file_mdeberta_transc_w2v_1b_concat['label'], wandb_config)"
      ],
      "metadata": {
        "colab": {
          "base_uri": "https://localhost:8080/",
          "height": 1000,
          "referenced_widgets": [
            "55c586f9e424489f9319ace5bd1b80dd",
            "f35f3c60ba4c4b9ab0f173488f5ec823",
            "9e3b95021e0e40fca01d21d3291d5da6",
            "fd3352a9ea6a4f32a7cc21472a12d57e",
            "ab4ea8034d1745dba41d95b1b2192227",
            "abfa4f11d11341deaa11c48744016229",
            "415befcee3df47c2b28c303fb48390c2",
            "9f835d4d4509484fb7b56f571ed0e674"
          ]
        },
        "id": "16gKr2JRe4Lc",
        "outputId": "82960968-0704-4eca-b60f-0630442f1b1f"
      },
      "execution_count": 100,
      "outputs": [
        {
          "output_type": "display_data",
          "data": {
            "text/plain": [
              "<IPython.core.display.HTML object>"
            ],
            "text/html": [
              "Tracking run with wandb version 0.17.0"
            ]
          },
          "metadata": {}
        },
        {
          "output_type": "display_data",
          "data": {
            "text/plain": [
              "<IPython.core.display.HTML object>"
            ],
            "text/html": [
              "Run data is saved locally in <code>/content/wandb/run-20240517_084359-vp46lsvi</code>"
            ]
          },
          "metadata": {}
        },
        {
          "output_type": "display_data",
          "data": {
            "text/plain": [
              "<IPython.core.display.HTML object>"
            ],
            "text/html": [
              "Syncing run <strong><a href='https://wandb.ai/lp-ucu/emotion_recognition/runs/vp46lsvi' target=\"_blank\">e_0517-0843_audio_eval</a></strong> to <a href='https://wandb.ai/lp-ucu/emotion_recognition' target=\"_blank\">Weights & Biases</a> (<a href='https://wandb.me/run' target=\"_blank\">docs</a>)<br/>"
            ]
          },
          "metadata": {}
        },
        {
          "output_type": "display_data",
          "data": {
            "text/plain": [
              "<IPython.core.display.HTML object>"
            ],
            "text/html": [
              " View project at <a href='https://wandb.ai/lp-ucu/emotion_recognition' target=\"_blank\">https://wandb.ai/lp-ucu/emotion_recognition</a>"
            ]
          },
          "metadata": {}
        },
        {
          "output_type": "display_data",
          "data": {
            "text/plain": [
              "<IPython.core.display.HTML object>"
            ],
            "text/html": [
              " View run at <a href='https://wandb.ai/lp-ucu/emotion_recognition/runs/vp46lsvi' target=\"_blank\">https://wandb.ai/lp-ucu/emotion_recognition/runs/vp46lsvi</a>"
            ]
          },
          "metadata": {}
        },
        {
          "output_type": "stream",
          "name": "stdout",
          "text": [
            "[[30 14]\n",
            " [11 35]]\n"
          ]
        },
        {
          "output_type": "display_data",
          "data": {
            "text/plain": [
              "<Figure size 640x480 with 2 Axes>"
            ],
            "image/png": "[encoded data removed]"
          },
          "metadata": {}
        },
        {
          "output_type": "stream",
          "name": "stdout",
          "text": [
            "              precision    recall  f1-score   support\n",
            "\n",
            "    conflict       0.73      0.68      0.71        44\n",
            " no-conflict       0.71      0.76      0.74        46\n",
            "\n",
            "    accuracy                           0.72        90\n",
            "   macro avg       0.72      0.72      0.72        90\n",
            "weighted avg       0.72      0.72      0.72        90\n",
            "\n"
          ]
        },
        {
          "output_type": "display_data",
          "data": {
            "text/plain": [
              "VBox(children=(Label(value='0.002 MB of 0.002 MB uploaded\\r'), FloatProgress(value=1.0, max=1.0)))"
            ],
            "application/vnd.jupyter.widget-view+json": {
              "version_major": 2,
              "version_minor": 0,
              "model_id": "55c586f9e424489f9319ace5bd1b80dd"
            }
          },
          "metadata": {}
        },
        {
          "output_type": "display_data",
          "data": {
            "text/plain": [
              "<IPython.core.display.HTML object>"
            ],
            "text/html": [
              "<style>\n",
              "    table.wandb td:nth-child(1) { padding: 0 10px; text-align: left ; width: auto;} td:nth-child(2) {text-align: left ; width: 100%}\n",
              "    .wandb-row { display: flex; flex-direction: row; flex-wrap: wrap; justify-content: flex-start; width: 100% }\n",
              "    .wandb-col { display: flex; flex-direction: column; flex-basis: 100%; flex: 1; padding: 10px; }\n",
              "    </style>\n",
              "<div class=\"wandb-row\"><div class=\"wandb-col\"><h3>Run history:</h3><br/><table class=\"wandb\"><tr><td>accuracy</td><td>▁</td></tr><tr><td>conflict_f1-score</td><td>▁</td></tr><tr><td>conflict_precision</td><td>▁</td></tr><tr><td>conflict_recall</td><td>▁</td></tr><tr><td>no_conflict_f1-score</td><td>▁</td></tr><tr><td>no_conflict_precision</td><td>▁</td></tr><tr><td>no_conflict_recall</td><td>▁</td></tr></table><br/></div><div class=\"wandb-col\"><h3>Run summary:</h3><br/><table class=\"wandb\"><tr><td>accuracy</td><td>0.72222</td></tr><tr><td>conflict_f1-score</td><td>0.70588</td></tr><tr><td>conflict_precision</td><td>0.73171</td></tr><tr><td>conflict_recall</td><td>0.68182</td></tr><tr><td>no_conflict_f1-score</td><td>0.73684</td></tr><tr><td>no_conflict_precision</td><td>0.71429</td></tr><tr><td>no_conflict_recall</td><td>0.76087</td></tr></table><br/></div></div>"
            ]
          },
          "metadata": {}
        },
        {
          "output_type": "display_data",
          "data": {
            "text/plain": [
              "<IPython.core.display.HTML object>"
            ],
            "text/html": [
              " View run <strong style=\"color:#cdcd00\">e_0517-0843_audio_eval</strong> at: <a href='https://wandb.ai/lp-ucu/emotion_recognition/runs/vp46lsvi' target=\"_blank\">https://wandb.ai/lp-ucu/emotion_recognition/runs/vp46lsvi</a><br/> View project at: <a href='https://wandb.ai/lp-ucu/emotion_recognition' target=\"_blank\">https://wandb.ai/lp-ucu/emotion_recognition</a><br/>Synced 5 W&B file(s), 1 media file(s), 1 artifact file(s) and 0 other file(s)"
            ]
          },
          "metadata": {}
        },
        {
          "output_type": "display_data",
          "data": {
            "text/plain": [
              "<IPython.core.display.HTML object>"
            ],
            "text/html": [
              "Find logs at: <code>./wandb/run-20240517_084359-vp46lsvi/logs</code>"
            ]
          },
          "metadata": {}
        }
      ]
    },
    {
      "cell_type": "markdown",
      "source": [
        "### Late fusion"
      ],
      "metadata": {
        "id": "bITYwJDlnR2p"
      }
    },
    {
      "cell_type": "code",
      "source": [
        "wandb_config['model_name'] = \"LR\"\n",
        "wandb_config['framework'] = \"sklearn\"\n",
        "wandb_config['feature_level'] = \"audio+text\"\n",
        "wandb_config['data'] = \"init_full_1h\"\n",
        "wandb_config['feature_set'] = \"mdeberta_w2v_1b_hs\"\n",
        "wandb_config['fusion'] = \"late_lr\"\n",
        "\n",
        "clf1 = make_pipeline(\n",
        "    StandardScaler(),\n",
        "    LogisticRegression(random_state=0),\n",
        ")\n",
        "\n",
        "clf2 = make_pipeline(\n",
        "    StandardScaler(),\n",
        "    LogisticRegression(random_state=0),\n",
        ")\n",
        "\n",
        "cross_validation_n_fold_ensemble(clf1, clf2, df_file_hs_1b.loc[:, \"hs_0\":],\n",
        "                                  mdeberta_xnli_multi_transc.drop(columns=['label', 'path']),\n",
        "                                  mdeberta_xnli_multi_transc['label'], wandb_config)\n",
        "\n"
      ],
      "metadata": {
        "colab": {
          "base_uri": "https://localhost:8080/",
          "height": 1000,
          "referenced_widgets": [
            "2cf1eec067494e27b4c47dbbf38445c2",
            "36da4cbd12c64ee1a6302d71a130e014",
            "2a03d22a61e546b99e39b808f2359843",
            "cb4601d1cefd49e7bf287c9b2152c8ed",
            "30f800b9d83543e9a1647f6224e37c59",
            "28fdb2e7d0f14c39b7677d483b324b21",
            "2d19e9830fa64e93b8f0f6f95729e9b8",
            "48c72748add14da7b2a760a08f4951d8"
          ]
        },
        "id": "nvAb9tfXnRlc",
        "outputId": "177b3a9f-f879-435a-d39b-4fdb03806e65"
      },
      "execution_count": 202,
      "outputs": [
        {
          "output_type": "display_data",
          "data": {
            "text/plain": [
              "<IPython.core.display.HTML object>"
            ],
            "text/html": [
              "Tracking run with wandb version 0.17.0"
            ]
          },
          "metadata": {}
        },
        {
          "output_type": "display_data",
          "data": {
            "text/plain": [
              "<IPython.core.display.HTML object>"
            ],
            "text/html": [
              "Run data is saved locally in <code>/content/wandb/run-20240517_125424-d1f986ib</code>"
            ]
          },
          "metadata": {}
        },
        {
          "output_type": "display_data",
          "data": {
            "text/plain": [
              "<IPython.core.display.HTML object>"
            ],
            "text/html": [
              "Syncing run <strong><a href='https://wandb.ai/lp-ucu/emotion_recognition/runs/d1f986ib' target=\"_blank\">e_0517-1254_audio_eval</a></strong> to <a href='https://wandb.ai/lp-ucu/emotion_recognition' target=\"_blank\">Weights & Biases</a> (<a href='https://wandb.me/run' target=\"_blank\">docs</a>)<br/>"
            ]
          },
          "metadata": {}
        },
        {
          "output_type": "display_data",
          "data": {
            "text/plain": [
              "<IPython.core.display.HTML object>"
            ],
            "text/html": [
              " View project at <a href='https://wandb.ai/lp-ucu/emotion_recognition' target=\"_blank\">https://wandb.ai/lp-ucu/emotion_recognition</a>"
            ]
          },
          "metadata": {}
        },
        {
          "output_type": "display_data",
          "data": {
            "text/plain": [
              "<IPython.core.display.HTML object>"
            ],
            "text/html": [
              " View run at <a href='https://wandb.ai/lp-ucu/emotion_recognition/runs/d1f986ib' target=\"_blank\">https://wandb.ai/lp-ucu/emotion_recognition/runs/d1f986ib</a>"
            ]
          },
          "metadata": {}
        },
        {
          "output_type": "stream",
          "name": "stdout",
          "text": [
            "[[33 11]\n",
            " [14 32]]\n"
          ]
        },
        {
          "output_type": "display_data",
          "data": {
            "text/plain": [
              "<Figure size 640x480 with 2 Axes>"
            ],
            "image/png": "[encoded data removed]"
          },
          "metadata": {}
        },
        {
          "output_type": "stream",
          "name": "stdout",
          "text": [
            "              precision    recall  f1-score   support\n",
            "\n",
            "    conflict       0.70      0.75      0.73        44\n",
            " no-conflict       0.74      0.70      0.72        46\n",
            "\n",
            "    accuracy                           0.72        90\n",
            "   macro avg       0.72      0.72      0.72        90\n",
            "weighted avg       0.72      0.72      0.72        90\n",
            "\n"
          ]
        },
        {
          "output_type": "display_data",
          "data": {
            "text/plain": [
              "VBox(children=(Label(value='0.002 MB of 0.002 MB uploaded\\r'), FloatProgress(value=1.0, max=1.0)))"
            ],
            "application/vnd.jupyter.widget-view+json": {
              "version_major": 2,
              "version_minor": 0,
              "model_id": "2cf1eec067494e27b4c47dbbf38445c2"
            }
          },
          "metadata": {}
        },
        {
          "output_type": "display_data",
          "data": {
            "text/plain": [
              "<IPython.core.display.HTML object>"
            ],
            "text/html": [
              "<style>\n",
              "    table.wandb td:nth-child(1) { padding: 0 10px; text-align: left ; width: auto;} td:nth-child(2) {text-align: left ; width: 100%}\n",
              "    .wandb-row { display: flex; flex-direction: row; flex-wrap: wrap; justify-content: flex-start; width: 100% }\n",
              "    .wandb-col { display: flex; flex-direction: column; flex-basis: 100%; flex: 1; padding: 10px; }\n",
              "    </style>\n",
              "<div class=\"wandb-row\"><div class=\"wandb-col\"><h3>Run history:</h3><br/><table class=\"wandb\"><tr><td>accuracy</td><td>▁</td></tr><tr><td>conflict_f1-score</td><td>▁</td></tr><tr><td>conflict_precision</td><td>▁</td></tr><tr><td>conflict_recall</td><td>▁</td></tr><tr><td>no_conflict_f1-score</td><td>▁</td></tr><tr><td>no_conflict_precision</td><td>▁</td></tr><tr><td>no_conflict_recall</td><td>▁</td></tr></table><br/></div><div class=\"wandb-col\"><h3>Run summary:</h3><br/><table class=\"wandb\"><tr><td>accuracy</td><td>0.72222</td></tr><tr><td>conflict_f1-score</td><td>0.72527</td></tr><tr><td>conflict_precision</td><td>0.70213</td></tr><tr><td>conflict_recall</td><td>0.75</td></tr><tr><td>no_conflict_f1-score</td><td>0.7191</td></tr><tr><td>no_conflict_precision</td><td>0.74419</td></tr><tr><td>no_conflict_recall</td><td>0.69565</td></tr></table><br/></div></div>"
            ]
          },
          "metadata": {}
        },
        {
          "output_type": "display_data",
          "data": {
            "text/plain": [
              "<IPython.core.display.HTML object>"
            ],
            "text/html": [
              " View run <strong style=\"color:#cdcd00\">e_0517-1254_audio_eval</strong> at: <a href='https://wandb.ai/lp-ucu/emotion_recognition/runs/d1f986ib' target=\"_blank\">https://wandb.ai/lp-ucu/emotion_recognition/runs/d1f986ib</a><br/> View project at: <a href='https://wandb.ai/lp-ucu/emotion_recognition' target=\"_blank\">https://wandb.ai/lp-ucu/emotion_recognition</a><br/>Synced 5 W&B file(s), 1 media file(s), 1 artifact file(s) and 0 other file(s)"
            ]
          },
          "metadata": {}
        },
        {
          "output_type": "display_data",
          "data": {
            "text/plain": [
              "<IPython.core.display.HTML object>"
            ],
            "text/html": [
              "Find logs at: <code>./wandb/run-20240517_125424-d1f986ib/logs</code>"
            ]
          },
          "metadata": {}
        }
      ]
    },
    {
      "cell_type": "code",
      "source": [
        "mdeberta_xnli_multi_transc.filter(regex='hs').shape[1]"
      ],
      "metadata": {
        "colab": {
          "base_uri": "https://localhost:8080/"
        },
        "id": "7lT-e6ztoEbX",
        "outputId": "bd7c19ba-ab64-40c4-f292-03b660771597"
      },
      "execution_count": 214,
      "outputs": [
        {
          "output_type": "execute_result",
          "data": {
            "text/plain": [
              "(90, 768)"
            ]
          },
          "metadata": {},
          "execution_count": 214
        }
      ]
    },
    {
      "cell_type": "code",
      "source": [
        "model = LateFusionFC(mdeberta_xnli_multi_transc.filter(regex='hs').shape[1],\n",
        "                     df_file_hs_1b.filter(regex='hs').shape[1],\n",
        "                     output_dim=2)\n",
        "\n",
        "optimizer = torch.optim.Adam(model.parameters(), lr=0.0003)\n",
        "criterion = nn.CrossEntropyLoss()\n",
        "k = 5\n",
        "\n",
        "\n",
        "X = torch.tensor(roberta_pipline_twitter_out_eng_df.drop(columns=['path', 'label']).astype('float32').values)\n",
        "y = torch.tensor(roberta_pipline_twitter_out_eng_df['label'].factorize()[0])\n",
        "\n",
        "\n",
        "cv_train_losses, cv_val_losses, cv_train_accs, cv_val_accs = kfold_cv(model.to('cpu'), X.to('cpu'), y.to('cpu'), k,\n",
        "                                                                      embedding_dim, optimizer, criterion, num_epochs=6,\n",
        "                                                                      batch_size=4)\n"
      ],
      "metadata": {
        "id": "K-umdgMJn20D"
      },
      "execution_count": null,
      "outputs": []
    },
    {
      "cell_type": "markdown",
      "source": [
        "## mDeBERTa-v3-base-mnli-xnli (transcribe) + wav2vec 1b CNN features"
      ],
      "metadata": {
        "id": "le51J8-bfPwn"
      }
    },
    {
      "cell_type": "code",
      "source": [
        "wandb_config['model_name'] = \"LR\"\n",
        "wandb_config['framework'] = \"sklearn\"\n",
        "wandb_config['feature_level'] = \"audio+text_transc\"\n",
        "wandb_config['data'] = \"init_full_1h\"\n",
        "wandb_config['feature_set'] = \"mdeberta_w2v_1b_ef\"\n",
        "\n",
        "df_file_mdeberta_transc_w2v_1b_concat_ef = df_file_ef_1b.loc[:, \"path\":].merge(mdeberta_xnli_multi_transc, on='path')\n",
        "\n",
        "clf = make_pipeline(\n",
        "    StandardScaler(),\n",
        "    LogisticRegression(random_state=0),\n",
        ")\n",
        "\n",
        "cross_validation_n_fold(clf, df_file_mdeberta_transc_w2v_1b_concat_ef.drop(columns=['path', 'label', 'folder']),\n",
        "               df_file_mdeberta_transc_w2v_1b_concat_ef['label'], wandb_config)"
      ],
      "metadata": {
        "colab": {
          "base_uri": "https://localhost:8080/",
          "height": 1000,
          "referenced_widgets": [
            "eaf5e2a329f44fabbf124bf2555f671d",
            "514ccf99f5fa49f493e5108a0624a72d",
            "c5960d4943c84347beddbe5999d77e1d",
            "7c5fe1ba1a5b45de99e02820b9381e5a",
            "dd6995ab657d406fae4d99ac10afb391",
            "322f4809ab4b43109ecd1ff2f6ae30f0",
            "3256875e109f40c893a9ebb3430fdd6e",
            "ade89c2dea3f4ed59bd58a0526d159ee",
            "c18ebe6a6ba8459db767091c70ec5499",
            "ca9154db18954db889c69852f975051b",
            "d7d694740ec6453a8aa6b2560a0fecbb",
            "de5c760504354cbe93af2118c5b6d3e8",
            "93148199841c4c82a0ed42ec79f8211c",
            "c1da49fa171f46f4b0373d4f3d756e55",
            "c55a9ec09ba44961be03f3ad0f1fa033",
            "6db9d87cdc46425085a96e2d5c100343"
          ]
        },
        "id": "5Fca9T2jfKt5",
        "outputId": "89bd83be-898e-4cf3-9f14-a19294791126"
      },
      "execution_count": 210,
      "outputs": [
        {
          "output_type": "display_data",
          "data": {
            "text/plain": [
              "<IPython.core.display.HTML object>"
            ],
            "text/html": [
              "Finishing last run (ID:qc00b1zu) before initializing another..."
            ]
          },
          "metadata": {}
        },
        {
          "output_type": "display_data",
          "data": {
            "text/plain": [
              "VBox(children=(Label(value='0.001 MB of 0.001 MB uploaded\\r'), FloatProgress(value=1.0, max=1.0)))"
            ],
            "application/vnd.jupyter.widget-view+json": {
              "version_major": 2,
              "version_minor": 0,
              "model_id": "eaf5e2a329f44fabbf124bf2555f671d"
            }
          },
          "metadata": {}
        },
        {
          "output_type": "display_data",
          "data": {
            "text/plain": [
              "<IPython.core.display.HTML object>"
            ],
            "text/html": [
              " View run <strong style=\"color:#cdcd00\">e_0517-1257_audio_eval</strong> at: <a href='https://wandb.ai/lp-ucu/emotion_recognition/runs/qc00b1zu' target=\"_blank\">https://wandb.ai/lp-ucu/emotion_recognition/runs/qc00b1zu</a><br/> View project at: <a href='https://wandb.ai/lp-ucu/emotion_recognition' target=\"_blank\">https://wandb.ai/lp-ucu/emotion_recognition</a><br/>Synced 4 W&B file(s), 0 media file(s), 0 artifact file(s) and 0 other file(s)"
            ]
          },
          "metadata": {}
        },
        {
          "output_type": "display_data",
          "data": {
            "text/plain": [
              "<IPython.core.display.HTML object>"
            ],
            "text/html": [
              "Find logs at: <code>./wandb/run-20240517_125733-qc00b1zu/logs</code>"
            ]
          },
          "metadata": {}
        },
        {
          "output_type": "display_data",
          "data": {
            "text/plain": [
              "<IPython.core.display.HTML object>"
            ],
            "text/html": [
              "Successfully finished last run (ID:qc00b1zu). Initializing new run:<br/>"
            ]
          },
          "metadata": {}
        },
        {
          "output_type": "display_data",
          "data": {
            "text/plain": [
              "<IPython.core.display.HTML object>"
            ],
            "text/html": [
              "Tracking run with wandb version 0.17.0"
            ]
          },
          "metadata": {}
        },
        {
          "output_type": "display_data",
          "data": {
            "text/plain": [
              "<IPython.core.display.HTML object>"
            ],
            "text/html": [
              "Run data is saved locally in <code>/content/wandb/run-20240517_125907-n2wkyquo</code>"
            ]
          },
          "metadata": {}
        },
        {
          "output_type": "display_data",
          "data": {
            "text/plain": [
              "<IPython.core.display.HTML object>"
            ],
            "text/html": [
              "Syncing run <strong><a href='https://wandb.ai/lp-ucu/emotion_recognition/runs/n2wkyquo' target=\"_blank\">e_0517-1259_audio_eval</a></strong> to <a href='https://wandb.ai/lp-ucu/emotion_recognition' target=\"_blank\">Weights & Biases</a> (<a href='https://wandb.me/run' target=\"_blank\">docs</a>)<br/>"
            ]
          },
          "metadata": {}
        },
        {
          "output_type": "display_data",
          "data": {
            "text/plain": [
              "<IPython.core.display.HTML object>"
            ],
            "text/html": [
              " View project at <a href='https://wandb.ai/lp-ucu/emotion_recognition' target=\"_blank\">https://wandb.ai/lp-ucu/emotion_recognition</a>"
            ]
          },
          "metadata": {}
        },
        {
          "output_type": "display_data",
          "data": {
            "text/plain": [
              "<IPython.core.display.HTML object>"
            ],
            "text/html": [
              " View run at <a href='https://wandb.ai/lp-ucu/emotion_recognition/runs/n2wkyquo' target=\"_blank\">https://wandb.ai/lp-ucu/emotion_recognition/runs/n2wkyquo</a>"
            ]
          },
          "metadata": {}
        },
        {
          "output_type": "stream",
          "name": "stdout",
          "text": [
            "[[33 11]\n",
            " [15 31]]\n"
          ]
        },
        {
          "output_type": "display_data",
          "data": {
            "text/plain": [
              "<Figure size 640x480 with 2 Axes>"
            ],
            "image/png": "[encoded data removed]"
          },
          "metadata": {}
        },
        {
          "output_type": "stream",
          "name": "stdout",
          "text": [
            "              precision    recall  f1-score   support\n",
            "\n",
            "    conflict       0.69      0.75      0.72        44\n",
            " no-conflict       0.74      0.67      0.70        46\n",
            "\n",
            "    accuracy                           0.71        90\n",
            "   macro avg       0.71      0.71      0.71        90\n",
            "weighted avg       0.71      0.71      0.71        90\n",
            "\n"
          ]
        },
        {
          "output_type": "display_data",
          "data": {
            "text/plain": [
              "VBox(children=(Label(value='0.002 MB of 0.002 MB uploaded\\r'), FloatProgress(value=1.0, max=1.0)))"
            ],
            "application/vnd.jupyter.widget-view+json": {
              "version_major": 2,
              "version_minor": 0,
              "model_id": "c18ebe6a6ba8459db767091c70ec5499"
            }
          },
          "metadata": {}
        },
        {
          "output_type": "display_data",
          "data": {
            "text/plain": [
              "<IPython.core.display.HTML object>"
            ],
            "text/html": [
              "<style>\n",
              "    table.wandb td:nth-child(1) { padding: 0 10px; text-align: left ; width: auto;} td:nth-child(2) {text-align: left ; width: 100%}\n",
              "    .wandb-row { display: flex; flex-direction: row; flex-wrap: wrap; justify-content: flex-start; width: 100% }\n",
              "    .wandb-col { display: flex; flex-direction: column; flex-basis: 100%; flex: 1; padding: 10px; }\n",
              "    </style>\n",
              "<div class=\"wandb-row\"><div class=\"wandb-col\"><h3>Run history:</h3><br/><table class=\"wandb\"><tr><td>accuracy</td><td>▁</td></tr><tr><td>conflict_f1-score</td><td>▁</td></tr><tr><td>conflict_precision</td><td>▁</td></tr><tr><td>conflict_recall</td><td>▁</td></tr><tr><td>no_conflict_f1-score</td><td>▁</td></tr><tr><td>no_conflict_precision</td><td>▁</td></tr><tr><td>no_conflict_recall</td><td>▁</td></tr></table><br/></div><div class=\"wandb-col\"><h3>Run summary:</h3><br/><table class=\"wandb\"><tr><td>accuracy</td><td>0.71111</td></tr><tr><td>conflict_f1-score</td><td>0.71739</td></tr><tr><td>conflict_precision</td><td>0.6875</td></tr><tr><td>conflict_recall</td><td>0.75</td></tr><tr><td>no_conflict_f1-score</td><td>0.70455</td></tr><tr><td>no_conflict_precision</td><td>0.7381</td></tr><tr><td>no_conflict_recall</td><td>0.67391</td></tr></table><br/></div></div>"
            ]
          },
          "metadata": {}
        },
        {
          "output_type": "display_data",
          "data": {
            "text/plain": [
              "<IPython.core.display.HTML object>"
            ],
            "text/html": [
              " View run <strong style=\"color:#cdcd00\">e_0517-1259_audio_eval</strong> at: <a href='https://wandb.ai/lp-ucu/emotion_recognition/runs/n2wkyquo' target=\"_blank\">https://wandb.ai/lp-ucu/emotion_recognition/runs/n2wkyquo</a><br/> View project at: <a href='https://wandb.ai/lp-ucu/emotion_recognition' target=\"_blank\">https://wandb.ai/lp-ucu/emotion_recognition</a><br/>Synced 5 W&B file(s), 1 media file(s), 1 artifact file(s) and 0 other file(s)"
            ]
          },
          "metadata": {}
        },
        {
          "output_type": "display_data",
          "data": {
            "text/plain": [
              "<IPython.core.display.HTML object>"
            ],
            "text/html": [
              "Find logs at: <code>./wandb/run-20240517_125907-n2wkyquo/logs</code>"
            ]
          },
          "metadata": {}
        }
      ]
    },
    {
      "cell_type": "code",
      "source": [],
      "metadata": {
        "id": "6YcfOiIKnttf"
      },
      "execution_count": null,
      "outputs": []
    },
    {
      "cell_type": "markdown",
      "source": [],
      "metadata": {
        "id": "jXB6aO91i0Xl"
      }
    },
    {
      "cell_type": "markdown",
      "source": [
        "## roberta-twitter (eng) - LSTM"
      ],
      "metadata": {
        "id": "ZBaKpFJNi0TH"
      }
    },
    {
      "cell_type": "code",
      "source": [
        "embedding_dim = 768\n",
        "model = SentimentLSTM(embedding_dim, output_dim=2)\n",
        "optimizer = torch.optim.Adam(model.parameters(), lr=0.0003)\n",
        "criterion = nn.CrossEntropyLoss()\n",
        "k = 5\n",
        "\n",
        "\n",
        "X = torch.tensor(roberta_pipline_twitter_out_eng_df.drop(columns=['path', 'label']).astype('float32').values)\n",
        "y = torch.tensor(roberta_pipline_twitter_out_eng_df['label'].factorize()[0])\n",
        "\n",
        "\n",
        "cv_train_losses, cv_val_losses, cv_train_accs, cv_val_accs = kfold_cv(model.to('cpu'), X.to('cpu'), y.to('cpu'), k,\n",
        "                                                                      embedding_dim, optimizer, criterion, num_epochs=6,\n",
        "                                                                      batch_size=4)\n"
      ],
      "metadata": {
        "colab": {
          "base_uri": "https://localhost:8080/"
        },
        "id": "qjiqDfbhflOe",
        "outputId": "ae2ced0c-9f79-4d1b-e6d9-321638594e09"
      },
      "execution_count": 148,
      "outputs": [
        {
          "output_type": "stream",
          "name": "stdout",
          "text": [
            "\n",
            "Epoch: 1, Train Loss: 0.6637, Val Loss: 0.5672, Train Acc: 56.94%, Val Acc: 77.78%\n",
            "Epoch: 2, Train Loss: 0.5539, Val Loss: 0.5016, Train Acc: 77.78%, Val Acc: 88.89%\n",
            "Epoch: 3, Train Loss: 0.4916, Val Loss: 0.4489, Train Acc: 75.00%, Val Acc: 83.33%\n",
            "Epoch: 4, Train Loss: 0.4423, Val Loss: 0.4073, Train Acc: 84.72%, Val Acc: 83.33%\n",
            "Epoch: 5, Train Loss: 0.4108, Val Loss: 0.3761, Train Acc: 84.72%, Val Acc: 77.78%\n",
            "Epoch: 6, Train Loss: 0.3634, Val Loss: 0.3414, Train Acc: 84.72%, Val Acc: 94.44%\n",
            "\n",
            "Epoch: 1, Train Loss: 0.3251, Val Loss: 0.3260, Train Acc: 87.50%, Val Acc: 88.89%\n",
            "Epoch: 2, Train Loss: 0.2739, Val Loss: 0.2902, Train Acc: 88.89%, Val Acc: 88.89%\n",
            "Epoch: 3, Train Loss: 0.2451, Val Loss: 0.2783, Train Acc: 90.28%, Val Acc: 94.44%\n",
            "Epoch: 4, Train Loss: 0.2238, Val Loss: 0.2641, Train Acc: 91.67%, Val Acc: 94.44%\n",
            "Epoch: 5, Train Loss: 0.2102, Val Loss: 0.2545, Train Acc: 90.28%, Val Acc: 88.89%\n",
            "Epoch: 6, Train Loss: 0.1984, Val Loss: 0.2537, Train Acc: 94.44%, Val Acc: 94.44%\n",
            "\n",
            "Epoch: 1, Train Loss: 0.1854, Val Loss: 0.1410, Train Acc: 97.22%, Val Acc: 94.44%\n",
            "Epoch: 2, Train Loss: 0.1597, Val Loss: 0.1429, Train Acc: 94.44%, Val Acc: 88.89%\n",
            "Epoch: 3, Train Loss: 0.1487, Val Loss: 0.1439, Train Acc: 95.83%, Val Acc: 88.89%\n",
            "Epoch: 4, Train Loss: 0.1278, Val Loss: 0.1238, Train Acc: 97.22%, Val Acc: 94.44%\n",
            "Epoch: 5, Train Loss: 0.1063, Val Loss: 0.1288, Train Acc: 100.00%, Val Acc: 94.44%\n",
            "Epoch: 6, Train Loss: 0.0870, Val Loss: 0.1480, Train Acc: 100.00%, Val Acc: 88.89%\n",
            "\n",
            "Epoch: 1, Train Loss: 0.0880, Val Loss: 0.2684, Train Acc: 98.61%, Val Acc: 83.33%\n",
            "Epoch: 2, Train Loss: 0.0979, Val Loss: 0.0975, Train Acc: 95.83%, Val Acc: 100.00%\n",
            "Epoch: 3, Train Loss: 0.0631, Val Loss: 0.1766, Train Acc: 100.00%, Val Acc: 88.89%\n",
            "Epoch: 4, Train Loss: 0.0519, Val Loss: 0.1832, Train Acc: 100.00%, Val Acc: 88.89%\n",
            "Epoch: 5, Train Loss: 0.0526, Val Loss: 0.1936, Train Acc: 100.00%, Val Acc: 88.89%\n",
            "Epoch: 6, Train Loss: 0.0371, Val Loss: 0.1313, Train Acc: 100.00%, Val Acc: 88.89%\n",
            "\n",
            "Epoch: 1, Train Loss: 0.0550, Val Loss: 0.0667, Train Acc: 98.61%, Val Acc: 100.00%\n",
            "Epoch: 2, Train Loss: 0.0486, Val Loss: 0.0368, Train Acc: 100.00%, Val Acc: 100.00%\n",
            "Epoch: 3, Train Loss: 0.0472, Val Loss: 0.0434, Train Acc: 100.00%, Val Acc: 100.00%\n",
            "Epoch: 4, Train Loss: 0.0486, Val Loss: 0.0498, Train Acc: 100.00%, Val Acc: 100.00%\n",
            "Epoch: 5, Train Loss: 0.0371, Val Loss: 0.0401, Train Acc: 100.00%, Val Acc: 100.00%\n",
            "Epoch: 6, Train Loss: 0.0324, Val Loss: 0.0358, Train Acc: 100.00%, Val Acc: 100.00%\n",
            "\n",
            "Average Train Acc: 95.83%\n",
            "\n",
            "Average Val Acc: 93.33%\n"
          ]
        }
      ]
    },
    {
      "cell_type": "code",
      "source": [
        "import matplotlib.pyplot as plt\n",
        "import numpy as np\n",
        "\n",
        "for k in range(len(cv_train_losses)):\n",
        "  if k == 0:\n",
        "    plt.plot(np.arange(1,len(cv_train_losses[k]) + 1), cv_train_losses[k], color='orange', label = \"train loss\")\n",
        "    plt.plot(np.arange(1,len(cv_val_losses[k]) + 1), cv_val_losses[k], color='b', label = \"val loss\")\n",
        "  else:\n",
        "    plt.plot(np.arange(1,len(cv_train_losses[k]) + 1), cv_train_losses[k], color='orange')\n",
        "    plt.plot(np.arange(1,len(cv_val_losses[k]) + 1), cv_val_losses[k], color='b')\n",
        "\n",
        "\n",
        "plt.legend()\n",
        "plt.show()"
      ],
      "metadata": {
        "colab": {
          "base_uri": "https://localhost:8080/",
          "height": 430
        },
        "id": "s6r-i8BfzmWJ",
        "outputId": "0514abe8-a433-4067-8f05-a4f9eef81316"
      },
      "execution_count": 149,
      "outputs": [
        {
          "output_type": "display_data",
          "data": {
            "text/plain": [
              "<Figure size 640x480 with 1 Axes>"
            ],
            "image/png": "[encoded data removed]"
          },
          "metadata": {}
        }
      ]
    },
    {
      "cell_type": "code",
      "source": [],
      "metadata": {
        "id": "mE0UGKdg2h_o"
      },
      "execution_count": null,
      "outputs": []
    },
    {
      "cell_type": "code",
      "source": [],
      "metadata": {
        "id": "5sdD85E42h9m"
      },
      "execution_count": null,
      "outputs": []
    },
    {
      "cell_type": "markdown",
      "source": [
        "## roberta-twitter (eng) -  FC"
      ],
      "metadata": {
        "id": "q9aTl2Ha507W"
      }
    },
    {
      "cell_type": "code",
      "source": [
        "embedding_dim = 768\n",
        "model = SentimentFC(embedding_dim, output_dim=2)\n",
        "optimizer = torch.optim.Adam(model.parameters(), lr=0.0003)\n",
        "criterion = nn.CrossEntropyLoss()\n",
        "k = 5\n",
        "\n",
        "\n",
        "X = torch.tensor(roberta_pipline_twitter_out_eng_df.drop(columns=['path', 'label']).astype('float32').values)\n",
        "y = torch.tensor(roberta_pipline_twitter_out_eng_df['label'].factorize()[0])\n",
        "\n",
        "\n",
        "cv_train_losses, cv_val_losses, cv_train_accs, cv_val_accs = kfold_cv(model.to('cpu'), X.to('cpu'), y.to('cpu'), k,\n",
        "                                                                      embedding_dim, optimizer, criterion, num_epochs=6,\n",
        "                                                                      batch_size=4)\n"
      ],
      "metadata": {
        "colab": {
          "base_uri": "https://localhost:8080/"
        },
        "id": "4KayLX8K2h6k",
        "outputId": "93cbd739-b3d9-4dfe-dca6-10bd1bcc7b11"
      },
      "execution_count": 166,
      "outputs": [
        {
          "output_type": "stream",
          "name": "stdout",
          "text": [
            "\n",
            "Epoch: 1, Train Loss: 0.6349, Val Loss: 0.5244, Train Acc: 66.67%, Val Acc: 72.22%\n",
            "Epoch: 2, Train Loss: 0.5047, Val Loss: 0.4167, Train Acc: 79.17%, Val Acc: 77.78%\n",
            "Epoch: 3, Train Loss: 0.4218, Val Loss: 0.4096, Train Acc: 83.33%, Val Acc: 77.78%\n",
            "Epoch: 4, Train Loss: 0.3909, Val Loss: 0.3408, Train Acc: 84.72%, Val Acc: 83.33%\n",
            "Epoch: 5, Train Loss: 0.3706, Val Loss: 0.2989, Train Acc: 88.89%, Val Acc: 94.44%\n",
            "Epoch: 6, Train Loss: 0.3256, Val Loss: 0.2748, Train Acc: 83.33%, Val Acc: 94.44%\n",
            "\n",
            "Epoch: 1, Train Loss: 0.2779, Val Loss: 0.2737, Train Acc: 90.28%, Val Acc: 94.44%\n",
            "Epoch: 2, Train Loss: 0.2484, Val Loss: 0.2569, Train Acc: 90.28%, Val Acc: 94.44%\n",
            "Epoch: 3, Train Loss: 0.2167, Val Loss: 0.2465, Train Acc: 93.06%, Val Acc: 94.44%\n",
            "Epoch: 4, Train Loss: 0.2005, Val Loss: 0.2325, Train Acc: 95.83%, Val Acc: 88.89%\n",
            "Epoch: 5, Train Loss: 0.1790, Val Loss: 0.2185, Train Acc: 94.44%, Val Acc: 88.89%\n",
            "Epoch: 6, Train Loss: 0.1838, Val Loss: 0.2193, Train Acc: 91.67%, Val Acc: 88.89%\n",
            "\n",
            "Epoch: 1, Train Loss: 0.1721, Val Loss: 0.1054, Train Acc: 94.44%, Val Acc: 100.00%\n",
            "Epoch: 2, Train Loss: 0.1589, Val Loss: 0.1034, Train Acc: 95.83%, Val Acc: 100.00%\n",
            "Epoch: 3, Train Loss: 0.1353, Val Loss: 0.1012, Train Acc: 98.61%, Val Acc: 100.00%\n",
            "Epoch: 4, Train Loss: 0.1206, Val Loss: 0.0924, Train Acc: 98.61%, Val Acc: 100.00%\n",
            "Epoch: 5, Train Loss: 0.1000, Val Loss: 0.0956, Train Acc: 100.00%, Val Acc: 100.00%\n",
            "Epoch: 6, Train Loss: 0.0901, Val Loss: 0.0862, Train Acc: 100.00%, Val Acc: 100.00%\n",
            "\n",
            "Epoch: 1, Train Loss: 0.0809, Val Loss: 0.1612, Train Acc: 100.00%, Val Acc: 94.44%\n",
            "Epoch: 2, Train Loss: 0.0698, Val Loss: 0.0989, Train Acc: 100.00%, Val Acc: 100.00%\n",
            "Epoch: 3, Train Loss: 0.0600, Val Loss: 0.0809, Train Acc: 100.00%, Val Acc: 100.00%\n",
            "Epoch: 4, Train Loss: 0.0583, Val Loss: 0.1560, Train Acc: 100.00%, Val Acc: 88.89%\n",
            "Epoch: 5, Train Loss: 0.0582, Val Loss: 0.1979, Train Acc: 100.00%, Val Acc: 88.89%\n",
            "Epoch: 6, Train Loss: 0.0399, Val Loss: 0.1131, Train Acc: 100.00%, Val Acc: 94.44%\n",
            "\n",
            "Epoch: 1, Train Loss: 0.0538, Val Loss: 0.0483, Train Acc: 98.61%, Val Acc: 100.00%\n",
            "Epoch: 2, Train Loss: 0.0477, Val Loss: 0.0329, Train Acc: 100.00%, Val Acc: 100.00%\n",
            "Epoch: 3, Train Loss: 0.0474, Val Loss: 0.0339, Train Acc: 100.00%, Val Acc: 100.00%\n",
            "Epoch: 4, Train Loss: 0.0394, Val Loss: 0.0389, Train Acc: 100.00%, Val Acc: 100.00%\n",
            "Epoch: 5, Train Loss: 0.0313, Val Loss: 0.0377, Train Acc: 100.00%, Val Acc: 100.00%\n",
            "Epoch: 6, Train Loss: 0.0310, Val Loss: 0.0316, Train Acc: 100.00%, Val Acc: 100.00%\n",
            "\n",
            "Average Train Acc: 95.00%\n",
            "\n",
            "Average Val Acc: 95.56%\n"
          ]
        }
      ]
    },
    {
      "cell_type": "code",
      "source": [
        "import matplotlib.pyplot as plt\n",
        "import numpy as np\n",
        "\n",
        "for k in range(len(cv_train_losses)):\n",
        "  if k == 0:\n",
        "    plt.plot(np.arange(1,len(cv_train_losses[k]) + 1), cv_train_losses[k], color='orange', label = \"train loss\")\n",
        "    plt.plot(np.arange(1,len(cv_val_losses[k]) + 1), cv_val_losses[k], color='b', label = \"val loss\")\n",
        "  else:\n",
        "    plt.plot(np.arange(1,len(cv_train_losses[k]) + 1), cv_train_losses[k], color='orange')\n",
        "    plt.plot(np.arange(1,len(cv_val_losses[k]) + 1), cv_val_losses[k], color='b')\n",
        "\n",
        "\n",
        "plt.legend()\n",
        "plt.show()"
      ],
      "metadata": {
        "colab": {
          "base_uri": "https://localhost:8080/",
          "height": 430
        },
        "id": "lz7HmLoS5oHl",
        "outputId": "bc5aed6d-8354-415e-ba57-2e4f93575762"
      },
      "execution_count": 167,
      "outputs": [
        {
          "output_type": "display_data",
          "data": {
            "text/plain": [
              "<Figure size 640x480 with 1 Axes>"
            ],
            "image/png": "[encoded data removed]"
          },
          "metadata": {}
        }
      ]
    },
    {
      "cell_type": "code",
      "source": [],
      "metadata": {
        "id": "DQtScQg_5uhP"
      },
      "execution_count": null,
      "outputs": []
    }
  ]
}